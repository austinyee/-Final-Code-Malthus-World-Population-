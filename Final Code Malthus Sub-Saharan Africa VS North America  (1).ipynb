{
 "cells": [
  {
   "cell_type": "markdown",
   "id": "5535da67",
   "metadata": {},
   "source": [
    "## Population Growth Rate in Sub-Saharan Africa vs North America: Team Malthus"
   ]
  },
  {
   "cell_type": "markdown",
   "id": "46087b38",
   "metadata": {},
   "source": [
    "#### WB Data install"
   ]
  },
  {
   "cell_type": "code",
   "execution_count": 2,
   "id": "d8f1e327",
   "metadata": {},
   "outputs": [
    {
     "name": "stdout",
     "output_type": "stream",
     "text": [
      "Requirement already satisfied: wbdata in /opt/conda/lib/python3.9/site-packages (0.3.0)\r\n",
      "Requirement already satisfied: decorator>=4.0 in /opt/conda/lib/python3.9/site-packages (from wbdata) (5.0.9)\r\n",
      "Requirement already satisfied: requests>=2.0 in /opt/conda/lib/python3.9/site-packages (from wbdata) (2.26.0)\r\n",
      "Requirement already satisfied: appdirs<2.0,>=1.4 in /opt/conda/lib/python3.9/site-packages (from wbdata) (1.4.4)\r\n",
      "Requirement already satisfied: tabulate>=0.8.5 in /opt/conda/lib/python3.9/site-packages (from wbdata) (0.9.0)\r\n",
      "Requirement already satisfied: charset-normalizer~=2.0.0 in /opt/conda/lib/python3.9/site-packages (from requests>=2.0->wbdata) (2.0.0)\r\n",
      "Requirement already satisfied: urllib3<1.27,>=1.21.1 in /opt/conda/lib/python3.9/site-packages (from requests>=2.0->wbdata) (1.26.7)\r\n",
      "Requirement already satisfied: idna<4,>=2.5 in /opt/conda/lib/python3.9/site-packages (from requests>=2.0->wbdata) (3.1)\r\n",
      "Requirement already satisfied: certifi>=2017.4.17 in /opt/conda/lib/python3.9/site-packages (from requests>=2.0->wbdata) (2021.10.8)\r\n"
     ]
    }
   ],
   "source": [
    "!pip install wbdata\n",
    "import wbdata\n",
    "\n",
    "# Return list of all country/region codes:\n",
    "# wbdata.get_country()\n",
    "\n",
    "# Return list matching a query term:\n",
    "#wbdata.search_countries(\"World\")\n",
    "\n"
   ]
  },
  {
   "cell_type": "code",
   "execution_count": 3,
   "id": "634534ef",
   "metadata": {},
   "outputs": [],
   "source": [
    "## Try your own search\n",
    "wbdata.search_countries(\"\")\n",
    "wbdata.get_source()\n",
    "SOURCE = 40 # \"Population estimates and projections"
   ]
  },
  {
   "cell_type": "markdown",
   "id": "aea610a9",
   "metadata": {},
   "source": [
    "#### Total Sub-Saharan Africa Population Over time"
   ]
  },
  {
   "cell_type": "code",
   "execution_count": 4,
   "id": "0d598d43",
   "metadata": {},
   "outputs": [
    {
     "data": {
      "text/html": [
       "<div>\n",
       "<style scoped>\n",
       "    .dataframe tbody tr th:only-of-type {\n",
       "        vertical-align: middle;\n",
       "    }\n",
       "\n",
       "    .dataframe tbody tr th {\n",
       "        vertical-align: top;\n",
       "    }\n",
       "\n",
       "    .dataframe thead th {\n",
       "        text-align: right;\n",
       "    }\n",
       "</style>\n",
       "<table border=\"1\" class=\"dataframe\">\n",
       "  <thead>\n",
       "    <tr style=\"text-align: right;\">\n",
       "      <th></th>\n",
       "      <th>SSAfrica Population</th>\n",
       "    </tr>\n",
       "    <tr>\n",
       "      <th>date</th>\n",
       "      <th></th>\n",
       "    </tr>\n",
       "  </thead>\n",
       "  <tbody>\n",
       "    <tr>\n",
       "      <th>2021</th>\n",
       "      <td>1.181163e+09</td>\n",
       "    </tr>\n",
       "    <tr>\n",
       "      <th>2020</th>\n",
       "      <td>1.151302e+09</td>\n",
       "    </tr>\n",
       "    <tr>\n",
       "      <th>2019</th>\n",
       "      <td>1.121549e+09</td>\n",
       "    </tr>\n",
       "    <tr>\n",
       "      <th>2018</th>\n",
       "      <td>1.092404e+09</td>\n",
       "    </tr>\n",
       "    <tr>\n",
       "      <th>2017</th>\n",
       "      <td>1.063885e+09</td>\n",
       "    </tr>\n",
       "  </tbody>\n",
       "</table>\n",
       "</div>"
      ],
      "text/plain": [
       "      SSAfrica Population\n",
       "date                     \n",
       "2021         1.181163e+09\n",
       "2020         1.151302e+09\n",
       "2019         1.121549e+09\n",
       "2018         1.092404e+09\n",
       "2017         1.063885e+09"
      ]
     },
     "execution_count": 4,
     "metadata": {},
     "output_type": "execute_result"
    }
   ],
   "source": [
    "indicators = wbdata.get_indicator(source=SOURCE)\n",
    "indicators\n",
    "# Give variable for clarity\n",
    "variable_labels = {\"SP.POP.TOTL\":\"SSAfrica Population\"}\n",
    "\n",
    "SSafrica = wbdata.get_dataframe(variable_labels, country=\"SSF\")\n",
    "\n",
    "# Date index is of type string; change to integers\n",
    "SSafrica.index = SSafrica.index.astype(int)\n",
    "\n",
    "# Print a few years' data\n",
    "SSafrica.head()"
   ]
  },
  {
   "cell_type": "code",
   "execution_count": 7,
   "id": "12974bd5",
   "metadata": {},
   "outputs": [
    {
     "name": "stdout",
     "output_type": "stream",
     "text": [
      "Requirement already satisfied: cufflinks in /opt/conda/lib/python3.9/site-packages (0.17.3)\n",
      "Requirement already satisfied: ipython>=5.3.0 in /opt/conda/lib/python3.9/site-packages (from cufflinks) (8.9.0)\n",
      "Requirement already satisfied: colorlover>=0.2.1 in /opt/conda/lib/python3.9/site-packages (from cufflinks) (0.3.0)\n",
      "Requirement already satisfied: ipywidgets>=7.0.0 in /opt/conda/lib/python3.9/site-packages (from cufflinks) (7.7.2)\n",
      "Requirement already satisfied: pandas>=0.19.2 in /opt/conda/lib/python3.9/site-packages (from cufflinks) (1.3.5)\n",
      "Requirement already satisfied: six>=1.9.0 in /opt/conda/lib/python3.9/site-packages (from cufflinks) (1.16.0)\n",
      "Requirement already satisfied: plotly>=4.1.1 in /opt/conda/lib/python3.9/site-packages (from cufflinks) (5.2.1)\n",
      "Requirement already satisfied: setuptools>=34.4.1 in /opt/conda/lib/python3.9/site-packages (from cufflinks) (58.2.0)\n",
      "Requirement already satisfied: numpy>=1.9.2 in /opt/conda/lib/python3.9/site-packages (from cufflinks) (1.21.6)\n",
      "Requirement already satisfied: decorator in /opt/conda/lib/python3.9/site-packages (from ipython>=5.3.0->cufflinks) (5.0.9)\n",
      "Requirement already satisfied: pygments>=2.4.0 in /opt/conda/lib/python3.9/site-packages (from ipython>=5.3.0->cufflinks) (2.14.0)\n",
      "Requirement already satisfied: backcall in /opt/conda/lib/python3.9/site-packages (from ipython>=5.3.0->cufflinks) (0.2.0)\n",
      "Requirement already satisfied: jedi>=0.16 in /opt/conda/lib/python3.9/site-packages (from ipython>=5.3.0->cufflinks) (0.18.2)\n",
      "Requirement already satisfied: traitlets>=5 in /opt/conda/lib/python3.9/site-packages (from ipython>=5.3.0->cufflinks) (5.9.0)\n",
      "Requirement already satisfied: stack-data in /opt/conda/lib/python3.9/site-packages (from ipython>=5.3.0->cufflinks) (0.6.2)\n",
      "Requirement already satisfied: matplotlib-inline in /opt/conda/lib/python3.9/site-packages (from ipython>=5.3.0->cufflinks) (0.1.6)\n",
      "Requirement already satisfied: prompt-toolkit<3.1.0,>=3.0.30 in /opt/conda/lib/python3.9/site-packages (from ipython>=5.3.0->cufflinks) (3.0.36)\n",
      "Requirement already satisfied: pexpect>4.3 in /opt/conda/lib/python3.9/site-packages (from ipython>=5.3.0->cufflinks) (4.8.0)\n",
      "Requirement already satisfied: pickleshare in /opt/conda/lib/python3.9/site-packages (from ipython>=5.3.0->cufflinks) (0.7.5)\n",
      "Requirement already satisfied: jupyterlab-widgets<3,>=1.0.0 in /opt/conda/lib/python3.9/site-packages (from ipywidgets>=7.0.0->cufflinks) (1.1.1)\n",
      "Requirement already satisfied: widgetsnbextension~=3.6.0 in /opt/conda/lib/python3.9/site-packages (from ipywidgets>=7.0.0->cufflinks) (3.6.1)\n",
      "Requirement already satisfied: ipykernel>=4.5.1 in /opt/conda/lib/python3.9/site-packages (from ipywidgets>=7.0.0->cufflinks) (6.19.4)\n",
      "Requirement already satisfied: ipython-genutils~=0.2.0 in /opt/conda/lib/python3.9/site-packages (from ipywidgets>=7.0.0->cufflinks) (0.2.0)\n",
      "Requirement already satisfied: python-dateutil>=2.7.3 in /opt/conda/lib/python3.9/site-packages (from pandas>=0.19.2->cufflinks) (2.8.0)\n",
      "Requirement already satisfied: pytz>=2017.3 in /opt/conda/lib/python3.9/site-packages (from pandas>=0.19.2->cufflinks) (2021.1)\n",
      "Requirement already satisfied: tenacity>=6.2.0 in /opt/conda/lib/python3.9/site-packages (from plotly>=4.1.1->cufflinks) (8.1.0)\n",
      "Requirement already satisfied: debugpy>=1.0 in /opt/conda/lib/python3.9/site-packages (from ipykernel>=4.5.1->ipywidgets>=7.0.0->cufflinks) (1.6.6)\n",
      "Requirement already satisfied: psutil in /opt/conda/lib/python3.9/site-packages (from ipykernel>=4.5.1->ipywidgets>=7.0.0->cufflinks) (5.9.4)\n",
      "Requirement already satisfied: pyzmq>=17 in /opt/conda/lib/python3.9/site-packages (from ipykernel>=4.5.1->ipywidgets>=7.0.0->cufflinks) (25.0.0)\n",
      "Requirement already satisfied: packaging in /opt/conda/lib/python3.9/site-packages (from ipykernel>=4.5.1->ipywidgets>=7.0.0->cufflinks) (21.3)\n",
      "Requirement already satisfied: tornado>=6.1 in /opt/conda/lib/python3.9/site-packages (from ipykernel>=4.5.1->ipywidgets>=7.0.0->cufflinks) (6.2)\n",
      "Requirement already satisfied: comm>=0.1.1 in /opt/conda/lib/python3.9/site-packages (from ipykernel>=4.5.1->ipywidgets>=7.0.0->cufflinks) (0.1.2)\n",
      "Requirement already satisfied: jupyter-client>=6.1.12 in /opt/conda/lib/python3.9/site-packages (from ipykernel>=4.5.1->ipywidgets>=7.0.0->cufflinks) (7.2.0)\n",
      "Requirement already satisfied: nest-asyncio in /opt/conda/lib/python3.9/site-packages (from ipykernel>=4.5.1->ipywidgets>=7.0.0->cufflinks) (1.5.6)\n",
      "Requirement already satisfied: parso<0.9.0,>=0.8.0 in /opt/conda/lib/python3.9/site-packages (from jedi>=0.16->ipython>=5.3.0->cufflinks) (0.8.3)\n",
      "Requirement already satisfied: ptyprocess>=0.5 in /opt/conda/lib/python3.9/site-packages (from pexpect>4.3->ipython>=5.3.0->cufflinks) (0.7.0)\n",
      "Requirement already satisfied: wcwidth in /opt/conda/lib/python3.9/site-packages (from prompt-toolkit<3.1.0,>=3.0.30->ipython>=5.3.0->cufflinks) (0.2.6)\n",
      "Requirement already satisfied: notebook>=4.4.1 in /opt/conda/lib/python3.9/site-packages (from widgetsnbextension~=3.6.0->ipywidgets>=7.0.0->cufflinks) (6.4.12)\n",
      "Requirement already satisfied: executing>=1.2.0 in /opt/conda/lib/python3.9/site-packages (from stack-data->ipython>=5.3.0->cufflinks) (1.2.0)\n",
      "Requirement already satisfied: asttokens>=2.1.0 in /opt/conda/lib/python3.9/site-packages (from stack-data->ipython>=5.3.0->cufflinks) (2.2.1)\n",
      "Requirement already satisfied: pure-eval in /opt/conda/lib/python3.9/site-packages (from stack-data->ipython>=5.3.0->cufflinks) (0.2.2)\n",
      "Requirement already satisfied: jupyter-core>=4.9.2 in /opt/conda/lib/python3.9/site-packages (from jupyter-client>=6.1.12->ipykernel>=4.5.1->ipywidgets>=7.0.0->cufflinks) (5.2.0)\n",
      "Requirement already satisfied: entrypoints in /opt/conda/lib/python3.9/site-packages (from jupyter-client>=6.1.12->ipykernel>=4.5.1->ipywidgets>=7.0.0->cufflinks) (0.4)\n",
      "Requirement already satisfied: argon2-cffi in /opt/conda/lib/python3.9/site-packages (from notebook>=4.4.1->widgetsnbextension~=3.6.0->ipywidgets>=7.0.0->cufflinks) (21.3.0)\n",
      "Requirement already satisfied: prometheus-client in /opt/conda/lib/python3.9/site-packages (from notebook>=4.4.1->widgetsnbextension~=3.6.0->ipywidgets>=7.0.0->cufflinks) (0.16.0)\n",
      "Requirement already satisfied: nbformat in /opt/conda/lib/python3.9/site-packages (from notebook>=4.4.1->widgetsnbextension~=3.6.0->ipywidgets>=7.0.0->cufflinks) (5.7.3)\n",
      "Requirement already satisfied: nbconvert>=5 in /opt/conda/lib/python3.9/site-packages (from notebook>=4.4.1->widgetsnbextension~=3.6.0->ipywidgets>=7.0.0->cufflinks) (7.2.9)\n",
      "Requirement already satisfied: terminado>=0.8.3 in /opt/conda/lib/python3.9/site-packages (from notebook>=4.4.1->widgetsnbextension~=3.6.0->ipywidgets>=7.0.0->cufflinks) (0.17.1)\n",
      "Requirement already satisfied: Send2Trash>=1.8.0 in /opt/conda/lib/python3.9/site-packages (from notebook>=4.4.1->widgetsnbextension~=3.6.0->ipywidgets>=7.0.0->cufflinks) (1.8.0)\n",
      "Requirement already satisfied: jinja2 in /opt/conda/lib/python3.9/site-packages (from notebook>=4.4.1->widgetsnbextension~=3.6.0->ipywidgets>=7.0.0->cufflinks) (3.1.2)\n",
      "Requirement already satisfied: pyparsing!=3.0.5,>=2.0.2 in /opt/conda/lib/python3.9/site-packages (from packaging->ipykernel>=4.5.1->ipywidgets>=7.0.0->cufflinks) (3.0.9)\n",
      "Requirement already satisfied: platformdirs>=2.5 in /opt/conda/lib/python3.9/site-packages (from jupyter-core>=4.9.2->jupyter-client>=6.1.12->ipykernel>=4.5.1->ipywidgets>=7.0.0->cufflinks) (2.6.2)\n",
      "Requirement already satisfied: defusedxml in /opt/conda/lib/python3.9/site-packages (from nbconvert>=5->notebook>=4.4.1->widgetsnbextension~=3.6.0->ipywidgets>=7.0.0->cufflinks) (0.7.1)\n",
      "Requirement already satisfied: markupsafe>=2.0 in /opt/conda/lib/python3.9/site-packages (from nbconvert>=5->notebook>=4.4.1->widgetsnbextension~=3.6.0->ipywidgets>=7.0.0->cufflinks) (2.1.2)\n",
      "Requirement already satisfied: jupyterlab-pygments in /opt/conda/lib/python3.9/site-packages (from nbconvert>=5->notebook>=4.4.1->widgetsnbextension~=3.6.0->ipywidgets>=7.0.0->cufflinks) (0.2.2)\n",
      "Requirement already satisfied: importlib-metadata>=3.6 in /opt/conda/lib/python3.9/site-packages (from nbconvert>=5->notebook>=4.4.1->widgetsnbextension~=3.6.0->ipywidgets>=7.0.0->cufflinks) (6.0.0)\n",
      "Requirement already satisfied: beautifulsoup4 in /opt/conda/lib/python3.9/site-packages (from nbconvert>=5->notebook>=4.4.1->widgetsnbextension~=3.6.0->ipywidgets>=7.0.0->cufflinks) (4.9.3)\n",
      "Requirement already satisfied: bleach in /opt/conda/lib/python3.9/site-packages (from nbconvert>=5->notebook>=4.4.1->widgetsnbextension~=3.6.0->ipywidgets>=7.0.0->cufflinks) (6.0.0)\n",
      "Requirement already satisfied: tinycss2 in /opt/conda/lib/python3.9/site-packages (from nbconvert>=5->notebook>=4.4.1->widgetsnbextension~=3.6.0->ipywidgets>=7.0.0->cufflinks) (1.2.1)\n",
      "Requirement already satisfied: nbclient>=0.5.0 in /opt/conda/lib/python3.9/site-packages (from nbconvert>=5->notebook>=4.4.1->widgetsnbextension~=3.6.0->ipywidgets>=7.0.0->cufflinks) (0.7.2)\n",
      "Requirement already satisfied: pandocfilters>=1.4.1 in /opt/conda/lib/python3.9/site-packages (from nbconvert>=5->notebook>=4.4.1->widgetsnbextension~=3.6.0->ipywidgets>=7.0.0->cufflinks) (1.5.0)\n",
      "Requirement already satisfied: mistune<3,>=2.0.3 in /opt/conda/lib/python3.9/site-packages (from nbconvert>=5->notebook>=4.4.1->widgetsnbextension~=3.6.0->ipywidgets>=7.0.0->cufflinks) (2.0.4)\n",
      "Requirement already satisfied: jsonschema>=2.6 in /opt/conda/lib/python3.9/site-packages (from nbformat->notebook>=4.4.1->widgetsnbextension~=3.6.0->ipywidgets>=7.0.0->cufflinks) (4.17.3)\n",
      "Requirement already satisfied: fastjsonschema in /opt/conda/lib/python3.9/site-packages (from nbformat->notebook>=4.4.1->widgetsnbextension~=3.6.0->ipywidgets>=7.0.0->cufflinks) (2.16.2)\n",
      "Requirement already satisfied: argon2-cffi-bindings in /opt/conda/lib/python3.9/site-packages (from argon2-cffi->notebook>=4.4.1->widgetsnbextension~=3.6.0->ipywidgets>=7.0.0->cufflinks) (21.2.0)\n",
      "Requirement already satisfied: zipp>=0.5 in /opt/conda/lib/python3.9/site-packages (from importlib-metadata>=3.6->nbconvert>=5->notebook>=4.4.1->widgetsnbextension~=3.6.0->ipywidgets>=7.0.0->cufflinks) (3.12.0)\n",
      "Requirement already satisfied: attrs>=17.4.0 in /opt/conda/lib/python3.9/site-packages (from jsonschema>=2.6->nbformat->notebook>=4.4.1->widgetsnbextension~=3.6.0->ipywidgets>=7.0.0->cufflinks) (19.3.0)\n",
      "Requirement already satisfied: pyrsistent!=0.17.0,!=0.17.1,!=0.17.2,>=0.14.0 in /opt/conda/lib/python3.9/site-packages (from jsonschema>=2.6->nbformat->notebook>=4.4.1->widgetsnbextension~=3.6.0->ipywidgets>=7.0.0->cufflinks) (0.19.3)\n",
      "Requirement already satisfied: cffi>=1.0.1 in /opt/conda/lib/python3.9/site-packages (from argon2-cffi-bindings->argon2-cffi->notebook>=4.4.1->widgetsnbextension~=3.6.0->ipywidgets>=7.0.0->cufflinks) (1.14.6)\n",
      "Requirement already satisfied: soupsieve>1.2 in /opt/conda/lib/python3.9/site-packages (from beautifulsoup4->nbconvert>=5->notebook>=4.4.1->widgetsnbextension~=3.6.0->ipywidgets>=7.0.0->cufflinks) (2.3.2.post1)\n",
      "Requirement already satisfied: webencodings in /opt/conda/lib/python3.9/site-packages (from bleach->nbconvert>=5->notebook>=4.4.1->widgetsnbextension~=3.6.0->ipywidgets>=7.0.0->cufflinks) (0.5.1)\n",
      "Requirement already satisfied: pycparser in /opt/conda/lib/python3.9/site-packages (from cffi>=1.0.1->argon2-cffi-bindings->argon2-cffi->notebook>=4.4.1->widgetsnbextension~=3.6.0->ipywidgets>=7.0.0->cufflinks) (2.20)\n"
     ]
    },
    {
     "name": "stderr",
     "output_type": "stream",
     "text": [
      "/opt/conda/lib/python3.9/site-packages/geopandas/_compat.py:111: UserWarning:\n",
      "\n",
      "The Shapely GEOS version (3.10.3-CAPI-1.16.1) is incompatible with the GEOS version PyGEOS was compiled with (3.10.4-CAPI-1.16.2). Conversions between both will be slow.\n",
      "\n"
     ]
    },
    {
     "data": {
      "text/html": [
       "        <script type=\"text/javascript\">\n",
       "        window.PlotlyConfig = {MathJaxConfig: 'local'};\n",
       "        if (window.MathJax) {MathJax.Hub.Config({SVG: {font: \"STIX-Web\"}});}\n",
       "        if (typeof require !== 'undefined') {\n",
       "        require.undef(\"plotly\");\n",
       "        requirejs.config({\n",
       "            paths: {\n",
       "                'plotly': ['https://cdn.plot.ly/plotly-2.3.1.min']\n",
       "            }\n",
       "        });\n",
       "        require(['plotly'], function(Plotly) {\n",
       "            window._Plotly = Plotly;\n",
       "        });\n",
       "        }\n",
       "        </script>\n",
       "        "
      ]
     },
     "metadata": {},
     "output_type": "display_data"
    }
   ],
   "source": [
    "!pip install cufflinks # IF NECESSARY\n",
    "import cufflinks as cf\n",
    "cf.go_offline()"
   ]
  },
  {
   "cell_type": "markdown",
   "id": "8862e712",
   "metadata": {},
   "source": [
    "#### USA vs Sub-Saharan Africa Population Graph"
   ]
  },
  {
   "cell_type": "markdown",
   "id": "ab30a932",
   "metadata": {},
   "source": [
    "#### Population Growth Graph"
   ]
  },
  {
   "cell_type": "code",
   "execution_count": 8,
   "id": "c08ee0e9",
   "metadata": {},
   "outputs": [
    {
     "data": {
      "text/html": [
       "        <script type=\"text/javascript\">\n",
       "        window.PlotlyConfig = {MathJaxConfig: 'local'};\n",
       "        if (window.MathJax) {MathJax.Hub.Config({SVG: {font: \"STIX-Web\"}});}\n",
       "        if (typeof require !== 'undefined') {\n",
       "        require.undef(\"plotly\");\n",
       "        requirejs.config({\n",
       "            paths: {\n",
       "                'plotly': ['https://cdn.plot.ly/plotly-2.3.1.min']\n",
       "            }\n",
       "        });\n",
       "        require(['plotly'], function(Plotly) {\n",
       "            window._Plotly = Plotly;\n",
       "        });\n",
       "        }\n",
       "        </script>\n",
       "        "
      ]
     },
     "metadata": {},
     "output_type": "display_data"
    },
    {
     "data": {
      "application/vnd.plotly.v1+json": {
       "config": {
        "linkText": "Export to plot.ly",
        "plotlyServerURL": "https://plot.ly",
        "showLink": true
       },
       "data": [
        {
         "line": {
          "color": "rgba(255, 153, 51, 1.0)",
          "dash": "solid",
          "shape": "linear",
          "width": 1.3
         },
         "mode": "lines",
         "name": "North America",
         "text": "",
         "type": "scatter",
         "x": [
          1960,
          1961,
          1962,
          1963,
          1964,
          1965,
          1966,
          1967,
          1968,
          1969,
          1970,
          1971,
          1972,
          1973,
          1974,
          1975,
          1976,
          1977,
          1978,
          1979,
          1980,
          1981,
          1982,
          1983,
          1984,
          1985,
          1986,
          1987,
          1988,
          1989,
          1990,
          1991,
          1992,
          1993,
          1994,
          1995,
          1996,
          1997,
          1998,
          1999,
          2000,
          2001,
          2002,
          2003,
          2004,
          2005,
          2006,
          2007,
          2008,
          2009,
          2010,
          2011,
          2012,
          2013,
          2014,
          2015,
          2016,
          2017,
          2018,
          2019,
          2020,
          2021
         ],
         "y": [
          198624756,
          202007500,
          205198600,
          208253700,
          211262900,
          214031100,
          216659000,
          219176000,
          221503000,
          223759000,
          226431000,
          229677632,
          232168663,
          234454577,
          236715369,
          239169275,
          241538008,
          244018243,
          246601803,
          249310344,
          251795337,
          254340965,
          256836391,
          259214381,
          261488476,
          263823014,
          266290660,
          268793450,
          271349094,
          274154622,
          277373464,
          281077441,
          284943859,
          288662674,
          292185983,
          295640057,
          299064347,
          302623445,
          306070116,
          309502571,
          312909974,
          316052361,
          319048184,
          321815286,
          324809693,
          327824506,
          331015609,
          334185120,
          337406357,
          340466060,
          343397156,
          345987373,
          348656682,
          351207902,
          353888902,
          356507139,
          359245796,
          361731237,
          363967201,
          365995094,
          369602177,
          370203720
         ]
        },
        {
         "line": {
          "color": "rgba(55, 128, 191, 1.0)",
          "dash": "solid",
          "shape": "linear",
          "width": 1.3
         },
         "mode": "lines",
         "name": "Sub-Saharan Africa",
         "text": "",
         "type": "scatter",
         "x": [
          1960,
          1961,
          1962,
          1963,
          1964,
          1965,
          1966,
          1967,
          1968,
          1969,
          1970,
          1971,
          1972,
          1973,
          1974,
          1975,
          1976,
          1977,
          1978,
          1979,
          1980,
          1981,
          1982,
          1983,
          1984,
          1985,
          1986,
          1987,
          1988,
          1989,
          1990,
          1991,
          1992,
          1993,
          1994,
          1995,
          1996,
          1997,
          1998,
          1999,
          2000,
          2001,
          2002,
          2003,
          2004,
          2005,
          2006,
          2007,
          2008,
          2009,
          2010,
          2011,
          2012,
          2013,
          2014,
          2015,
          2016,
          2017,
          2018,
          2019,
          2020,
          2021
         ],
         "y": [
          227948869,
          233483265,
          239280622,
          245298063,
          251565974,
          258078554,
          264754002,
          271633185,
          278796894,
          286211901,
          293900563,
          301839225,
          309963136,
          318464764,
          327466848,
          336832917,
          346461069,
          356243762,
          366688083,
          377775643,
          388793467,
          400260774,
          412410102,
          424346370,
          436263644,
          448755435,
          461756164,
          475250346,
          488764908,
          502517080,
          516629688,
          530716971,
          544899623,
          559413902,
          574094137,
          589328085,
          605186062,
          621065325,
          637198518,
          653883261,
          671212486,
          689161982,
          707693440,
          726785433,
          746546802,
          766978666,
          788110000,
          810019264,
          832642735,
          855885698,
          879797419,
          904282154,
          929328653,
          955096428,
          981506334,
          1008698525,
          1036155715,
          1063885000,
          1092403699,
          1121548775,
          1151301807,
          1181162739
         ]
        }
       ],
       "layout": {
        "legend": {
         "bgcolor": "#F5F6F9",
         "font": {
          "color": "#4D5663"
         }
        },
        "paper_bgcolor": "#F5F6F9",
        "plot_bgcolor": "#F5F6F9",
        "template": {
         "data": {
          "bar": [
           {
            "error_x": {
             "color": "#2a3f5f"
            },
            "error_y": {
             "color": "#2a3f5f"
            },
            "marker": {
             "line": {
              "color": "#E5ECF6",
              "width": 0.5
             },
             "pattern": {
              "fillmode": "overlay",
              "size": 10,
              "solidity": 0.2
             }
            },
            "type": "bar"
           }
          ],
          "barpolar": [
           {
            "marker": {
             "line": {
              "color": "#E5ECF6",
              "width": 0.5
             },
             "pattern": {
              "fillmode": "overlay",
              "size": 10,
              "solidity": 0.2
             }
            },
            "type": "barpolar"
           }
          ],
          "carpet": [
           {
            "aaxis": {
             "endlinecolor": "#2a3f5f",
             "gridcolor": "white",
             "linecolor": "white",
             "minorgridcolor": "white",
             "startlinecolor": "#2a3f5f"
            },
            "baxis": {
             "endlinecolor": "#2a3f5f",
             "gridcolor": "white",
             "linecolor": "white",
             "minorgridcolor": "white",
             "startlinecolor": "#2a3f5f"
            },
            "type": "carpet"
           }
          ],
          "choropleth": [
           {
            "colorbar": {
             "outlinewidth": 0,
             "ticks": ""
            },
            "type": "choropleth"
           }
          ],
          "contour": [
           {
            "colorbar": {
             "outlinewidth": 0,
             "ticks": ""
            },
            "colorscale": [
             [
              0,
              "#0d0887"
             ],
             [
              0.1111111111111111,
              "#46039f"
             ],
             [
              0.2222222222222222,
              "#7201a8"
             ],
             [
              0.3333333333333333,
              "#9c179e"
             ],
             [
              0.4444444444444444,
              "#bd3786"
             ],
             [
              0.5555555555555556,
              "#d8576b"
             ],
             [
              0.6666666666666666,
              "#ed7953"
             ],
             [
              0.7777777777777778,
              "#fb9f3a"
             ],
             [
              0.8888888888888888,
              "#fdca26"
             ],
             [
              1,
              "#f0f921"
             ]
            ],
            "type": "contour"
           }
          ],
          "contourcarpet": [
           {
            "colorbar": {
             "outlinewidth": 0,
             "ticks": ""
            },
            "type": "contourcarpet"
           }
          ],
          "heatmap": [
           {
            "colorbar": {
             "outlinewidth": 0,
             "ticks": ""
            },
            "colorscale": [
             [
              0,
              "#0d0887"
             ],
             [
              0.1111111111111111,
              "#46039f"
             ],
             [
              0.2222222222222222,
              "#7201a8"
             ],
             [
              0.3333333333333333,
              "#9c179e"
             ],
             [
              0.4444444444444444,
              "#bd3786"
             ],
             [
              0.5555555555555556,
              "#d8576b"
             ],
             [
              0.6666666666666666,
              "#ed7953"
             ],
             [
              0.7777777777777778,
              "#fb9f3a"
             ],
             [
              0.8888888888888888,
              "#fdca26"
             ],
             [
              1,
              "#f0f921"
             ]
            ],
            "type": "heatmap"
           }
          ],
          "heatmapgl": [
           {
            "colorbar": {
             "outlinewidth": 0,
             "ticks": ""
            },
            "colorscale": [
             [
              0,
              "#0d0887"
             ],
             [
              0.1111111111111111,
              "#46039f"
             ],
             [
              0.2222222222222222,
              "#7201a8"
             ],
             [
              0.3333333333333333,
              "#9c179e"
             ],
             [
              0.4444444444444444,
              "#bd3786"
             ],
             [
              0.5555555555555556,
              "#d8576b"
             ],
             [
              0.6666666666666666,
              "#ed7953"
             ],
             [
              0.7777777777777778,
              "#fb9f3a"
             ],
             [
              0.8888888888888888,
              "#fdca26"
             ],
             [
              1,
              "#f0f921"
             ]
            ],
            "type": "heatmapgl"
           }
          ],
          "histogram": [
           {
            "marker": {
             "pattern": {
              "fillmode": "overlay",
              "size": 10,
              "solidity": 0.2
             }
            },
            "type": "histogram"
           }
          ],
          "histogram2d": [
           {
            "colorbar": {
             "outlinewidth": 0,
             "ticks": ""
            },
            "colorscale": [
             [
              0,
              "#0d0887"
             ],
             [
              0.1111111111111111,
              "#46039f"
             ],
             [
              0.2222222222222222,
              "#7201a8"
             ],
             [
              0.3333333333333333,
              "#9c179e"
             ],
             [
              0.4444444444444444,
              "#bd3786"
             ],
             [
              0.5555555555555556,
              "#d8576b"
             ],
             [
              0.6666666666666666,
              "#ed7953"
             ],
             [
              0.7777777777777778,
              "#fb9f3a"
             ],
             [
              0.8888888888888888,
              "#fdca26"
             ],
             [
              1,
              "#f0f921"
             ]
            ],
            "type": "histogram2d"
           }
          ],
          "histogram2dcontour": [
           {
            "colorbar": {
             "outlinewidth": 0,
             "ticks": ""
            },
            "colorscale": [
             [
              0,
              "#0d0887"
             ],
             [
              0.1111111111111111,
              "#46039f"
             ],
             [
              0.2222222222222222,
              "#7201a8"
             ],
             [
              0.3333333333333333,
              "#9c179e"
             ],
             [
              0.4444444444444444,
              "#bd3786"
             ],
             [
              0.5555555555555556,
              "#d8576b"
             ],
             [
              0.6666666666666666,
              "#ed7953"
             ],
             [
              0.7777777777777778,
              "#fb9f3a"
             ],
             [
              0.8888888888888888,
              "#fdca26"
             ],
             [
              1,
              "#f0f921"
             ]
            ],
            "type": "histogram2dcontour"
           }
          ],
          "mesh3d": [
           {
            "colorbar": {
             "outlinewidth": 0,
             "ticks": ""
            },
            "type": "mesh3d"
           }
          ],
          "parcoords": [
           {
            "line": {
             "colorbar": {
              "outlinewidth": 0,
              "ticks": ""
             }
            },
            "type": "parcoords"
           }
          ],
          "pie": [
           {
            "automargin": true,
            "type": "pie"
           }
          ],
          "scatter": [
           {
            "marker": {
             "colorbar": {
              "outlinewidth": 0,
              "ticks": ""
             }
            },
            "type": "scatter"
           }
          ],
          "scatter3d": [
           {
            "line": {
             "colorbar": {
              "outlinewidth": 0,
              "ticks": ""
             }
            },
            "marker": {
             "colorbar": {
              "outlinewidth": 0,
              "ticks": ""
             }
            },
            "type": "scatter3d"
           }
          ],
          "scattercarpet": [
           {
            "marker": {
             "colorbar": {
              "outlinewidth": 0,
              "ticks": ""
             }
            },
            "type": "scattercarpet"
           }
          ],
          "scattergeo": [
           {
            "marker": {
             "colorbar": {
              "outlinewidth": 0,
              "ticks": ""
             }
            },
            "type": "scattergeo"
           }
          ],
          "scattergl": [
           {
            "marker": {
             "colorbar": {
              "outlinewidth": 0,
              "ticks": ""
             }
            },
            "type": "scattergl"
           }
          ],
          "scattermapbox": [
           {
            "marker": {
             "colorbar": {
              "outlinewidth": 0,
              "ticks": ""
             }
            },
            "type": "scattermapbox"
           }
          ],
          "scatterpolar": [
           {
            "marker": {
             "colorbar": {
              "outlinewidth": 0,
              "ticks": ""
             }
            },
            "type": "scatterpolar"
           }
          ],
          "scatterpolargl": [
           {
            "marker": {
             "colorbar": {
              "outlinewidth": 0,
              "ticks": ""
             }
            },
            "type": "scatterpolargl"
           }
          ],
          "scatterternary": [
           {
            "marker": {
             "colorbar": {
              "outlinewidth": 0,
              "ticks": ""
             }
            },
            "type": "scatterternary"
           }
          ],
          "surface": [
           {
            "colorbar": {
             "outlinewidth": 0,
             "ticks": ""
            },
            "colorscale": [
             [
              0,
              "#0d0887"
             ],
             [
              0.1111111111111111,
              "#46039f"
             ],
             [
              0.2222222222222222,
              "#7201a8"
             ],
             [
              0.3333333333333333,
              "#9c179e"
             ],
             [
              0.4444444444444444,
              "#bd3786"
             ],
             [
              0.5555555555555556,
              "#d8576b"
             ],
             [
              0.6666666666666666,
              "#ed7953"
             ],
             [
              0.7777777777777778,
              "#fb9f3a"
             ],
             [
              0.8888888888888888,
              "#fdca26"
             ],
             [
              1,
              "#f0f921"
             ]
            ],
            "type": "surface"
           }
          ],
          "table": [
           {
            "cells": {
             "fill": {
              "color": "#EBF0F8"
             },
             "line": {
              "color": "white"
             }
            },
            "header": {
             "fill": {
              "color": "#C8D4E3"
             },
             "line": {
              "color": "white"
             }
            },
            "type": "table"
           }
          ]
         },
         "layout": {
          "annotationdefaults": {
           "arrowcolor": "#2a3f5f",
           "arrowhead": 0,
           "arrowwidth": 1
          },
          "autotypenumbers": "strict",
          "coloraxis": {
           "colorbar": {
            "outlinewidth": 0,
            "ticks": ""
           }
          },
          "colorscale": {
           "diverging": [
            [
             0,
             "#8e0152"
            ],
            [
             0.1,
             "#c51b7d"
            ],
            [
             0.2,
             "#de77ae"
            ],
            [
             0.3,
             "#f1b6da"
            ],
            [
             0.4,
             "#fde0ef"
            ],
            [
             0.5,
             "#f7f7f7"
            ],
            [
             0.6,
             "#e6f5d0"
            ],
            [
             0.7,
             "#b8e186"
            ],
            [
             0.8,
             "#7fbc41"
            ],
            [
             0.9,
             "#4d9221"
            ],
            [
             1,
             "#276419"
            ]
           ],
           "sequential": [
            [
             0,
             "#0d0887"
            ],
            [
             0.1111111111111111,
             "#46039f"
            ],
            [
             0.2222222222222222,
             "#7201a8"
            ],
            [
             0.3333333333333333,
             "#9c179e"
            ],
            [
             0.4444444444444444,
             "#bd3786"
            ],
            [
             0.5555555555555556,
             "#d8576b"
            ],
            [
             0.6666666666666666,
             "#ed7953"
            ],
            [
             0.7777777777777778,
             "#fb9f3a"
            ],
            [
             0.8888888888888888,
             "#fdca26"
            ],
            [
             1,
             "#f0f921"
            ]
           ],
           "sequentialminus": [
            [
             0,
             "#0d0887"
            ],
            [
             0.1111111111111111,
             "#46039f"
            ],
            [
             0.2222222222222222,
             "#7201a8"
            ],
            [
             0.3333333333333333,
             "#9c179e"
            ],
            [
             0.4444444444444444,
             "#bd3786"
            ],
            [
             0.5555555555555556,
             "#d8576b"
            ],
            [
             0.6666666666666666,
             "#ed7953"
            ],
            [
             0.7777777777777778,
             "#fb9f3a"
            ],
            [
             0.8888888888888888,
             "#fdca26"
            ],
            [
             1,
             "#f0f921"
            ]
           ]
          },
          "colorway": [
           "#636efa",
           "#EF553B",
           "#00cc96",
           "#ab63fa",
           "#FFA15A",
           "#19d3f3",
           "#FF6692",
           "#B6E880",
           "#FF97FF",
           "#FECB52"
          ],
          "font": {
           "color": "#2a3f5f"
          },
          "geo": {
           "bgcolor": "white",
           "lakecolor": "white",
           "landcolor": "#E5ECF6",
           "showlakes": true,
           "showland": true,
           "subunitcolor": "white"
          },
          "hoverlabel": {
           "align": "left"
          },
          "hovermode": "closest",
          "mapbox": {
           "style": "light"
          },
          "paper_bgcolor": "white",
          "plot_bgcolor": "#E5ECF6",
          "polar": {
           "angularaxis": {
            "gridcolor": "white",
            "linecolor": "white",
            "ticks": ""
           },
           "bgcolor": "#E5ECF6",
           "radialaxis": {
            "gridcolor": "white",
            "linecolor": "white",
            "ticks": ""
           }
          },
          "scene": {
           "xaxis": {
            "backgroundcolor": "#E5ECF6",
            "gridcolor": "white",
            "gridwidth": 2,
            "linecolor": "white",
            "showbackground": true,
            "ticks": "",
            "zerolinecolor": "white"
           },
           "yaxis": {
            "backgroundcolor": "#E5ECF6",
            "gridcolor": "white",
            "gridwidth": 2,
            "linecolor": "white",
            "showbackground": true,
            "ticks": "",
            "zerolinecolor": "white"
           },
           "zaxis": {
            "backgroundcolor": "#E5ECF6",
            "gridcolor": "white",
            "gridwidth": 2,
            "linecolor": "white",
            "showbackground": true,
            "ticks": "",
            "zerolinecolor": "white"
           }
          },
          "shapedefaults": {
           "line": {
            "color": "#2a3f5f"
           }
          },
          "ternary": {
           "aaxis": {
            "gridcolor": "white",
            "linecolor": "white",
            "ticks": ""
           },
           "baxis": {
            "gridcolor": "white",
            "linecolor": "white",
            "ticks": ""
           },
           "bgcolor": "#E5ECF6",
           "caxis": {
            "gridcolor": "white",
            "linecolor": "white",
            "ticks": ""
           }
          },
          "title": {
           "x": 0.05
          },
          "xaxis": {
           "automargin": true,
           "gridcolor": "white",
           "linecolor": "white",
           "ticks": "",
           "title": {
            "standoff": 15
           },
           "zerolinecolor": "white",
           "zerolinewidth": 2
          },
          "yaxis": {
           "automargin": true,
           "gridcolor": "white",
           "linecolor": "white",
           "ticks": "",
           "title": {
            "standoff": 15
           },
           "zerolinecolor": "white",
           "zerolinewidth": 2
          }
         }
        },
        "title": {
         "font": {
          "color": "#4D5663"
         },
         "text": "Population: USA vs. Sub-Saharan Africa"
        },
        "xaxis": {
         "gridcolor": "#E1E5ED",
         "showgrid": true,
         "tickfont": {
          "color": "#4D5663"
         },
         "title": {
          "font": {
           "color": "#4D5663"
          },
          "text": "Year"
         },
         "zerolinecolor": "#E1E5ED"
        },
        "yaxis": {
         "gridcolor": "#E1E5ED",
         "showgrid": true,
         "tickfont": {
          "color": "#4D5663"
         },
         "title": {
          "font": {
           "color": "#4D5663"
          },
          "text": "population"
         },
         "zerolinecolor": "#E1E5ED"
        }
       }
      },
      "text/html": [
       "<div>                            <div id=\"cb9a831b-d8cd-484d-a481-037ad41cf18a\" class=\"plotly-graph-div\" style=\"height:525px; width:100%;\"></div>            <script type=\"text/javascript\">                require([\"plotly\"], function(Plotly) {                    window.PLOTLYENV=window.PLOTLYENV || {};\n",
       "                    window.PLOTLYENV.BASE_URL='https://plot.ly';                                    if (document.getElementById(\"cb9a831b-d8cd-484d-a481-037ad41cf18a\")) {                    Plotly.newPlot(                        \"cb9a831b-d8cd-484d-a481-037ad41cf18a\",                        [{\"line\":{\"color\":\"rgba(255, 153, 51, 1.0)\",\"dash\":\"solid\",\"shape\":\"linear\",\"width\":1.3},\"mode\":\"lines\",\"name\":\"North America\",\"text\":\"\",\"type\":\"scatter\",\"x\":[1960,1961,1962,1963,1964,1965,1966,1967,1968,1969,1970,1971,1972,1973,1974,1975,1976,1977,1978,1979,1980,1981,1982,1983,1984,1985,1986,1987,1988,1989,1990,1991,1992,1993,1994,1995,1996,1997,1998,1999,2000,2001,2002,2003,2004,2005,2006,2007,2008,2009,2010,2011,2012,2013,2014,2015,2016,2017,2018,2019,2020,2021],\"y\":[198624756.0,202007500.0,205198600.0,208253700.0,211262900.0,214031100.0,216659000.0,219176000.0,221503000.0,223759000.0,226431000.0,229677632.0,232168663.0,234454577.0,236715369.0,239169275.0,241538008.0,244018243.0,246601803.0,249310344.0,251795337.0,254340965.0,256836391.0,259214381.0,261488476.0,263823014.0,266290660.0,268793450.0,271349094.0,274154622.0,277373464.0,281077441.0,284943859.0,288662674.0,292185983.0,295640057.0,299064347.0,302623445.0,306070116.0,309502571.0,312909974.0,316052361.0,319048184.0,321815286.0,324809693.0,327824506.0,331015609.0,334185120.0,337406357.0,340466060.0,343397156.0,345987373.0,348656682.0,351207902.0,353888902.0,356507139.0,359245796.0,361731237.0,363967201.0,365995094.0,369602177.0,370203720.0]},{\"line\":{\"color\":\"rgba(55, 128, 191, 1.0)\",\"dash\":\"solid\",\"shape\":\"linear\",\"width\":1.3},\"mode\":\"lines\",\"name\":\"Sub-Saharan Africa\",\"text\":\"\",\"type\":\"scatter\",\"x\":[1960,1961,1962,1963,1964,1965,1966,1967,1968,1969,1970,1971,1972,1973,1974,1975,1976,1977,1978,1979,1980,1981,1982,1983,1984,1985,1986,1987,1988,1989,1990,1991,1992,1993,1994,1995,1996,1997,1998,1999,2000,2001,2002,2003,2004,2005,2006,2007,2008,2009,2010,2011,2012,2013,2014,2015,2016,2017,2018,2019,2020,2021],\"y\":[227948869.0,233483265.0,239280622.0,245298063.0,251565974.0,258078554.0,264754002.0,271633185.0,278796894.0,286211901.0,293900563.0,301839225.0,309963136.0,318464764.0,327466848.0,336832917.0,346461069.0,356243762.0,366688083.0,377775643.0,388793467.0,400260774.0,412410102.0,424346370.0,436263644.0,448755435.0,461756164.0,475250346.0,488764908.0,502517080.0,516629688.0,530716971.0,544899623.0,559413902.0,574094137.0,589328085.0,605186062.0,621065325.0,637198518.0,653883261.0,671212486.0,689161982.0,707693440.0,726785433.0,746546802.0,766978666.0,788110000.0,810019264.0,832642735.0,855885698.0,879797419.0,904282154.0,929328653.0,955096428.0,981506334.0,1008698525.0,1036155715.0,1063885000.0,1092403699.0,1121548775.0,1151301807.0,1181162739.0]}],                        {\"legend\":{\"bgcolor\":\"#F5F6F9\",\"font\":{\"color\":\"#4D5663\"}},\"paper_bgcolor\":\"#F5F6F9\",\"plot_bgcolor\":\"#F5F6F9\",\"template\":{\"data\":{\"bar\":[{\"error_x\":{\"color\":\"#2a3f5f\"},\"error_y\":{\"color\":\"#2a3f5f\"},\"marker\":{\"line\":{\"color\":\"#E5ECF6\",\"width\":0.5},\"pattern\":{\"fillmode\":\"overlay\",\"size\":10,\"solidity\":0.2}},\"type\":\"bar\"}],\"barpolar\":[{\"marker\":{\"line\":{\"color\":\"#E5ECF6\",\"width\":0.5},\"pattern\":{\"fillmode\":\"overlay\",\"size\":10,\"solidity\":0.2}},\"type\":\"barpolar\"}],\"carpet\":[{\"aaxis\":{\"endlinecolor\":\"#2a3f5f\",\"gridcolor\":\"white\",\"linecolor\":\"white\",\"minorgridcolor\":\"white\",\"startlinecolor\":\"#2a3f5f\"},\"baxis\":{\"endlinecolor\":\"#2a3f5f\",\"gridcolor\":\"white\",\"linecolor\":\"white\",\"minorgridcolor\":\"white\",\"startlinecolor\":\"#2a3f5f\"},\"type\":\"carpet\"}],\"choropleth\":[{\"colorbar\":{\"outlinewidth\":0,\"ticks\":\"\"},\"type\":\"choropleth\"}],\"contour\":[{\"colorbar\":{\"outlinewidth\":0,\"ticks\":\"\"},\"colorscale\":[[0.0,\"#0d0887\"],[0.1111111111111111,\"#46039f\"],[0.2222222222222222,\"#7201a8\"],[0.3333333333333333,\"#9c179e\"],[0.4444444444444444,\"#bd3786\"],[0.5555555555555556,\"#d8576b\"],[0.6666666666666666,\"#ed7953\"],[0.7777777777777778,\"#fb9f3a\"],[0.8888888888888888,\"#fdca26\"],[1.0,\"#f0f921\"]],\"type\":\"contour\"}],\"contourcarpet\":[{\"colorbar\":{\"outlinewidth\":0,\"ticks\":\"\"},\"type\":\"contourcarpet\"}],\"heatmap\":[{\"colorbar\":{\"outlinewidth\":0,\"ticks\":\"\"},\"colorscale\":[[0.0,\"#0d0887\"],[0.1111111111111111,\"#46039f\"],[0.2222222222222222,\"#7201a8\"],[0.3333333333333333,\"#9c179e\"],[0.4444444444444444,\"#bd3786\"],[0.5555555555555556,\"#d8576b\"],[0.6666666666666666,\"#ed7953\"],[0.7777777777777778,\"#fb9f3a\"],[0.8888888888888888,\"#fdca26\"],[1.0,\"#f0f921\"]],\"type\":\"heatmap\"}],\"heatmapgl\":[{\"colorbar\":{\"outlinewidth\":0,\"ticks\":\"\"},\"colorscale\":[[0.0,\"#0d0887\"],[0.1111111111111111,\"#46039f\"],[0.2222222222222222,\"#7201a8\"],[0.3333333333333333,\"#9c179e\"],[0.4444444444444444,\"#bd3786\"],[0.5555555555555556,\"#d8576b\"],[0.6666666666666666,\"#ed7953\"],[0.7777777777777778,\"#fb9f3a\"],[0.8888888888888888,\"#fdca26\"],[1.0,\"#f0f921\"]],\"type\":\"heatmapgl\"}],\"histogram\":[{\"marker\":{\"pattern\":{\"fillmode\":\"overlay\",\"size\":10,\"solidity\":0.2}},\"type\":\"histogram\"}],\"histogram2d\":[{\"colorbar\":{\"outlinewidth\":0,\"ticks\":\"\"},\"colorscale\":[[0.0,\"#0d0887\"],[0.1111111111111111,\"#46039f\"],[0.2222222222222222,\"#7201a8\"],[0.3333333333333333,\"#9c179e\"],[0.4444444444444444,\"#bd3786\"],[0.5555555555555556,\"#d8576b\"],[0.6666666666666666,\"#ed7953\"],[0.7777777777777778,\"#fb9f3a\"],[0.8888888888888888,\"#fdca26\"],[1.0,\"#f0f921\"]],\"type\":\"histogram2d\"}],\"histogram2dcontour\":[{\"colorbar\":{\"outlinewidth\":0,\"ticks\":\"\"},\"colorscale\":[[0.0,\"#0d0887\"],[0.1111111111111111,\"#46039f\"],[0.2222222222222222,\"#7201a8\"],[0.3333333333333333,\"#9c179e\"],[0.4444444444444444,\"#bd3786\"],[0.5555555555555556,\"#d8576b\"],[0.6666666666666666,\"#ed7953\"],[0.7777777777777778,\"#fb9f3a\"],[0.8888888888888888,\"#fdca26\"],[1.0,\"#f0f921\"]],\"type\":\"histogram2dcontour\"}],\"mesh3d\":[{\"colorbar\":{\"outlinewidth\":0,\"ticks\":\"\"},\"type\":\"mesh3d\"}],\"parcoords\":[{\"line\":{\"colorbar\":{\"outlinewidth\":0,\"ticks\":\"\"}},\"type\":\"parcoords\"}],\"pie\":[{\"automargin\":true,\"type\":\"pie\"}],\"scatter\":[{\"marker\":{\"colorbar\":{\"outlinewidth\":0,\"ticks\":\"\"}},\"type\":\"scatter\"}],\"scatter3d\":[{\"line\":{\"colorbar\":{\"outlinewidth\":0,\"ticks\":\"\"}},\"marker\":{\"colorbar\":{\"outlinewidth\":0,\"ticks\":\"\"}},\"type\":\"scatter3d\"}],\"scattercarpet\":[{\"marker\":{\"colorbar\":{\"outlinewidth\":0,\"ticks\":\"\"}},\"type\":\"scattercarpet\"}],\"scattergeo\":[{\"marker\":{\"colorbar\":{\"outlinewidth\":0,\"ticks\":\"\"}},\"type\":\"scattergeo\"}],\"scattergl\":[{\"marker\":{\"colorbar\":{\"outlinewidth\":0,\"ticks\":\"\"}},\"type\":\"scattergl\"}],\"scattermapbox\":[{\"marker\":{\"colorbar\":{\"outlinewidth\":0,\"ticks\":\"\"}},\"type\":\"scattermapbox\"}],\"scatterpolar\":[{\"marker\":{\"colorbar\":{\"outlinewidth\":0,\"ticks\":\"\"}},\"type\":\"scatterpolar\"}],\"scatterpolargl\":[{\"marker\":{\"colorbar\":{\"outlinewidth\":0,\"ticks\":\"\"}},\"type\":\"scatterpolargl\"}],\"scatterternary\":[{\"marker\":{\"colorbar\":{\"outlinewidth\":0,\"ticks\":\"\"}},\"type\":\"scatterternary\"}],\"surface\":[{\"colorbar\":{\"outlinewidth\":0,\"ticks\":\"\"},\"colorscale\":[[0.0,\"#0d0887\"],[0.1111111111111111,\"#46039f\"],[0.2222222222222222,\"#7201a8\"],[0.3333333333333333,\"#9c179e\"],[0.4444444444444444,\"#bd3786\"],[0.5555555555555556,\"#d8576b\"],[0.6666666666666666,\"#ed7953\"],[0.7777777777777778,\"#fb9f3a\"],[0.8888888888888888,\"#fdca26\"],[1.0,\"#f0f921\"]],\"type\":\"surface\"}],\"table\":[{\"cells\":{\"fill\":{\"color\":\"#EBF0F8\"},\"line\":{\"color\":\"white\"}},\"header\":{\"fill\":{\"color\":\"#C8D4E3\"},\"line\":{\"color\":\"white\"}},\"type\":\"table\"}]},\"layout\":{\"annotationdefaults\":{\"arrowcolor\":\"#2a3f5f\",\"arrowhead\":0,\"arrowwidth\":1},\"autotypenumbers\":\"strict\",\"coloraxis\":{\"colorbar\":{\"outlinewidth\":0,\"ticks\":\"\"}},\"colorscale\":{\"diverging\":[[0,\"#8e0152\"],[0.1,\"#c51b7d\"],[0.2,\"#de77ae\"],[0.3,\"#f1b6da\"],[0.4,\"#fde0ef\"],[0.5,\"#f7f7f7\"],[0.6,\"#e6f5d0\"],[0.7,\"#b8e186\"],[0.8,\"#7fbc41\"],[0.9,\"#4d9221\"],[1,\"#276419\"]],\"sequential\":[[0.0,\"#0d0887\"],[0.1111111111111111,\"#46039f\"],[0.2222222222222222,\"#7201a8\"],[0.3333333333333333,\"#9c179e\"],[0.4444444444444444,\"#bd3786\"],[0.5555555555555556,\"#d8576b\"],[0.6666666666666666,\"#ed7953\"],[0.7777777777777778,\"#fb9f3a\"],[0.8888888888888888,\"#fdca26\"],[1.0,\"#f0f921\"]],\"sequentialminus\":[[0.0,\"#0d0887\"],[0.1111111111111111,\"#46039f\"],[0.2222222222222222,\"#7201a8\"],[0.3333333333333333,\"#9c179e\"],[0.4444444444444444,\"#bd3786\"],[0.5555555555555556,\"#d8576b\"],[0.6666666666666666,\"#ed7953\"],[0.7777777777777778,\"#fb9f3a\"],[0.8888888888888888,\"#fdca26\"],[1.0,\"#f0f921\"]]},\"colorway\":[\"#636efa\",\"#EF553B\",\"#00cc96\",\"#ab63fa\",\"#FFA15A\",\"#19d3f3\",\"#FF6692\",\"#B6E880\",\"#FF97FF\",\"#FECB52\"],\"font\":{\"color\":\"#2a3f5f\"},\"geo\":{\"bgcolor\":\"white\",\"lakecolor\":\"white\",\"landcolor\":\"#E5ECF6\",\"showlakes\":true,\"showland\":true,\"subunitcolor\":\"white\"},\"hoverlabel\":{\"align\":\"left\"},\"hovermode\":\"closest\",\"mapbox\":{\"style\":\"light\"},\"paper_bgcolor\":\"white\",\"plot_bgcolor\":\"#E5ECF6\",\"polar\":{\"angularaxis\":{\"gridcolor\":\"white\",\"linecolor\":\"white\",\"ticks\":\"\"},\"bgcolor\":\"#E5ECF6\",\"radialaxis\":{\"gridcolor\":\"white\",\"linecolor\":\"white\",\"ticks\":\"\"}},\"scene\":{\"xaxis\":{\"backgroundcolor\":\"#E5ECF6\",\"gridcolor\":\"white\",\"gridwidth\":2,\"linecolor\":\"white\",\"showbackground\":true,\"ticks\":\"\",\"zerolinecolor\":\"white\"},\"yaxis\":{\"backgroundcolor\":\"#E5ECF6\",\"gridcolor\":\"white\",\"gridwidth\":2,\"linecolor\":\"white\",\"showbackground\":true,\"ticks\":\"\",\"zerolinecolor\":\"white\"},\"zaxis\":{\"backgroundcolor\":\"#E5ECF6\",\"gridcolor\":\"white\",\"gridwidth\":2,\"linecolor\":\"white\",\"showbackground\":true,\"ticks\":\"\",\"zerolinecolor\":\"white\"}},\"shapedefaults\":{\"line\":{\"color\":\"#2a3f5f\"}},\"ternary\":{\"aaxis\":{\"gridcolor\":\"white\",\"linecolor\":\"white\",\"ticks\":\"\"},\"baxis\":{\"gridcolor\":\"white\",\"linecolor\":\"white\",\"ticks\":\"\"},\"bgcolor\":\"#E5ECF6\",\"caxis\":{\"gridcolor\":\"white\",\"linecolor\":\"white\",\"ticks\":\"\"}},\"title\":{\"x\":0.05},\"xaxis\":{\"automargin\":true,\"gridcolor\":\"white\",\"linecolor\":\"white\",\"ticks\":\"\",\"title\":{\"standoff\":15},\"zerolinecolor\":\"white\",\"zerolinewidth\":2},\"yaxis\":{\"automargin\":true,\"gridcolor\":\"white\",\"linecolor\":\"white\",\"ticks\":\"\",\"title\":{\"standoff\":15},\"zerolinecolor\":\"white\",\"zerolinewidth\":2}}},\"title\":{\"font\":{\"color\":\"#4D5663\"},\"text\":\"Population: USA vs. Sub-Saharan Africa\"},\"xaxis\":{\"gridcolor\":\"#E1E5ED\",\"showgrid\":true,\"tickfont\":{\"color\":\"#4D5663\"},\"title\":{\"font\":{\"color\":\"#4D5663\"},\"text\":\"Year\"},\"zerolinecolor\":\"#E1E5ED\"},\"yaxis\":{\"gridcolor\":\"#E1E5ED\",\"showgrid\":true,\"tickfont\":{\"color\":\"#4D5663\"},\"title\":{\"font\":{\"color\":\"#4D5663\"},\"text\":\"population\"},\"zerolinecolor\":\"#E1E5ED\"}},                        {\"showLink\": true, \"linkText\": \"Export to plot.ly\", \"plotlyServerURL\": \"https://plot.ly\", \"responsive\": true}                    ).then(function(){\n",
       "                            \n",
       "var gd = document.getElementById('cb9a831b-d8cd-484d-a481-037ad41cf18a');\n",
       "var x = new MutationObserver(function (mutations, observer) {{\n",
       "        var display = window.getComputedStyle(gd).display;\n",
       "        if (!display || display === 'none') {{\n",
       "            console.log([gd, 'removed!']);\n",
       "            Plotly.purge(gd);\n",
       "            observer.disconnect();\n",
       "        }}\n",
       "}});\n",
       "\n",
       "// Listen for the removal of the full notebook cells\n",
       "var notebookContainer = gd.closest('#notebook-container');\n",
       "if (notebookContainer) {{\n",
       "    x.observe(notebookContainer, {childList: true});\n",
       "}}\n",
       "\n",
       "// Listen for the clearing of the current output cell\n",
       "var outputEl = gd.closest('.output');\n",
       "if (outputEl) {{\n",
       "    x.observe(outputEl, {childList: true});\n",
       "}}\n",
       "\n",
       "                        })                };                });            </script>        </div>"
      ]
     },
     "metadata": {},
     "output_type": "display_data"
    }
   ],
   "source": [
    "\n",
    "def fix_date_index(df):\n",
    "    idx_vars = df.index.names\n",
    "    new = df.reset_index()\n",
    "    new.date = new.date.astype(int)\n",
    "    return new.set_index(idx_vars)\n",
    "\n",
    "from plotly.offline import init_notebook_mode, iplot\n",
    "import numpy as np\n",
    "from scipy.optimize import newton\n",
    "\n",
    "init_notebook_mode(connected=True)\n",
    "\n",
    "vars = {\"SP.POP.TOTL\":\"Population, total\"}\n",
    "\n",
    "\n",
    "use=[\"NAC\", \"SSF\"]\n",
    "\n",
    "population = fix_date_index(wbdata.get_dataframe(vars,country=use)).squeeze().unstack('country','region')\n",
    "\n",
    "\n",
    "population.iplot(xTitle=\"Year\",yTitle=\"population\",\n",
    "              title=\"Population: USA vs. Sub-Saharan Africa\")\n"
   ]
  },
  {
   "cell_type": "markdown",
   "id": "4e3d7250",
   "metadata": {},
   "source": [
    "#### Teacher Compentecy Level Graph"
   ]
  },
  {
   "cell_type": "code",
   "execution_count": 9,
   "id": "45708ce5",
   "metadata": {},
   "outputs": [
    {
     "data": {
      "text/html": [
       "        <script type=\"text/javascript\">\n",
       "        window.PlotlyConfig = {MathJaxConfig: 'local'};\n",
       "        if (window.MathJax) {MathJax.Hub.Config({SVG: {font: \"STIX-Web\"}});}\n",
       "        if (typeof require !== 'undefined') {\n",
       "        require.undef(\"plotly\");\n",
       "        requirejs.config({\n",
       "            paths: {\n",
       "                'plotly': ['https://cdn.plot.ly/plotly-2.3.1.min']\n",
       "            }\n",
       "        });\n",
       "        require(['plotly'], function(Plotly) {\n",
       "            window._Plotly = Plotly;\n",
       "        });\n",
       "        }\n",
       "        </script>\n",
       "        "
      ]
     },
     "metadata": {},
     "output_type": "display_data"
    },
    {
     "data": {
      "application/vnd.plotly.v1+json": {
       "config": {
        "linkText": "Export to plot.ly",
        "plotlyServerURL": "https://plot.ly",
        "showLink": true
       },
       "data": [
        {
         "line": {
          "color": "rgba(255, 153, 51, 1.0)",
          "dash": "solid",
          "shape": "linear",
          "width": 1.3
         },
         "mode": "lines",
         "name": "North America",
         "text": "",
         "type": "scatter",
         "x": [
          1960,
          1961,
          1962,
          1963,
          1964,
          1965,
          1966,
          1967,
          1968,
          1969,
          1970,
          1971,
          1972,
          1973,
          1974,
          1975,
          1976,
          1977,
          1978,
          1979,
          1980,
          1981,
          1982,
          1983,
          1984,
          1985,
          1986,
          1987,
          1988,
          1989,
          1990,
          1991,
          1992,
          1993,
          1994,
          1995,
          1996,
          1997,
          1998,
          1999,
          2000,
          2001,
          2002,
          2003,
          2004,
          2005,
          2006,
          2007,
          2008,
          2009,
          2010,
          2011,
          2012,
          2013,
          2014,
          2015,
          2016,
          2017,
          2018,
          2019,
          2020,
          2021
         ],
         "y": [
          "",
          "",
          "",
          "",
          "",
          "",
          "",
          "",
          "",
          "",
          39.118480682373,
          39.1586608886719,
          40.6906318664551,
          42.6176605224609,
          43.7693901062012,
          46.3349800109863,
          49.3736305236816,
          50.2437705993652,
          52.3192481994629,
          53.0616188049316,
          55.2633018493652,
          58.2865104675293,
          60.2177581787109,
          60.9146003723145,
          62.2797317504883,
          62.9305305480957,
          64.818977355957,
          68.4378662109375,
          72.2628707885742,
          75.9948425292969,
          81.9790496826172,
          84.5915222167969,
          89.5547409057617,
          90.0469207763672,
          89.8415298461914,
          90.3973236083984,
          90.2185516357422,
          85.3479766845703,
          80.3921585083008,
          81.507682800293,
          76.5032196044922,
          82.2254333496094,
          88.0636520385742,
          90.5182418823242,
          92.9215698242188,
          92.9434127807617,
          95.8311462402344,
          96.6852111816406,
          97.4187698364258,
          99.9619293212891,
          99.6692733764648,
          99.8847427368164,
          100.109893798828,
          100.394790649414,
          99.9070892333984,
          99.9285736083984,
          99.7030792236328,
          99.7605209350586,
          100.224426269531,
          100.888938903809,
          101.815971374512,
          ""
         ]
        },
        {
         "line": {
          "color": "rgba(55, 128, 191, 1.0)",
          "dash": "solid",
          "shape": "linear",
          "width": 1.3
         },
         "mode": "lines",
         "name": "Sub-Saharan Africa",
         "text": "",
         "type": "scatter",
         "x": [
          1960,
          1961,
          1962,
          1963,
          1964,
          1965,
          1966,
          1967,
          1968,
          1969,
          1970,
          1971,
          1972,
          1973,
          1974,
          1975,
          1976,
          1977,
          1978,
          1979,
          1980,
          1981,
          1982,
          1983,
          1984,
          1985,
          1986,
          1987,
          1988,
          1989,
          1990,
          1991,
          1992,
          1993,
          1994,
          1995,
          1996,
          1997,
          1998,
          1999,
          2000,
          2001,
          2002,
          2003,
          2004,
          2005,
          2006,
          2007,
          2008,
          2009,
          2010,
          2011,
          2012,
          2013,
          2014,
          2015,
          2016,
          2017,
          2018,
          2019,
          2020,
          2021
         ],
         "y": [
          "",
          "",
          "",
          "",
          "",
          "",
          "",
          "",
          "",
          "",
          1.15659999847412,
          1.15645003318787,
          1.16191005706787,
          1.17233002185822,
          1.2164900302887,
          1.24836003780365,
          1.28440999984741,
          1.33619999885559,
          1.39445996284485,
          1.47304999828339,
          1.53993999958038,
          1.62345004081726,
          1.70907998085022,
          1.75424003601074,
          1.81078004837036,
          1.88906002044678,
          1.96117997169495,
          2.0280499458313,
          2.08057999610901,
          2.1740300655365,
          2.20206999778748,
          2.32226991653442,
          2.44607996940613,
          2.62331008911133,
          2.83807992935181,
          2.9439001083374,
          3.0632700920105,
          3.1702299118042,
          3.29080009460449,
          3.42194008827209,
          3.73399996757507,
          4.01920986175537,
          4.32474994659424,
          4.57966995239258,
          4.81929016113281,
          5.09356021881104,
          5.3086199760437,
          5.47735977172852,
          5.74220991134644,
          6.13599014282227,
          6.52378988265991,
          6.73610019683838,
          7.14173984527588,
          7.47933006286621,
          7.59072017669678,
          7.76779985427856,
          7.86407995223999,
          8.02690982818604,
          8.20505046844482,
          8.29782009124756,
          8.71269035339355,
          ""
         ]
        }
       ],
       "layout": {
        "legend": {
         "bgcolor": "#F5F6F9",
         "font": {
          "color": "#4D5663"
         }
        },
        "paper_bgcolor": "#F5F6F9",
        "plot_bgcolor": "#F5F6F9",
        "template": {
         "data": {
          "bar": [
           {
            "error_x": {
             "color": "#2a3f5f"
            },
            "error_y": {
             "color": "#2a3f5f"
            },
            "marker": {
             "line": {
              "color": "#E5ECF6",
              "width": 0.5
             },
             "pattern": {
              "fillmode": "overlay",
              "size": 10,
              "solidity": 0.2
             }
            },
            "type": "bar"
           }
          ],
          "barpolar": [
           {
            "marker": {
             "line": {
              "color": "#E5ECF6",
              "width": 0.5
             },
             "pattern": {
              "fillmode": "overlay",
              "size": 10,
              "solidity": 0.2
             }
            },
            "type": "barpolar"
           }
          ],
          "carpet": [
           {
            "aaxis": {
             "endlinecolor": "#2a3f5f",
             "gridcolor": "white",
             "linecolor": "white",
             "minorgridcolor": "white",
             "startlinecolor": "#2a3f5f"
            },
            "baxis": {
             "endlinecolor": "#2a3f5f",
             "gridcolor": "white",
             "linecolor": "white",
             "minorgridcolor": "white",
             "startlinecolor": "#2a3f5f"
            },
            "type": "carpet"
           }
          ],
          "choropleth": [
           {
            "colorbar": {
             "outlinewidth": 0,
             "ticks": ""
            },
            "type": "choropleth"
           }
          ],
          "contour": [
           {
            "colorbar": {
             "outlinewidth": 0,
             "ticks": ""
            },
            "colorscale": [
             [
              0,
              "#0d0887"
             ],
             [
              0.1111111111111111,
              "#46039f"
             ],
             [
              0.2222222222222222,
              "#7201a8"
             ],
             [
              0.3333333333333333,
              "#9c179e"
             ],
             [
              0.4444444444444444,
              "#bd3786"
             ],
             [
              0.5555555555555556,
              "#d8576b"
             ],
             [
              0.6666666666666666,
              "#ed7953"
             ],
             [
              0.7777777777777778,
              "#fb9f3a"
             ],
             [
              0.8888888888888888,
              "#fdca26"
             ],
             [
              1,
              "#f0f921"
             ]
            ],
            "type": "contour"
           }
          ],
          "contourcarpet": [
           {
            "colorbar": {
             "outlinewidth": 0,
             "ticks": ""
            },
            "type": "contourcarpet"
           }
          ],
          "heatmap": [
           {
            "colorbar": {
             "outlinewidth": 0,
             "ticks": ""
            },
            "colorscale": [
             [
              0,
              "#0d0887"
             ],
             [
              0.1111111111111111,
              "#46039f"
             ],
             [
              0.2222222222222222,
              "#7201a8"
             ],
             [
              0.3333333333333333,
              "#9c179e"
             ],
             [
              0.4444444444444444,
              "#bd3786"
             ],
             [
              0.5555555555555556,
              "#d8576b"
             ],
             [
              0.6666666666666666,
              "#ed7953"
             ],
             [
              0.7777777777777778,
              "#fb9f3a"
             ],
             [
              0.8888888888888888,
              "#fdca26"
             ],
             [
              1,
              "#f0f921"
             ]
            ],
            "type": "heatmap"
           }
          ],
          "heatmapgl": [
           {
            "colorbar": {
             "outlinewidth": 0,
             "ticks": ""
            },
            "colorscale": [
             [
              0,
              "#0d0887"
             ],
             [
              0.1111111111111111,
              "#46039f"
             ],
             [
              0.2222222222222222,
              "#7201a8"
             ],
             [
              0.3333333333333333,
              "#9c179e"
             ],
             [
              0.4444444444444444,
              "#bd3786"
             ],
             [
              0.5555555555555556,
              "#d8576b"
             ],
             [
              0.6666666666666666,
              "#ed7953"
             ],
             [
              0.7777777777777778,
              "#fb9f3a"
             ],
             [
              0.8888888888888888,
              "#fdca26"
             ],
             [
              1,
              "#f0f921"
             ]
            ],
            "type": "heatmapgl"
           }
          ],
          "histogram": [
           {
            "marker": {
             "pattern": {
              "fillmode": "overlay",
              "size": 10,
              "solidity": 0.2
             }
            },
            "type": "histogram"
           }
          ],
          "histogram2d": [
           {
            "colorbar": {
             "outlinewidth": 0,
             "ticks": ""
            },
            "colorscale": [
             [
              0,
              "#0d0887"
             ],
             [
              0.1111111111111111,
              "#46039f"
             ],
             [
              0.2222222222222222,
              "#7201a8"
             ],
             [
              0.3333333333333333,
              "#9c179e"
             ],
             [
              0.4444444444444444,
              "#bd3786"
             ],
             [
              0.5555555555555556,
              "#d8576b"
             ],
             [
              0.6666666666666666,
              "#ed7953"
             ],
             [
              0.7777777777777778,
              "#fb9f3a"
             ],
             [
              0.8888888888888888,
              "#fdca26"
             ],
             [
              1,
              "#f0f921"
             ]
            ],
            "type": "histogram2d"
           }
          ],
          "histogram2dcontour": [
           {
            "colorbar": {
             "outlinewidth": 0,
             "ticks": ""
            },
            "colorscale": [
             [
              0,
              "#0d0887"
             ],
             [
              0.1111111111111111,
              "#46039f"
             ],
             [
              0.2222222222222222,
              "#7201a8"
             ],
             [
              0.3333333333333333,
              "#9c179e"
             ],
             [
              0.4444444444444444,
              "#bd3786"
             ],
             [
              0.5555555555555556,
              "#d8576b"
             ],
             [
              0.6666666666666666,
              "#ed7953"
             ],
             [
              0.7777777777777778,
              "#fb9f3a"
             ],
             [
              0.8888888888888888,
              "#fdca26"
             ],
             [
              1,
              "#f0f921"
             ]
            ],
            "type": "histogram2dcontour"
           }
          ],
          "mesh3d": [
           {
            "colorbar": {
             "outlinewidth": 0,
             "ticks": ""
            },
            "type": "mesh3d"
           }
          ],
          "parcoords": [
           {
            "line": {
             "colorbar": {
              "outlinewidth": 0,
              "ticks": ""
             }
            },
            "type": "parcoords"
           }
          ],
          "pie": [
           {
            "automargin": true,
            "type": "pie"
           }
          ],
          "scatter": [
           {
            "marker": {
             "colorbar": {
              "outlinewidth": 0,
              "ticks": ""
             }
            },
            "type": "scatter"
           }
          ],
          "scatter3d": [
           {
            "line": {
             "colorbar": {
              "outlinewidth": 0,
              "ticks": ""
             }
            },
            "marker": {
             "colorbar": {
              "outlinewidth": 0,
              "ticks": ""
             }
            },
            "type": "scatter3d"
           }
          ],
          "scattercarpet": [
           {
            "marker": {
             "colorbar": {
              "outlinewidth": 0,
              "ticks": ""
             }
            },
            "type": "scattercarpet"
           }
          ],
          "scattergeo": [
           {
            "marker": {
             "colorbar": {
              "outlinewidth": 0,
              "ticks": ""
             }
            },
            "type": "scattergeo"
           }
          ],
          "scattergl": [
           {
            "marker": {
             "colorbar": {
              "outlinewidth": 0,
              "ticks": ""
             }
            },
            "type": "scattergl"
           }
          ],
          "scattermapbox": [
           {
            "marker": {
             "colorbar": {
              "outlinewidth": 0,
              "ticks": ""
             }
            },
            "type": "scattermapbox"
           }
          ],
          "scatterpolar": [
           {
            "marker": {
             "colorbar": {
              "outlinewidth": 0,
              "ticks": ""
             }
            },
            "type": "scatterpolar"
           }
          ],
          "scatterpolargl": [
           {
            "marker": {
             "colorbar": {
              "outlinewidth": 0,
              "ticks": ""
             }
            },
            "type": "scatterpolargl"
           }
          ],
          "scatterternary": [
           {
            "marker": {
             "colorbar": {
              "outlinewidth": 0,
              "ticks": ""
             }
            },
            "type": "scatterternary"
           }
          ],
          "surface": [
           {
            "colorbar": {
             "outlinewidth": 0,
             "ticks": ""
            },
            "colorscale": [
             [
              0,
              "#0d0887"
             ],
             [
              0.1111111111111111,
              "#46039f"
             ],
             [
              0.2222222222222222,
              "#7201a8"
             ],
             [
              0.3333333333333333,
              "#9c179e"
             ],
             [
              0.4444444444444444,
              "#bd3786"
             ],
             [
              0.5555555555555556,
              "#d8576b"
             ],
             [
              0.6666666666666666,
              "#ed7953"
             ],
             [
              0.7777777777777778,
              "#fb9f3a"
             ],
             [
              0.8888888888888888,
              "#fdca26"
             ],
             [
              1,
              "#f0f921"
             ]
            ],
            "type": "surface"
           }
          ],
          "table": [
           {
            "cells": {
             "fill": {
              "color": "#EBF0F8"
             },
             "line": {
              "color": "white"
             }
            },
            "header": {
             "fill": {
              "color": "#C8D4E3"
             },
             "line": {
              "color": "white"
             }
            },
            "type": "table"
           }
          ]
         },
         "layout": {
          "annotationdefaults": {
           "arrowcolor": "#2a3f5f",
           "arrowhead": 0,
           "arrowwidth": 1
          },
          "autotypenumbers": "strict",
          "coloraxis": {
           "colorbar": {
            "outlinewidth": 0,
            "ticks": ""
           }
          },
          "colorscale": {
           "diverging": [
            [
             0,
             "#8e0152"
            ],
            [
             0.1,
             "#c51b7d"
            ],
            [
             0.2,
             "#de77ae"
            ],
            [
             0.3,
             "#f1b6da"
            ],
            [
             0.4,
             "#fde0ef"
            ],
            [
             0.5,
             "#f7f7f7"
            ],
            [
             0.6,
             "#e6f5d0"
            ],
            [
             0.7,
             "#b8e186"
            ],
            [
             0.8,
             "#7fbc41"
            ],
            [
             0.9,
             "#4d9221"
            ],
            [
             1,
             "#276419"
            ]
           ],
           "sequential": [
            [
             0,
             "#0d0887"
            ],
            [
             0.1111111111111111,
             "#46039f"
            ],
            [
             0.2222222222222222,
             "#7201a8"
            ],
            [
             0.3333333333333333,
             "#9c179e"
            ],
            [
             0.4444444444444444,
             "#bd3786"
            ],
            [
             0.5555555555555556,
             "#d8576b"
            ],
            [
             0.6666666666666666,
             "#ed7953"
            ],
            [
             0.7777777777777778,
             "#fb9f3a"
            ],
            [
             0.8888888888888888,
             "#fdca26"
            ],
            [
             1,
             "#f0f921"
            ]
           ],
           "sequentialminus": [
            [
             0,
             "#0d0887"
            ],
            [
             0.1111111111111111,
             "#46039f"
            ],
            [
             0.2222222222222222,
             "#7201a8"
            ],
            [
             0.3333333333333333,
             "#9c179e"
            ],
            [
             0.4444444444444444,
             "#bd3786"
            ],
            [
             0.5555555555555556,
             "#d8576b"
            ],
            [
             0.6666666666666666,
             "#ed7953"
            ],
            [
             0.7777777777777778,
             "#fb9f3a"
            ],
            [
             0.8888888888888888,
             "#fdca26"
            ],
            [
             1,
             "#f0f921"
            ]
           ]
          },
          "colorway": [
           "#636efa",
           "#EF553B",
           "#00cc96",
           "#ab63fa",
           "#FFA15A",
           "#19d3f3",
           "#FF6692",
           "#B6E880",
           "#FF97FF",
           "#FECB52"
          ],
          "font": {
           "color": "#2a3f5f"
          },
          "geo": {
           "bgcolor": "white",
           "lakecolor": "white",
           "landcolor": "#E5ECF6",
           "showlakes": true,
           "showland": true,
           "subunitcolor": "white"
          },
          "hoverlabel": {
           "align": "left"
          },
          "hovermode": "closest",
          "mapbox": {
           "style": "light"
          },
          "paper_bgcolor": "white",
          "plot_bgcolor": "#E5ECF6",
          "polar": {
           "angularaxis": {
            "gridcolor": "white",
            "linecolor": "white",
            "ticks": ""
           },
           "bgcolor": "#E5ECF6",
           "radialaxis": {
            "gridcolor": "white",
            "linecolor": "white",
            "ticks": ""
           }
          },
          "scene": {
           "xaxis": {
            "backgroundcolor": "#E5ECF6",
            "gridcolor": "white",
            "gridwidth": 2,
            "linecolor": "white",
            "showbackground": true,
            "ticks": "",
            "zerolinecolor": "white"
           },
           "yaxis": {
            "backgroundcolor": "#E5ECF6",
            "gridcolor": "white",
            "gridwidth": 2,
            "linecolor": "white",
            "showbackground": true,
            "ticks": "",
            "zerolinecolor": "white"
           },
           "zaxis": {
            "backgroundcolor": "#E5ECF6",
            "gridcolor": "white",
            "gridwidth": 2,
            "linecolor": "white",
            "showbackground": true,
            "ticks": "",
            "zerolinecolor": "white"
           }
          },
          "shapedefaults": {
           "line": {
            "color": "#2a3f5f"
           }
          },
          "ternary": {
           "aaxis": {
            "gridcolor": "white",
            "linecolor": "white",
            "ticks": ""
           },
           "baxis": {
            "gridcolor": "white",
            "linecolor": "white",
            "ticks": ""
           },
           "bgcolor": "#E5ECF6",
           "caxis": {
            "gridcolor": "white",
            "linecolor": "white",
            "ticks": ""
           }
          },
          "title": {
           "x": 0.05
          },
          "xaxis": {
           "automargin": true,
           "gridcolor": "white",
           "linecolor": "white",
           "ticks": "",
           "title": {
            "standoff": 15
           },
           "zerolinecolor": "white",
           "zerolinewidth": 2
          },
          "yaxis": {
           "automargin": true,
           "gridcolor": "white",
           "linecolor": "white",
           "ticks": "",
           "title": {
            "standoff": 15
           },
           "zerolinecolor": "white",
           "zerolinewidth": 2
          }
         }
        },
        "title": {
         "font": {
          "color": "#4D5663"
         },
         "text": "Teacher Compentecy Level: USA vs. Sub-Saharan Africa"
        },
        "xaxis": {
         "gridcolor": "#E1E5ED",
         "showgrid": true,
         "tickfont": {
          "color": "#4D5663"
         },
         "title": {
          "font": {
           "color": "#4D5663"
          },
          "text": "Year"
         },
         "zerolinecolor": "#E1E5ED"
        },
        "yaxis": {
         "gridcolor": "#E1E5ED",
         "showgrid": true,
         "tickfont": {
          "color": "#4D5663"
         },
         "title": {
          "font": {
           "color": "#4D5663"
          },
          "text": "Percent of Teachers"
         },
         "zerolinecolor": "#E1E5ED"
        }
       }
      },
      "text/html": [
       "<div>                            <div id=\"46f65fbe-4c49-48e2-ae79-60bc86254198\" class=\"plotly-graph-div\" style=\"height:525px; width:100%;\"></div>            <script type=\"text/javascript\">                require([\"plotly\"], function(Plotly) {                    window.PLOTLYENV=window.PLOTLYENV || {};\n",
       "                    window.PLOTLYENV.BASE_URL='https://plot.ly';                                    if (document.getElementById(\"46f65fbe-4c49-48e2-ae79-60bc86254198\")) {                    Plotly.newPlot(                        \"46f65fbe-4c49-48e2-ae79-60bc86254198\",                        [{\"line\":{\"color\":\"rgba(255, 153, 51, 1.0)\",\"dash\":\"solid\",\"shape\":\"linear\",\"width\":1.3},\"mode\":\"lines\",\"name\":\"North America\",\"text\":\"\",\"type\":\"scatter\",\"x\":[1960,1961,1962,1963,1964,1965,1966,1967,1968,1969,1970,1971,1972,1973,1974,1975,1976,1977,1978,1979,1980,1981,1982,1983,1984,1985,1986,1987,1988,1989,1990,1991,1992,1993,1994,1995,1996,1997,1998,1999,2000,2001,2002,2003,2004,2005,2006,2007,2008,2009,2010,2011,2012,2013,2014,2015,2016,2017,2018,2019,2020,2021],\"y\":[\"\",\"\",\"\",\"\",\"\",\"\",\"\",\"\",\"\",\"\",39.118480682373,39.1586608886719,40.6906318664551,42.6176605224609,43.7693901062012,46.3349800109863,49.3736305236816,50.2437705993652,52.3192481994629,53.0616188049316,55.2633018493652,58.2865104675293,60.2177581787109,60.9146003723145,62.2797317504883,62.9305305480957,64.818977355957,68.4378662109375,72.2628707885742,75.9948425292969,81.9790496826172,84.5915222167969,89.5547409057617,90.0469207763672,89.8415298461914,90.3973236083984,90.2185516357422,85.3479766845703,80.3921585083008,81.507682800293,76.5032196044922,82.2254333496094,88.0636520385742,90.5182418823242,92.9215698242188,92.9434127807617,95.8311462402344,96.6852111816406,97.4187698364258,99.9619293212891,99.6692733764648,99.8847427368164,100.109893798828,100.394790649414,99.9070892333984,99.9285736083984,99.7030792236328,99.7605209350586,100.224426269531,100.888938903809,101.815971374512,\"\"]},{\"line\":{\"color\":\"rgba(55, 128, 191, 1.0)\",\"dash\":\"solid\",\"shape\":\"linear\",\"width\":1.3},\"mode\":\"lines\",\"name\":\"Sub-Saharan Africa\",\"text\":\"\",\"type\":\"scatter\",\"x\":[1960,1961,1962,1963,1964,1965,1966,1967,1968,1969,1970,1971,1972,1973,1974,1975,1976,1977,1978,1979,1980,1981,1982,1983,1984,1985,1986,1987,1988,1989,1990,1991,1992,1993,1994,1995,1996,1997,1998,1999,2000,2001,2002,2003,2004,2005,2006,2007,2008,2009,2010,2011,2012,2013,2014,2015,2016,2017,2018,2019,2020,2021],\"y\":[\"\",\"\",\"\",\"\",\"\",\"\",\"\",\"\",\"\",\"\",1.15659999847412,1.15645003318787,1.16191005706787,1.17233002185822,1.2164900302887,1.24836003780365,1.28440999984741,1.33619999885559,1.39445996284485,1.47304999828339,1.53993999958038,1.62345004081726,1.70907998085022,1.75424003601074,1.81078004837036,1.88906002044678,1.96117997169495,2.0280499458313,2.08057999610901,2.1740300655365,2.20206999778748,2.32226991653442,2.44607996940613,2.62331008911133,2.83807992935181,2.9439001083374,3.0632700920105,3.1702299118042,3.29080009460449,3.42194008827209,3.73399996757507,4.01920986175537,4.32474994659424,4.57966995239258,4.81929016113281,5.09356021881104,5.3086199760437,5.47735977172852,5.74220991134644,6.13599014282227,6.52378988265991,6.73610019683838,7.14173984527588,7.47933006286621,7.59072017669678,7.76779985427856,7.86407995223999,8.02690982818604,8.20505046844482,8.29782009124756,8.71269035339355,\"\"]}],                        {\"legend\":{\"bgcolor\":\"#F5F6F9\",\"font\":{\"color\":\"#4D5663\"}},\"paper_bgcolor\":\"#F5F6F9\",\"plot_bgcolor\":\"#F5F6F9\",\"template\":{\"data\":{\"bar\":[{\"error_x\":{\"color\":\"#2a3f5f\"},\"error_y\":{\"color\":\"#2a3f5f\"},\"marker\":{\"line\":{\"color\":\"#E5ECF6\",\"width\":0.5},\"pattern\":{\"fillmode\":\"overlay\",\"size\":10,\"solidity\":0.2}},\"type\":\"bar\"}],\"barpolar\":[{\"marker\":{\"line\":{\"color\":\"#E5ECF6\",\"width\":0.5},\"pattern\":{\"fillmode\":\"overlay\",\"size\":10,\"solidity\":0.2}},\"type\":\"barpolar\"}],\"carpet\":[{\"aaxis\":{\"endlinecolor\":\"#2a3f5f\",\"gridcolor\":\"white\",\"linecolor\":\"white\",\"minorgridcolor\":\"white\",\"startlinecolor\":\"#2a3f5f\"},\"baxis\":{\"endlinecolor\":\"#2a3f5f\",\"gridcolor\":\"white\",\"linecolor\":\"white\",\"minorgridcolor\":\"white\",\"startlinecolor\":\"#2a3f5f\"},\"type\":\"carpet\"}],\"choropleth\":[{\"colorbar\":{\"outlinewidth\":0,\"ticks\":\"\"},\"type\":\"choropleth\"}],\"contour\":[{\"colorbar\":{\"outlinewidth\":0,\"ticks\":\"\"},\"colorscale\":[[0.0,\"#0d0887\"],[0.1111111111111111,\"#46039f\"],[0.2222222222222222,\"#7201a8\"],[0.3333333333333333,\"#9c179e\"],[0.4444444444444444,\"#bd3786\"],[0.5555555555555556,\"#d8576b\"],[0.6666666666666666,\"#ed7953\"],[0.7777777777777778,\"#fb9f3a\"],[0.8888888888888888,\"#fdca26\"],[1.0,\"#f0f921\"]],\"type\":\"contour\"}],\"contourcarpet\":[{\"colorbar\":{\"outlinewidth\":0,\"ticks\":\"\"},\"type\":\"contourcarpet\"}],\"heatmap\":[{\"colorbar\":{\"outlinewidth\":0,\"ticks\":\"\"},\"colorscale\":[[0.0,\"#0d0887\"],[0.1111111111111111,\"#46039f\"],[0.2222222222222222,\"#7201a8\"],[0.3333333333333333,\"#9c179e\"],[0.4444444444444444,\"#bd3786\"],[0.5555555555555556,\"#d8576b\"],[0.6666666666666666,\"#ed7953\"],[0.7777777777777778,\"#fb9f3a\"],[0.8888888888888888,\"#fdca26\"],[1.0,\"#f0f921\"]],\"type\":\"heatmap\"}],\"heatmapgl\":[{\"colorbar\":{\"outlinewidth\":0,\"ticks\":\"\"},\"colorscale\":[[0.0,\"#0d0887\"],[0.1111111111111111,\"#46039f\"],[0.2222222222222222,\"#7201a8\"],[0.3333333333333333,\"#9c179e\"],[0.4444444444444444,\"#bd3786\"],[0.5555555555555556,\"#d8576b\"],[0.6666666666666666,\"#ed7953\"],[0.7777777777777778,\"#fb9f3a\"],[0.8888888888888888,\"#fdca26\"],[1.0,\"#f0f921\"]],\"type\":\"heatmapgl\"}],\"histogram\":[{\"marker\":{\"pattern\":{\"fillmode\":\"overlay\",\"size\":10,\"solidity\":0.2}},\"type\":\"histogram\"}],\"histogram2d\":[{\"colorbar\":{\"outlinewidth\":0,\"ticks\":\"\"},\"colorscale\":[[0.0,\"#0d0887\"],[0.1111111111111111,\"#46039f\"],[0.2222222222222222,\"#7201a8\"],[0.3333333333333333,\"#9c179e\"],[0.4444444444444444,\"#bd3786\"],[0.5555555555555556,\"#d8576b\"],[0.6666666666666666,\"#ed7953\"],[0.7777777777777778,\"#fb9f3a\"],[0.8888888888888888,\"#fdca26\"],[1.0,\"#f0f921\"]],\"type\":\"histogram2d\"}],\"histogram2dcontour\":[{\"colorbar\":{\"outlinewidth\":0,\"ticks\":\"\"},\"colorscale\":[[0.0,\"#0d0887\"],[0.1111111111111111,\"#46039f\"],[0.2222222222222222,\"#7201a8\"],[0.3333333333333333,\"#9c179e\"],[0.4444444444444444,\"#bd3786\"],[0.5555555555555556,\"#d8576b\"],[0.6666666666666666,\"#ed7953\"],[0.7777777777777778,\"#fb9f3a\"],[0.8888888888888888,\"#fdca26\"],[1.0,\"#f0f921\"]],\"type\":\"histogram2dcontour\"}],\"mesh3d\":[{\"colorbar\":{\"outlinewidth\":0,\"ticks\":\"\"},\"type\":\"mesh3d\"}],\"parcoords\":[{\"line\":{\"colorbar\":{\"outlinewidth\":0,\"ticks\":\"\"}},\"type\":\"parcoords\"}],\"pie\":[{\"automargin\":true,\"type\":\"pie\"}],\"scatter\":[{\"marker\":{\"colorbar\":{\"outlinewidth\":0,\"ticks\":\"\"}},\"type\":\"scatter\"}],\"scatter3d\":[{\"line\":{\"colorbar\":{\"outlinewidth\":0,\"ticks\":\"\"}},\"marker\":{\"colorbar\":{\"outlinewidth\":0,\"ticks\":\"\"}},\"type\":\"scatter3d\"}],\"scattercarpet\":[{\"marker\":{\"colorbar\":{\"outlinewidth\":0,\"ticks\":\"\"}},\"type\":\"scattercarpet\"}],\"scattergeo\":[{\"marker\":{\"colorbar\":{\"outlinewidth\":0,\"ticks\":\"\"}},\"type\":\"scattergeo\"}],\"scattergl\":[{\"marker\":{\"colorbar\":{\"outlinewidth\":0,\"ticks\":\"\"}},\"type\":\"scattergl\"}],\"scattermapbox\":[{\"marker\":{\"colorbar\":{\"outlinewidth\":0,\"ticks\":\"\"}},\"type\":\"scattermapbox\"}],\"scatterpolar\":[{\"marker\":{\"colorbar\":{\"outlinewidth\":0,\"ticks\":\"\"}},\"type\":\"scatterpolar\"}],\"scatterpolargl\":[{\"marker\":{\"colorbar\":{\"outlinewidth\":0,\"ticks\":\"\"}},\"type\":\"scatterpolargl\"}],\"scatterternary\":[{\"marker\":{\"colorbar\":{\"outlinewidth\":0,\"ticks\":\"\"}},\"type\":\"scatterternary\"}],\"surface\":[{\"colorbar\":{\"outlinewidth\":0,\"ticks\":\"\"},\"colorscale\":[[0.0,\"#0d0887\"],[0.1111111111111111,\"#46039f\"],[0.2222222222222222,\"#7201a8\"],[0.3333333333333333,\"#9c179e\"],[0.4444444444444444,\"#bd3786\"],[0.5555555555555556,\"#d8576b\"],[0.6666666666666666,\"#ed7953\"],[0.7777777777777778,\"#fb9f3a\"],[0.8888888888888888,\"#fdca26\"],[1.0,\"#f0f921\"]],\"type\":\"surface\"}],\"table\":[{\"cells\":{\"fill\":{\"color\":\"#EBF0F8\"},\"line\":{\"color\":\"white\"}},\"header\":{\"fill\":{\"color\":\"#C8D4E3\"},\"line\":{\"color\":\"white\"}},\"type\":\"table\"}]},\"layout\":{\"annotationdefaults\":{\"arrowcolor\":\"#2a3f5f\",\"arrowhead\":0,\"arrowwidth\":1},\"autotypenumbers\":\"strict\",\"coloraxis\":{\"colorbar\":{\"outlinewidth\":0,\"ticks\":\"\"}},\"colorscale\":{\"diverging\":[[0,\"#8e0152\"],[0.1,\"#c51b7d\"],[0.2,\"#de77ae\"],[0.3,\"#f1b6da\"],[0.4,\"#fde0ef\"],[0.5,\"#f7f7f7\"],[0.6,\"#e6f5d0\"],[0.7,\"#b8e186\"],[0.8,\"#7fbc41\"],[0.9,\"#4d9221\"],[1,\"#276419\"]],\"sequential\":[[0.0,\"#0d0887\"],[0.1111111111111111,\"#46039f\"],[0.2222222222222222,\"#7201a8\"],[0.3333333333333333,\"#9c179e\"],[0.4444444444444444,\"#bd3786\"],[0.5555555555555556,\"#d8576b\"],[0.6666666666666666,\"#ed7953\"],[0.7777777777777778,\"#fb9f3a\"],[0.8888888888888888,\"#fdca26\"],[1.0,\"#f0f921\"]],\"sequentialminus\":[[0.0,\"#0d0887\"],[0.1111111111111111,\"#46039f\"],[0.2222222222222222,\"#7201a8\"],[0.3333333333333333,\"#9c179e\"],[0.4444444444444444,\"#bd3786\"],[0.5555555555555556,\"#d8576b\"],[0.6666666666666666,\"#ed7953\"],[0.7777777777777778,\"#fb9f3a\"],[0.8888888888888888,\"#fdca26\"],[1.0,\"#f0f921\"]]},\"colorway\":[\"#636efa\",\"#EF553B\",\"#00cc96\",\"#ab63fa\",\"#FFA15A\",\"#19d3f3\",\"#FF6692\",\"#B6E880\",\"#FF97FF\",\"#FECB52\"],\"font\":{\"color\":\"#2a3f5f\"},\"geo\":{\"bgcolor\":\"white\",\"lakecolor\":\"white\",\"landcolor\":\"#E5ECF6\",\"showlakes\":true,\"showland\":true,\"subunitcolor\":\"white\"},\"hoverlabel\":{\"align\":\"left\"},\"hovermode\":\"closest\",\"mapbox\":{\"style\":\"light\"},\"paper_bgcolor\":\"white\",\"plot_bgcolor\":\"#E5ECF6\",\"polar\":{\"angularaxis\":{\"gridcolor\":\"white\",\"linecolor\":\"white\",\"ticks\":\"\"},\"bgcolor\":\"#E5ECF6\",\"radialaxis\":{\"gridcolor\":\"white\",\"linecolor\":\"white\",\"ticks\":\"\"}},\"scene\":{\"xaxis\":{\"backgroundcolor\":\"#E5ECF6\",\"gridcolor\":\"white\",\"gridwidth\":2,\"linecolor\":\"white\",\"showbackground\":true,\"ticks\":\"\",\"zerolinecolor\":\"white\"},\"yaxis\":{\"backgroundcolor\":\"#E5ECF6\",\"gridcolor\":\"white\",\"gridwidth\":2,\"linecolor\":\"white\",\"showbackground\":true,\"ticks\":\"\",\"zerolinecolor\":\"white\"},\"zaxis\":{\"backgroundcolor\":\"#E5ECF6\",\"gridcolor\":\"white\",\"gridwidth\":2,\"linecolor\":\"white\",\"showbackground\":true,\"ticks\":\"\",\"zerolinecolor\":\"white\"}},\"shapedefaults\":{\"line\":{\"color\":\"#2a3f5f\"}},\"ternary\":{\"aaxis\":{\"gridcolor\":\"white\",\"linecolor\":\"white\",\"ticks\":\"\"},\"baxis\":{\"gridcolor\":\"white\",\"linecolor\":\"white\",\"ticks\":\"\"},\"bgcolor\":\"#E5ECF6\",\"caxis\":{\"gridcolor\":\"white\",\"linecolor\":\"white\",\"ticks\":\"\"}},\"title\":{\"x\":0.05},\"xaxis\":{\"automargin\":true,\"gridcolor\":\"white\",\"linecolor\":\"white\",\"ticks\":\"\",\"title\":{\"standoff\":15},\"zerolinecolor\":\"white\",\"zerolinewidth\":2},\"yaxis\":{\"automargin\":true,\"gridcolor\":\"white\",\"linecolor\":\"white\",\"ticks\":\"\",\"title\":{\"standoff\":15},\"zerolinecolor\":\"white\",\"zerolinewidth\":2}}},\"title\":{\"font\":{\"color\":\"#4D5663\"},\"text\":\"Teacher Compentecy Level: USA vs. Sub-Saharan Africa\"},\"xaxis\":{\"gridcolor\":\"#E1E5ED\",\"showgrid\":true,\"tickfont\":{\"color\":\"#4D5663\"},\"title\":{\"font\":{\"color\":\"#4D5663\"},\"text\":\"Year\"},\"zerolinecolor\":\"#E1E5ED\"},\"yaxis\":{\"gridcolor\":\"#E1E5ED\",\"showgrid\":true,\"tickfont\":{\"color\":\"#4D5663\"},\"title\":{\"font\":{\"color\":\"#4D5663\"},\"text\":\"Percent of Teachers\"},\"zerolinecolor\":\"#E1E5ED\"}},                        {\"showLink\": true, \"linkText\": \"Export to plot.ly\", \"plotlyServerURL\": \"https://plot.ly\", \"responsive\": true}                    ).then(function(){\n",
       "                            \n",
       "var gd = document.getElementById('46f65fbe-4c49-48e2-ae79-60bc86254198');\n",
       "var x = new MutationObserver(function (mutations, observer) {{\n",
       "        var display = window.getComputedStyle(gd).display;\n",
       "        if (!display || display === 'none') {{\n",
       "            console.log([gd, 'removed!']);\n",
       "            Plotly.purge(gd);\n",
       "            observer.disconnect();\n",
       "        }}\n",
       "}});\n",
       "\n",
       "// Listen for the removal of the full notebook cells\n",
       "var notebookContainer = gd.closest('#notebook-container');\n",
       "if (notebookContainer) {{\n",
       "    x.observe(notebookContainer, {childList: true});\n",
       "}}\n",
       "\n",
       "// Listen for the clearing of the current output cell\n",
       "var outputEl = gd.closest('.output');\n",
       "if (outputEl) {{\n",
       "    x.observe(outputEl, {childList: true});\n",
       "}}\n",
       "\n",
       "                        })                };                });            </script>        </div>"
      ]
     },
     "metadata": {},
     "output_type": "display_data"
    }
   ],
   "source": [
    "def fix_date_index(df):\n",
    "    idx_vars = df.index.names\n",
    "    new = df.reset_index()\n",
    "    new.date = new.date.astype(int)\n",
    "    return new.set_index(idx_vars)\n",
    "\n",
    "from plotly.offline import init_notebook_mode, iplot\n",
    "import numpy as np\n",
    "from scipy.optimize import newton\n",
    "\n",
    "init_notebook_mode(connected=True)\n",
    "\n",
    "vars = {\"SE.TER.ENRR.FE\":\"Population, total\"}\n",
    "\n",
    "\n",
    "use=[\"NAC\", \"SSF\"]\n",
    "\n",
    "population = fix_date_index(wbdata.get_dataframe(vars,country=use)).squeeze().unstack('country','region')\n",
    "\n",
    "\n",
    "population.iplot(xTitle=\"Year\",yTitle=\"Percent of Teachers\",\n",
    "              title=\"Teacher Compentecy Level: USA vs. Sub-Saharan Africa\")"
   ]
  },
  {
   "cell_type": "markdown",
   "id": "d6fc56f1",
   "metadata": {},
   "source": [
    "#### Adolescent Fertility Rate Graph"
   ]
  },
  {
   "cell_type": "code",
   "execution_count": 10,
   "id": "23928d02",
   "metadata": {},
   "outputs": [
    {
     "data": {
      "application/vnd.plotly.v1+json": {
       "config": {
        "linkText": "Export to plot.ly",
        "plotlyServerURL": "https://plot.ly",
        "showLink": true
       },
       "data": [
        {
         "line": {
          "color": "rgba(255, 153, 51, 1.0)",
          "dash": "solid",
          "shape": "linear",
          "width": 1.3
         },
         "mode": "lines",
         "name": "Sub-Saharan Africa",
         "text": "",
         "type": "scatter",
         "x": [
          1960,
          1961,
          1962,
          1963,
          1964,
          1965,
          1966,
          1967,
          1968,
          1969,
          1970,
          1971,
          1972,
          1973,
          1974,
          1975,
          1976,
          1977,
          1978,
          1979,
          1980,
          1981,
          1982,
          1983,
          1984,
          1985,
          1986,
          1987,
          1988,
          1989,
          1990,
          1991,
          1992,
          1993,
          1994,
          1995,
          1996,
          1997,
          1998,
          1999,
          2000,
          2001,
          2002,
          2003,
          2004,
          2005,
          2006,
          2007,
          2008,
          2009,
          2010,
          2011,
          2012,
          2013,
          2014,
          2015,
          2016,
          2017,
          2018,
          2019,
          2020,
          2021
         ],
         "y": [
          154.871704787569,
          154.847989950937,
          154.831604205355,
          154.511469779035,
          154.201899366069,
          153.966885678862,
          153.796659776315,
          153.680110824414,
          153.950500505266,
          154.268635413013,
          154.587274145827,
          154.928108589216,
          155.319305217638,
          155.280006744821,
          155.195141501171,
          155.097701923754,
          155.036643944453,
          155.005265898636,
          154.224135264793,
          153.354534169664,
          152.50322030755,
          151.645580275364,
          150.731926474902,
          149.222134599796,
          147.680931528526,
          146.136125150717,
          144.746640084294,
          143.57431448728,
          142.289723438193,
          141.032193028878,
          139.726284850169,
          138.410184043114,
          136.983918944925,
          136.055315930575,
          135.159741458885,
          134.11956890023,
          132.786968726166,
          131.486552257584,
          130.175050262634,
          128.969366123167,
          127.826646691087,
          126.718436855259,
          125.634257591233,
          124.326618884347,
          123.042719911539,
          121.798730801343,
          120.585165420131,
          119.396153231395,
          117.929723836423,
          116.440012803262,
          114.936748393561,
          113.43454058283,
          111.926705928315,
          110.186918207682,
          108.427220467419,
          106.635844407215,
          104.844728825353,
          103.026533120286,
          101.366572970668,
          99.6944563865692,
          98.017770577125,
          ""
         ]
        },
        {
         "line": {
          "color": "rgba(55, 128, 191, 1.0)",
          "dash": "solid",
          "shape": "linear",
          "width": 1.3
         },
         "mode": "lines",
         "name": "United States",
         "text": "",
         "type": "scatter",
         "x": [
          1960,
          1961,
          1962,
          1963,
          1964,
          1965,
          1966,
          1967,
          1968,
          1969,
          1970,
          1971,
          1972,
          1973,
          1974,
          1975,
          1976,
          1977,
          1978,
          1979,
          1980,
          1981,
          1982,
          1983,
          1984,
          1985,
          1986,
          1987,
          1988,
          1989,
          1990,
          1991,
          1992,
          1993,
          1994,
          1995,
          1996,
          1997,
          1998,
          1999,
          2000,
          2001,
          2002,
          2003,
          2004,
          2005,
          2006,
          2007,
          2008,
          2009,
          2010,
          2011,
          2012,
          2013,
          2014,
          2015,
          2016,
          2017,
          2018,
          2019,
          2020,
          2021
         ],
         "y": [
          81.741,
          79.185,
          76.629,
          74.6802,
          72.7314,
          70.7826,
          68.8338,
          66.885,
          65.7818,
          64.6786,
          63.5754,
          62.4722,
          61.369,
          59.642,
          57.915,
          56.188,
          54.461,
          52.734,
          52.4856,
          52.2372,
          51.9888,
          51.7404,
          51.492,
          51.8474,
          52.2028,
          52.5582,
          52.9136,
          53.269,
          54.5174,
          55.7658,
          57.0142,
          58.2626,
          59.511,
          57.8868,
          56.2626,
          54.6384,
          53.0142,
          51.39,
          49.6484,
          47.9068,
          46.1652,
          44.4236,
          42.682,
          42.0618,
          41.4416,
          40.8214,
          40.2012,
          39.581,
          37.2522,
          34.9234,
          32.5946,
          30.2658,
          27.937,
          26.3216,
          24.7062,
          23.0908,
          21.4754,
          19.86,
          18.5562,
          17.2524,
          15.9486,
          ""
         ]
        }
       ],
       "layout": {
        "legend": {
         "bgcolor": "#F5F6F9",
         "font": {
          "color": "#4D5663"
         }
        },
        "paper_bgcolor": "#F5F6F9",
        "plot_bgcolor": "#F5F6F9",
        "template": {
         "data": {
          "bar": [
           {
            "error_x": {
             "color": "#2a3f5f"
            },
            "error_y": {
             "color": "#2a3f5f"
            },
            "marker": {
             "line": {
              "color": "#E5ECF6",
              "width": 0.5
             },
             "pattern": {
              "fillmode": "overlay",
              "size": 10,
              "solidity": 0.2
             }
            },
            "type": "bar"
           }
          ],
          "barpolar": [
           {
            "marker": {
             "line": {
              "color": "#E5ECF6",
              "width": 0.5
             },
             "pattern": {
              "fillmode": "overlay",
              "size": 10,
              "solidity": 0.2
             }
            },
            "type": "barpolar"
           }
          ],
          "carpet": [
           {
            "aaxis": {
             "endlinecolor": "#2a3f5f",
             "gridcolor": "white",
             "linecolor": "white",
             "minorgridcolor": "white",
             "startlinecolor": "#2a3f5f"
            },
            "baxis": {
             "endlinecolor": "#2a3f5f",
             "gridcolor": "white",
             "linecolor": "white",
             "minorgridcolor": "white",
             "startlinecolor": "#2a3f5f"
            },
            "type": "carpet"
           }
          ],
          "choropleth": [
           {
            "colorbar": {
             "outlinewidth": 0,
             "ticks": ""
            },
            "type": "choropleth"
           }
          ],
          "contour": [
           {
            "colorbar": {
             "outlinewidth": 0,
             "ticks": ""
            },
            "colorscale": [
             [
              0,
              "#0d0887"
             ],
             [
              0.1111111111111111,
              "#46039f"
             ],
             [
              0.2222222222222222,
              "#7201a8"
             ],
             [
              0.3333333333333333,
              "#9c179e"
             ],
             [
              0.4444444444444444,
              "#bd3786"
             ],
             [
              0.5555555555555556,
              "#d8576b"
             ],
             [
              0.6666666666666666,
              "#ed7953"
             ],
             [
              0.7777777777777778,
              "#fb9f3a"
             ],
             [
              0.8888888888888888,
              "#fdca26"
             ],
             [
              1,
              "#f0f921"
             ]
            ],
            "type": "contour"
           }
          ],
          "contourcarpet": [
           {
            "colorbar": {
             "outlinewidth": 0,
             "ticks": ""
            },
            "type": "contourcarpet"
           }
          ],
          "heatmap": [
           {
            "colorbar": {
             "outlinewidth": 0,
             "ticks": ""
            },
            "colorscale": [
             [
              0,
              "#0d0887"
             ],
             [
              0.1111111111111111,
              "#46039f"
             ],
             [
              0.2222222222222222,
              "#7201a8"
             ],
             [
              0.3333333333333333,
              "#9c179e"
             ],
             [
              0.4444444444444444,
              "#bd3786"
             ],
             [
              0.5555555555555556,
              "#d8576b"
             ],
             [
              0.6666666666666666,
              "#ed7953"
             ],
             [
              0.7777777777777778,
              "#fb9f3a"
             ],
             [
              0.8888888888888888,
              "#fdca26"
             ],
             [
              1,
              "#f0f921"
             ]
            ],
            "type": "heatmap"
           }
          ],
          "heatmapgl": [
           {
            "colorbar": {
             "outlinewidth": 0,
             "ticks": ""
            },
            "colorscale": [
             [
              0,
              "#0d0887"
             ],
             [
              0.1111111111111111,
              "#46039f"
             ],
             [
              0.2222222222222222,
              "#7201a8"
             ],
             [
              0.3333333333333333,
              "#9c179e"
             ],
             [
              0.4444444444444444,
              "#bd3786"
             ],
             [
              0.5555555555555556,
              "#d8576b"
             ],
             [
              0.6666666666666666,
              "#ed7953"
             ],
             [
              0.7777777777777778,
              "#fb9f3a"
             ],
             [
              0.8888888888888888,
              "#fdca26"
             ],
             [
              1,
              "#f0f921"
             ]
            ],
            "type": "heatmapgl"
           }
          ],
          "histogram": [
           {
            "marker": {
             "pattern": {
              "fillmode": "overlay",
              "size": 10,
              "solidity": 0.2
             }
            },
            "type": "histogram"
           }
          ],
          "histogram2d": [
           {
            "colorbar": {
             "outlinewidth": 0,
             "ticks": ""
            },
            "colorscale": [
             [
              0,
              "#0d0887"
             ],
             [
              0.1111111111111111,
              "#46039f"
             ],
             [
              0.2222222222222222,
              "#7201a8"
             ],
             [
              0.3333333333333333,
              "#9c179e"
             ],
             [
              0.4444444444444444,
              "#bd3786"
             ],
             [
              0.5555555555555556,
              "#d8576b"
             ],
             [
              0.6666666666666666,
              "#ed7953"
             ],
             [
              0.7777777777777778,
              "#fb9f3a"
             ],
             [
              0.8888888888888888,
              "#fdca26"
             ],
             [
              1,
              "#f0f921"
             ]
            ],
            "type": "histogram2d"
           }
          ],
          "histogram2dcontour": [
           {
            "colorbar": {
             "outlinewidth": 0,
             "ticks": ""
            },
            "colorscale": [
             [
              0,
              "#0d0887"
             ],
             [
              0.1111111111111111,
              "#46039f"
             ],
             [
              0.2222222222222222,
              "#7201a8"
             ],
             [
              0.3333333333333333,
              "#9c179e"
             ],
             [
              0.4444444444444444,
              "#bd3786"
             ],
             [
              0.5555555555555556,
              "#d8576b"
             ],
             [
              0.6666666666666666,
              "#ed7953"
             ],
             [
              0.7777777777777778,
              "#fb9f3a"
             ],
             [
              0.8888888888888888,
              "#fdca26"
             ],
             [
              1,
              "#f0f921"
             ]
            ],
            "type": "histogram2dcontour"
           }
          ],
          "mesh3d": [
           {
            "colorbar": {
             "outlinewidth": 0,
             "ticks": ""
            },
            "type": "mesh3d"
           }
          ],
          "parcoords": [
           {
            "line": {
             "colorbar": {
              "outlinewidth": 0,
              "ticks": ""
             }
            },
            "type": "parcoords"
           }
          ],
          "pie": [
           {
            "automargin": true,
            "type": "pie"
           }
          ],
          "scatter": [
           {
            "marker": {
             "colorbar": {
              "outlinewidth": 0,
              "ticks": ""
             }
            },
            "type": "scatter"
           }
          ],
          "scatter3d": [
           {
            "line": {
             "colorbar": {
              "outlinewidth": 0,
              "ticks": ""
             }
            },
            "marker": {
             "colorbar": {
              "outlinewidth": 0,
              "ticks": ""
             }
            },
            "type": "scatter3d"
           }
          ],
          "scattercarpet": [
           {
            "marker": {
             "colorbar": {
              "outlinewidth": 0,
              "ticks": ""
             }
            },
            "type": "scattercarpet"
           }
          ],
          "scattergeo": [
           {
            "marker": {
             "colorbar": {
              "outlinewidth": 0,
              "ticks": ""
             }
            },
            "type": "scattergeo"
           }
          ],
          "scattergl": [
           {
            "marker": {
             "colorbar": {
              "outlinewidth": 0,
              "ticks": ""
             }
            },
            "type": "scattergl"
           }
          ],
          "scattermapbox": [
           {
            "marker": {
             "colorbar": {
              "outlinewidth": 0,
              "ticks": ""
             }
            },
            "type": "scattermapbox"
           }
          ],
          "scatterpolar": [
           {
            "marker": {
             "colorbar": {
              "outlinewidth": 0,
              "ticks": ""
             }
            },
            "type": "scatterpolar"
           }
          ],
          "scatterpolargl": [
           {
            "marker": {
             "colorbar": {
              "outlinewidth": 0,
              "ticks": ""
             }
            },
            "type": "scatterpolargl"
           }
          ],
          "scatterternary": [
           {
            "marker": {
             "colorbar": {
              "outlinewidth": 0,
              "ticks": ""
             }
            },
            "type": "scatterternary"
           }
          ],
          "surface": [
           {
            "colorbar": {
             "outlinewidth": 0,
             "ticks": ""
            },
            "colorscale": [
             [
              0,
              "#0d0887"
             ],
             [
              0.1111111111111111,
              "#46039f"
             ],
             [
              0.2222222222222222,
              "#7201a8"
             ],
             [
              0.3333333333333333,
              "#9c179e"
             ],
             [
              0.4444444444444444,
              "#bd3786"
             ],
             [
              0.5555555555555556,
              "#d8576b"
             ],
             [
              0.6666666666666666,
              "#ed7953"
             ],
             [
              0.7777777777777778,
              "#fb9f3a"
             ],
             [
              0.8888888888888888,
              "#fdca26"
             ],
             [
              1,
              "#f0f921"
             ]
            ],
            "type": "surface"
           }
          ],
          "table": [
           {
            "cells": {
             "fill": {
              "color": "#EBF0F8"
             },
             "line": {
              "color": "white"
             }
            },
            "header": {
             "fill": {
              "color": "#C8D4E3"
             },
             "line": {
              "color": "white"
             }
            },
            "type": "table"
           }
          ]
         },
         "layout": {
          "annotationdefaults": {
           "arrowcolor": "#2a3f5f",
           "arrowhead": 0,
           "arrowwidth": 1
          },
          "autotypenumbers": "strict",
          "coloraxis": {
           "colorbar": {
            "outlinewidth": 0,
            "ticks": ""
           }
          },
          "colorscale": {
           "diverging": [
            [
             0,
             "#8e0152"
            ],
            [
             0.1,
             "#c51b7d"
            ],
            [
             0.2,
             "#de77ae"
            ],
            [
             0.3,
             "#f1b6da"
            ],
            [
             0.4,
             "#fde0ef"
            ],
            [
             0.5,
             "#f7f7f7"
            ],
            [
             0.6,
             "#e6f5d0"
            ],
            [
             0.7,
             "#b8e186"
            ],
            [
             0.8,
             "#7fbc41"
            ],
            [
             0.9,
             "#4d9221"
            ],
            [
             1,
             "#276419"
            ]
           ],
           "sequential": [
            [
             0,
             "#0d0887"
            ],
            [
             0.1111111111111111,
             "#46039f"
            ],
            [
             0.2222222222222222,
             "#7201a8"
            ],
            [
             0.3333333333333333,
             "#9c179e"
            ],
            [
             0.4444444444444444,
             "#bd3786"
            ],
            [
             0.5555555555555556,
             "#d8576b"
            ],
            [
             0.6666666666666666,
             "#ed7953"
            ],
            [
             0.7777777777777778,
             "#fb9f3a"
            ],
            [
             0.8888888888888888,
             "#fdca26"
            ],
            [
             1,
             "#f0f921"
            ]
           ],
           "sequentialminus": [
            [
             0,
             "#0d0887"
            ],
            [
             0.1111111111111111,
             "#46039f"
            ],
            [
             0.2222222222222222,
             "#7201a8"
            ],
            [
             0.3333333333333333,
             "#9c179e"
            ],
            [
             0.4444444444444444,
             "#bd3786"
            ],
            [
             0.5555555555555556,
             "#d8576b"
            ],
            [
             0.6666666666666666,
             "#ed7953"
            ],
            [
             0.7777777777777778,
             "#fb9f3a"
            ],
            [
             0.8888888888888888,
             "#fdca26"
            ],
            [
             1,
             "#f0f921"
            ]
           ]
          },
          "colorway": [
           "#636efa",
           "#EF553B",
           "#00cc96",
           "#ab63fa",
           "#FFA15A",
           "#19d3f3",
           "#FF6692",
           "#B6E880",
           "#FF97FF",
           "#FECB52"
          ],
          "font": {
           "color": "#2a3f5f"
          },
          "geo": {
           "bgcolor": "white",
           "lakecolor": "white",
           "landcolor": "#E5ECF6",
           "showlakes": true,
           "showland": true,
           "subunitcolor": "white"
          },
          "hoverlabel": {
           "align": "left"
          },
          "hovermode": "closest",
          "mapbox": {
           "style": "light"
          },
          "paper_bgcolor": "white",
          "plot_bgcolor": "#E5ECF6",
          "polar": {
           "angularaxis": {
            "gridcolor": "white",
            "linecolor": "white",
            "ticks": ""
           },
           "bgcolor": "#E5ECF6",
           "radialaxis": {
            "gridcolor": "white",
            "linecolor": "white",
            "ticks": ""
           }
          },
          "scene": {
           "xaxis": {
            "backgroundcolor": "#E5ECF6",
            "gridcolor": "white",
            "gridwidth": 2,
            "linecolor": "white",
            "showbackground": true,
            "ticks": "",
            "zerolinecolor": "white"
           },
           "yaxis": {
            "backgroundcolor": "#E5ECF6",
            "gridcolor": "white",
            "gridwidth": 2,
            "linecolor": "white",
            "showbackground": true,
            "ticks": "",
            "zerolinecolor": "white"
           },
           "zaxis": {
            "backgroundcolor": "#E5ECF6",
            "gridcolor": "white",
            "gridwidth": 2,
            "linecolor": "white",
            "showbackground": true,
            "ticks": "",
            "zerolinecolor": "white"
           }
          },
          "shapedefaults": {
           "line": {
            "color": "#2a3f5f"
           }
          },
          "ternary": {
           "aaxis": {
            "gridcolor": "white",
            "linecolor": "white",
            "ticks": ""
           },
           "baxis": {
            "gridcolor": "white",
            "linecolor": "white",
            "ticks": ""
           },
           "bgcolor": "#E5ECF6",
           "caxis": {
            "gridcolor": "white",
            "linecolor": "white",
            "ticks": ""
           }
          },
          "title": {
           "x": 0.05
          },
          "xaxis": {
           "automargin": true,
           "gridcolor": "white",
           "linecolor": "white",
           "ticks": "",
           "title": {
            "standoff": 15
           },
           "zerolinecolor": "white",
           "zerolinewidth": 2
          },
          "yaxis": {
           "automargin": true,
           "gridcolor": "white",
           "linecolor": "white",
           "ticks": "",
           "title": {
            "standoff": 15
           },
           "zerolinecolor": "white",
           "zerolinewidth": 2
          }
         }
        },
        "title": {
         "font": {
          "color": "#4D5663"
         },
         "text": "Adolescent Fertility Rate: USA vs. Sub-Saharan Africa"
        },
        "xaxis": {
         "gridcolor": "#E1E5ED",
         "showgrid": true,
         "tickfont": {
          "color": "#4D5663"
         },
         "title": {
          "font": {
           "color": "#4D5663"
          },
          "text": "Year"
         },
         "zerolinecolor": "#E1E5ED"
        },
        "yaxis": {
         "gridcolor": "#E1E5ED",
         "showgrid": true,
         "tickfont": {
          "color": "#4D5663"
         },
         "title": {
          "font": {
           "color": "#4D5663"
          },
          "text": "births per 1,000 women ages 15-19"
         },
         "zerolinecolor": "#E1E5ED"
        }
       }
      },
      "text/html": [
       "<div>                            <div id=\"e000483c-6c1b-405f-a107-5df5116ff2ee\" class=\"plotly-graph-div\" style=\"height:525px; width:100%;\"></div>            <script type=\"text/javascript\">                require([\"plotly\"], function(Plotly) {                    window.PLOTLYENV=window.PLOTLYENV || {};\n",
       "                    window.PLOTLYENV.BASE_URL='https://plot.ly';                                    if (document.getElementById(\"e000483c-6c1b-405f-a107-5df5116ff2ee\")) {                    Plotly.newPlot(                        \"e000483c-6c1b-405f-a107-5df5116ff2ee\",                        [{\"line\":{\"color\":\"rgba(255, 153, 51, 1.0)\",\"dash\":\"solid\",\"shape\":\"linear\",\"width\":1.3},\"mode\":\"lines\",\"name\":\"Sub-Saharan Africa\",\"text\":\"\",\"type\":\"scatter\",\"x\":[1960,1961,1962,1963,1964,1965,1966,1967,1968,1969,1970,1971,1972,1973,1974,1975,1976,1977,1978,1979,1980,1981,1982,1983,1984,1985,1986,1987,1988,1989,1990,1991,1992,1993,1994,1995,1996,1997,1998,1999,2000,2001,2002,2003,2004,2005,2006,2007,2008,2009,2010,2011,2012,2013,2014,2015,2016,2017,2018,2019,2020,2021],\"y\":[154.871704787569,154.847989950937,154.831604205355,154.511469779035,154.201899366069,153.966885678862,153.796659776315,153.680110824414,153.950500505266,154.268635413013,154.587274145827,154.928108589216,155.319305217638,155.280006744821,155.195141501171,155.097701923754,155.036643944453,155.005265898636,154.224135264793,153.354534169664,152.50322030755,151.645580275364,150.731926474902,149.222134599796,147.680931528526,146.136125150717,144.746640084294,143.57431448728,142.289723438193,141.032193028878,139.726284850169,138.410184043114,136.983918944925,136.055315930575,135.159741458885,134.11956890023,132.786968726166,131.486552257584,130.175050262634,128.969366123167,127.826646691087,126.718436855259,125.634257591233,124.326618884347,123.042719911539,121.798730801343,120.585165420131,119.396153231395,117.929723836423,116.440012803262,114.936748393561,113.43454058283,111.926705928315,110.186918207682,108.427220467419,106.635844407215,104.844728825353,103.026533120286,101.366572970668,99.6944563865692,98.017770577125,\"\"]},{\"line\":{\"color\":\"rgba(55, 128, 191, 1.0)\",\"dash\":\"solid\",\"shape\":\"linear\",\"width\":1.3},\"mode\":\"lines\",\"name\":\"United States\",\"text\":\"\",\"type\":\"scatter\",\"x\":[1960,1961,1962,1963,1964,1965,1966,1967,1968,1969,1970,1971,1972,1973,1974,1975,1976,1977,1978,1979,1980,1981,1982,1983,1984,1985,1986,1987,1988,1989,1990,1991,1992,1993,1994,1995,1996,1997,1998,1999,2000,2001,2002,2003,2004,2005,2006,2007,2008,2009,2010,2011,2012,2013,2014,2015,2016,2017,2018,2019,2020,2021],\"y\":[81.741,79.185,76.629,74.6802,72.7314,70.7826,68.8338,66.885,65.7818,64.6786,63.5754,62.4722,61.369,59.642,57.915,56.188,54.461,52.734,52.4856,52.2372,51.9888,51.7404,51.492,51.8474,52.2028,52.5582,52.9136,53.269,54.5174,55.7658,57.0142,58.2626,59.511,57.8868,56.2626,54.6384,53.0142,51.39,49.6484,47.9068,46.1652,44.4236,42.682,42.0618,41.4416,40.8214,40.2012,39.581,37.2522,34.9234,32.5946,30.2658,27.937,26.3216,24.7062,23.0908,21.4754,19.86,18.5562,17.2524,15.9486,\"\"]}],                        {\"legend\":{\"bgcolor\":\"#F5F6F9\",\"font\":{\"color\":\"#4D5663\"}},\"paper_bgcolor\":\"#F5F6F9\",\"plot_bgcolor\":\"#F5F6F9\",\"template\":{\"data\":{\"bar\":[{\"error_x\":{\"color\":\"#2a3f5f\"},\"error_y\":{\"color\":\"#2a3f5f\"},\"marker\":{\"line\":{\"color\":\"#E5ECF6\",\"width\":0.5},\"pattern\":{\"fillmode\":\"overlay\",\"size\":10,\"solidity\":0.2}},\"type\":\"bar\"}],\"barpolar\":[{\"marker\":{\"line\":{\"color\":\"#E5ECF6\",\"width\":0.5},\"pattern\":{\"fillmode\":\"overlay\",\"size\":10,\"solidity\":0.2}},\"type\":\"barpolar\"}],\"carpet\":[{\"aaxis\":{\"endlinecolor\":\"#2a3f5f\",\"gridcolor\":\"white\",\"linecolor\":\"white\",\"minorgridcolor\":\"white\",\"startlinecolor\":\"#2a3f5f\"},\"baxis\":{\"endlinecolor\":\"#2a3f5f\",\"gridcolor\":\"white\",\"linecolor\":\"white\",\"minorgridcolor\":\"white\",\"startlinecolor\":\"#2a3f5f\"},\"type\":\"carpet\"}],\"choropleth\":[{\"colorbar\":{\"outlinewidth\":0,\"ticks\":\"\"},\"type\":\"choropleth\"}],\"contour\":[{\"colorbar\":{\"outlinewidth\":0,\"ticks\":\"\"},\"colorscale\":[[0.0,\"#0d0887\"],[0.1111111111111111,\"#46039f\"],[0.2222222222222222,\"#7201a8\"],[0.3333333333333333,\"#9c179e\"],[0.4444444444444444,\"#bd3786\"],[0.5555555555555556,\"#d8576b\"],[0.6666666666666666,\"#ed7953\"],[0.7777777777777778,\"#fb9f3a\"],[0.8888888888888888,\"#fdca26\"],[1.0,\"#f0f921\"]],\"type\":\"contour\"}],\"contourcarpet\":[{\"colorbar\":{\"outlinewidth\":0,\"ticks\":\"\"},\"type\":\"contourcarpet\"}],\"heatmap\":[{\"colorbar\":{\"outlinewidth\":0,\"ticks\":\"\"},\"colorscale\":[[0.0,\"#0d0887\"],[0.1111111111111111,\"#46039f\"],[0.2222222222222222,\"#7201a8\"],[0.3333333333333333,\"#9c179e\"],[0.4444444444444444,\"#bd3786\"],[0.5555555555555556,\"#d8576b\"],[0.6666666666666666,\"#ed7953\"],[0.7777777777777778,\"#fb9f3a\"],[0.8888888888888888,\"#fdca26\"],[1.0,\"#f0f921\"]],\"type\":\"heatmap\"}],\"heatmapgl\":[{\"colorbar\":{\"outlinewidth\":0,\"ticks\":\"\"},\"colorscale\":[[0.0,\"#0d0887\"],[0.1111111111111111,\"#46039f\"],[0.2222222222222222,\"#7201a8\"],[0.3333333333333333,\"#9c179e\"],[0.4444444444444444,\"#bd3786\"],[0.5555555555555556,\"#d8576b\"],[0.6666666666666666,\"#ed7953\"],[0.7777777777777778,\"#fb9f3a\"],[0.8888888888888888,\"#fdca26\"],[1.0,\"#f0f921\"]],\"type\":\"heatmapgl\"}],\"histogram\":[{\"marker\":{\"pattern\":{\"fillmode\":\"overlay\",\"size\":10,\"solidity\":0.2}},\"type\":\"histogram\"}],\"histogram2d\":[{\"colorbar\":{\"outlinewidth\":0,\"ticks\":\"\"},\"colorscale\":[[0.0,\"#0d0887\"],[0.1111111111111111,\"#46039f\"],[0.2222222222222222,\"#7201a8\"],[0.3333333333333333,\"#9c179e\"],[0.4444444444444444,\"#bd3786\"],[0.5555555555555556,\"#d8576b\"],[0.6666666666666666,\"#ed7953\"],[0.7777777777777778,\"#fb9f3a\"],[0.8888888888888888,\"#fdca26\"],[1.0,\"#f0f921\"]],\"type\":\"histogram2d\"}],\"histogram2dcontour\":[{\"colorbar\":{\"outlinewidth\":0,\"ticks\":\"\"},\"colorscale\":[[0.0,\"#0d0887\"],[0.1111111111111111,\"#46039f\"],[0.2222222222222222,\"#7201a8\"],[0.3333333333333333,\"#9c179e\"],[0.4444444444444444,\"#bd3786\"],[0.5555555555555556,\"#d8576b\"],[0.6666666666666666,\"#ed7953\"],[0.7777777777777778,\"#fb9f3a\"],[0.8888888888888888,\"#fdca26\"],[1.0,\"#f0f921\"]],\"type\":\"histogram2dcontour\"}],\"mesh3d\":[{\"colorbar\":{\"outlinewidth\":0,\"ticks\":\"\"},\"type\":\"mesh3d\"}],\"parcoords\":[{\"line\":{\"colorbar\":{\"outlinewidth\":0,\"ticks\":\"\"}},\"type\":\"parcoords\"}],\"pie\":[{\"automargin\":true,\"type\":\"pie\"}],\"scatter\":[{\"marker\":{\"colorbar\":{\"outlinewidth\":0,\"ticks\":\"\"}},\"type\":\"scatter\"}],\"scatter3d\":[{\"line\":{\"colorbar\":{\"outlinewidth\":0,\"ticks\":\"\"}},\"marker\":{\"colorbar\":{\"outlinewidth\":0,\"ticks\":\"\"}},\"type\":\"scatter3d\"}],\"scattercarpet\":[{\"marker\":{\"colorbar\":{\"outlinewidth\":0,\"ticks\":\"\"}},\"type\":\"scattercarpet\"}],\"scattergeo\":[{\"marker\":{\"colorbar\":{\"outlinewidth\":0,\"ticks\":\"\"}},\"type\":\"scattergeo\"}],\"scattergl\":[{\"marker\":{\"colorbar\":{\"outlinewidth\":0,\"ticks\":\"\"}},\"type\":\"scattergl\"}],\"scattermapbox\":[{\"marker\":{\"colorbar\":{\"outlinewidth\":0,\"ticks\":\"\"}},\"type\":\"scattermapbox\"}],\"scatterpolar\":[{\"marker\":{\"colorbar\":{\"outlinewidth\":0,\"ticks\":\"\"}},\"type\":\"scatterpolar\"}],\"scatterpolargl\":[{\"marker\":{\"colorbar\":{\"outlinewidth\":0,\"ticks\":\"\"}},\"type\":\"scatterpolargl\"}],\"scatterternary\":[{\"marker\":{\"colorbar\":{\"outlinewidth\":0,\"ticks\":\"\"}},\"type\":\"scatterternary\"}],\"surface\":[{\"colorbar\":{\"outlinewidth\":0,\"ticks\":\"\"},\"colorscale\":[[0.0,\"#0d0887\"],[0.1111111111111111,\"#46039f\"],[0.2222222222222222,\"#7201a8\"],[0.3333333333333333,\"#9c179e\"],[0.4444444444444444,\"#bd3786\"],[0.5555555555555556,\"#d8576b\"],[0.6666666666666666,\"#ed7953\"],[0.7777777777777778,\"#fb9f3a\"],[0.8888888888888888,\"#fdca26\"],[1.0,\"#f0f921\"]],\"type\":\"surface\"}],\"table\":[{\"cells\":{\"fill\":{\"color\":\"#EBF0F8\"},\"line\":{\"color\":\"white\"}},\"header\":{\"fill\":{\"color\":\"#C8D4E3\"},\"line\":{\"color\":\"white\"}},\"type\":\"table\"}]},\"layout\":{\"annotationdefaults\":{\"arrowcolor\":\"#2a3f5f\",\"arrowhead\":0,\"arrowwidth\":1},\"autotypenumbers\":\"strict\",\"coloraxis\":{\"colorbar\":{\"outlinewidth\":0,\"ticks\":\"\"}},\"colorscale\":{\"diverging\":[[0,\"#8e0152\"],[0.1,\"#c51b7d\"],[0.2,\"#de77ae\"],[0.3,\"#f1b6da\"],[0.4,\"#fde0ef\"],[0.5,\"#f7f7f7\"],[0.6,\"#e6f5d0\"],[0.7,\"#b8e186\"],[0.8,\"#7fbc41\"],[0.9,\"#4d9221\"],[1,\"#276419\"]],\"sequential\":[[0.0,\"#0d0887\"],[0.1111111111111111,\"#46039f\"],[0.2222222222222222,\"#7201a8\"],[0.3333333333333333,\"#9c179e\"],[0.4444444444444444,\"#bd3786\"],[0.5555555555555556,\"#d8576b\"],[0.6666666666666666,\"#ed7953\"],[0.7777777777777778,\"#fb9f3a\"],[0.8888888888888888,\"#fdca26\"],[1.0,\"#f0f921\"]],\"sequentialminus\":[[0.0,\"#0d0887\"],[0.1111111111111111,\"#46039f\"],[0.2222222222222222,\"#7201a8\"],[0.3333333333333333,\"#9c179e\"],[0.4444444444444444,\"#bd3786\"],[0.5555555555555556,\"#d8576b\"],[0.6666666666666666,\"#ed7953\"],[0.7777777777777778,\"#fb9f3a\"],[0.8888888888888888,\"#fdca26\"],[1.0,\"#f0f921\"]]},\"colorway\":[\"#636efa\",\"#EF553B\",\"#00cc96\",\"#ab63fa\",\"#FFA15A\",\"#19d3f3\",\"#FF6692\",\"#B6E880\",\"#FF97FF\",\"#FECB52\"],\"font\":{\"color\":\"#2a3f5f\"},\"geo\":{\"bgcolor\":\"white\",\"lakecolor\":\"white\",\"landcolor\":\"#E5ECF6\",\"showlakes\":true,\"showland\":true,\"subunitcolor\":\"white\"},\"hoverlabel\":{\"align\":\"left\"},\"hovermode\":\"closest\",\"mapbox\":{\"style\":\"light\"},\"paper_bgcolor\":\"white\",\"plot_bgcolor\":\"#E5ECF6\",\"polar\":{\"angularaxis\":{\"gridcolor\":\"white\",\"linecolor\":\"white\",\"ticks\":\"\"},\"bgcolor\":\"#E5ECF6\",\"radialaxis\":{\"gridcolor\":\"white\",\"linecolor\":\"white\",\"ticks\":\"\"}},\"scene\":{\"xaxis\":{\"backgroundcolor\":\"#E5ECF6\",\"gridcolor\":\"white\",\"gridwidth\":2,\"linecolor\":\"white\",\"showbackground\":true,\"ticks\":\"\",\"zerolinecolor\":\"white\"},\"yaxis\":{\"backgroundcolor\":\"#E5ECF6\",\"gridcolor\":\"white\",\"gridwidth\":2,\"linecolor\":\"white\",\"showbackground\":true,\"ticks\":\"\",\"zerolinecolor\":\"white\"},\"zaxis\":{\"backgroundcolor\":\"#E5ECF6\",\"gridcolor\":\"white\",\"gridwidth\":2,\"linecolor\":\"white\",\"showbackground\":true,\"ticks\":\"\",\"zerolinecolor\":\"white\"}},\"shapedefaults\":{\"line\":{\"color\":\"#2a3f5f\"}},\"ternary\":{\"aaxis\":{\"gridcolor\":\"white\",\"linecolor\":\"white\",\"ticks\":\"\"},\"baxis\":{\"gridcolor\":\"white\",\"linecolor\":\"white\",\"ticks\":\"\"},\"bgcolor\":\"#E5ECF6\",\"caxis\":{\"gridcolor\":\"white\",\"linecolor\":\"white\",\"ticks\":\"\"}},\"title\":{\"x\":0.05},\"xaxis\":{\"automargin\":true,\"gridcolor\":\"white\",\"linecolor\":\"white\",\"ticks\":\"\",\"title\":{\"standoff\":15},\"zerolinecolor\":\"white\",\"zerolinewidth\":2},\"yaxis\":{\"automargin\":true,\"gridcolor\":\"white\",\"linecolor\":\"white\",\"ticks\":\"\",\"title\":{\"standoff\":15},\"zerolinecolor\":\"white\",\"zerolinewidth\":2}}},\"title\":{\"font\":{\"color\":\"#4D5663\"},\"text\":\"Adolescent Fertility Rate: USA vs. Sub-Saharan Africa\"},\"xaxis\":{\"gridcolor\":\"#E1E5ED\",\"showgrid\":true,\"tickfont\":{\"color\":\"#4D5663\"},\"title\":{\"font\":{\"color\":\"#4D5663\"},\"text\":\"Year\"},\"zerolinecolor\":\"#E1E5ED\"},\"yaxis\":{\"gridcolor\":\"#E1E5ED\",\"showgrid\":true,\"tickfont\":{\"color\":\"#4D5663\"},\"title\":{\"font\":{\"color\":\"#4D5663\"},\"text\":\"births per 1,000 women ages 15-19\"},\"zerolinecolor\":\"#E1E5ED\"}},                        {\"showLink\": true, \"linkText\": \"Export to plot.ly\", \"plotlyServerURL\": \"https://plot.ly\", \"responsive\": true}                    ).then(function(){\n",
       "                            \n",
       "var gd = document.getElementById('e000483c-6c1b-405f-a107-5df5116ff2ee');\n",
       "var x = new MutationObserver(function (mutations, observer) {{\n",
       "        var display = window.getComputedStyle(gd).display;\n",
       "        if (!display || display === 'none') {{\n",
       "            console.log([gd, 'removed!']);\n",
       "            Plotly.purge(gd);\n",
       "            observer.disconnect();\n",
       "        }}\n",
       "}});\n",
       "\n",
       "// Listen for the removal of the full notebook cells\n",
       "var notebookContainer = gd.closest('#notebook-container');\n",
       "if (notebookContainer) {{\n",
       "    x.observe(notebookContainer, {childList: true});\n",
       "}}\n",
       "\n",
       "// Listen for the clearing of the current output cell\n",
       "var outputEl = gd.closest('.output');\n",
       "if (outputEl) {{\n",
       "    x.observe(outputEl, {childList: true});\n",
       "}}\n",
       "\n",
       "                        })                };                });            </script>        </div>"
      ]
     },
     "metadata": {},
     "output_type": "display_data"
    }
   ],
   "source": [
    "wbdata.get_indicator(topic=15)\n",
    "vars = {\"SP.ADO.TFRT\":\"Adolescent fertility rate\"}\n",
    "\n",
    "\n",
    "use=[\"USA\", \"SSF\"]\n",
    "\n",
    "fertility = fix_date_index(wbdata.get_dataframe(vars,country=use)).squeeze().unstack('country')\n",
    "\n",
    "\n",
    "\n",
    "fertility.iplot(xTitle=\"Year\",yTitle=\"births per 1,000 women ages 15-19\",\n",
    "              title=\"Adolescent Fertility Rate: USA vs. Sub-Saharan Africa\")\n",
    "\n",
    "#SSA vs. USA: Adolescent fertility rate (births per 1,000 women ages 15-19). FERTILITY Graph\n"
   ]
  },
  {
   "cell_type": "markdown",
   "id": "4b331308",
   "metadata": {},
   "source": [
    "#### Chart Comparing Female Teacher Abilities and Unemployment Rates"
   ]
  },
  {
   "cell_type": "code",
   "execution_count": 11,
   "id": "8e13ee69",
   "metadata": {},
   "outputs": [
    {
     "data": {
      "text/html": [
       "<div>\n",
       "<style scoped>\n",
       "    .dataframe tbody tr th:only-of-type {\n",
       "        vertical-align: middle;\n",
       "    }\n",
       "\n",
       "    .dataframe tbody tr th {\n",
       "        vertical-align: top;\n",
       "    }\n",
       "\n",
       "    .dataframe thead th {\n",
       "        text-align: right;\n",
       "    }\n",
       "</style>\n",
       "<table border=\"1\" class=\"dataframe\">\n",
       "  <thead>\n",
       "    <tr style=\"text-align: right;\">\n",
       "      <th></th>\n",
       "      <th>SSF Total Population growth</th>\n",
       "      <th>Fertility rate, total (births per woman)</th>\n",
       "      <th>Number of trained female teachers (% of female teachers)</th>\n",
       "      <th>Unemployment, female (% of female labor force)</th>\n",
       "      <th>Unemployment, male (% of male labor force)</th>\n",
       "    </tr>\n",
       "    <tr>\n",
       "      <th>year</th>\n",
       "      <th></th>\n",
       "      <th></th>\n",
       "      <th></th>\n",
       "      <th></th>\n",
       "      <th></th>\n",
       "    </tr>\n",
       "  </thead>\n",
       "  <tbody>\n",
       "    <tr>\n",
       "      <th>2021</th>\n",
       "      <td>2.593667</td>\n",
       "      <td>NaN</td>\n",
       "      <td>NaN</td>\n",
       "      <td>7.985011</td>\n",
       "      <td>7.300383</td>\n",
       "    </tr>\n",
       "    <tr>\n",
       "      <th>2020</th>\n",
       "      <td>2.652852</td>\n",
       "      <td>4.666825</td>\n",
       "      <td>NaN</td>\n",
       "      <td>7.481607</td>\n",
       "      <td>7.052058</td>\n",
       "    </tr>\n",
       "    <tr>\n",
       "      <th>2019</th>\n",
       "      <td>2.667977</td>\n",
       "      <td>4.734254</td>\n",
       "      <td>67.682381</td>\n",
       "      <td>6.823550</td>\n",
       "      <td>6.375952</td>\n",
       "    </tr>\n",
       "    <tr>\n",
       "      <th>2018</th>\n",
       "      <td>2.680619</td>\n",
       "      <td>4.787981</td>\n",
       "      <td>69.034492</td>\n",
       "      <td>6.856646</td>\n",
       "      <td>6.119354</td>\n",
       "    </tr>\n",
       "    <tr>\n",
       "      <th>2017</th>\n",
       "      <td>2.676170</td>\n",
       "      <td>4.840991</td>\n",
       "      <td>69.546707</td>\n",
       "      <td>6.984642</td>\n",
       "      <td>5.983844</td>\n",
       "    </tr>\n",
       "  </tbody>\n",
       "</table>\n",
       "</div>"
      ],
      "text/plain": [
       "      SSF Total Population growth  Fertility rate, total (births per woman)  \\\n",
       "year                                                                          \n",
       "2021                     2.593667                                       NaN   \n",
       "2020                     2.652852                                  4.666825   \n",
       "2019                     2.667977                                  4.734254   \n",
       "2018                     2.680619                                  4.787981   \n",
       "2017                     2.676170                                  4.840991   \n",
       "\n",
       "      Number of trained female teachers (% of female teachers)  \\\n",
       "year                                                             \n",
       "2021                                                NaN          \n",
       "2020                                                NaN          \n",
       "2019                                          67.682381          \n",
       "2018                                          69.034492          \n",
       "2017                                          69.546707          \n",
       "\n",
       "      Unemployment, female (% of female labor force)  \\\n",
       "year                                                   \n",
       "2021                                        7.985011   \n",
       "2020                                        7.481607   \n",
       "2019                                        6.823550   \n",
       "2018                                        6.856646   \n",
       "2017                                        6.984642   \n",
       "\n",
       "      Unemployment, male (% of male labor force)  \n",
       "year                                              \n",
       "2021                                    7.300383  \n",
       "2020                                    7.052058  \n",
       "2019                                    6.375952  \n",
       "2018                                    6.119354  \n",
       "2017                                    5.983844  "
      ]
     },
     "execution_count": 11,
     "metadata": {},
     "output_type": "execute_result"
    }
   ],
   "source": [
    "def pandas_df(region):\n",
    "    df=wbdata.get_dataframe({'SP.POP.GROW': 'SSF Total Population growth',\n",
    "                              'SP.DYN.TFRT.IN' :'Fertility rate, total (births per woman)',\n",
    "                              'SE.SEC.TCAQ.FE.ZS':'Number of trained female teachers (% of female teachers)',\n",
    "                            'SL.UEM.TOTL.FE.ZS':'Unemployment, female (% of female labor force)',\n",
    "                            'SL.UEM.TOTL.MA.ZS':  'Unemployment, male (% of male labor force)'}, country=region)\n",
    "    df.index = df.index.rename('year')\n",
    "    df.index = df.index.astype(int)\n",
    "    #df = df.drop([2021,2020]) #no data for teachers in SSF none \n",
    "    return df\n",
    "pandas_df(\"SSF\") #returns all years in data set\n",
    "cleaned=pandas_df(\"SSF\")\n",
    "cleaned.head() "
   ]
  },
  {
   "cell_type": "markdown",
   "id": "b5b9ba34",
   "metadata": {},
   "source": [
    "#### Population Pyramid "
   ]
  },
  {
   "cell_type": "code",
   "execution_count": 12,
   "id": "012bf99d",
   "metadata": {},
   "outputs": [
    {
     "name": "stdout",
     "output_type": "stream",
     "text": [
      "['0004', '0509', '1014', '1519', '2024', '2529', '3034', '3539', '4044', '4549', '5054', '5559', '6064', '6569', '7074', '7579', '80UP']\n"
     ]
    },
    {
     "data": {
      "text/html": [
       "        <script type=\"text/javascript\">\n",
       "        window.PlotlyConfig = {MathJaxConfig: 'local'};\n",
       "        if (window.MathJax) {MathJax.Hub.Config({SVG: {font: \"STIX-Web\"}});}\n",
       "        if (typeof require !== 'undefined') {\n",
       "        require.undef(\"plotly\");\n",
       "        requirejs.config({\n",
       "            paths: {\n",
       "                'plotly': ['https://cdn.plot.ly/plotly-2.3.1.min']\n",
       "            }\n",
       "        });\n",
       "        require(['plotly'], function(Plotly) {\n",
       "            window._Plotly = Plotly;\n",
       "        });\n",
       "        }\n",
       "        </script>\n",
       "        "
      ]
     },
     "metadata": {},
     "output_type": "display_data"
    },
    {
     "data": {
      "application/vnd.plotly.v1+json": {
       "config": {
        "linkText": "Export to plot.ly",
        "plotlyServerURL": "https://plot.ly",
        "showLink": false
       },
       "data": [
        {
         "hoverinfo": "skip",
         "marker": {
          "color": "yellow"
         },
         "name": "Men",
         "orientation": "h",
         "type": "bar",
         "x": [
          10627947,
          11390383,
          12043798,
          12142022,
          12326737,
          12832894,
          13024263,
          12540930,
          11881343,
          11217116,
          11720158,
          11879043,
          11508894,
          9900431,
          7509223,
          5063493,
          5840691
         ],
         "y": [
          1,
          6,
          11,
          16,
          21,
          26,
          31,
          36,
          41,
          46,
          51,
          56,
          61,
          66,
          71,
          76,
          81
         ]
        },
        {
         "hoverinfo": "skip",
         "marker": {
          "color": "red"
         },
         "name": "Women",
         "orientation": "h",
         "type": "bar",
         "x": [
          -10154803,
          -10880560,
          -11476916,
          -11628252,
          -11817132,
          -12377349,
          -12728129,
          -12290109,
          -11823644,
          -11254725,
          -11785749,
          -12290197,
          -12108173,
          -10823268,
          -8688820,
          -6125608,
          -8500916
         ],
         "y": [
          1,
          6,
          11,
          16,
          21,
          26,
          31,
          36,
          41,
          46,
          51,
          56,
          61,
          66,
          71,
          76,
          81
         ]
        }
       ],
       "layout": {
        "barmode": "overlay",
        "template": {
         "data": {
          "bar": [
           {
            "error_x": {
             "color": "#2a3f5f"
            },
            "error_y": {
             "color": "#2a3f5f"
            },
            "marker": {
             "line": {
              "color": "#E5ECF6",
              "width": 0.5
             },
             "pattern": {
              "fillmode": "overlay",
              "size": 10,
              "solidity": 0.2
             }
            },
            "type": "bar"
           }
          ],
          "barpolar": [
           {
            "marker": {
             "line": {
              "color": "#E5ECF6",
              "width": 0.5
             },
             "pattern": {
              "fillmode": "overlay",
              "size": 10,
              "solidity": 0.2
             }
            },
            "type": "barpolar"
           }
          ],
          "carpet": [
           {
            "aaxis": {
             "endlinecolor": "#2a3f5f",
             "gridcolor": "white",
             "linecolor": "white",
             "minorgridcolor": "white",
             "startlinecolor": "#2a3f5f"
            },
            "baxis": {
             "endlinecolor": "#2a3f5f",
             "gridcolor": "white",
             "linecolor": "white",
             "minorgridcolor": "white",
             "startlinecolor": "#2a3f5f"
            },
            "type": "carpet"
           }
          ],
          "choropleth": [
           {
            "colorbar": {
             "outlinewidth": 0,
             "ticks": ""
            },
            "type": "choropleth"
           }
          ],
          "contour": [
           {
            "colorbar": {
             "outlinewidth": 0,
             "ticks": ""
            },
            "colorscale": [
             [
              0,
              "#0d0887"
             ],
             [
              0.1111111111111111,
              "#46039f"
             ],
             [
              0.2222222222222222,
              "#7201a8"
             ],
             [
              0.3333333333333333,
              "#9c179e"
             ],
             [
              0.4444444444444444,
              "#bd3786"
             ],
             [
              0.5555555555555556,
              "#d8576b"
             ],
             [
              0.6666666666666666,
              "#ed7953"
             ],
             [
              0.7777777777777778,
              "#fb9f3a"
             ],
             [
              0.8888888888888888,
              "#fdca26"
             ],
             [
              1,
              "#f0f921"
             ]
            ],
            "type": "contour"
           }
          ],
          "contourcarpet": [
           {
            "colorbar": {
             "outlinewidth": 0,
             "ticks": ""
            },
            "type": "contourcarpet"
           }
          ],
          "heatmap": [
           {
            "colorbar": {
             "outlinewidth": 0,
             "ticks": ""
            },
            "colorscale": [
             [
              0,
              "#0d0887"
             ],
             [
              0.1111111111111111,
              "#46039f"
             ],
             [
              0.2222222222222222,
              "#7201a8"
             ],
             [
              0.3333333333333333,
              "#9c179e"
             ],
             [
              0.4444444444444444,
              "#bd3786"
             ],
             [
              0.5555555555555556,
              "#d8576b"
             ],
             [
              0.6666666666666666,
              "#ed7953"
             ],
             [
              0.7777777777777778,
              "#fb9f3a"
             ],
             [
              0.8888888888888888,
              "#fdca26"
             ],
             [
              1,
              "#f0f921"
             ]
            ],
            "type": "heatmap"
           }
          ],
          "heatmapgl": [
           {
            "colorbar": {
             "outlinewidth": 0,
             "ticks": ""
            },
            "colorscale": [
             [
              0,
              "#0d0887"
             ],
             [
              0.1111111111111111,
              "#46039f"
             ],
             [
              0.2222222222222222,
              "#7201a8"
             ],
             [
              0.3333333333333333,
              "#9c179e"
             ],
             [
              0.4444444444444444,
              "#bd3786"
             ],
             [
              0.5555555555555556,
              "#d8576b"
             ],
             [
              0.6666666666666666,
              "#ed7953"
             ],
             [
              0.7777777777777778,
              "#fb9f3a"
             ],
             [
              0.8888888888888888,
              "#fdca26"
             ],
             [
              1,
              "#f0f921"
             ]
            ],
            "type": "heatmapgl"
           }
          ],
          "histogram": [
           {
            "marker": {
             "pattern": {
              "fillmode": "overlay",
              "size": 10,
              "solidity": 0.2
             }
            },
            "type": "histogram"
           }
          ],
          "histogram2d": [
           {
            "colorbar": {
             "outlinewidth": 0,
             "ticks": ""
            },
            "colorscale": [
             [
              0,
              "#0d0887"
             ],
             [
              0.1111111111111111,
              "#46039f"
             ],
             [
              0.2222222222222222,
              "#7201a8"
             ],
             [
              0.3333333333333333,
              "#9c179e"
             ],
             [
              0.4444444444444444,
              "#bd3786"
             ],
             [
              0.5555555555555556,
              "#d8576b"
             ],
             [
              0.6666666666666666,
              "#ed7953"
             ],
             [
              0.7777777777777778,
              "#fb9f3a"
             ],
             [
              0.8888888888888888,
              "#fdca26"
             ],
             [
              1,
              "#f0f921"
             ]
            ],
            "type": "histogram2d"
           }
          ],
          "histogram2dcontour": [
           {
            "colorbar": {
             "outlinewidth": 0,
             "ticks": ""
            },
            "colorscale": [
             [
              0,
              "#0d0887"
             ],
             [
              0.1111111111111111,
              "#46039f"
             ],
             [
              0.2222222222222222,
              "#7201a8"
             ],
             [
              0.3333333333333333,
              "#9c179e"
             ],
             [
              0.4444444444444444,
              "#bd3786"
             ],
             [
              0.5555555555555556,
              "#d8576b"
             ],
             [
              0.6666666666666666,
              "#ed7953"
             ],
             [
              0.7777777777777778,
              "#fb9f3a"
             ],
             [
              0.8888888888888888,
              "#fdca26"
             ],
             [
              1,
              "#f0f921"
             ]
            ],
            "type": "histogram2dcontour"
           }
          ],
          "mesh3d": [
           {
            "colorbar": {
             "outlinewidth": 0,
             "ticks": ""
            },
            "type": "mesh3d"
           }
          ],
          "parcoords": [
           {
            "line": {
             "colorbar": {
              "outlinewidth": 0,
              "ticks": ""
             }
            },
            "type": "parcoords"
           }
          ],
          "pie": [
           {
            "automargin": true,
            "type": "pie"
           }
          ],
          "scatter": [
           {
            "marker": {
             "colorbar": {
              "outlinewidth": 0,
              "ticks": ""
             }
            },
            "type": "scatter"
           }
          ],
          "scatter3d": [
           {
            "line": {
             "colorbar": {
              "outlinewidth": 0,
              "ticks": ""
             }
            },
            "marker": {
             "colorbar": {
              "outlinewidth": 0,
              "ticks": ""
             }
            },
            "type": "scatter3d"
           }
          ],
          "scattercarpet": [
           {
            "marker": {
             "colorbar": {
              "outlinewidth": 0,
              "ticks": ""
             }
            },
            "type": "scattercarpet"
           }
          ],
          "scattergeo": [
           {
            "marker": {
             "colorbar": {
              "outlinewidth": 0,
              "ticks": ""
             }
            },
            "type": "scattergeo"
           }
          ],
          "scattergl": [
           {
            "marker": {
             "colorbar": {
              "outlinewidth": 0,
              "ticks": ""
             }
            },
            "type": "scattergl"
           }
          ],
          "scattermapbox": [
           {
            "marker": {
             "colorbar": {
              "outlinewidth": 0,
              "ticks": ""
             }
            },
            "type": "scattermapbox"
           }
          ],
          "scatterpolar": [
           {
            "marker": {
             "colorbar": {
              "outlinewidth": 0,
              "ticks": ""
             }
            },
            "type": "scatterpolar"
           }
          ],
          "scatterpolargl": [
           {
            "marker": {
             "colorbar": {
              "outlinewidth": 0,
              "ticks": ""
             }
            },
            "type": "scatterpolargl"
           }
          ],
          "scatterternary": [
           {
            "marker": {
             "colorbar": {
              "outlinewidth": 0,
              "ticks": ""
             }
            },
            "type": "scatterternary"
           }
          ],
          "surface": [
           {
            "colorbar": {
             "outlinewidth": 0,
             "ticks": ""
            },
            "colorscale": [
             [
              0,
              "#0d0887"
             ],
             [
              0.1111111111111111,
              "#46039f"
             ],
             [
              0.2222222222222222,
              "#7201a8"
             ],
             [
              0.3333333333333333,
              "#9c179e"
             ],
             [
              0.4444444444444444,
              "#bd3786"
             ],
             [
              0.5555555555555556,
              "#d8576b"
             ],
             [
              0.6666666666666666,
              "#ed7953"
             ],
             [
              0.7777777777777778,
              "#fb9f3a"
             ],
             [
              0.8888888888888888,
              "#fdca26"
             ],
             [
              1,
              "#f0f921"
             ]
            ],
            "type": "surface"
           }
          ],
          "table": [
           {
            "cells": {
             "fill": {
              "color": "#EBF0F8"
             },
             "line": {
              "color": "white"
             }
            },
            "header": {
             "fill": {
              "color": "#C8D4E3"
             },
             "line": {
              "color": "white"
             }
            },
            "type": "table"
           }
          ]
         },
         "layout": {
          "annotationdefaults": {
           "arrowcolor": "#2a3f5f",
           "arrowhead": 0,
           "arrowwidth": 1
          },
          "autotypenumbers": "strict",
          "coloraxis": {
           "colorbar": {
            "outlinewidth": 0,
            "ticks": ""
           }
          },
          "colorscale": {
           "diverging": [
            [
             0,
             "#8e0152"
            ],
            [
             0.1,
             "#c51b7d"
            ],
            [
             0.2,
             "#de77ae"
            ],
            [
             0.3,
             "#f1b6da"
            ],
            [
             0.4,
             "#fde0ef"
            ],
            [
             0.5,
             "#f7f7f7"
            ],
            [
             0.6,
             "#e6f5d0"
            ],
            [
             0.7,
             "#b8e186"
            ],
            [
             0.8,
             "#7fbc41"
            ],
            [
             0.9,
             "#4d9221"
            ],
            [
             1,
             "#276419"
            ]
           ],
           "sequential": [
            [
             0,
             "#0d0887"
            ],
            [
             0.1111111111111111,
             "#46039f"
            ],
            [
             0.2222222222222222,
             "#7201a8"
            ],
            [
             0.3333333333333333,
             "#9c179e"
            ],
            [
             0.4444444444444444,
             "#bd3786"
            ],
            [
             0.5555555555555556,
             "#d8576b"
            ],
            [
             0.6666666666666666,
             "#ed7953"
            ],
            [
             0.7777777777777778,
             "#fb9f3a"
            ],
            [
             0.8888888888888888,
             "#fdca26"
            ],
            [
             1,
             "#f0f921"
            ]
           ],
           "sequentialminus": [
            [
             0,
             "#0d0887"
            ],
            [
             0.1111111111111111,
             "#46039f"
            ],
            [
             0.2222222222222222,
             "#7201a8"
            ],
            [
             0.3333333333333333,
             "#9c179e"
            ],
            [
             0.4444444444444444,
             "#bd3786"
            ],
            [
             0.5555555555555556,
             "#d8576b"
            ],
            [
             0.6666666666666666,
             "#ed7953"
            ],
            [
             0.7777777777777778,
             "#fb9f3a"
            ],
            [
             0.8888888888888888,
             "#fdca26"
            ],
            [
             1,
             "#f0f921"
            ]
           ]
          },
          "colorway": [
           "#636efa",
           "#EF553B",
           "#00cc96",
           "#ab63fa",
           "#FFA15A",
           "#19d3f3",
           "#FF6692",
           "#B6E880",
           "#FF97FF",
           "#FECB52"
          ],
          "font": {
           "color": "#2a3f5f"
          },
          "geo": {
           "bgcolor": "white",
           "lakecolor": "white",
           "landcolor": "#E5ECF6",
           "showlakes": true,
           "showland": true,
           "subunitcolor": "white"
          },
          "hoverlabel": {
           "align": "left"
          },
          "hovermode": "closest",
          "mapbox": {
           "style": "light"
          },
          "paper_bgcolor": "white",
          "plot_bgcolor": "#E5ECF6",
          "polar": {
           "angularaxis": {
            "gridcolor": "white",
            "linecolor": "white",
            "ticks": ""
           },
           "bgcolor": "#E5ECF6",
           "radialaxis": {
            "gridcolor": "white",
            "linecolor": "white",
            "ticks": ""
           }
          },
          "scene": {
           "xaxis": {
            "backgroundcolor": "#E5ECF6",
            "gridcolor": "white",
            "gridwidth": 2,
            "linecolor": "white",
            "showbackground": true,
            "ticks": "",
            "zerolinecolor": "white"
           },
           "yaxis": {
            "backgroundcolor": "#E5ECF6",
            "gridcolor": "white",
            "gridwidth": 2,
            "linecolor": "white",
            "showbackground": true,
            "ticks": "",
            "zerolinecolor": "white"
           },
           "zaxis": {
            "backgroundcolor": "#E5ECF6",
            "gridcolor": "white",
            "gridwidth": 2,
            "linecolor": "white",
            "showbackground": true,
            "ticks": "",
            "zerolinecolor": "white"
           }
          },
          "shapedefaults": {
           "line": {
            "color": "#2a3f5f"
           }
          },
          "ternary": {
           "aaxis": {
            "gridcolor": "white",
            "linecolor": "white",
            "ticks": ""
           },
           "baxis": {
            "gridcolor": "white",
            "linecolor": "white",
            "ticks": ""
           },
           "bgcolor": "#E5ECF6",
           "caxis": {
            "gridcolor": "white",
            "linecolor": "white",
            "ticks": ""
           }
          },
          "title": {
           "x": 0.05
          },
          "xaxis": {
           "automargin": true,
           "gridcolor": "white",
           "linecolor": "white",
           "ticks": "",
           "title": {
            "standoff": 15
           },
           "zerolinecolor": "white",
           "zerolinewidth": 2
          },
          "yaxis": {
           "automargin": true,
           "gridcolor": "white",
           "linecolor": "white",
           "ticks": "",
           "title": {
            "standoff": 15
           },
           "zerolinecolor": "white",
           "zerolinewidth": 2
          }
         }
        },
        "xaxis": {
         "title": {
          "text": "Number"
         }
        },
        "yaxis": {
         "range": [
          0,
          90
         ],
         "title": {
          "text": "Age"
         }
        }
       }
      },
      "text/html": [
       "<div>                            <div id=\"4706af35-6361-4950-8296-fafb75872ab7\" class=\"plotly-graph-div\" style=\"height:525px; width:100%;\"></div>            <script type=\"text/javascript\">                require([\"plotly\"], function(Plotly) {                    window.PLOTLYENV=window.PLOTLYENV || {};                                    if (document.getElementById(\"4706af35-6361-4950-8296-fafb75872ab7\")) {                    Plotly.newPlot(                        \"4706af35-6361-4950-8296-fafb75872ab7\",                        [{\"hoverinfo\":\"skip\",\"marker\":{\"color\":\"yellow\"},\"name\":\"Men\",\"orientation\":\"h\",\"type\":\"bar\",\"x\":[10627947.0,11390383.0,12043798.0,12142022.0,12326737.0,12832894.0,13024263.0,12540930.0,11881343.0,11217116.0,11720158.0,11879043.0,11508894.0,9900431.0,7509223.0,5063493.0,5840691.0],\"y\":[1,6,11,16,21,26,31,36,41,46,51,56,61,66,71,76,81]},{\"hoverinfo\":\"skip\",\"marker\":{\"color\":\"red\"},\"name\":\"Women\",\"orientation\":\"h\",\"type\":\"bar\",\"x\":[-10154803.0,-10880560.0,-11476916.0,-11628252.0,-11817132.0,-12377349.0,-12728129.0,-12290109.0,-11823644.0,-11254725.0,-11785749.0,-12290197.0,-12108173.0,-10823268.0,-8688820.0,-6125608.0,-8500916.0],\"y\":[1,6,11,16,21,26,31,36,41,46,51,56,61,66,71,76,81]}],                        {\"barmode\":\"overlay\",\"template\":{\"data\":{\"bar\":[{\"error_x\":{\"color\":\"#2a3f5f\"},\"error_y\":{\"color\":\"#2a3f5f\"},\"marker\":{\"line\":{\"color\":\"#E5ECF6\",\"width\":0.5},\"pattern\":{\"fillmode\":\"overlay\",\"size\":10,\"solidity\":0.2}},\"type\":\"bar\"}],\"barpolar\":[{\"marker\":{\"line\":{\"color\":\"#E5ECF6\",\"width\":0.5},\"pattern\":{\"fillmode\":\"overlay\",\"size\":10,\"solidity\":0.2}},\"type\":\"barpolar\"}],\"carpet\":[{\"aaxis\":{\"endlinecolor\":\"#2a3f5f\",\"gridcolor\":\"white\",\"linecolor\":\"white\",\"minorgridcolor\":\"white\",\"startlinecolor\":\"#2a3f5f\"},\"baxis\":{\"endlinecolor\":\"#2a3f5f\",\"gridcolor\":\"white\",\"linecolor\":\"white\",\"minorgridcolor\":\"white\",\"startlinecolor\":\"#2a3f5f\"},\"type\":\"carpet\"}],\"choropleth\":[{\"colorbar\":{\"outlinewidth\":0,\"ticks\":\"\"},\"type\":\"choropleth\"}],\"contour\":[{\"colorbar\":{\"outlinewidth\":0,\"ticks\":\"\"},\"colorscale\":[[0.0,\"#0d0887\"],[0.1111111111111111,\"#46039f\"],[0.2222222222222222,\"#7201a8\"],[0.3333333333333333,\"#9c179e\"],[0.4444444444444444,\"#bd3786\"],[0.5555555555555556,\"#d8576b\"],[0.6666666666666666,\"#ed7953\"],[0.7777777777777778,\"#fb9f3a\"],[0.8888888888888888,\"#fdca26\"],[1.0,\"#f0f921\"]],\"type\":\"contour\"}],\"contourcarpet\":[{\"colorbar\":{\"outlinewidth\":0,\"ticks\":\"\"},\"type\":\"contourcarpet\"}],\"heatmap\":[{\"colorbar\":{\"outlinewidth\":0,\"ticks\":\"\"},\"colorscale\":[[0.0,\"#0d0887\"],[0.1111111111111111,\"#46039f\"],[0.2222222222222222,\"#7201a8\"],[0.3333333333333333,\"#9c179e\"],[0.4444444444444444,\"#bd3786\"],[0.5555555555555556,\"#d8576b\"],[0.6666666666666666,\"#ed7953\"],[0.7777777777777778,\"#fb9f3a\"],[0.8888888888888888,\"#fdca26\"],[1.0,\"#f0f921\"]],\"type\":\"heatmap\"}],\"heatmapgl\":[{\"colorbar\":{\"outlinewidth\":0,\"ticks\":\"\"},\"colorscale\":[[0.0,\"#0d0887\"],[0.1111111111111111,\"#46039f\"],[0.2222222222222222,\"#7201a8\"],[0.3333333333333333,\"#9c179e\"],[0.4444444444444444,\"#bd3786\"],[0.5555555555555556,\"#d8576b\"],[0.6666666666666666,\"#ed7953\"],[0.7777777777777778,\"#fb9f3a\"],[0.8888888888888888,\"#fdca26\"],[1.0,\"#f0f921\"]],\"type\":\"heatmapgl\"}],\"histogram\":[{\"marker\":{\"pattern\":{\"fillmode\":\"overlay\",\"size\":10,\"solidity\":0.2}},\"type\":\"histogram\"}],\"histogram2d\":[{\"colorbar\":{\"outlinewidth\":0,\"ticks\":\"\"},\"colorscale\":[[0.0,\"#0d0887\"],[0.1111111111111111,\"#46039f\"],[0.2222222222222222,\"#7201a8\"],[0.3333333333333333,\"#9c179e\"],[0.4444444444444444,\"#bd3786\"],[0.5555555555555556,\"#d8576b\"],[0.6666666666666666,\"#ed7953\"],[0.7777777777777778,\"#fb9f3a\"],[0.8888888888888888,\"#fdca26\"],[1.0,\"#f0f921\"]],\"type\":\"histogram2d\"}],\"histogram2dcontour\":[{\"colorbar\":{\"outlinewidth\":0,\"ticks\":\"\"},\"colorscale\":[[0.0,\"#0d0887\"],[0.1111111111111111,\"#46039f\"],[0.2222222222222222,\"#7201a8\"],[0.3333333333333333,\"#9c179e\"],[0.4444444444444444,\"#bd3786\"],[0.5555555555555556,\"#d8576b\"],[0.6666666666666666,\"#ed7953\"],[0.7777777777777778,\"#fb9f3a\"],[0.8888888888888888,\"#fdca26\"],[1.0,\"#f0f921\"]],\"type\":\"histogram2dcontour\"}],\"mesh3d\":[{\"colorbar\":{\"outlinewidth\":0,\"ticks\":\"\"},\"type\":\"mesh3d\"}],\"parcoords\":[{\"line\":{\"colorbar\":{\"outlinewidth\":0,\"ticks\":\"\"}},\"type\":\"parcoords\"}],\"pie\":[{\"automargin\":true,\"type\":\"pie\"}],\"scatter\":[{\"marker\":{\"colorbar\":{\"outlinewidth\":0,\"ticks\":\"\"}},\"type\":\"scatter\"}],\"scatter3d\":[{\"line\":{\"colorbar\":{\"outlinewidth\":0,\"ticks\":\"\"}},\"marker\":{\"colorbar\":{\"outlinewidth\":0,\"ticks\":\"\"}},\"type\":\"scatter3d\"}],\"scattercarpet\":[{\"marker\":{\"colorbar\":{\"outlinewidth\":0,\"ticks\":\"\"}},\"type\":\"scattercarpet\"}],\"scattergeo\":[{\"marker\":{\"colorbar\":{\"outlinewidth\":0,\"ticks\":\"\"}},\"type\":\"scattergeo\"}],\"scattergl\":[{\"marker\":{\"colorbar\":{\"outlinewidth\":0,\"ticks\":\"\"}},\"type\":\"scattergl\"}],\"scattermapbox\":[{\"marker\":{\"colorbar\":{\"outlinewidth\":0,\"ticks\":\"\"}},\"type\":\"scattermapbox\"}],\"scatterpolar\":[{\"marker\":{\"colorbar\":{\"outlinewidth\":0,\"ticks\":\"\"}},\"type\":\"scatterpolar\"}],\"scatterpolargl\":[{\"marker\":{\"colorbar\":{\"outlinewidth\":0,\"ticks\":\"\"}},\"type\":\"scatterpolargl\"}],\"scatterternary\":[{\"marker\":{\"colorbar\":{\"outlinewidth\":0,\"ticks\":\"\"}},\"type\":\"scatterternary\"}],\"surface\":[{\"colorbar\":{\"outlinewidth\":0,\"ticks\":\"\"},\"colorscale\":[[0.0,\"#0d0887\"],[0.1111111111111111,\"#46039f\"],[0.2222222222222222,\"#7201a8\"],[0.3333333333333333,\"#9c179e\"],[0.4444444444444444,\"#bd3786\"],[0.5555555555555556,\"#d8576b\"],[0.6666666666666666,\"#ed7953\"],[0.7777777777777778,\"#fb9f3a\"],[0.8888888888888888,\"#fdca26\"],[1.0,\"#f0f921\"]],\"type\":\"surface\"}],\"table\":[{\"cells\":{\"fill\":{\"color\":\"#EBF0F8\"},\"line\":{\"color\":\"white\"}},\"header\":{\"fill\":{\"color\":\"#C8D4E3\"},\"line\":{\"color\":\"white\"}},\"type\":\"table\"}]},\"layout\":{\"annotationdefaults\":{\"arrowcolor\":\"#2a3f5f\",\"arrowhead\":0,\"arrowwidth\":1},\"autotypenumbers\":\"strict\",\"coloraxis\":{\"colorbar\":{\"outlinewidth\":0,\"ticks\":\"\"}},\"colorscale\":{\"diverging\":[[0,\"#8e0152\"],[0.1,\"#c51b7d\"],[0.2,\"#de77ae\"],[0.3,\"#f1b6da\"],[0.4,\"#fde0ef\"],[0.5,\"#f7f7f7\"],[0.6,\"#e6f5d0\"],[0.7,\"#b8e186\"],[0.8,\"#7fbc41\"],[0.9,\"#4d9221\"],[1,\"#276419\"]],\"sequential\":[[0.0,\"#0d0887\"],[0.1111111111111111,\"#46039f\"],[0.2222222222222222,\"#7201a8\"],[0.3333333333333333,\"#9c179e\"],[0.4444444444444444,\"#bd3786\"],[0.5555555555555556,\"#d8576b\"],[0.6666666666666666,\"#ed7953\"],[0.7777777777777778,\"#fb9f3a\"],[0.8888888888888888,\"#fdca26\"],[1.0,\"#f0f921\"]],\"sequentialminus\":[[0.0,\"#0d0887\"],[0.1111111111111111,\"#46039f\"],[0.2222222222222222,\"#7201a8\"],[0.3333333333333333,\"#9c179e\"],[0.4444444444444444,\"#bd3786\"],[0.5555555555555556,\"#d8576b\"],[0.6666666666666666,\"#ed7953\"],[0.7777777777777778,\"#fb9f3a\"],[0.8888888888888888,\"#fdca26\"],[1.0,\"#f0f921\"]]},\"colorway\":[\"#636efa\",\"#EF553B\",\"#00cc96\",\"#ab63fa\",\"#FFA15A\",\"#19d3f3\",\"#FF6692\",\"#B6E880\",\"#FF97FF\",\"#FECB52\"],\"font\":{\"color\":\"#2a3f5f\"},\"geo\":{\"bgcolor\":\"white\",\"lakecolor\":\"white\",\"landcolor\":\"#E5ECF6\",\"showlakes\":true,\"showland\":true,\"subunitcolor\":\"white\"},\"hoverlabel\":{\"align\":\"left\"},\"hovermode\":\"closest\",\"mapbox\":{\"style\":\"light\"},\"paper_bgcolor\":\"white\",\"plot_bgcolor\":\"#E5ECF6\",\"polar\":{\"angularaxis\":{\"gridcolor\":\"white\",\"linecolor\":\"white\",\"ticks\":\"\"},\"bgcolor\":\"#E5ECF6\",\"radialaxis\":{\"gridcolor\":\"white\",\"linecolor\":\"white\",\"ticks\":\"\"}},\"scene\":{\"xaxis\":{\"backgroundcolor\":\"#E5ECF6\",\"gridcolor\":\"white\",\"gridwidth\":2,\"linecolor\":\"white\",\"showbackground\":true,\"ticks\":\"\",\"zerolinecolor\":\"white\"},\"yaxis\":{\"backgroundcolor\":\"#E5ECF6\",\"gridcolor\":\"white\",\"gridwidth\":2,\"linecolor\":\"white\",\"showbackground\":true,\"ticks\":\"\",\"zerolinecolor\":\"white\"},\"zaxis\":{\"backgroundcolor\":\"#E5ECF6\",\"gridcolor\":\"white\",\"gridwidth\":2,\"linecolor\":\"white\",\"showbackground\":true,\"ticks\":\"\",\"zerolinecolor\":\"white\"}},\"shapedefaults\":{\"line\":{\"color\":\"#2a3f5f\"}},\"ternary\":{\"aaxis\":{\"gridcolor\":\"white\",\"linecolor\":\"white\",\"ticks\":\"\"},\"baxis\":{\"gridcolor\":\"white\",\"linecolor\":\"white\",\"ticks\":\"\"},\"bgcolor\":\"#E5ECF6\",\"caxis\":{\"gridcolor\":\"white\",\"linecolor\":\"white\",\"ticks\":\"\"}},\"title\":{\"x\":0.05},\"xaxis\":{\"automargin\":true,\"gridcolor\":\"white\",\"linecolor\":\"white\",\"ticks\":\"\",\"title\":{\"standoff\":15},\"zerolinecolor\":\"white\",\"zerolinewidth\":2},\"yaxis\":{\"automargin\":true,\"gridcolor\":\"white\",\"linecolor\":\"white\",\"ticks\":\"\",\"title\":{\"standoff\":15},\"zerolinecolor\":\"white\",\"zerolinewidth\":2}}},\"xaxis\":{\"title\":{\"text\":\"Number\"}},\"yaxis\":{\"range\":[0,90],\"title\":{\"text\":\"Age\"}}},                        {\"responsive\": true}                    ).then(function(){\n",
       "                            \n",
       "var gd = document.getElementById('4706af35-6361-4950-8296-fafb75872ab7');\n",
       "var x = new MutationObserver(function (mutations, observer) {{\n",
       "        var display = window.getComputedStyle(gd).display;\n",
       "        if (!display || display === 'none') {{\n",
       "            console.log([gd, 'removed!']);\n",
       "            Plotly.purge(gd);\n",
       "            observer.disconnect();\n",
       "        }}\n",
       "}});\n",
       "\n",
       "// Listen for the removal of the full notebook cells\n",
       "var notebookContainer = gd.closest('#notebook-container');\n",
       "if (notebookContainer) {{\n",
       "    x.observe(notebookContainer, {childList: true});\n",
       "}}\n",
       "\n",
       "// Listen for the clearing of the current output cell\n",
       "var outputEl = gd.closest('.output');\n",
       "if (outputEl) {{\n",
       "    x.observe(outputEl, {childList: true});\n",
       "}}\n",
       "\n",
       "                        })                };                });            </script>        </div>"
      ]
     },
     "metadata": {},
     "output_type": "display_data"
    }
   ],
   "source": [
    "SOURCE = 40\n",
    "indicators = wbdata.get_indicator(source=SOURCE)\n",
    "indicators\n",
    "age_ranges = []\n",
    "\n",
    "# Ranges top out at 80, and go in five year increments\n",
    "for i in range(0,80,5):\n",
    "    age_ranges.append(f\"{i:02d}\"+f\"{i+4:02d}\")\n",
    "\n",
    "age_ranges.append(\"80UP\")\n",
    "\n",
    "print(age_ranges)\n",
    "#\n",
    "male_variables = {\"SP.POP.\"+age_range+\".MA\":\"Males \"+age_range for age_range in age_ranges}\n",
    "female_variables = {\"SP.POP.\"+age_range+\".FE\":\"Females \"+age_range for age_range in age_ranges}\n",
    "\n",
    "variables = male_variables\n",
    "variables.update(female_variables)\n",
    "\n",
    "df = wbdata.get_dataframe(variables,country=\"NAC\")\n",
    "#\n",
    "import plotly.offline as py\n",
    "import plotly.graph_objs as go\n",
    "import pandas as pd\n",
    "import numpy as np\n",
    "\n",
    "py.init_notebook_mode(connected=True)\n",
    "\n",
    "layout = go.Layout(barmode='overlay',\n",
    "                   yaxis=go.layout.YAxis(range=[0, 90], title='Age'),\n",
    "                   xaxis=go.layout.XAxis(title='Number'))\n",
    "\n",
    "year = 2021\n",
    "\n",
    "bins = [go.Bar(x = df.loc[str(year),:].filter(regex=\"Male\").values,\n",
    "               y = [int(s[:2])+1 for s in age_ranges],\n",
    "               orientation='h',\n",
    "               name='Men',\n",
    "               marker=dict(color='yellow'),\n",
    "               hoverinfo='skip'\n",
    "               ),\n",
    "\n",
    "        go.Bar(x = -df.loc[str(year),:].filter(regex=\"Female\").values,\n",
    "               y=[int(s[:2])+1 for s in age_ranges],\n",
    "               orientation='h',\n",
    "               name='Women',\n",
    "               marker=dict(color='red'),\n",
    "               hoverinfo='skip',\n",
    "               )\n",
    "        ]\n",
    "py.iplot(dict(data=bins, layout=layout))"
   ]
  },
  {
   "cell_type": "code",
   "execution_count": 13,
   "id": "e0055b3a",
   "metadata": {},
   "outputs": [],
   "source": [
    "import geopandas\n",
    "import pandas as pd\n",
    "import matplotlib.pyplot as plt"
   ]
  },
  {
   "cell_type": "code",
   "execution_count": 14,
   "id": "0f91800b",
   "metadata": {},
   "outputs": [],
   "source": [
    "africa_population=pd.read_csv('africa-population 2.csv')\n",
    "north_america=pd.read_csv('north-america-population 2.csv')"
   ]
  },
  {
   "cell_type": "code",
   "execution_count": 15,
   "id": "e0c3897c",
   "metadata": {},
   "outputs": [
    {
     "name": "stdout",
     "output_type": "stream",
     "text": [
      "           date   Population   Annual % Change\n",
      "0    1950/12/31    227549258               NaN\n",
      "1    1951/12/31    232483995              2.17\n",
      "2    1952/12/31    237586060              2.19\n",
      "3    1953/12/31    242837448              2.21\n",
      "4    1954/12/31    248244771              2.23\n",
      "..          ...          ...               ...\n",
      "146  2096/12/31   3860723993              0.46\n",
      "147  2097/12/31   3877576535              0.44\n",
      "148  2098/12/31   3893797579              0.42\n",
      "149  2099/12/31   3909421429              0.40\n",
      "150  2100/12/31   3924420614              0.38\n",
      "\n",
      "[151 rows x 3 columns]\n",
      "           date   Population   Annual % Change\n",
      "0    1950/12/31    162089353               NaN\n",
      "1    1951/12/31    164749833              1.64\n",
      "2    1952/12/31    167494177              1.67\n",
      "3    1953/12/31    170420514              1.75\n",
      "4    1954/12/31    173598022              1.86\n",
      "..          ...          ...               ...\n",
      "146  2096/12/31    447031086              0.06\n",
      "147  2097/12/31    447294621              0.06\n",
      "148  2098/12/31    447547761              0.06\n",
      "149  2099/12/31    447790290              0.05\n",
      "150  2100/12/31    448026120              0.05\n",
      "\n",
      "[151 rows x 3 columns]\n"
     ]
    }
   ],
   "source": [
    "print(africa_population)\n",
    "print(north_america)"
   ]
  },
  {
   "cell_type": "code",
   "execution_count": 16,
   "id": "c0af6737",
   "metadata": {},
   "outputs": [],
   "source": [
    "africa_population['continent']='Africa'\n",
    "north_america['continent']='North America'\n",
    "#New column of continent values\n",
    "population=pd.concat([africa_population,north_america],axis=0)\n",
    "## Merge two demographics\n",
    "population['date']=pd.to_datetime(population['date'])\n",
    "#Set the date column to time format\n",
    "population['year']=population['date'].dt.year\n",
    "#Figure out the year"
   ]
  },
  {
   "cell_type": "code",
   "execution_count": 17,
   "id": "ff372147",
   "metadata": {},
   "outputs": [],
   "source": [
    "world = geopandas.read_file(geopandas.datasets.get_path('naturalearth_lowres'))\n",
    "#Get global map data\n",
    "world=world[world.continent.isin(['Africa','North America'])]\n",
    "# Keep only two regions"
   ]
  },
  {
   "cell_type": "code",
   "execution_count": 18,
   "id": "2f35890e",
   "metadata": {},
   "outputs": [],
   "source": [
    "def plot(year,cmap):\n",
    "# Define function to take 2 arguments integer year string cmap\n",
    "    fig,ax=plt.subplots(figsize=[10,6])\n",
    "    # New Canvas Size 10,6\n",
    "    world.merge(population.query('year=={}'.format(year)),on='continent').plot(# Merge world and population data by continent\n",
    "        column=' Population',# population is displayed\n",
    "        legend=True,ax=ax,cmap=cmap)# Color bar display will draw the image on the canvas just filled with color code\n",
    "    plt.title('Population of Africa and North America in {}'.format(year))# Picture title\n",
    "    plt.show()"
   ]
  },
  {
   "cell_type": "markdown",
   "id": "6d6bbafa",
   "metadata": {},
   "source": [
    "#### Population Map"
   ]
  },
  {
   "cell_type": "code",
   "execution_count": 19,
   "id": "e07fd626",
   "metadata": {},
   "outputs": [
    {
     "data": {
      "image/png": "[encoded data removed]",
      "text/plain": [
       "<Figure size 1000x600 with 2 Axes>"
      ]
     },
     "metadata": {},
     "output_type": "display_data"
    }
   ],
   "source": [
    " plot(2000,'Pastel1') # Call the function defined earlier"
   ]
  },
  {
   "cell_type": "code",
   "execution_count": 17,
   "id": "db9015b5",
   "metadata": {},
   "outputs": [
    {
     "data": {
      "image/png": "[encoded data removed]",
      "text/plain": [
       "<Figure size 1000x600 with 2 Axes>"
      ]
     },
     "metadata": {},
     "output_type": "display_data"
    }
   ],
   "source": [
    "plot(2020,'Pastel2')"
   ]
  },
  {
   "cell_type": "code",
   "execution_count": 20,
   "id": "f751d68e",
   "metadata": {},
   "outputs": [],
   "source": [
    " import plotly.express as px"
   ]
  },
  {
   "cell_type": "markdown",
   "id": "c3382d97",
   "metadata": {},
   "source": [
    "#### Population Growth Projection"
   ]
  },
  {
   "cell_type": "code",
   "execution_count": 21,
   "id": "c6758461",
   "metadata": {},
   "outputs": [
    {
     "data": {
      "application/vnd.plotly.v1+json": {
       "config": {
        "plotlyServerURL": "https://plot.ly"
       },
       "data": [
        {
         "hovertemplate": "<b>%{hovertext}</b><br><br>continent=Africa<br>year=1950<br> Population=%{marker.size}<extra></extra>",
         "hovertext": [
          "Africa"
         ],
         "ids": [
          "Africa"
         ],
         "legendgroup": "Africa",
         "marker": {
          "color": "#636efa",
          "size": [
           227549258
          ],
          "sizemode": "area",
          "sizeref": 9811051.535,
          "symbol": "circle"
         },
         "mode": "markers",
         "name": "Africa",
         "orientation": "v",
         "showlegend": true,
         "type": "scatter",
         "x": [
          227549258
         ],
         "xaxis": "x",
         "y": [
          227549258
         ],
         "yaxis": "y"
        },
        {
         "hovertemplate": "<b>%{hovertext}</b><br><br>continent=North America<br>year=1950<br> Population=%{marker.size}<extra></extra>",
         "hovertext": [
          "North America"
         ],
         "ids": [
          "North America"
         ],
         "legendgroup": "North America",
         "marker": {
          "color": "#EF553B",
          "size": [
           162089353
          ],
          "sizemode": "area",
          "sizeref": 9811051.535,
          "symbol": "circle"
         },
         "mode": "markers",
         "name": "North America",
         "orientation": "v",
         "showlegend": true,
         "type": "scatter",
         "x": [
          162089353
         ],
         "xaxis": "x",
         "y": [
          162089353
         ],
         "yaxis": "y"
        }
       ],
       "frames": [
        {
         "data": [
          {
           "hovertemplate": "<b>%{hovertext}</b><br><br>continent=Africa<br>year=1950<br> Population=%{marker.size}<extra></extra>",
           "hovertext": [
            "Africa"
           ],
           "ids": [
            "Africa"
           ],
           "legendgroup": "Africa",
           "marker": {
            "color": "#636efa",
            "size": [
             227549258
            ],
            "sizemode": "area",
            "sizeref": 9811051.535,
            "symbol": "circle"
           },
           "mode": "markers",
           "name": "Africa",
           "orientation": "v",
           "showlegend": true,
           "type": "scatter",
           "x": [
            227549258
           ],
           "xaxis": "x",
           "y": [
            227549258
           ],
           "yaxis": "y"
          },
          {
           "hovertemplate": "<b>%{hovertext}</b><br><br>continent=North America<br>year=1950<br> Population=%{marker.size}<extra></extra>",
           "hovertext": [
            "North America"
           ],
           "ids": [
            "North America"
           ],
           "legendgroup": "North America",
           "marker": {
            "color": "#EF553B",
            "size": [
             162089353
            ],
            "sizemode": "area",
            "sizeref": 9811051.535,
            "symbol": "circle"
           },
           "mode": "markers",
           "name": "North America",
           "orientation": "v",
           "showlegend": true,
           "type": "scatter",
           "x": [
            162089353
           ],
           "xaxis": "x",
           "y": [
            162089353
           ],
           "yaxis": "y"
          }
         ],
         "name": "1950"
        },
        {
         "data": [
          {
           "hovertemplate": "<b>%{hovertext}</b><br><br>continent=Africa<br>year=1951<br> Population=%{marker.size}<extra></extra>",
           "hovertext": [
            "Africa"
           ],
           "ids": [
            "Africa"
           ],
           "legendgroup": "Africa",
           "marker": {
            "color": "#636efa",
            "size": [
             232483995
            ],
            "sizemode": "area",
            "sizeref": 9811051.535,
            "symbol": "circle"
           },
           "mode": "markers",
           "name": "Africa",
           "orientation": "v",
           "showlegend": true,
           "type": "scatter",
           "x": [
            232483995
           ],
           "xaxis": "x",
           "y": [
            232483995
           ],
           "yaxis": "y"
          },
          {
           "hovertemplate": "<b>%{hovertext}</b><br><br>continent=North America<br>year=1951<br> Population=%{marker.size}<extra></extra>",
           "hovertext": [
            "North America"
           ],
           "ids": [
            "North America"
           ],
           "legendgroup": "North America",
           "marker": {
            "color": "#EF553B",
            "size": [
             164749833
            ],
            "sizemode": "area",
            "sizeref": 9811051.535,
            "symbol": "circle"
           },
           "mode": "markers",
           "name": "North America",
           "orientation": "v",
           "showlegend": true,
           "type": "scatter",
           "x": [
            164749833
           ],
           "xaxis": "x",
           "y": [
            164749833
           ],
           "yaxis": "y"
          }
         ],
         "name": "1951"
        },
        {
         "data": [
          {
           "hovertemplate": "<b>%{hovertext}</b><br><br>continent=Africa<br>year=1952<br> Population=%{marker.size}<extra></extra>",
           "hovertext": [
            "Africa"
           ],
           "ids": [
            "Africa"
           ],
           "legendgroup": "Africa",
           "marker": {
            "color": "#636efa",
            "size": [
             237586060
            ],
            "sizemode": "area",
            "sizeref": 9811051.535,
            "symbol": "circle"
           },
           "mode": "markers",
           "name": "Africa",
           "orientation": "v",
           "showlegend": true,
           "type": "scatter",
           "x": [
            237586060
           ],
           "xaxis": "x",
           "y": [
            237586060
           ],
           "yaxis": "y"
          },
          {
           "hovertemplate": "<b>%{hovertext}</b><br><br>continent=North America<br>year=1952<br> Population=%{marker.size}<extra></extra>",
           "hovertext": [
            "North America"
           ],
           "ids": [
            "North America"
           ],
           "legendgroup": "North America",
           "marker": {
            "color": "#EF553B",
            "size": [
             167494177
            ],
            "sizemode": "area",
            "sizeref": 9811051.535,
            "symbol": "circle"
           },
           "mode": "markers",
           "name": "North America",
           "orientation": "v",
           "showlegend": true,
           "type": "scatter",
           "x": [
            167494177
           ],
           "xaxis": "x",
           "y": [
            167494177
           ],
           "yaxis": "y"
          }
         ],
         "name": "1952"
        },
        {
         "data": [
          {
           "hovertemplate": "<b>%{hovertext}</b><br><br>continent=Africa<br>year=1953<br> Population=%{marker.size}<extra></extra>",
           "hovertext": [
            "Africa"
           ],
           "ids": [
            "Africa"
           ],
           "legendgroup": "Africa",
           "marker": {
            "color": "#636efa",
            "size": [
             242837448
            ],
            "sizemode": "area",
            "sizeref": 9811051.535,
            "symbol": "circle"
           },
           "mode": "markers",
           "name": "Africa",
           "orientation": "v",
           "showlegend": true,
           "type": "scatter",
           "x": [
            242837448
           ],
           "xaxis": "x",
           "y": [
            242837448
           ],
           "yaxis": "y"
          },
          {
           "hovertemplate": "<b>%{hovertext}</b><br><br>continent=North America<br>year=1953<br> Population=%{marker.size}<extra></extra>",
           "hovertext": [
            "North America"
           ],
           "ids": [
            "North America"
           ],
           "legendgroup": "North America",
           "marker": {
            "color": "#EF553B",
            "size": [
             170420514
            ],
            "sizemode": "area",
            "sizeref": 9811051.535,
            "symbol": "circle"
           },
           "mode": "markers",
           "name": "North America",
           "orientation": "v",
           "showlegend": true,
           "type": "scatter",
           "x": [
            170420514
           ],
           "xaxis": "x",
           "y": [
            170420514
           ],
           "yaxis": "y"
          }
         ],
         "name": "1953"
        },
        {
         "data": [
          {
           "hovertemplate": "<b>%{hovertext}</b><br><br>continent=Africa<br>year=1954<br> Population=%{marker.size}<extra></extra>",
           "hovertext": [
            "Africa"
           ],
           "ids": [
            "Africa"
           ],
           "legendgroup": "Africa",
           "marker": {
            "color": "#636efa",
            "size": [
             248244771
            ],
            "sizemode": "area",
            "sizeref": 9811051.535,
            "symbol": "circle"
           },
           "mode": "markers",
           "name": "Africa",
           "orientation": "v",
           "showlegend": true,
           "type": "scatter",
           "x": [
            248244771
           ],
           "xaxis": "x",
           "y": [
            248244771
           ],
           "yaxis": "y"
          },
          {
           "hovertemplate": "<b>%{hovertext}</b><br><br>continent=North America<br>year=1954<br> Population=%{marker.size}<extra></extra>",
           "hovertext": [
            "North America"
           ],
           "ids": [
            "North America"
           ],
           "legendgroup": "North America",
           "marker": {
            "color": "#EF553B",
            "size": [
             173598022
            ],
            "sizemode": "area",
            "sizeref": 9811051.535,
            "symbol": "circle"
           },
           "mode": "markers",
           "name": "North America",
           "orientation": "v",
           "showlegend": true,
           "type": "scatter",
           "x": [
            173598022
           ],
           "xaxis": "x",
           "y": [
            173598022
           ],
           "yaxis": "y"
          }
         ],
         "name": "1954"
        },
        {
         "data": [
          {
           "hovertemplate": "<b>%{hovertext}</b><br><br>continent=Africa<br>year=1955<br> Population=%{marker.size}<extra></extra>",
           "hovertext": [
            "Africa"
           ],
           "ids": [
            "Africa"
           ],
           "legendgroup": "Africa",
           "marker": {
            "color": "#636efa",
            "size": [
             253847728
            ],
            "sizemode": "area",
            "sizeref": 9811051.535,
            "symbol": "circle"
           },
           "mode": "markers",
           "name": "Africa",
           "orientation": "v",
           "showlegend": true,
           "type": "scatter",
           "x": [
            253847728
           ],
           "xaxis": "x",
           "y": [
            253847728
           ],
           "yaxis": "y"
          },
          {
           "hovertemplate": "<b>%{hovertext}</b><br><br>continent=North America<br>year=1955<br> Population=%{marker.size}<extra></extra>",
           "hovertext": [
            "North America"
           ],
           "ids": [
            "North America"
           ],
           "legendgroup": "North America",
           "marker": {
            "color": "#EF553B",
            "size": [
             176940530
            ],
            "sizemode": "area",
            "sizeref": 9811051.535,
            "symbol": "circle"
           },
           "mode": "markers",
           "name": "North America",
           "orientation": "v",
           "showlegend": true,
           "type": "scatter",
           "x": [
            176940530
           ],
           "xaxis": "x",
           "y": [
            176940530
           ],
           "yaxis": "y"
          }
         ],
         "name": "1955"
        },
        {
         "data": [
          {
           "hovertemplate": "<b>%{hovertext}</b><br><br>continent=Africa<br>year=1956<br> Population=%{marker.size}<extra></extra>",
           "hovertext": [
            "Africa"
           ],
           "ids": [
            "Africa"
           ],
           "legendgroup": "Africa",
           "marker": {
            "color": "#636efa",
            "size": [
             259631382
            ],
            "sizemode": "area",
            "sizeref": 9811051.535,
            "symbol": "circle"
           },
           "mode": "markers",
           "name": "Africa",
           "orientation": "v",
           "showlegend": true,
           "type": "scatter",
           "x": [
            259631382
           ],
           "xaxis": "x",
           "y": [
            259631382
           ],
           "yaxis": "y"
          },
          {
           "hovertemplate": "<b>%{hovertext}</b><br><br>continent=North America<br>year=1956<br> Population=%{marker.size}<extra></extra>",
           "hovertext": [
            "North America"
           ],
           "ids": [
            "North America"
           ],
           "legendgroup": "North America",
           "marker": {
            "color": "#EF553B",
            "size": [
             180302051
            ],
            "sizemode": "area",
            "sizeref": 9811051.535,
            "symbol": "circle"
           },
           "mode": "markers",
           "name": "North America",
           "orientation": "v",
           "showlegend": true,
           "type": "scatter",
           "x": [
            180302051
           ],
           "xaxis": "x",
           "y": [
            180302051
           ],
           "yaxis": "y"
          }
         ],
         "name": "1956"
        },
        {
         "data": [
          {
           "hovertemplate": "<b>%{hovertext}</b><br><br>continent=Africa<br>year=1957<br> Population=%{marker.size}<extra></extra>",
           "hovertext": [
            "Africa"
           ],
           "ids": [
            "Africa"
           ],
           "legendgroup": "Africa",
           "marker": {
            "color": "#636efa",
            "size": [
             265515232
            ],
            "sizemode": "area",
            "sizeref": 9811051.535,
            "symbol": "circle"
           },
           "mode": "markers",
           "name": "Africa",
           "orientation": "v",
           "showlegend": true,
           "type": "scatter",
           "x": [
            265515232
           ],
           "xaxis": "x",
           "y": [
            265515232
           ],
           "yaxis": "y"
          },
          {
           "hovertemplate": "<b>%{hovertext}</b><br><br>continent=North America<br>year=1957<br> Population=%{marker.size}<extra></extra>",
           "hovertext": [
            "North America"
           ],
           "ids": [
            "North America"
           ],
           "legendgroup": "North America",
           "marker": {
            "color": "#EF553B",
            "size": [
             183672449
            ],
            "sizemode": "area",
            "sizeref": 9811051.535,
            "symbol": "circle"
           },
           "mode": "markers",
           "name": "North America",
           "orientation": "v",
           "showlegend": true,
           "type": "scatter",
           "x": [
            183672449
           ],
           "xaxis": "x",
           "y": [
            183672449
           ],
           "yaxis": "y"
          }
         ],
         "name": "1957"
        },
        {
         "data": [
          {
           "hovertemplate": "<b>%{hovertext}</b><br><br>continent=Africa<br>year=1958<br> Population=%{marker.size}<extra></extra>",
           "hovertext": [
            "Africa"
           ],
           "ids": [
            "Africa"
           ],
           "legendgroup": "Africa",
           "marker": {
            "color": "#636efa",
            "size": [
             271429557
            ],
            "sizemode": "area",
            "sizeref": 9811051.535,
            "symbol": "circle"
           },
           "mode": "markers",
           "name": "Africa",
           "orientation": "v",
           "showlegend": true,
           "type": "scatter",
           "x": [
            271429557
           ],
           "xaxis": "x",
           "y": [
            271429557
           ],
           "yaxis": "y"
          },
          {
           "hovertemplate": "<b>%{hovertext}</b><br><br>continent=North America<br>year=1958<br> Population=%{marker.size}<extra></extra>",
           "hovertext": [
            "North America"
           ],
           "ids": [
            "North America"
           ],
           "legendgroup": "North America",
           "marker": {
            "color": "#EF553B",
            "size": [
             187335604
            ],
            "sizemode": "area",
            "sizeref": 9811051.535,
            "symbol": "circle"
           },
           "mode": "markers",
           "name": "North America",
           "orientation": "v",
           "showlegend": true,
           "type": "scatter",
           "x": [
            187335604
           ],
           "xaxis": "x",
           "y": [
            187335604
           ],
           "yaxis": "y"
          }
         ],
         "name": "1958"
        },
        {
         "data": [
          {
           "hovertemplate": "<b>%{hovertext}</b><br><br>continent=Africa<br>year=1959<br> Population=%{marker.size}<extra></extra>",
           "hovertext": [
            "Africa"
           ],
           "ids": [
            "Africa"
           ],
           "legendgroup": "Africa",
           "marker": {
            "color": "#636efa",
            "size": [
             277648187
            ],
            "sizemode": "area",
            "sizeref": 9811051.535,
            "symbol": "circle"
           },
           "mode": "markers",
           "name": "Africa",
           "orientation": "v",
           "showlegend": true,
           "type": "scatter",
           "x": [
            277648187
           ],
           "xaxis": "x",
           "y": [
            277648187
           ],
           "yaxis": "y"
          },
          {
           "hovertemplate": "<b>%{hovertext}</b><br><br>continent=North America<br>year=1959<br> Population=%{marker.size}<extra></extra>",
           "hovertext": [
            "North America"
           ],
           "ids": [
            "North America"
           ],
           "legendgroup": "North America",
           "marker": {
            "color": "#EF553B",
            "size": [
             190926573
            ],
            "sizemode": "area",
            "sizeref": 9811051.535,
            "symbol": "circle"
           },
           "mode": "markers",
           "name": "North America",
           "orientation": "v",
           "showlegend": true,
           "type": "scatter",
           "x": [
            190926573
           ],
           "xaxis": "x",
           "y": [
            190926573
           ],
           "yaxis": "y"
          }
         ],
         "name": "1959"
        },
        {
         "data": [
          {
           "hovertemplate": "<b>%{hovertext}</b><br><br>continent=Africa<br>year=1960<br> Population=%{marker.size}<extra></extra>",
           "hovertext": [
            "Africa"
           ],
           "ids": [
            "Africa"
           ],
           "legendgroup": "Africa",
           "marker": {
            "color": "#636efa",
            "size": [
             284287856
            ],
            "sizemode": "area",
            "sizeref": 9811051.535,
            "symbol": "circle"
           },
           "mode": "markers",
           "name": "Africa",
           "orientation": "v",
           "showlegend": true,
           "type": "scatter",
           "x": [
            284287856
           ],
           "xaxis": "x",
           "y": [
            284287856
           ],
           "yaxis": "y"
          },
          {
           "hovertemplate": "<b>%{hovertext}</b><br><br>continent=North America<br>year=1960<br> Population=%{marker.size}<extra></extra>",
           "hovertext": [
            "North America"
           ],
           "ids": [
            "North America"
           ],
           "legendgroup": "North America",
           "marker": {
            "color": "#EF553B",
            "size": [
             194177008
            ],
            "sizemode": "area",
            "sizeref": 9811051.535,
            "symbol": "circle"
           },
           "mode": "markers",
           "name": "North America",
           "orientation": "v",
           "showlegend": true,
           "type": "scatter",
           "x": [
            194177008
           ],
           "xaxis": "x",
           "y": [
            194177008
           ],
           "yaxis": "y"
          }
         ],
         "name": "1960"
        },
        {
         "data": [
          {
           "hovertemplate": "<b>%{hovertext}</b><br><br>continent=Africa<br>year=1961<br> Population=%{marker.size}<extra></extra>",
           "hovertext": [
            "Africa"
           ],
           "ids": [
            "Africa"
           ],
           "legendgroup": "Africa",
           "marker": {
            "color": "#636efa",
            "size": [
             291177557
            ],
            "sizemode": "area",
            "sizeref": 9811051.535,
            "symbol": "circle"
           },
           "mode": "markers",
           "name": "Africa",
           "orientation": "v",
           "showlegend": true,
           "type": "scatter",
           "x": [
            291177557
           ],
           "xaxis": "x",
           "y": [
            291177557
           ],
           "yaxis": "y"
          },
          {
           "hovertemplate": "<b>%{hovertext}</b><br><br>continent=North America<br>year=1961<br> Population=%{marker.size}<extra></extra>",
           "hovertext": [
            "North America"
           ],
           "ids": [
            "North America"
           ],
           "legendgroup": "North America",
           "marker": {
            "color": "#EF553B",
            "size": [
             197442207
            ],
            "sizemode": "area",
            "sizeref": 9811051.535,
            "symbol": "circle"
           },
           "mode": "markers",
           "name": "North America",
           "orientation": "v",
           "showlegend": true,
           "type": "scatter",
           "x": [
            197442207
           ],
           "xaxis": "x",
           "y": [
            197442207
           ],
           "yaxis": "y"
          }
         ],
         "name": "1961"
        },
        {
         "data": [
          {
           "hovertemplate": "<b>%{hovertext}</b><br><br>continent=Africa<br>year=1962<br> Population=%{marker.size}<extra></extra>",
           "hovertext": [
            "Africa"
           ],
           "ids": [
            "Africa"
           ],
           "legendgroup": "Africa",
           "marker": {
            "color": "#636efa",
            "size": [
             298334053
            ],
            "sizemode": "area",
            "sizeref": 9811051.535,
            "symbol": "circle"
           },
           "mode": "markers",
           "name": "Africa",
           "orientation": "v",
           "showlegend": true,
           "type": "scatter",
           "x": [
            298334053
           ],
           "xaxis": "x",
           "y": [
            298334053
           ],
           "yaxis": "y"
          },
          {
           "hovertemplate": "<b>%{hovertext}</b><br><br>continent=North America<br>year=1962<br> Population=%{marker.size}<extra></extra>",
           "hovertext": [
            "North America"
           ],
           "ids": [
            "North America"
           ],
           "legendgroup": "North America",
           "marker": {
            "color": "#EF553B",
            "size": [
             200623682
            ],
            "sizemode": "area",
            "sizeref": 9811051.535,
            "symbol": "circle"
           },
           "mode": "markers",
           "name": "North America",
           "orientation": "v",
           "showlegend": true,
           "type": "scatter",
           "x": [
            200623682
           ],
           "xaxis": "x",
           "y": [
            200623682
           ],
           "yaxis": "y"
          }
         ],
         "name": "1962"
        },
        {
         "data": [
          {
           "hovertemplate": "<b>%{hovertext}</b><br><br>continent=Africa<br>year=1963<br> Population=%{marker.size}<extra></extra>",
           "hovertext": [
            "Africa"
           ],
           "ids": [
            "Africa"
           ],
           "legendgroup": "Africa",
           "marker": {
            "color": "#636efa",
            "size": [
             305755225
            ],
            "sizemode": "area",
            "sizeref": 9811051.535,
            "symbol": "circle"
           },
           "mode": "markers",
           "name": "Africa",
           "orientation": "v",
           "showlegend": true,
           "type": "scatter",
           "x": [
            305755225
           ],
           "xaxis": "x",
           "y": [
            305755225
           ],
           "yaxis": "y"
          },
          {
           "hovertemplate": "<b>%{hovertext}</b><br><br>continent=North America<br>year=1963<br> Population=%{marker.size}<extra></extra>",
           "hovertext": [
            "North America"
           ],
           "ids": [
            "North America"
           ],
           "legendgroup": "North America",
           "marker": {
            "color": "#EF553B",
            "size": [
             203706745
            ],
            "sizemode": "area",
            "sizeref": 9811051.535,
            "symbol": "circle"
           },
           "mode": "markers",
           "name": "North America",
           "orientation": "v",
           "showlegend": true,
           "type": "scatter",
           "x": [
            203706745
           ],
           "xaxis": "x",
           "y": [
            203706745
           ],
           "yaxis": "y"
          }
         ],
         "name": "1963"
        },
        {
         "data": [
          {
           "hovertemplate": "<b>%{hovertext}</b><br><br>continent=Africa<br>year=1964<br> Population=%{marker.size}<extra></extra>",
           "hovertext": [
            "Africa"
           ],
           "ids": [
            "Africa"
           ],
           "legendgroup": "Africa",
           "marker": {
            "color": "#636efa",
            "size": [
             313465702
            ],
            "sizemode": "area",
            "sizeref": 9811051.535,
            "symbol": "circle"
           },
           "mode": "markers",
           "name": "Africa",
           "orientation": "v",
           "showlegend": true,
           "type": "scatter",
           "x": [
            313465702
           ],
           "xaxis": "x",
           "y": [
            313465702
           ],
           "yaxis": "y"
          },
          {
           "hovertemplate": "<b>%{hovertext}</b><br><br>continent=North America<br>year=1964<br> Population=%{marker.size}<extra></extra>",
           "hovertext": [
            "North America"
           ],
           "ids": [
            "North America"
           ],
           "legendgroup": "North America",
           "marker": {
            "color": "#EF553B",
            "size": [
             206691981
            ],
            "sizemode": "area",
            "sizeref": 9811051.535,
            "symbol": "circle"
           },
           "mode": "markers",
           "name": "North America",
           "orientation": "v",
           "showlegend": true,
           "type": "scatter",
           "x": [
            206691981
           ],
           "xaxis": "x",
           "y": [
            206691981
           ],
           "yaxis": "y"
          }
         ],
         "name": "1964"
        },
        {
         "data": [
          {
           "hovertemplate": "<b>%{hovertext}</b><br><br>continent=Africa<br>year=1965<br> Population=%{marker.size}<extra></extra>",
           "hovertext": [
            "Africa"
           ],
           "ids": [
            "Africa"
           ],
           "legendgroup": "Africa",
           "marker": {
            "color": "#636efa",
            "size": [
             321446986
            ],
            "sizemode": "area",
            "sizeref": 9811051.535,
            "symbol": "circle"
           },
           "mode": "markers",
           "name": "Africa",
           "orientation": "v",
           "showlegend": true,
           "type": "scatter",
           "x": [
            321446986
           ],
           "xaxis": "x",
           "y": [
            321446986
           ],
           "yaxis": "y"
          },
          {
           "hovertemplate": "<b>%{hovertext}</b><br><br>continent=North America<br>year=1965<br> Population=%{marker.size}<extra></extra>",
           "hovertext": [
            "North America"
           ],
           "ids": [
            "North America"
           ],
           "legendgroup": "North America",
           "marker": {
            "color": "#EF553B",
            "size": [
             209482853
            ],
            "sizemode": "area",
            "sizeref": 9811051.535,
            "symbol": "circle"
           },
           "mode": "markers",
           "name": "North America",
           "orientation": "v",
           "showlegend": true,
           "type": "scatter",
           "x": [
            209482853
           ],
           "xaxis": "x",
           "y": [
            209482853
           ],
           "yaxis": "y"
          }
         ],
         "name": "1965"
        },
        {
         "data": [
          {
           "hovertemplate": "<b>%{hovertext}</b><br><br>continent=Africa<br>year=1966<br> Population=%{marker.size}<extra></extra>",
           "hovertext": [
            "Africa"
           ],
           "ids": [
            "Africa"
           ],
           "legendgroup": "Africa",
           "marker": {
            "color": "#636efa",
            "size": [
             329658041
            ],
            "sizemode": "area",
            "sizeref": 9811051.535,
            "symbol": "circle"
           },
           "mode": "markers",
           "name": "Africa",
           "orientation": "v",
           "showlegend": true,
           "type": "scatter",
           "x": [
            329658041
           ],
           "xaxis": "x",
           "y": [
            329658041
           ],
           "yaxis": "y"
          },
          {
           "hovertemplate": "<b>%{hovertext}</b><br><br>continent=North America<br>year=1966<br> Population=%{marker.size}<extra></extra>",
           "hovertext": [
            "North America"
           ],
           "ids": [
            "North America"
           ],
           "legendgroup": "North America",
           "marker": {
            "color": "#EF553B",
            "size": [
             211979519
            ],
            "sizemode": "area",
            "sizeref": 9811051.535,
            "symbol": "circle"
           },
           "mode": "markers",
           "name": "North America",
           "orientation": "v",
           "showlegend": true,
           "type": "scatter",
           "x": [
            211979519
           ],
           "xaxis": "x",
           "y": [
            211979519
           ],
           "yaxis": "y"
          }
         ],
         "name": "1966"
        },
        {
         "data": [
          {
           "hovertemplate": "<b>%{hovertext}</b><br><br>continent=Africa<br>year=1967<br> Population=%{marker.size}<extra></extra>",
           "hovertext": [
            "Africa"
           ],
           "ids": [
            "Africa"
           ],
           "legendgroup": "Africa",
           "marker": {
            "color": "#636efa",
            "size": [
             338159594
            ],
            "sizemode": "area",
            "sizeref": 9811051.535,
            "symbol": "circle"
           },
           "mode": "markers",
           "name": "Africa",
           "orientation": "v",
           "showlegend": true,
           "type": "scatter",
           "x": [
            338159594
           ],
           "xaxis": "x",
           "y": [
            338159594
           ],
           "yaxis": "y"
          },
          {
           "hovertemplate": "<b>%{hovertext}</b><br><br>continent=North America<br>year=1967<br> Population=%{marker.size}<extra></extra>",
           "hovertext": [
            "North America"
           ],
           "ids": [
            "North America"
           ],
           "legendgroup": "North America",
           "marker": {
            "color": "#EF553B",
            "size": [
             214286308
            ],
            "sizemode": "area",
            "sizeref": 9811051.535,
            "symbol": "circle"
           },
           "mode": "markers",
           "name": "North America",
           "orientation": "v",
           "showlegend": true,
           "type": "scatter",
           "x": [
            214286308
           ],
           "xaxis": "x",
           "y": [
            214286308
           ],
           "yaxis": "y"
          }
         ],
         "name": "1967"
        },
        {
         "data": [
          {
           "hovertemplate": "<b>%{hovertext}</b><br><br>continent=Africa<br>year=1968<br> Population=%{marker.size}<extra></extra>",
           "hovertext": [
            "Africa"
           ],
           "ids": [
            "Africa"
           ],
           "legendgroup": "Africa",
           "marker": {
            "color": "#636efa",
            "size": [
             346980009
            ],
            "sizemode": "area",
            "sizeref": 9811051.535,
            "symbol": "circle"
           },
           "mode": "markers",
           "name": "Africa",
           "orientation": "v",
           "showlegend": true,
           "type": "scatter",
           "x": [
            346980009
           ],
           "xaxis": "x",
           "y": [
            346980009
           ],
           "yaxis": "y"
          },
          {
           "hovertemplate": "<b>%{hovertext}</b><br><br>continent=North America<br>year=1968<br> Population=%{marker.size}<extra></extra>",
           "hovertext": [
            "North America"
           ],
           "ids": [
            "North America"
           ],
           "legendgroup": "North America",
           "marker": {
            "color": "#EF553B",
            "size": [
             216573634
            ],
            "sizemode": "area",
            "sizeref": 9811051.535,
            "symbol": "circle"
           },
           "mode": "markers",
           "name": "North America",
           "orientation": "v",
           "showlegend": true,
           "type": "scatter",
           "x": [
            216573634
           ],
           "xaxis": "x",
           "y": [
            216573634
           ],
           "yaxis": "y"
          }
         ],
         "name": "1968"
        },
        {
         "data": [
          {
           "hovertemplate": "<b>%{hovertext}</b><br><br>continent=Africa<br>year=1969<br> Population=%{marker.size}<extra></extra>",
           "hovertext": [
            "Africa"
           ],
           "ids": [
            "Africa"
           ],
           "legendgroup": "Africa",
           "marker": {
            "color": "#636efa",
            "size": [
             356070247
            ],
            "sizemode": "area",
            "sizeref": 9811051.535,
            "symbol": "circle"
           },
           "mode": "markers",
           "name": "Africa",
           "orientation": "v",
           "showlegend": true,
           "type": "scatter",
           "x": [
            356070247
           ],
           "xaxis": "x",
           "y": [
            356070247
           ],
           "yaxis": "y"
          },
          {
           "hovertemplate": "<b>%{hovertext}</b><br><br>continent=North America<br>year=1969<br> Population=%{marker.size}<extra></extra>",
           "hovertext": [
            "North America"
           ],
           "ids": [
            "North America"
           ],
           "legendgroup": "North America",
           "marker": {
            "color": "#EF553B",
            "size": [
             218993970
            ],
            "sizemode": "area",
            "sizeref": 9811051.535,
            "symbol": "circle"
           },
           "mode": "markers",
           "name": "North America",
           "orientation": "v",
           "showlegend": true,
           "type": "scatter",
           "x": [
            218993970
           ],
           "xaxis": "x",
           "y": [
            218993970
           ],
           "yaxis": "y"
          }
         ],
         "name": "1969"
        },
        {
         "data": [
          {
           "hovertemplate": "<b>%{hovertext}</b><br><br>continent=Africa<br>year=1970<br> Population=%{marker.size}<extra></extra>",
           "hovertext": [
            "Africa"
           ],
           "ids": [
            "Africa"
           ],
           "legendgroup": "Africa",
           "marker": {
            "color": "#636efa",
            "size": [
             365450108
            ],
            "sizemode": "area",
            "sizeref": 9811051.535,
            "symbol": "circle"
           },
           "mode": "markers",
           "name": "Africa",
           "orientation": "v",
           "showlegend": true,
           "type": "scatter",
           "x": [
            365450108
           ],
           "xaxis": "x",
           "y": [
            365450108
           ],
           "yaxis": "y"
          },
          {
           "hovertemplate": "<b>%{hovertext}</b><br><br>continent=North America<br>year=1970<br> Population=%{marker.size}<extra></extra>",
           "hovertext": [
            "North America"
           ],
           "ids": [
            "North America"
           ],
           "legendgroup": "North America",
           "marker": {
            "color": "#EF553B",
            "size": [
             221865907
            ],
            "sizemode": "area",
            "sizeref": 9811051.535,
            "symbol": "circle"
           },
           "mode": "markers",
           "name": "North America",
           "orientation": "v",
           "showlegend": true,
           "type": "scatter",
           "x": [
            221865907
           ],
           "xaxis": "x",
           "y": [
            221865907
           ],
           "yaxis": "y"
          }
         ],
         "name": "1970"
        },
        {
         "data": [
          {
           "hovertemplate": "<b>%{hovertext}</b><br><br>continent=Africa<br>year=1971<br> Population=%{marker.size}<extra></extra>",
           "hovertext": [
            "Africa"
           ],
           "ids": [
            "Africa"
           ],
           "legendgroup": "Africa",
           "marker": {
            "color": "#636efa",
            "size": [
             375085855
            ],
            "sizemode": "area",
            "sizeref": 9811051.535,
            "symbol": "circle"
           },
           "mode": "markers",
           "name": "Africa",
           "orientation": "v",
           "showlegend": true,
           "type": "scatter",
           "x": [
            375085855
           ],
           "xaxis": "x",
           "y": [
            375085855
           ],
           "yaxis": "y"
          },
          {
           "hovertemplate": "<b>%{hovertext}</b><br><br>continent=North America<br>year=1971<br> Population=%{marker.size}<extra></extra>",
           "hovertext": [
            "North America"
           ],
           "ids": [
            "North America"
           ],
           "legendgroup": "North America",
           "marker": {
            "color": "#EF553B",
            "size": [
             224901245
            ],
            "sizemode": "area",
            "sizeref": 9811051.535,
            "symbol": "circle"
           },
           "mode": "markers",
           "name": "North America",
           "orientation": "v",
           "showlegend": true,
           "type": "scatter",
           "x": [
            224901245
           ],
           "xaxis": "x",
           "y": [
            224901245
           ],
           "yaxis": "y"
          }
         ],
         "name": "1971"
        },
        {
         "data": [
          {
           "hovertemplate": "<b>%{hovertext}</b><br><br>continent=Africa<br>year=1972<br> Population=%{marker.size}<extra></extra>",
           "hovertext": [
            "Africa"
           ],
           "ids": [
            "Africa"
           ],
           "legendgroup": "Africa",
           "marker": {
            "color": "#636efa",
            "size": [
             384930392
            ],
            "sizemode": "area",
            "sizeref": 9811051.535,
            "symbol": "circle"
           },
           "mode": "markers",
           "name": "Africa",
           "orientation": "v",
           "showlegend": true,
           "type": "scatter",
           "x": [
            384930392
           ],
           "xaxis": "x",
           "y": [
            384930392
           ],
           "yaxis": "y"
          },
          {
           "hovertemplate": "<b>%{hovertext}</b><br><br>continent=North America<br>year=1972<br> Population=%{marker.size}<extra></extra>",
           "hovertext": [
            "North America"
           ],
           "ids": [
            "North America"
           ],
           "legendgroup": "North America",
           "marker": {
            "color": "#EF553B",
            "size": [
             227566327
            ],
            "sizemode": "area",
            "sizeref": 9811051.535,
            "symbol": "circle"
           },
           "mode": "markers",
           "name": "North America",
           "orientation": "v",
           "showlegend": true,
           "type": "scatter",
           "x": [
            227566327
           ],
           "xaxis": "x",
           "y": [
            227566327
           ],
           "yaxis": "y"
          }
         ],
         "name": "1972"
        },
        {
         "data": [
          {
           "hovertemplate": "<b>%{hovertext}</b><br><br>continent=Africa<br>year=1973<br> Population=%{marker.size}<extra></extra>",
           "hovertext": [
            "Africa"
           ],
           "ids": [
            "Africa"
           ],
           "legendgroup": "Africa",
           "marker": {
            "color": "#636efa",
            "size": [
             395212021
            ],
            "sizemode": "area",
            "sizeref": 9811051.535,
            "symbol": "circle"
           },
           "mode": "markers",
           "name": "Africa",
           "orientation": "v",
           "showlegend": true,
           "type": "scatter",
           "x": [
            395212021
           ],
           "xaxis": "x",
           "y": [
            395212021
           ],
           "yaxis": "y"
          },
          {
           "hovertemplate": "<b>%{hovertext}</b><br><br>continent=North America<br>year=1973<br> Population=%{marker.size}<extra></extra>",
           "hovertext": [
            "North America"
           ],
           "ids": [
            "North America"
           ],
           "legendgroup": "North America",
           "marker": {
            "color": "#EF553B",
            "size": [
             229923511
            ],
            "sizemode": "area",
            "sizeref": 9811051.535,
            "symbol": "circle"
           },
           "mode": "markers",
           "name": "North America",
           "orientation": "v",
           "showlegend": true,
           "type": "scatter",
           "x": [
            229923511
           ],
           "xaxis": "x",
           "y": [
            229923511
           ],
           "yaxis": "y"
          }
         ],
         "name": "1973"
        },
        {
         "data": [
          {
           "hovertemplate": "<b>%{hovertext}</b><br><br>continent=Africa<br>year=1974<br> Population=%{marker.size}<extra></extra>",
           "hovertext": [
            "Africa"
           ],
           "ids": [
            "Africa"
           ],
           "legendgroup": "Africa",
           "marker": {
            "color": "#636efa",
            "size": [
             406068836
            ],
            "sizemode": "area",
            "sizeref": 9811051.535,
            "symbol": "circle"
           },
           "mode": "markers",
           "name": "Africa",
           "orientation": "v",
           "showlegend": true,
           "type": "scatter",
           "x": [
            406068836
           ],
           "xaxis": "x",
           "y": [
            406068836
           ],
           "yaxis": "y"
          },
          {
           "hovertemplate": "<b>%{hovertext}</b><br><br>continent=North America<br>year=1974<br> Population=%{marker.size}<extra></extra>",
           "hovertext": [
            "North America"
           ],
           "ids": [
            "North America"
           ],
           "legendgroup": "North America",
           "marker": {
            "color": "#EF553B",
            "size": [
             232198019
            ],
            "sizemode": "area",
            "sizeref": 9811051.535,
            "symbol": "circle"
           },
           "mode": "markers",
           "name": "North America",
           "orientation": "v",
           "showlegend": true,
           "type": "scatter",
           "x": [
            232198019
           ],
           "xaxis": "x",
           "y": [
            232198019
           ],
           "yaxis": "y"
          }
         ],
         "name": "1974"
        },
        {
         "data": [
          {
           "hovertemplate": "<b>%{hovertext}</b><br><br>continent=Africa<br>year=1975<br> Population=%{marker.size}<extra></extra>",
           "hovertext": [
            "Africa"
           ],
           "ids": [
            "Africa"
           ],
           "legendgroup": "Africa",
           "marker": {
            "color": "#636efa",
            "size": [
             417556630
            ],
            "sizemode": "area",
            "sizeref": 9811051.535,
            "symbol": "circle"
           },
           "mode": "markers",
           "name": "Africa",
           "orientation": "v",
           "showlegend": true,
           "type": "scatter",
           "x": [
            417556630
           ],
           "xaxis": "x",
           "y": [
            417556630
           ],
           "yaxis": "y"
          },
          {
           "hovertemplate": "<b>%{hovertext}</b><br><br>continent=North America<br>year=1975<br> Population=%{marker.size}<extra></extra>",
           "hovertext": [
            "North America"
           ],
           "ids": [
            "North America"
           ],
           "legendgroup": "North America",
           "marker": {
            "color": "#EF553B",
            "size": [
             234519142
            ],
            "sizemode": "area",
            "sizeref": 9811051.535,
            "symbol": "circle"
           },
           "mode": "markers",
           "name": "North America",
           "orientation": "v",
           "showlegend": true,
           "type": "scatter",
           "x": [
            234519142
           ],
           "xaxis": "x",
           "y": [
            234519142
           ],
           "yaxis": "y"
          }
         ],
         "name": "1975"
        },
        {
         "data": [
          {
           "hovertemplate": "<b>%{hovertext}</b><br><br>continent=Africa<br>year=1976<br> Population=%{marker.size}<extra></extra>",
           "hovertext": [
            "Africa"
           ],
           "ids": [
            "Africa"
           ],
           "legendgroup": "Africa",
           "marker": {
            "color": "#636efa",
            "size": [
             429572939
            ],
            "sizemode": "area",
            "sizeref": 9811051.535,
            "symbol": "circle"
           },
           "mode": "markers",
           "name": "Africa",
           "orientation": "v",
           "showlegend": true,
           "type": "scatter",
           "x": [
            429572939
           ],
           "xaxis": "x",
           "y": [
            429572939
           ],
           "yaxis": "y"
          },
          {
           "hovertemplate": "<b>%{hovertext}</b><br><br>continent=North America<br>year=1976<br> Population=%{marker.size}<extra></extra>",
           "hovertext": [
            "North America"
           ],
           "ids": [
            "North America"
           ],
           "legendgroup": "North America",
           "marker": {
            "color": "#EF553B",
            "size": [
             236821063
            ],
            "sizemode": "area",
            "sizeref": 9811051.535,
            "symbol": "circle"
           },
           "mode": "markers",
           "name": "North America",
           "orientation": "v",
           "showlegend": true,
           "type": "scatter",
           "x": [
            236821063
           ],
           "xaxis": "x",
           "y": [
            236821063
           ],
           "yaxis": "y"
          }
         ],
         "name": "1976"
        },
        {
         "data": [
          {
           "hovertemplate": "<b>%{hovertext}</b><br><br>continent=Africa<br>year=1977<br> Population=%{marker.size}<extra></extra>",
           "hovertext": [
            "Africa"
           ],
           "ids": [
            "Africa"
           ],
           "legendgroup": "Africa",
           "marker": {
            "color": "#636efa",
            "size": [
             441701411
            ],
            "sizemode": "area",
            "sizeref": 9811051.535,
            "symbol": "circle"
           },
           "mode": "markers",
           "name": "Africa",
           "orientation": "v",
           "showlegend": true,
           "type": "scatter",
           "x": [
            441701411
           ],
           "xaxis": "x",
           "y": [
            441701411
           ],
           "yaxis": "y"
          },
          {
           "hovertemplate": "<b>%{hovertext}</b><br><br>continent=North America<br>year=1977<br> Population=%{marker.size}<extra></extra>",
           "hovertext": [
            "North America"
           ],
           "ids": [
            "North America"
           ],
           "legendgroup": "North America",
           "marker": {
            "color": "#EF553B",
            "size": [
             239261913
            ],
            "sizemode": "area",
            "sizeref": 9811051.535,
            "symbol": "circle"
           },
           "mode": "markers",
           "name": "North America",
           "orientation": "v",
           "showlegend": true,
           "type": "scatter",
           "x": [
            239261913
           ],
           "xaxis": "x",
           "y": [
            239261913
           ],
           "yaxis": "y"
          }
         ],
         "name": "1977"
        },
        {
         "data": [
          {
           "hovertemplate": "<b>%{hovertext}</b><br><br>continent=Africa<br>year=1978<br> Population=%{marker.size}<extra></extra>",
           "hovertext": [
            "Africa"
           ],
           "ids": [
            "Africa"
           ],
           "legendgroup": "Africa",
           "marker": {
            "color": "#636efa",
            "size": [
             454462679
            ],
            "sizemode": "area",
            "sizeref": 9811051.535,
            "symbol": "circle"
           },
           "mode": "markers",
           "name": "Africa",
           "orientation": "v",
           "showlegend": true,
           "type": "scatter",
           "x": [
            454462679
           ],
           "xaxis": "x",
           "y": [
            454462679
           ],
           "yaxis": "y"
          },
          {
           "hovertemplate": "<b>%{hovertext}</b><br><br>continent=North America<br>year=1978<br> Population=%{marker.size}<extra></extra>",
           "hovertext": [
            "North America"
           ],
           "ids": [
            "North America"
           ],
           "legendgroup": "North America",
           "marker": {
            "color": "#EF553B",
            "size": [
             241953380
            ],
            "sizemode": "area",
            "sizeref": 9811051.535,
            "symbol": "circle"
           },
           "mode": "markers",
           "name": "North America",
           "orientation": "v",
           "showlegend": true,
           "type": "scatter",
           "x": [
            241953380
           ],
           "xaxis": "x",
           "y": [
            241953380
           ],
           "yaxis": "y"
          }
         ],
         "name": "1978"
        },
        {
         "data": [
          {
           "hovertemplate": "<b>%{hovertext}</b><br><br>continent=Africa<br>year=1979<br> Population=%{marker.size}<extra></extra>",
           "hovertext": [
            "Africa"
           ],
           "ids": [
            "Africa"
           ],
           "legendgroup": "Africa",
           "marker": {
            "color": "#636efa",
            "size": [
             467975884
            ],
            "sizemode": "area",
            "sizeref": 9811051.535,
            "symbol": "circle"
           },
           "mode": "markers",
           "name": "Africa",
           "orientation": "v",
           "showlegend": true,
           "type": "scatter",
           "x": [
            467975884
           ],
           "xaxis": "x",
           "y": [
            467975884
           ],
           "yaxis": "y"
          },
          {
           "hovertemplate": "<b>%{hovertext}</b><br><br>continent=North America<br>year=1979<br> Population=%{marker.size}<extra></extra>",
           "hovertext": [
            "North America"
           ],
           "ids": [
            "North America"
           ],
           "legendgroup": "North America",
           "marker": {
            "color": "#EF553B",
            "size": [
             244791543
            ],
            "sizemode": "area",
            "sizeref": 9811051.535,
            "symbol": "circle"
           },
           "mode": "markers",
           "name": "North America",
           "orientation": "v",
           "showlegend": true,
           "type": "scatter",
           "x": [
            244791543
           ],
           "xaxis": "x",
           "y": [
            244791543
           ],
           "yaxis": "y"
          }
         ],
         "name": "1979"
        },
        {
         "data": [
          {
           "hovertemplate": "<b>%{hovertext}</b><br><br>continent=Africa<br>year=1980<br> Population=%{marker.size}<extra></extra>",
           "hovertext": [
            "Africa"
           ],
           "ids": [
            "Africa"
           ],
           "legendgroup": "Africa",
           "marker": {
            "color": "#636efa",
            "size": [
             481542773
            ],
            "sizemode": "area",
            "sizeref": 9811051.535,
            "symbol": "circle"
           },
           "mode": "markers",
           "name": "Africa",
           "orientation": "v",
           "showlegend": true,
           "type": "scatter",
           "x": [
            481542773
           ],
           "xaxis": "x",
           "y": [
            481542773
           ],
           "yaxis": "y"
          },
          {
           "hovertemplate": "<b>%{hovertext}</b><br><br>continent=North America<br>year=1980<br> Population=%{marker.size}<extra></extra>",
           "hovertext": [
            "North America"
           ],
           "ids": [
            "North America"
           ],
           "legendgroup": "North America",
           "marker": {
            "color": "#EF553B",
            "size": [
             247761304
            ],
            "sizemode": "area",
            "sizeref": 9811051.535,
            "symbol": "circle"
           },
           "mode": "markers",
           "name": "North America",
           "orientation": "v",
           "showlegend": true,
           "type": "scatter",
           "x": [
            247761304
           ],
           "xaxis": "x",
           "y": [
            247761304
           ],
           "yaxis": "y"
          }
         ],
         "name": "1980"
        },
        {
         "data": [
          {
           "hovertemplate": "<b>%{hovertext}</b><br><br>continent=Africa<br>year=1981<br> Population=%{marker.size}<extra></extra>",
           "hovertext": [
            "Africa"
           ],
           "ids": [
            "Africa"
           ],
           "legendgroup": "Africa",
           "marker": {
            "color": "#636efa",
            "size": [
             495655336
            ],
            "sizemode": "area",
            "sizeref": 9811051.535,
            "symbol": "circle"
           },
           "mode": "markers",
           "name": "Africa",
           "orientation": "v",
           "showlegend": true,
           "type": "scatter",
           "x": [
            495655336
           ],
           "xaxis": "x",
           "y": [
            495655336
           ],
           "yaxis": "y"
          },
          {
           "hovertemplate": "<b>%{hovertext}</b><br><br>continent=North America<br>year=1981<br> Population=%{marker.size}<extra></extra>",
           "hovertext": [
            "North America"
           ],
           "ids": [
            "North America"
           ],
           "legendgroup": "North America",
           "marker": {
            "color": "#EF553B",
            "size": [
             250580512
            ],
            "sizemode": "area",
            "sizeref": 9811051.535,
            "symbol": "circle"
           },
           "mode": "markers",
           "name": "North America",
           "orientation": "v",
           "showlegend": true,
           "type": "scatter",
           "x": [
            250580512
           ],
           "xaxis": "x",
           "y": [
            250580512
           ],
           "yaxis": "y"
          }
         ],
         "name": "1981"
        },
        {
         "data": [
          {
           "hovertemplate": "<b>%{hovertext}</b><br><br>continent=Africa<br>year=1982<br> Population=%{marker.size}<extra></extra>",
           "hovertext": [
            "Africa"
           ],
           "ids": [
            "Africa"
           ],
           "legendgroup": "Africa",
           "marker": {
            "color": "#636efa",
            "size": [
             510540229
            ],
            "sizemode": "area",
            "sizeref": 9811051.535,
            "symbol": "circle"
           },
           "mode": "markers",
           "name": "Africa",
           "orientation": "v",
           "showlegend": true,
           "type": "scatter",
           "x": [
            510540229
           ],
           "xaxis": "x",
           "y": [
            510540229
           ],
           "yaxis": "y"
          },
          {
           "hovertemplate": "<b>%{hovertext}</b><br><br>continent=North America<br>year=1982<br> Population=%{marker.size}<extra></extra>",
           "hovertext": [
            "North America"
           ],
           "ids": [
            "North America"
           ],
           "legendgroup": "North America",
           "marker": {
            "color": "#EF553B",
            "size": [
             253214700
            ],
            "sizemode": "area",
            "sizeref": 9811051.535,
            "symbol": "circle"
           },
           "mode": "markers",
           "name": "North America",
           "orientation": "v",
           "showlegend": true,
           "type": "scatter",
           "x": [
            253214700
           ],
           "xaxis": "x",
           "y": [
            253214700
           ],
           "yaxis": "y"
          }
         ],
         "name": "1982"
        },
        {
         "data": [
          {
           "hovertemplate": "<b>%{hovertext}</b><br><br>continent=Africa<br>year=1983<br> Population=%{marker.size}<extra></extra>",
           "hovertext": [
            "Africa"
           ],
           "ids": [
            "Africa"
           ],
           "legendgroup": "Africa",
           "marker": {
            "color": "#636efa",
            "size": [
             525335031
            ],
            "sizemode": "area",
            "sizeref": 9811051.535,
            "symbol": "circle"
           },
           "mode": "markers",
           "name": "Africa",
           "orientation": "v",
           "showlegend": true,
           "type": "scatter",
           "x": [
            525335031
           ],
           "xaxis": "x",
           "y": [
            525335031
           ],
           "yaxis": "y"
          },
          {
           "hovertemplate": "<b>%{hovertext}</b><br><br>continent=North America<br>year=1983<br> Population=%{marker.size}<extra></extra>",
           "hovertext": [
            "North America"
           ],
           "ids": [
            "North America"
           ],
           "legendgroup": "North America",
           "marker": {
            "color": "#EF553B",
            "size": [
             255863568
            ],
            "sizemode": "area",
            "sizeref": 9811051.535,
            "symbol": "circle"
           },
           "mode": "markers",
           "name": "North America",
           "orientation": "v",
           "showlegend": true,
           "type": "scatter",
           "x": [
            255863568
           ],
           "xaxis": "x",
           "y": [
            255863568
           ],
           "yaxis": "y"
          }
         ],
         "name": "1983"
        },
        {
         "data": [
          {
           "hovertemplate": "<b>%{hovertext}</b><br><br>continent=Africa<br>year=1984<br> Population=%{marker.size}<extra></extra>",
           "hovertext": [
            "Africa"
           ],
           "ids": [
            "Africa"
           ],
           "legendgroup": "Africa",
           "marker": {
            "color": "#636efa",
            "size": [
             540182783
            ],
            "sizemode": "area",
            "sizeref": 9811051.535,
            "symbol": "circle"
           },
           "mode": "markers",
           "name": "Africa",
           "orientation": "v",
           "showlegend": true,
           "type": "scatter",
           "x": [
            540182783
           ],
           "xaxis": "x",
           "y": [
            540182783
           ],
           "yaxis": "y"
          },
          {
           "hovertemplate": "<b>%{hovertext}</b><br><br>continent=North America<br>year=1984<br> Population=%{marker.size}<extra></extra>",
           "hovertext": [
            "North America"
           ],
           "ids": [
            "North America"
           ],
           "legendgroup": "North America",
           "marker": {
            "color": "#EF553B",
            "size": [
             258482369
            ],
            "sizemode": "area",
            "sizeref": 9811051.535,
            "symbol": "circle"
           },
           "mode": "markers",
           "name": "North America",
           "orientation": "v",
           "showlegend": true,
           "type": "scatter",
           "x": [
            258482369
           ],
           "xaxis": "x",
           "y": [
            258482369
           ],
           "yaxis": "y"
          }
         ],
         "name": "1984"
        },
        {
         "data": [
          {
           "hovertemplate": "<b>%{hovertext}</b><br><br>continent=Africa<br>year=1985<br> Population=%{marker.size}<extra></extra>",
           "hovertext": [
            "Africa"
           ],
           "ids": [
            "Africa"
           ],
           "legendgroup": "Africa",
           "marker": {
            "color": "#636efa",
            "size": [
             555652630
            ],
            "sizemode": "area",
            "sizeref": 9811051.535,
            "symbol": "circle"
           },
           "mode": "markers",
           "name": "Africa",
           "orientation": "v",
           "showlegend": true,
           "type": "scatter",
           "x": [
            555652630
           ],
           "xaxis": "x",
           "y": [
            555652630
           ],
           "yaxis": "y"
          },
          {
           "hovertemplate": "<b>%{hovertext}</b><br><br>continent=North America<br>year=1985<br> Population=%{marker.size}<extra></extra>",
           "hovertext": [
            "North America"
           ],
           "ids": [
            "North America"
           ],
           "legendgroup": "North America",
           "marker": {
            "color": "#EF553B",
            "size": [
             261105161
            ],
            "sizemode": "area",
            "sizeref": 9811051.535,
            "symbol": "circle"
           },
           "mode": "markers",
           "name": "North America",
           "orientation": "v",
           "showlegend": true,
           "type": "scatter",
           "x": [
            261105161
           ],
           "xaxis": "x",
           "y": [
            261105161
           ],
           "yaxis": "y"
          }
         ],
         "name": "1985"
        },
        {
         "data": [
          {
           "hovertemplate": "<b>%{hovertext}</b><br><br>continent=Africa<br>year=1986<br> Population=%{marker.size}<extra></extra>",
           "hovertext": [
            "Africa"
           ],
           "ids": [
            "Africa"
           ],
           "legendgroup": "Africa",
           "marker": {
            "color": "#636efa",
            "size": [
             571646426
            ],
            "sizemode": "area",
            "sizeref": 9811051.535,
            "symbol": "circle"
           },
           "mode": "markers",
           "name": "Africa",
           "orientation": "v",
           "showlegend": true,
           "type": "scatter",
           "x": [
            571646426
           ],
           "xaxis": "x",
           "y": [
            571646426
           ],
           "yaxis": "y"
          },
          {
           "hovertemplate": "<b>%{hovertext}</b><br><br>continent=North America<br>year=1986<br> Population=%{marker.size}<extra></extra>",
           "hovertext": [
            "North America"
           ],
           "ids": [
            "North America"
           ],
           "legendgroup": "North America",
           "marker": {
            "color": "#EF553B",
            "size": [
             263744844
            ],
            "sizemode": "area",
            "sizeref": 9811051.535,
            "symbol": "circle"
           },
           "mode": "markers",
           "name": "North America",
           "orientation": "v",
           "showlegend": true,
           "type": "scatter",
           "x": [
            263744844
           ],
           "xaxis": "x",
           "y": [
            263744844
           ],
           "yaxis": "y"
          }
         ],
         "name": "1986"
        },
        {
         "data": [
          {
           "hovertemplate": "<b>%{hovertext}</b><br><br>continent=Africa<br>year=1987<br> Population=%{marker.size}<extra></extra>",
           "hovertext": [
            "Africa"
           ],
           "ids": [
            "Africa"
           ],
           "legendgroup": "Africa",
           "marker": {
            "color": "#636efa",
            "size": [
             588079706
            ],
            "sizemode": "area",
            "sizeref": 9811051.535,
            "symbol": "circle"
           },
           "mode": "markers",
           "name": "Africa",
           "orientation": "v",
           "showlegend": true,
           "type": "scatter",
           "x": [
            588079706
           ],
           "xaxis": "x",
           "y": [
            588079706
           ],
           "yaxis": "y"
          },
          {
           "hovertemplate": "<b>%{hovertext}</b><br><br>continent=North America<br>year=1987<br> Population=%{marker.size}<extra></extra>",
           "hovertext": [
            "North America"
           ],
           "ids": [
            "North America"
           ],
           "legendgroup": "North America",
           "marker": {
            "color": "#EF553B",
            "size": [
             266406972
            ],
            "sizemode": "area",
            "sizeref": 9811051.535,
            "symbol": "circle"
           },
           "mode": "markers",
           "name": "North America",
           "orientation": "v",
           "showlegend": true,
           "type": "scatter",
           "x": [
            266406972
           ],
           "xaxis": "x",
           "y": [
            266406972
           ],
           "yaxis": "y"
          }
         ],
         "name": "1987"
        },
        {
         "data": [
          {
           "hovertemplate": "<b>%{hovertext}</b><br><br>continent=Africa<br>year=1988<br> Population=%{marker.size}<extra></extra>",
           "hovertext": [
            "Africa"
           ],
           "ids": [
            "Africa"
           ],
           "legendgroup": "Africa",
           "marker": {
            "color": "#636efa",
            "size": [
             604511226
            ],
            "sizemode": "area",
            "sizeref": 9811051.535,
            "symbol": "circle"
           },
           "mode": "markers",
           "name": "Africa",
           "orientation": "v",
           "showlegend": true,
           "type": "scatter",
           "x": [
            604511226
           ],
           "xaxis": "x",
           "y": [
            604511226
           ],
           "yaxis": "y"
          },
          {
           "hovertemplate": "<b>%{hovertext}</b><br><br>continent=North America<br>year=1988<br> Population=%{marker.size}<extra></extra>",
           "hovertext": [
            "North America"
           ],
           "ids": [
            "North America"
           ],
           "legendgroup": "North America",
           "marker": {
            "color": "#EF553B",
            "size": [
             269220718
            ],
            "sizemode": "area",
            "sizeref": 9811051.535,
            "symbol": "circle"
           },
           "mode": "markers",
           "name": "North America",
           "orientation": "v",
           "showlegend": true,
           "type": "scatter",
           "x": [
            269220718
           ],
           "xaxis": "x",
           "y": [
            269220718
           ],
           "yaxis": "y"
          }
         ],
         "name": "1988"
        },
        {
         "data": [
          {
           "hovertemplate": "<b>%{hovertext}</b><br><br>continent=Africa<br>year=1989<br> Population=%{marker.size}<extra></extra>",
           "hovertext": [
            "Africa"
           ],
           "ids": [
            "Africa"
           ],
           "legendgroup": "Africa",
           "marker": {
            "color": "#636efa",
            "size": [
             621167635
            ],
            "sizemode": "area",
            "sizeref": 9811051.535,
            "symbol": "circle"
           },
           "mode": "markers",
           "name": "Africa",
           "orientation": "v",
           "showlegend": true,
           "type": "scatter",
           "x": [
            621167635
           ],
           "xaxis": "x",
           "y": [
            621167635
           ],
           "yaxis": "y"
          },
          {
           "hovertemplate": "<b>%{hovertext}</b><br><br>continent=North America<br>year=1989<br> Population=%{marker.size}<extra></extra>",
           "hovertext": [
            "North America"
           ],
           "ids": [
            "North America"
           ],
           "legendgroup": "North America",
           "marker": {
            "color": "#EF553B",
            "size": [
             272317228
            ],
            "sizemode": "area",
            "sizeref": 9811051.535,
            "symbol": "circle"
           },
           "mode": "markers",
           "name": "North America",
           "orientation": "v",
           "showlegend": true,
           "type": "scatter",
           "x": [
            272317228
           ],
           "xaxis": "x",
           "y": [
            272317228
           ],
           "yaxis": "y"
          }
         ],
         "name": "1989"
        },
        {
         "data": [
          {
           "hovertemplate": "<b>%{hovertext}</b><br><br>continent=Africa<br>year=1990<br> Population=%{marker.size}<extra></extra>",
           "hovertext": [
            "Africa"
           ],
           "ids": [
            "Africa"
           ],
           "legendgroup": "Africa",
           "marker": {
            "color": "#636efa",
            "size": [
             638157236
            ],
            "sizemode": "area",
            "sizeref": 9811051.535,
            "symbol": "circle"
           },
           "mode": "markers",
           "name": "Africa",
           "orientation": "v",
           "showlegend": true,
           "type": "scatter",
           "x": [
            638157236
           ],
           "xaxis": "x",
           "y": [
            638157236
           ],
           "yaxis": "y"
          },
          {
           "hovertemplate": "<b>%{hovertext}</b><br><br>continent=North America<br>year=1990<br> Population=%{marker.size}<extra></extra>",
           "hovertext": [
            "North America"
           ],
           "ids": [
            "North America"
           ],
           "legendgroup": "North America",
           "marker": {
            "color": "#EF553B",
            "size": [
             275860329
            ],
            "sizemode": "area",
            "sizeref": 9811051.535,
            "symbol": "circle"
           },
           "mode": "markers",
           "name": "North America",
           "orientation": "v",
           "showlegend": true,
           "type": "scatter",
           "x": [
            275860329
           ],
           "xaxis": "x",
           "y": [
            275860329
           ],
           "yaxis": "y"
          }
         ],
         "name": "1990"
        },
        {
         "data": [
          {
           "hovertemplate": "<b>%{hovertext}</b><br><br>continent=Africa<br>year=1991<br> Population=%{marker.size}<extra></extra>",
           "hovertext": [
            "Africa"
           ],
           "ids": [
            "Africa"
           ],
           "legendgroup": "Africa",
           "marker": {
            "color": "#636efa",
            "size": [
             655040493
            ],
            "sizemode": "area",
            "sizeref": 9811051.535,
            "symbol": "circle"
           },
           "mode": "markers",
           "name": "Africa",
           "orientation": "v",
           "showlegend": true,
           "type": "scatter",
           "x": [
            655040493
           ],
           "xaxis": "x",
           "y": [
            655040493
           ],
           "yaxis": "y"
          },
          {
           "hovertemplate": "<b>%{hovertext}</b><br><br>continent=North America<br>year=1991<br> Population=%{marker.size}<extra></extra>",
           "hovertext": [
            "North America"
           ],
           "ids": [
            "North America"
           ],
           "legendgroup": "North America",
           "marker": {
            "color": "#EF553B",
            "size": [
             279695833
            ],
            "sizemode": "area",
            "sizeref": 9811051.535,
            "symbol": "circle"
           },
           "mode": "markers",
           "name": "North America",
           "orientation": "v",
           "showlegend": true,
           "type": "scatter",
           "x": [
            279695833
           ],
           "xaxis": "x",
           "y": [
            279695833
           ],
           "yaxis": "y"
          }
         ],
         "name": "1991"
        },
        {
         "data": [
          {
           "hovertemplate": "<b>%{hovertext}</b><br><br>continent=Africa<br>year=1992<br> Population=%{marker.size}<extra></extra>",
           "hovertext": [
            "Africa"
           ],
           "ids": [
            "Africa"
           ],
           "legendgroup": "Africa",
           "marker": {
            "color": "#636efa",
            "size": [
             671931548
            ],
            "sizemode": "area",
            "sizeref": 9811051.535,
            "symbol": "circle"
           },
           "mode": "markers",
           "name": "Africa",
           "orientation": "v",
           "showlegend": true,
           "type": "scatter",
           "x": [
            671931548
           ],
           "xaxis": "x",
           "y": [
            671931548
           ],
           "yaxis": "y"
          },
          {
           "hovertemplate": "<b>%{hovertext}</b><br><br>continent=North America<br>year=1992<br> Population=%{marker.size}<extra></extra>",
           "hovertext": [
            "North America"
           ],
           "ids": [
            "North America"
           ],
           "legendgroup": "North America",
           "marker": {
            "color": "#EF553B",
            "size": [
             283643363
            ],
            "sizemode": "area",
            "sizeref": 9811051.535,
            "symbol": "circle"
           },
           "mode": "markers",
           "name": "North America",
           "orientation": "v",
           "showlegend": true,
           "type": "scatter",
           "x": [
            283643363
           ],
           "xaxis": "x",
           "y": [
            283643363
           ],
           "yaxis": "y"
          }
         ],
         "name": "1992"
        },
        {
         "data": [
          {
           "hovertemplate": "<b>%{hovertext}</b><br><br>continent=Africa<br>year=1993<br> Population=%{marker.size}<extra></extra>",
           "hovertext": [
            "Africa"
           ],
           "ids": [
            "Africa"
           ],
           "legendgroup": "Africa",
           "marker": {
            "color": "#636efa",
            "size": [
             689139958
            ],
            "sizemode": "area",
            "sizeref": 9811051.535,
            "symbol": "circle"
           },
           "mode": "markers",
           "name": "Africa",
           "orientation": "v",
           "showlegend": true,
           "type": "scatter",
           "x": [
            689139958
           ],
           "xaxis": "x",
           "y": [
            689139958
           ],
           "yaxis": "y"
          },
          {
           "hovertemplate": "<b>%{hovertext}</b><br><br>continent=North America<br>year=1993<br> Population=%{marker.size}<extra></extra>",
           "hovertext": [
            "North America"
           ],
           "ids": [
            "North America"
           ],
           "legendgroup": "North America",
           "marker": {
            "color": "#EF553B",
            "size": [
             287568763
            ],
            "sizemode": "area",
            "sizeref": 9811051.535,
            "symbol": "circle"
           },
           "mode": "markers",
           "name": "North America",
           "orientation": "v",
           "showlegend": true,
           "type": "scatter",
           "x": [
            287568763
           ],
           "xaxis": "x",
           "y": [
            287568763
           ],
           "yaxis": "y"
          }
         ],
         "name": "1993"
        },
        {
         "data": [
          {
           "hovertemplate": "<b>%{hovertext}</b><br><br>continent=Africa<br>year=1994<br> Population=%{marker.size}<extra></extra>",
           "hovertext": [
            "Africa"
           ],
           "ids": [
            "Africa"
           ],
           "legendgroup": "Africa",
           "marker": {
            "color": "#636efa",
            "size": [
             706488294
            ],
            "sizemode": "area",
            "sizeref": 9811051.535,
            "symbol": "circle"
           },
           "mode": "markers",
           "name": "Africa",
           "orientation": "v",
           "showlegend": true,
           "type": "scatter",
           "x": [
            706488294
           ],
           "xaxis": "x",
           "y": [
            706488294
           ],
           "yaxis": "y"
          },
          {
           "hovertemplate": "<b>%{hovertext}</b><br><br>continent=North America<br>year=1994<br> Population=%{marker.size}<extra></extra>",
           "hovertext": [
            "North America"
           ],
           "ids": [
            "North America"
           ],
           "legendgroup": "North America",
           "marker": {
            "color": "#EF553B",
            "size": [
             291375997
            ],
            "sizemode": "area",
            "sizeref": 9811051.535,
            "symbol": "circle"
           },
           "mode": "markers",
           "name": "North America",
           "orientation": "v",
           "showlegend": true,
           "type": "scatter",
           "x": [
            291375997
           ],
           "xaxis": "x",
           "y": [
            291375997
           ],
           "yaxis": "y"
          }
         ],
         "name": "1994"
        },
        {
         "data": [
          {
           "hovertemplate": "<b>%{hovertext}</b><br><br>continent=Africa<br>year=1995<br> Population=%{marker.size}<extra></extra>",
           "hovertext": [
            "Africa"
           ],
           "ids": [
            "Africa"
           ],
           "legendgroup": "Africa",
           "marker": {
            "color": "#636efa",
            "size": [
             724331670
            ],
            "sizemode": "area",
            "sizeref": 9811051.535,
            "symbol": "circle"
           },
           "mode": "markers",
           "name": "Africa",
           "orientation": "v",
           "showlegend": true,
           "type": "scatter",
           "x": [
            724331670
           ],
           "xaxis": "x",
           "y": [
            724331670
           ],
           "yaxis": "y"
          },
          {
           "hovertemplate": "<b>%{hovertext}</b><br><br>continent=North America<br>year=1995<br> Population=%{marker.size}<extra></extra>",
           "hovertext": [
            "North America"
           ],
           "ids": [
            "North America"
           ],
           "legendgroup": "North America",
           "marker": {
            "color": "#EF553B",
            "size": [
             295071643
            ],
            "sizemode": "area",
            "sizeref": 9811051.535,
            "symbol": "circle"
           },
           "mode": "markers",
           "name": "North America",
           "orientation": "v",
           "showlegend": true,
           "type": "scatter",
           "x": [
            295071643
           ],
           "xaxis": "x",
           "y": [
            295071643
           ],
           "yaxis": "y"
          }
         ],
         "name": "1995"
        },
        {
         "data": [
          {
           "hovertemplate": "<b>%{hovertext}</b><br><br>continent=Africa<br>year=1996<br> Population=%{marker.size}<extra></extra>",
           "hovertext": [
            "Africa"
           ],
           "ids": [
            "Africa"
           ],
           "legendgroup": "Africa",
           "marker": {
            "color": "#636efa",
            "size": [
             742764748
            ],
            "sizemode": "area",
            "sizeref": 9811051.535,
            "symbol": "circle"
           },
           "mode": "markers",
           "name": "Africa",
           "orientation": "v",
           "showlegend": true,
           "type": "scatter",
           "x": [
            742764748
           ],
           "xaxis": "x",
           "y": [
            742764748
           ],
           "yaxis": "y"
          },
          {
           "hovertemplate": "<b>%{hovertext}</b><br><br>continent=North America<br>year=1996<br> Population=%{marker.size}<extra></extra>",
           "hovertext": [
            "North America"
           ],
           "ids": [
            "North America"
           ],
           "legendgroup": "North America",
           "marker": {
            "color": "#EF553B",
            "size": [
             298700407
            ],
            "sizemode": "area",
            "sizeref": 9811051.535,
            "symbol": "circle"
           },
           "mode": "markers",
           "name": "North America",
           "orientation": "v",
           "showlegend": true,
           "type": "scatter",
           "x": [
            298700407
           ],
           "xaxis": "x",
           "y": [
            298700407
           ],
           "yaxis": "y"
          }
         ],
         "name": "1996"
        },
        {
         "data": [
          {
           "hovertemplate": "<b>%{hovertext}</b><br><br>continent=Africa<br>year=1997<br> Population=%{marker.size}<extra></extra>",
           "hovertext": [
            "Africa"
           ],
           "ids": [
            "Africa"
           ],
           "legendgroup": "Africa",
           "marker": {
            "color": "#636efa",
            "size": [
             761224444
            ],
            "sizemode": "area",
            "sizeref": 9811051.535,
            "symbol": "circle"
           },
           "mode": "markers",
           "name": "Africa",
           "orientation": "v",
           "showlegend": true,
           "type": "scatter",
           "x": [
            761224444
           ],
           "xaxis": "x",
           "y": [
            761224444
           ],
           "yaxis": "y"
          },
          {
           "hovertemplate": "<b>%{hovertext}</b><br><br>continent=North America<br>year=1997<br> Population=%{marker.size}<extra></extra>",
           "hovertext": [
            "North America"
           ],
           "ids": [
            "North America"
           ],
           "legendgroup": "North America",
           "marker": {
            "color": "#EF553B",
            "size": [
             302400883
            ],
            "sizemode": "area",
            "sizeref": 9811051.535,
            "symbol": "circle"
           },
           "mode": "markers",
           "name": "North America",
           "orientation": "v",
           "showlegend": true,
           "type": "scatter",
           "x": [
            302400883
           ],
           "xaxis": "x",
           "y": [
            302400883
           ],
           "yaxis": "y"
          }
         ],
         "name": "1997"
        },
        {
         "data": [
          {
           "hovertemplate": "<b>%{hovertext}</b><br><br>continent=Africa<br>year=1998<br> Population=%{marker.size}<extra></extra>",
           "hovertext": [
            "Africa"
           ],
           "ids": [
            "Africa"
           ],
           "legendgroup": "Africa",
           "marker": {
            "color": "#636efa",
            "size": [
             779908035
            ],
            "sizemode": "area",
            "sizeref": 9811051.535,
            "symbol": "circle"
           },
           "mode": "markers",
           "name": "Africa",
           "orientation": "v",
           "showlegend": true,
           "type": "scatter",
           "x": [
            779908035
           ],
           "xaxis": "x",
           "y": [
            779908035
           ],
           "yaxis": "y"
          },
          {
           "hovertemplate": "<b>%{hovertext}</b><br><br>continent=North America<br>year=1998<br> Population=%{marker.size}<extra></extra>",
           "hovertext": [
            "North America"
           ],
           "ids": [
            "North America"
           ],
           "legendgroup": "North America",
           "marker": {
            "color": "#EF553B",
            "size": [
             306102899
            ],
            "sizemode": "area",
            "sizeref": 9811051.535,
            "symbol": "circle"
           },
           "mode": "markers",
           "name": "North America",
           "orientation": "v",
           "showlegend": true,
           "type": "scatter",
           "x": [
            306102899
           ],
           "xaxis": "x",
           "y": [
            306102899
           ],
           "yaxis": "y"
          }
         ],
         "name": "1998"
        },
        {
         "data": [
          {
           "hovertemplate": "<b>%{hovertext}</b><br><br>continent=Africa<br>year=1999<br> Population=%{marker.size}<extra></extra>",
           "hovertext": [
            "Africa"
           ],
           "ids": [
            "Africa"
           ],
           "legendgroup": "Africa",
           "marker": {
            "color": "#636efa",
            "size": [
             799099340
            ],
            "sizemode": "area",
            "sizeref": 9811051.535,
            "symbol": "circle"
           },
           "mode": "markers",
           "name": "Africa",
           "orientation": "v",
           "showlegend": true,
           "type": "scatter",
           "x": [
            799099340
           ],
           "xaxis": "x",
           "y": [
            799099340
           ],
           "yaxis": "y"
          },
          {
           "hovertemplate": "<b>%{hovertext}</b><br><br>continent=North America<br>year=1999<br> Population=%{marker.size}<extra></extra>",
           "hovertext": [
            "North America"
           ],
           "ids": [
            "North America"
           ],
           "legendgroup": "North America",
           "marker": {
            "color": "#EF553B",
            "size": [
             309704740
            ],
            "sizemode": "area",
            "sizeref": 9811051.535,
            "symbol": "circle"
           },
           "mode": "markers",
           "name": "North America",
           "orientation": "v",
           "showlegend": true,
           "type": "scatter",
           "x": [
            309704740
           ],
           "xaxis": "x",
           "y": [
            309704740
           ],
           "yaxis": "y"
          }
         ],
         "name": "1999"
        },
        {
         "data": [
          {
           "hovertemplate": "<b>%{hovertext}</b><br><br>continent=Africa<br>year=2000<br> Population=%{marker.size}<extra></extra>",
           "hovertext": [
            "Africa"
           ],
           "ids": [
            "Africa"
           ],
           "legendgroup": "Africa",
           "marker": {
            "color": "#636efa",
            "size": [
             818952057
            ],
            "sizemode": "area",
            "sizeref": 9811051.535,
            "symbol": "circle"
           },
           "mode": "markers",
           "name": "Africa",
           "orientation": "v",
           "showlegend": true,
           "type": "scatter",
           "x": [
            818952057
           ],
           "xaxis": "x",
           "y": [
            818952057
           ],
           "yaxis": "y"
          },
          {
           "hovertemplate": "<b>%{hovertext}</b><br><br>continent=North America<br>year=2000<br> Population=%{marker.size}<extra></extra>",
           "hovertext": [
            "North America"
           ],
           "ids": [
            "North America"
           ],
           "legendgroup": "North America",
           "marker": {
            "color": "#EF553B",
            "size": [
             313205695
            ],
            "sizemode": "area",
            "sizeref": 9811051.535,
            "symbol": "circle"
           },
           "mode": "markers",
           "name": "North America",
           "orientation": "v",
           "showlegend": true,
           "type": "scatter",
           "x": [
            313205695
           ],
           "xaxis": "x",
           "y": [
            313205695
           ],
           "yaxis": "y"
          }
         ],
         "name": "2000"
        },
        {
         "data": [
          {
           "hovertemplate": "<b>%{hovertext}</b><br><br>continent=Africa<br>year=2001<br> Population=%{marker.size}<extra></extra>",
           "hovertext": [
            "Africa"
           ],
           "ids": [
            "Africa"
           ],
           "legendgroup": "Africa",
           "marker": {
            "color": "#636efa",
            "size": [
             839463871
            ],
            "sizemode": "area",
            "sizeref": 9811051.535,
            "symbol": "circle"
           },
           "mode": "markers",
           "name": "Africa",
           "orientation": "v",
           "showlegend": true,
           "type": "scatter",
           "x": [
            839463871
           ],
           "xaxis": "x",
           "y": [
            839463871
           ],
           "yaxis": "y"
          },
          {
           "hovertemplate": "<b>%{hovertext}</b><br><br>continent=North America<br>year=2001<br> Population=%{marker.size}<extra></extra>",
           "hovertext": [
            "North America"
           ],
           "ids": [
            "North America"
           ],
           "legendgroup": "North America",
           "marker": {
            "color": "#EF553B",
            "size": [
             316597666
            ],
            "sizemode": "area",
            "sizeref": 9811051.535,
            "symbol": "circle"
           },
           "mode": "markers",
           "name": "North America",
           "orientation": "v",
           "showlegend": true,
           "type": "scatter",
           "x": [
            316597666
           ],
           "xaxis": "x",
           "y": [
            316597666
           ],
           "yaxis": "y"
          }
         ],
         "name": "2001"
        },
        {
         "data": [
          {
           "hovertemplate": "<b>%{hovertext}</b><br><br>continent=Africa<br>year=2002<br> Population=%{marker.size}<extra></extra>",
           "hovertext": [
            "Africa"
           ],
           "ids": [
            "Africa"
           ],
           "legendgroup": "Africa",
           "marker": {
            "color": "#636efa",
            "size": [
             860611461
            ],
            "sizemode": "area",
            "sizeref": 9811051.535,
            "symbol": "circle"
           },
           "mode": "markers",
           "name": "Africa",
           "orientation": "v",
           "showlegend": true,
           "type": "scatter",
           "x": [
            860611461
           ],
           "xaxis": "x",
           "y": [
            860611461
           ],
           "yaxis": "y"
          },
          {
           "hovertemplate": "<b>%{hovertext}</b><br><br>continent=North America<br>year=2002<br> Population=%{marker.size}<extra></extra>",
           "hovertext": [
            "North America"
           ],
           "ids": [
            "North America"
           ],
           "legendgroup": "North America",
           "marker": {
            "color": "#EF553B",
            "size": [
             319797595
            ],
            "sizemode": "area",
            "sizeref": 9811051.535,
            "symbol": "circle"
           },
           "mode": "markers",
           "name": "North America",
           "orientation": "v",
           "showlegend": true,
           "type": "scatter",
           "x": [
            319797595
           ],
           "xaxis": "x",
           "y": [
            319797595
           ],
           "yaxis": "y"
          }
         ],
         "name": "2002"
        },
        {
         "data": [
          {
           "hovertemplate": "<b>%{hovertext}</b><br><br>continent=Africa<br>year=2003<br> Population=%{marker.size}<extra></extra>",
           "hovertext": [
            "Africa"
           ],
           "ids": [
            "Africa"
           ],
           "legendgroup": "Africa",
           "marker": {
            "color": "#636efa",
            "size": [
             882349262
            ],
            "sizemode": "area",
            "sizeref": 9811051.535,
            "symbol": "circle"
           },
           "mode": "markers",
           "name": "Africa",
           "orientation": "v",
           "showlegend": true,
           "type": "scatter",
           "x": [
            882349262
           ],
           "xaxis": "x",
           "y": [
            882349262
           ],
           "yaxis": "y"
          },
          {
           "hovertemplate": "<b>%{hovertext}</b><br><br>continent=North America<br>year=2003<br> Population=%{marker.size}<extra></extra>",
           "hovertext": [
            "North America"
           ],
           "ids": [
            "North America"
           ],
           "legendgroup": "North America",
           "marker": {
            "color": "#EF553B",
            "size": [
             322854669
            ],
            "sizemode": "area",
            "sizeref": 9811051.535,
            "symbol": "circle"
           },
           "mode": "markers",
           "name": "North America",
           "orientation": "v",
           "showlegend": true,
           "type": "scatter",
           "x": [
            322854669
           ],
           "xaxis": "x",
           "y": [
            322854669
           ],
           "yaxis": "y"
          }
         ],
         "name": "2003"
        },
        {
         "data": [
          {
           "hovertemplate": "<b>%{hovertext}</b><br><br>continent=Africa<br>year=2004<br> Population=%{marker.size}<extra></extra>",
           "hovertext": [
            "Africa"
           ],
           "ids": [
            "Africa"
           ],
           "legendgroup": "Africa",
           "marker": {
            "color": "#636efa",
            "size": [
             904781335
            ],
            "sizemode": "area",
            "sizeref": 9811051.535,
            "symbol": "circle"
           },
           "mode": "markers",
           "name": "Africa",
           "orientation": "v",
           "showlegend": true,
           "type": "scatter",
           "x": [
            904781335
           ],
           "xaxis": "x",
           "y": [
            904781335
           ],
           "yaxis": "y"
          },
          {
           "hovertemplate": "<b>%{hovertext}</b><br><br>continent=North America<br>year=2004<br> Population=%{marker.size}<extra></extra>",
           "hovertext": [
            "North America"
           ],
           "ids": [
            "North America"
           ],
           "legendgroup": "North America",
           "marker": {
            "color": "#EF553B",
            "size": [
             325985321
            ],
            "sizemode": "area",
            "sizeref": 9811051.535,
            "symbol": "circle"
           },
           "mode": "markers",
           "name": "North America",
           "orientation": "v",
           "showlegend": true,
           "type": "scatter",
           "x": [
            325985321
           ],
           "xaxis": "x",
           "y": [
            325985321
           ],
           "yaxis": "y"
          }
         ],
         "name": "2004"
        },
        {
         "data": [
          {
           "hovertemplate": "<b>%{hovertext}</b><br><br>continent=Africa<br>year=2005<br> Population=%{marker.size}<extra></extra>",
           "hovertext": [
            "Africa"
           ],
           "ids": [
            "Africa"
           ],
           "legendgroup": "Africa",
           "marker": {
            "color": "#636efa",
            "size": [
             927898100
            ],
            "sizemode": "area",
            "sizeref": 9811051.535,
            "symbol": "circle"
           },
           "mode": "markers",
           "name": "Africa",
           "orientation": "v",
           "showlegend": true,
           "type": "scatter",
           "x": [
            927898100
           ],
           "xaxis": "x",
           "y": [
            927898100
           ],
           "yaxis": "y"
          },
          {
           "hovertemplate": "<b>%{hovertext}</b><br><br>continent=North America<br>year=2005<br> Population=%{marker.size}<extra></extra>",
           "hovertext": [
            "North America"
           ],
           "ids": [
            "North America"
           ],
           "legendgroup": "North America",
           "marker": {
            "color": "#EF553B",
            "size": [
             329184546
            ],
            "sizemode": "area",
            "sizeref": 9811051.535,
            "symbol": "circle"
           },
           "mode": "markers",
           "name": "North America",
           "orientation": "v",
           "showlegend": true,
           "type": "scatter",
           "x": [
            329184546
           ],
           "xaxis": "x",
           "y": [
            329184546
           ],
           "yaxis": "y"
          }
         ],
         "name": "2005"
        },
        {
         "data": [
          {
           "hovertemplate": "<b>%{hovertext}</b><br><br>continent=Africa<br>year=2006<br> Population=%{marker.size}<extra></extra>",
           "hovertext": [
            "Africa"
           ],
           "ids": [
            "Africa"
           ],
           "legendgroup": "Africa",
           "marker": {
            "color": "#636efa",
            "size": [
             951740272
            ],
            "sizemode": "area",
            "sizeref": 9811051.535,
            "symbol": "circle"
           },
           "mode": "markers",
           "name": "Africa",
           "orientation": "v",
           "showlegend": true,
           "type": "scatter",
           "x": [
            951740272
           ],
           "xaxis": "x",
           "y": [
            951740272
           ],
           "yaxis": "y"
          },
          {
           "hovertemplate": "<b>%{hovertext}</b><br><br>continent=North America<br>year=2006<br> Population=%{marker.size}<extra></extra>",
           "hovertext": [
            "North America"
           ],
           "ids": [
            "North America"
           ],
           "legendgroup": "North America",
           "marker": {
            "color": "#EF553B",
            "size": [
             332410934
            ],
            "sizemode": "area",
            "sizeref": 9811051.535,
            "symbol": "circle"
           },
           "mode": "markers",
           "name": "North America",
           "orientation": "v",
           "showlegend": true,
           "type": "scatter",
           "x": [
            332410934
           ],
           "xaxis": "x",
           "y": [
            332410934
           ],
           "yaxis": "y"
          }
         ],
         "name": "2006"
        },
        {
         "data": [
          {
           "hovertemplate": "<b>%{hovertext}</b><br><br>continent=Africa<br>year=2007<br> Population=%{marker.size}<extra></extra>",
           "hovertext": [
            "Africa"
           ],
           "ids": [
            "Africa"
           ],
           "legendgroup": "Africa",
           "marker": {
            "color": "#636efa",
            "size": [
             976461444
            ],
            "sizemode": "area",
            "sizeref": 9811051.535,
            "symbol": "circle"
           },
           "mode": "markers",
           "name": "Africa",
           "orientation": "v",
           "showlegend": true,
           "type": "scatter",
           "x": [
            976461444
           ],
           "xaxis": "x",
           "y": [
            976461444
           ],
           "yaxis": "y"
          },
          {
           "hovertemplate": "<b>%{hovertext}</b><br><br>continent=North America<br>year=2007<br> Population=%{marker.size}<extra></extra>",
           "hovertext": [
            "North America"
           ],
           "ids": [
            "North America"
           ],
           "legendgroup": "North America",
           "marker": {
            "color": "#EF553B",
            "size": [
             335731785
            ],
            "sizemode": "area",
            "sizeref": 9811051.535,
            "symbol": "circle"
           },
           "mode": "markers",
           "name": "North America",
           "orientation": "v",
           "showlegend": true,
           "type": "scatter",
           "x": [
            335731785
           ],
           "xaxis": "x",
           "y": [
            335731785
           ],
           "yaxis": "y"
          }
         ],
         "name": "2007"
        },
        {
         "data": [
          {
           "hovertemplate": "<b>%{hovertext}</b><br><br>continent=Africa<br>year=2008<br> Population=%{marker.size}<extra></extra>",
           "hovertext": [
            "Africa"
           ],
           "ids": [
            "Africa"
           ],
           "legendgroup": "Africa",
           "marker": {
            "color": "#636efa",
            "size": [
             1001981281
            ],
            "sizemode": "area",
            "sizeref": 9811051.535,
            "symbol": "circle"
           },
           "mode": "markers",
           "name": "Africa",
           "orientation": "v",
           "showlegend": true,
           "type": "scatter",
           "x": [
            1001981281
           ],
           "xaxis": "x",
           "y": [
            1001981281
           ],
           "yaxis": "y"
          },
          {
           "hovertemplate": "<b>%{hovertext}</b><br><br>continent=North America<br>year=2008<br> Population=%{marker.size}<extra></extra>",
           "hovertext": [
            "North America"
           ],
           "ids": [
            "North America"
           ],
           "legendgroup": "North America",
           "marker": {
            "color": "#EF553B",
            "size": [
             339039344
            ],
            "sizemode": "area",
            "sizeref": 9811051.535,
            "symbol": "circle"
           },
           "mode": "markers",
           "name": "North America",
           "orientation": "v",
           "showlegend": true,
           "type": "scatter",
           "x": [
            339039344
           ],
           "xaxis": "x",
           "y": [
            339039344
           ],
           "yaxis": "y"
          }
         ],
         "name": "2008"
        },
        {
         "data": [
          {
           "hovertemplate": "<b>%{hovertext}</b><br><br>continent=Africa<br>year=2009<br> Population=%{marker.size}<extra></extra>",
           "hovertext": [
            "Africa"
           ],
           "ids": [
            "Africa"
           ],
           "legendgroup": "Africa",
           "marker": {
            "color": "#636efa",
            "size": [
             1028200282
            ],
            "sizemode": "area",
            "sizeref": 9811051.535,
            "symbol": "circle"
           },
           "mode": "markers",
           "name": "Africa",
           "orientation": "v",
           "showlegend": true,
           "type": "scatter",
           "x": [
            1028200282
           ],
           "xaxis": "x",
           "y": [
            1028200282
           ],
           "yaxis": "y"
          },
          {
           "hovertemplate": "<b>%{hovertext}</b><br><br>continent=North America<br>year=2009<br> Population=%{marker.size}<extra></extra>",
           "hovertext": [
            "North America"
           ],
           "ids": [
            "North America"
           ],
           "legendgroup": "North America",
           "marker": {
            "color": "#EF553B",
            "size": [
             342231802
            ],
            "sizemode": "area",
            "sizeref": 9811051.535,
            "symbol": "circle"
           },
           "mode": "markers",
           "name": "North America",
           "orientation": "v",
           "showlegend": true,
           "type": "scatter",
           "x": [
            342231802
           ],
           "xaxis": "x",
           "y": [
            342231802
           ],
           "yaxis": "y"
          }
         ],
         "name": "2009"
        },
        {
         "data": [
          {
           "hovertemplate": "<b>%{hovertext}</b><br><br>continent=Africa<br>year=2010<br> Population=%{marker.size}<extra></extra>",
           "hovertext": [
            "Africa"
           ],
           "ids": [
            "Africa"
           ],
           "legendgroup": "Africa",
           "marker": {
            "color": "#636efa",
            "size": [
             1055233397
            ],
            "sizemode": "area",
            "sizeref": 9811051.535,
            "symbol": "circle"
           },
           "mode": "markers",
           "name": "Africa",
           "orientation": "v",
           "showlegend": true,
           "type": "scatter",
           "x": [
            1055233397
           ],
           "xaxis": "x",
           "y": [
            1055233397
           ],
           "yaxis": "y"
          },
          {
           "hovertemplate": "<b>%{hovertext}</b><br><br>continent=North America<br>year=2010<br> Population=%{marker.size}<extra></extra>",
           "hovertext": [
            "North America"
           ],
           "ids": [
            "North America"
           ],
           "legendgroup": "North America",
           "marker": {
            "color": "#EF553B",
            "size": [
             345272107
            ],
            "sizemode": "area",
            "sizeref": 9811051.535,
            "symbol": "circle"
           },
           "mode": "markers",
           "name": "North America",
           "orientation": "v",
           "showlegend": true,
           "type": "scatter",
           "x": [
            345272107
           ],
           "xaxis": "x",
           "y": [
            345272107
           ],
           "yaxis": "y"
          }
         ],
         "name": "2010"
        },
        {
         "data": [
          {
           "hovertemplate": "<b>%{hovertext}</b><br><br>continent=Africa<br>year=2011<br> Population=%{marker.size}<extra></extra>",
           "hovertext": [
            "Africa"
           ],
           "ids": [
            "Africa"
           ],
           "legendgroup": "Africa",
           "marker": {
            "color": "#636efa",
            "size": [
             1082675800
            ],
            "sizemode": "area",
            "sizeref": 9811051.535,
            "symbol": "circle"
           },
           "mode": "markers",
           "name": "Africa",
           "orientation": "v",
           "showlegend": true,
           "type": "scatter",
           "x": [
            1082675800
           ],
           "xaxis": "x",
           "y": [
            1082675800
           ],
           "yaxis": "y"
          },
          {
           "hovertemplate": "<b>%{hovertext}</b><br><br>continent=North America<br>year=2011<br> Population=%{marker.size}<extra></extra>",
           "hovertext": [
            "North America"
           ],
           "ids": [
            "North America"
           ],
           "legendgroup": "North America",
           "marker": {
            "color": "#EF553B",
            "size": [
             348326006
            ],
            "sizemode": "area",
            "sizeref": 9811051.535,
            "symbol": "circle"
           },
           "mode": "markers",
           "name": "North America",
           "orientation": "v",
           "showlegend": true,
           "type": "scatter",
           "x": [
            348326006
           ],
           "xaxis": "x",
           "y": [
            348326006
           ],
           "yaxis": "y"
          }
         ],
         "name": "2011"
        },
        {
         "data": [
          {
           "hovertemplate": "<b>%{hovertext}</b><br><br>continent=Africa<br>year=2012<br> Population=%{marker.size}<extra></extra>",
           "hovertext": [
            "Africa"
           ],
           "ids": [
            "Africa"
           ],
           "legendgroup": "Africa",
           "marker": {
            "color": "#636efa",
            "size": [
             1110797234
            ],
            "sizemode": "area",
            "sizeref": 9811051.535,
            "symbol": "circle"
           },
           "mode": "markers",
           "name": "Africa",
           "orientation": "v",
           "showlegend": true,
           "type": "scatter",
           "x": [
            1110797234
           ],
           "xaxis": "x",
           "y": [
            1110797234
           ],
           "yaxis": "y"
          },
          {
           "hovertemplate": "<b>%{hovertext}</b><br><br>continent=North America<br>year=2012<br> Population=%{marker.size}<extra></extra>",
           "hovertext": [
            "North America"
           ],
           "ids": [
            "North America"
           ],
           "legendgroup": "North America",
           "marker": {
            "color": "#EF553B",
            "size": [
             351468986
            ],
            "sizemode": "area",
            "sizeref": 9811051.535,
            "symbol": "circle"
           },
           "mode": "markers",
           "name": "North America",
           "orientation": "v",
           "showlegend": true,
           "type": "scatter",
           "x": [
            351468986
           ],
           "xaxis": "x",
           "y": [
            351468986
           ],
           "yaxis": "y"
          }
         ],
         "name": "2012"
        },
        {
         "data": [
          {
           "hovertemplate": "<b>%{hovertext}</b><br><br>continent=Africa<br>year=2013<br> Population=%{marker.size}<extra></extra>",
           "hovertext": [
            "Africa"
           ],
           "ids": [
            "Africa"
           ],
           "legendgroup": "Africa",
           "marker": {
            "color": "#636efa",
            "size": [
             1140180580
            ],
            "sizemode": "area",
            "sizeref": 9811051.535,
            "symbol": "circle"
           },
           "mode": "markers",
           "name": "Africa",
           "orientation": "v",
           "showlegend": true,
           "type": "scatter",
           "x": [
            1140180580
           ],
           "xaxis": "x",
           "y": [
            1140180580
           ],
           "yaxis": "y"
          },
          {
           "hovertemplate": "<b>%{hovertext}</b><br><br>continent=North America<br>year=2013<br> Population=%{marker.size}<extra></extra>",
           "hovertext": [
            "North America"
           ],
           "ids": [
            "North America"
           ],
           "legendgroup": "North America",
           "marker": {
            "color": "#EF553B",
            "size": [
             354564457
            ],
            "sizemode": "area",
            "sizeref": 9811051.535,
            "symbol": "circle"
           },
           "mode": "markers",
           "name": "North America",
           "orientation": "v",
           "showlegend": true,
           "type": "scatter",
           "x": [
            354564457
           ],
           "xaxis": "x",
           "y": [
            354564457
           ],
           "yaxis": "y"
          }
         ],
         "name": "2013"
        },
        {
         "data": [
          {
           "hovertemplate": "<b>%{hovertext}</b><br><br>continent=Africa<br>year=2014<br> Population=%{marker.size}<extra></extra>",
           "hovertext": [
            "Africa"
           ],
           "ids": [
            "Africa"
           ],
           "legendgroup": "Africa",
           "marker": {
            "color": "#636efa",
            "size": [
             1170299023
            ],
            "sizemode": "area",
            "sizeref": 9811051.535,
            "symbol": "circle"
           },
           "mode": "markers",
           "name": "Africa",
           "orientation": "v",
           "showlegend": true,
           "type": "scatter",
           "x": [
            1170299023
           ],
           "xaxis": "x",
           "y": [
            1170299023
           ],
           "yaxis": "y"
          },
          {
           "hovertemplate": "<b>%{hovertext}</b><br><br>continent=North America<br>year=2014<br> Population=%{marker.size}<extra></extra>",
           "hovertext": [
            "North America"
           ],
           "ids": [
            "North America"
           ],
           "legendgroup": "North America",
           "marker": {
            "color": "#EF553B",
            "size": [
             357563868
            ],
            "sizemode": "area",
            "sizeref": 9811051.535,
            "symbol": "circle"
           },
           "mode": "markers",
           "name": "North America",
           "orientation": "v",
           "showlegend": true,
           "type": "scatter",
           "x": [
            357563868
           ],
           "xaxis": "x",
           "y": [
            357563868
           ],
           "yaxis": "y"
          }
         ],
         "name": "2014"
        },
        {
         "data": [
          {
           "hovertemplate": "<b>%{hovertext}</b><br><br>continent=Africa<br>year=2015<br> Population=%{marker.size}<extra></extra>",
           "hovertext": [
            "Africa"
           ],
           "ids": [
            "Africa"
           ],
           "legendgroup": "Africa",
           "marker": {
            "color": "#636efa",
            "size": [
             1201107938
            ],
            "sizemode": "area",
            "sizeref": 9811051.535,
            "symbol": "circle"
           },
           "mode": "markers",
           "name": "Africa",
           "orientation": "v",
           "showlegend": true,
           "type": "scatter",
           "x": [
            1201107938
           ],
           "xaxis": "x",
           "y": [
            1201107938
           ],
           "yaxis": "y"
          },
          {
           "hovertemplate": "<b>%{hovertext}</b><br><br>continent=North America<br>year=2015<br> Population=%{marker.size}<extra></extra>",
           "hovertext": [
            "North America"
           ],
           "ids": [
            "North America"
           ],
           "legendgroup": "North America",
           "marker": {
            "color": "#EF553B",
            "size": [
             360464919
            ],
            "sizemode": "area",
            "sizeref": 9811051.535,
            "symbol": "circle"
           },
           "mode": "markers",
           "name": "North America",
           "orientation": "v",
           "showlegend": true,
           "type": "scatter",
           "x": [
            360464919
           ],
           "xaxis": "x",
           "y": [
            360464919
           ],
           "yaxis": "y"
          }
         ],
         "name": "2015"
        },
        {
         "data": [
          {
           "hovertemplate": "<b>%{hovertext}</b><br><br>continent=Africa<br>year=2016<br> Population=%{marker.size}<extra></extra>",
           "hovertext": [
            "Africa"
           ],
           "ids": [
            "Africa"
           ],
           "legendgroup": "Africa",
           "marker": {
            "color": "#636efa",
            "size": [
             1232111603
            ],
            "sizemode": "area",
            "sizeref": 9811051.535,
            "symbol": "circle"
           },
           "mode": "markers",
           "name": "Africa",
           "orientation": "v",
           "showlegend": true,
           "type": "scatter",
           "x": [
            1232111603
           ],
           "xaxis": "x",
           "y": [
            1232111603
           ],
           "yaxis": "y"
          },
          {
           "hovertemplate": "<b>%{hovertext}</b><br><br>continent=North America<br>year=2016<br> Population=%{marker.size}<extra></extra>",
           "hovertext": [
            "North America"
           ],
           "ids": [
            "North America"
           ],
           "legendgroup": "North America",
           "marker": {
            "color": "#EF553B",
            "size": [
             363448679
            ],
            "sizemode": "area",
            "sizeref": 9811051.535,
            "symbol": "circle"
           },
           "mode": "markers",
           "name": "North America",
           "orientation": "v",
           "showlegend": true,
           "type": "scatter",
           "x": [
            363448679
           ],
           "xaxis": "x",
           "y": [
            363448679
           ],
           "yaxis": "y"
          }
         ],
         "name": "2016"
        },
        {
         "data": [
          {
           "hovertemplate": "<b>%{hovertext}</b><br><br>continent=Africa<br>year=2017<br> Population=%{marker.size}<extra></extra>",
           "hovertext": [
            "Africa"
           ],
           "ids": [
            "Africa"
           ],
           "legendgroup": "Africa",
           "marker": {
            "color": "#636efa",
            "size": [
             1263333733
            ],
            "sizemode": "area",
            "sizeref": 9811051.535,
            "symbol": "circle"
           },
           "mode": "markers",
           "name": "Africa",
           "orientation": "v",
           "showlegend": true,
           "type": "scatter",
           "x": [
            1263333733
           ],
           "xaxis": "x",
           "y": [
            1263333733
           ],
           "yaxis": "y"
          },
          {
           "hovertemplate": "<b>%{hovertext}</b><br><br>continent=North America<br>year=2017<br> Population=%{marker.size}<extra></extra>",
           "hovertext": [
            "North America"
           ],
           "ids": [
            "North America"
           ],
           "legendgroup": "North America",
           "marker": {
            "color": "#EF553B",
            "size": [
             366470737
            ],
            "sizemode": "area",
            "sizeref": 9811051.535,
            "symbol": "circle"
           },
           "mode": "markers",
           "name": "North America",
           "orientation": "v",
           "showlegend": true,
           "type": "scatter",
           "x": [
            366470737
           ],
           "xaxis": "x",
           "y": [
            366470737
           ],
           "yaxis": "y"
          }
         ],
         "name": "2017"
        },
        {
         "data": [
          {
           "hovertemplate": "<b>%{hovertext}</b><br><br>continent=Africa<br>year=2018<br> Population=%{marker.size}<extra></extra>",
           "hovertext": [
            "Africa"
           ],
           "ids": [
            "Africa"
           ],
           "legendgroup": "Africa",
           "marker": {
            "color": "#636efa",
            "size": [
             1295265049
            ],
            "sizemode": "area",
            "sizeref": 9811051.535,
            "symbol": "circle"
           },
           "mode": "markers",
           "name": "Africa",
           "orientation": "v",
           "showlegend": true,
           "type": "scatter",
           "x": [
            1295265049
           ],
           "xaxis": "x",
           "y": [
            1295265049
           ],
           "yaxis": "y"
          },
          {
           "hovertemplate": "<b>%{hovertext}</b><br><br>continent=North America<br>year=2018<br> Population=%{marker.size}<extra></extra>",
           "hovertext": [
            "North America"
           ],
           "ids": [
            "North America"
           ],
           "legendgroup": "North America",
           "marker": {
            "color": "#EF553B",
            "size": [
             369300738
            ],
            "sizemode": "area",
            "sizeref": 9811051.535,
            "symbol": "circle"
           },
           "mode": "markers",
           "name": "North America",
           "orientation": "v",
           "showlegend": true,
           "type": "scatter",
           "x": [
            369300738
           ],
           "xaxis": "x",
           "y": [
            369300738
           ],
           "yaxis": "y"
          }
         ],
         "name": "2018"
        },
        {
         "data": [
          {
           "hovertemplate": "<b>%{hovertext}</b><br><br>continent=Africa<br>year=2019<br> Population=%{marker.size}<extra></extra>",
           "hovertext": [
            "Africa"
           ],
           "ids": [
            "Africa"
           ],
           "legendgroup": "Africa",
           "marker": {
            "color": "#636efa",
            "size": [
             1327701163
            ],
            "sizemode": "area",
            "sizeref": 9811051.535,
            "symbol": "circle"
           },
           "mode": "markers",
           "name": "Africa",
           "orientation": "v",
           "showlegend": true,
           "type": "scatter",
           "x": [
            1327701163
           ],
           "xaxis": "x",
           "y": [
            1327701163
           ],
           "yaxis": "y"
          },
          {
           "hovertemplate": "<b>%{hovertext}</b><br><br>continent=North America<br>year=2019<br> Population=%{marker.size}<extra></extra>",
           "hovertext": [
            "North America"
           ],
           "ids": [
            "North America"
           ],
           "legendgroup": "North America",
           "marker": {
            "color": "#EF553B",
            "size": [
             371967922
            ],
            "sizemode": "area",
            "sizeref": 9811051.535,
            "symbol": "circle"
           },
           "mode": "markers",
           "name": "North America",
           "orientation": "v",
           "showlegend": true,
           "type": "scatter",
           "x": [
            371967922
           ],
           "xaxis": "x",
           "y": [
            371967922
           ],
           "yaxis": "y"
          }
         ],
         "name": "2019"
        },
        {
         "data": [
          {
           "hovertemplate": "<b>%{hovertext}</b><br><br>continent=Africa<br>year=2020<br> Population=%{marker.size}<extra></extra>",
           "hovertext": [
            "Africa"
           ],
           "ids": [
            "Africa"
           ],
           "legendgroup": "Africa",
           "marker": {
            "color": "#636efa",
            "size": [
             1360677231
            ],
            "sizemode": "area",
            "sizeref": 9811051.535,
            "symbol": "circle"
           },
           "mode": "markers",
           "name": "Africa",
           "orientation": "v",
           "showlegend": true,
           "type": "scatter",
           "x": [
            1360677231
           ],
           "xaxis": "x",
           "y": [
            1360677231
           ],
           "yaxis": "y"
          },
          {
           "hovertemplate": "<b>%{hovertext}</b><br><br>continent=North America<br>year=2020<br> Population=%{marker.size}<extra></extra>",
           "hovertext": [
            "North America"
           ],
           "ids": [
            "North America"
           ],
           "legendgroup": "North America",
           "marker": {
            "color": "#EF553B",
            "size": [
             373956671
            ],
            "sizemode": "area",
            "sizeref": 9811051.535,
            "symbol": "circle"
           },
           "mode": "markers",
           "name": "North America",
           "orientation": "v",
           "showlegend": true,
           "type": "scatter",
           "x": [
            373956671
           ],
           "xaxis": "x",
           "y": [
            373956671
           ],
           "yaxis": "y"
          }
         ],
         "name": "2020"
        },
        {
         "data": [
          {
           "hovertemplate": "<b>%{hovertext}</b><br><br>continent=Africa<br>year=2021<br> Population=%{marker.size}<extra></extra>",
           "hovertext": [
            "Africa"
           ],
           "ids": [
            "Africa"
           ],
           "legendgroup": "Africa",
           "marker": {
            "color": "#636efa",
            "size": [
             1393676444
            ],
            "sizemode": "area",
            "sizeref": 9811051.535,
            "symbol": "circle"
           },
           "mode": "markers",
           "name": "Africa",
           "orientation": "v",
           "showlegend": true,
           "type": "scatter",
           "x": [
            1393676444
           ],
           "xaxis": "x",
           "y": [
            1393676444
           ],
           "yaxis": "y"
          },
          {
           "hovertemplate": "<b>%{hovertext}</b><br><br>continent=North America<br>year=2021<br> Population=%{marker.size}<extra></extra>",
           "hovertext": [
            "North America"
           ],
           "ids": [
            "North America"
           ],
           "legendgroup": "North America",
           "marker": {
            "color": "#EF553B",
            "size": [
             375278947
            ],
            "sizemode": "area",
            "sizeref": 9811051.535,
            "symbol": "circle"
           },
           "mode": "markers",
           "name": "North America",
           "orientation": "v",
           "showlegend": true,
           "type": "scatter",
           "x": [
            375278947
           ],
           "xaxis": "x",
           "y": [
            375278947
           ],
           "yaxis": "y"
          }
         ],
         "name": "2021"
        },
        {
         "data": [
          {
           "hovertemplate": "<b>%{hovertext}</b><br><br>continent=Africa<br>year=2022<br> Population=%{marker.size}<extra></extra>",
           "hovertext": [
            "Africa"
           ],
           "ids": [
            "Africa"
           ],
           "legendgroup": "Africa",
           "marker": {
            "color": "#636efa",
            "size": [
             1426736305
            ],
            "sizemode": "area",
            "sizeref": 9811051.535,
            "symbol": "circle"
           },
           "mode": "markers",
           "name": "Africa",
           "orientation": "v",
           "showlegend": true,
           "type": "scatter",
           "x": [
            1426736305
           ],
           "xaxis": "x",
           "y": [
            1426736305
           ],
           "yaxis": "y"
          },
          {
           "hovertemplate": "<b>%{hovertext}</b><br><br>continent=North America<br>year=2022<br> Population=%{marker.size}<extra></extra>",
           "hovertext": [
            "North America"
           ],
           "ids": [
            "North America"
           ],
           "legendgroup": "North America",
           "marker": {
            "color": "#EF553B",
            "size": [
             376870696
            ],
            "sizemode": "area",
            "sizeref": 9811051.535,
            "symbol": "circle"
           },
           "mode": "markers",
           "name": "North America",
           "orientation": "v",
           "showlegend": true,
           "type": "scatter",
           "x": [
            376870696
           ],
           "xaxis": "x",
           "y": [
            376870696
           ],
           "yaxis": "y"
          }
         ],
         "name": "2022"
        },
        {
         "data": [
          {
           "hovertemplate": "<b>%{hovertext}</b><br><br>continent=Africa<br>year=2023<br> Population=%{marker.size}<extra></extra>",
           "hovertext": [
            "Africa"
           ],
           "ids": [
            "Africa"
           ],
           "legendgroup": "Africa",
           "marker": {
            "color": "#636efa",
            "size": [
             1460481772
            ],
            "sizemode": "area",
            "sizeref": 9811051.535,
            "symbol": "circle"
           },
           "mode": "markers",
           "name": "Africa",
           "orientation": "v",
           "showlegend": true,
           "type": "scatter",
           "x": [
            1460481772
           ],
           "xaxis": "x",
           "y": [
            1460481772
           ],
           "yaxis": "y"
          },
          {
           "hovertemplate": "<b>%{hovertext}</b><br><br>continent=North America<br>year=2023<br> Population=%{marker.size}<extra></extra>",
           "hovertext": [
            "North America"
           ],
           "ids": [
            "North America"
           ],
           "legendgroup": "North America",
           "marker": {
            "color": "#EF553B",
            "size": [
             378904407
            ],
            "sizemode": "area",
            "sizeref": 9811051.535,
            "symbol": "circle"
           },
           "mode": "markers",
           "name": "North America",
           "orientation": "v",
           "showlegend": true,
           "type": "scatter",
           "x": [
            378904407
           ],
           "xaxis": "x",
           "y": [
            378904407
           ],
           "yaxis": "y"
          }
         ],
         "name": "2023"
        },
        {
         "data": [
          {
           "hovertemplate": "<b>%{hovertext}</b><br><br>continent=Africa<br>year=2024<br> Population=%{marker.size}<extra></extra>",
           "hovertext": [
            "Africa"
           ],
           "ids": [
            "Africa"
           ],
           "legendgroup": "Africa",
           "marker": {
            "color": "#636efa",
            "size": [
             1494993924
            ],
            "sizemode": "area",
            "sizeref": 9811051.535,
            "symbol": "circle"
           },
           "mode": "markers",
           "name": "Africa",
           "orientation": "v",
           "showlegend": true,
           "type": "scatter",
           "x": [
            1494993924
           ],
           "xaxis": "x",
           "y": [
            1494993924
           ],
           "yaxis": "y"
          },
          {
           "hovertemplate": "<b>%{hovertext}</b><br><br>continent=North America<br>year=2024<br> Population=%{marker.size}<extra></extra>",
           "hovertext": [
            "North America"
           ],
           "ids": [
            "North America"
           ],
           "legendgroup": "North America",
           "marker": {
            "color": "#EF553B",
            "size": [
             381048005
            ],
            "sizemode": "area",
            "sizeref": 9811051.535,
            "symbol": "circle"
           },
           "mode": "markers",
           "name": "North America",
           "orientation": "v",
           "showlegend": true,
           "type": "scatter",
           "x": [
            381048005
           ],
           "xaxis": "x",
           "y": [
            381048005
           ],
           "yaxis": "y"
          }
         ],
         "name": "2024"
        },
        {
         "data": [
          {
           "hovertemplate": "<b>%{hovertext}</b><br><br>continent=Africa<br>year=2025<br> Population=%{marker.size}<extra></extra>",
           "hovertext": [
            "Africa"
           ],
           "ids": [
            "Africa"
           ],
           "legendgroup": "Africa",
           "marker": {
            "color": "#636efa",
            "size": [
             1530031247
            ],
            "sizemode": "area",
            "sizeref": 9811051.535,
            "symbol": "circle"
           },
           "mode": "markers",
           "name": "Africa",
           "orientation": "v",
           "showlegend": true,
           "type": "scatter",
           "x": [
            1530031247
           ],
           "xaxis": "x",
           "y": [
            1530031247
           ],
           "yaxis": "y"
          },
          {
           "hovertemplate": "<b>%{hovertext}</b><br><br>continent=North America<br>year=2025<br> Population=%{marker.size}<extra></extra>",
           "hovertext": [
            "North America"
           ],
           "ids": [
            "North America"
           ],
           "legendgroup": "North America",
           "marker": {
            "color": "#EF553B",
            "size": [
             383161331
            ],
            "sizemode": "area",
            "sizeref": 9811051.535,
            "symbol": "circle"
           },
           "mode": "markers",
           "name": "North America",
           "orientation": "v",
           "showlegend": true,
           "type": "scatter",
           "x": [
            383161331
           ],
           "xaxis": "x",
           "y": [
            383161331
           ],
           "yaxis": "y"
          }
         ],
         "name": "2025"
        },
        {
         "data": [
          {
           "hovertemplate": "<b>%{hovertext}</b><br><br>continent=Africa<br>year=2026<br> Population=%{marker.size}<extra></extra>",
           "hovertext": [
            "Africa"
           ],
           "ids": [
            "Africa"
           ],
           "legendgroup": "Africa",
           "marker": {
            "color": "#636efa",
            "size": [
             1565426616
            ],
            "sizemode": "area",
            "sizeref": 9811051.535,
            "symbol": "circle"
           },
           "mode": "markers",
           "name": "Africa",
           "orientation": "v",
           "showlegend": true,
           "type": "scatter",
           "x": [
            1565426616
           ],
           "xaxis": "x",
           "y": [
            1565426616
           ],
           "yaxis": "y"
          },
          {
           "hovertemplate": "<b>%{hovertext}</b><br><br>continent=North America<br>year=2026<br> Population=%{marker.size}<extra></extra>",
           "hovertext": [
            "North America"
           ],
           "ids": [
            "North America"
           ],
           "legendgroup": "North America",
           "marker": {
            "color": "#EF553B",
            "size": [
             385245079
            ],
            "sizemode": "area",
            "sizeref": 9811051.535,
            "symbol": "circle"
           },
           "mode": "markers",
           "name": "North America",
           "orientation": "v",
           "showlegend": true,
           "type": "scatter",
           "x": [
            385245079
           ],
           "xaxis": "x",
           "y": [
            385245079
           ],
           "yaxis": "y"
          }
         ],
         "name": "2026"
        },
        {
         "data": [
          {
           "hovertemplate": "<b>%{hovertext}</b><br><br>continent=Africa<br>year=2027<br> Population=%{marker.size}<extra></extra>",
           "hovertext": [
            "Africa"
           ],
           "ids": [
            "Africa"
           ],
           "legendgroup": "Africa",
           "marker": {
            "color": "#636efa",
            "size": [
             1601202762
            ],
            "sizemode": "area",
            "sizeref": 9811051.535,
            "symbol": "circle"
           },
           "mode": "markers",
           "name": "Africa",
           "orientation": "v",
           "showlegend": true,
           "type": "scatter",
           "x": [
            1601202762
           ],
           "xaxis": "x",
           "y": [
            1601202762
           ],
           "yaxis": "y"
          },
          {
           "hovertemplate": "<b>%{hovertext}</b><br><br>continent=North America<br>year=2027<br> Population=%{marker.size}<extra></extra>",
           "hovertext": [
            "North America"
           ],
           "ids": [
            "North America"
           ],
           "legendgroup": "North America",
           "marker": {
            "color": "#EF553B",
            "size": [
             387295922
            ],
            "sizemode": "area",
            "sizeref": 9811051.535,
            "symbol": "circle"
           },
           "mode": "markers",
           "name": "North America",
           "orientation": "v",
           "showlegend": true,
           "type": "scatter",
           "x": [
            387295922
           ],
           "xaxis": "x",
           "y": [
            387295922
           ],
           "yaxis": "y"
          }
         ],
         "name": "2027"
        },
        {
         "data": [
          {
           "hovertemplate": "<b>%{hovertext}</b><br><br>continent=Africa<br>year=2028<br> Population=%{marker.size}<extra></extra>",
           "hovertext": [
            "Africa"
           ],
           "ids": [
            "Africa"
           ],
           "legendgroup": "Africa",
           "marker": {
            "color": "#636efa",
            "size": [
             1637345106
            ],
            "sizemode": "area",
            "sizeref": 9811051.535,
            "symbol": "circle"
           },
           "mode": "markers",
           "name": "Africa",
           "orientation": "v",
           "showlegend": true,
           "type": "scatter",
           "x": [
            1637345106
           ],
           "xaxis": "x",
           "y": [
            1637345106
           ],
           "yaxis": "y"
          },
          {
           "hovertemplate": "<b>%{hovertext}</b><br><br>continent=North America<br>year=2028<br> Population=%{marker.size}<extra></extra>",
           "hovertext": [
            "North America"
           ],
           "ids": [
            "North America"
           ],
           "legendgroup": "North America",
           "marker": {
            "color": "#EF553B",
            "size": [
             389316784
            ],
            "sizemode": "area",
            "sizeref": 9811051.535,
            "symbol": "circle"
           },
           "mode": "markers",
           "name": "North America",
           "orientation": "v",
           "showlegend": true,
           "type": "scatter",
           "x": [
            389316784
           ],
           "xaxis": "x",
           "y": [
            389316784
           ],
           "yaxis": "y"
          }
         ],
         "name": "2028"
        },
        {
         "data": [
          {
           "hovertemplate": "<b>%{hovertext}</b><br><br>continent=Africa<br>year=2029<br> Population=%{marker.size}<extra></extra>",
           "hovertext": [
            "Africa"
           ],
           "ids": [
            "Africa"
           ],
           "legendgroup": "Africa",
           "marker": {
            "color": "#636efa",
            "size": [
             1673845126
            ],
            "sizemode": "area",
            "sizeref": 9811051.535,
            "symbol": "circle"
           },
           "mode": "markers",
           "name": "Africa",
           "orientation": "v",
           "showlegend": true,
           "type": "scatter",
           "x": [
            1673845126
           ],
           "xaxis": "x",
           "y": [
            1673845126
           ],
           "yaxis": "y"
          },
          {
           "hovertemplate": "<b>%{hovertext}</b><br><br>continent=North America<br>year=2029<br> Population=%{marker.size}<extra></extra>",
           "hovertext": [
            "North America"
           ],
           "ids": [
            "North America"
           ],
           "legendgroup": "North America",
           "marker": {
            "color": "#EF553B",
            "size": [
             391316698
            ],
            "sizemode": "area",
            "sizeref": 9811051.535,
            "symbol": "circle"
           },
           "mode": "markers",
           "name": "North America",
           "orientation": "v",
           "showlegend": true,
           "type": "scatter",
           "x": [
            391316698
           ],
           "xaxis": "x",
           "y": [
            391316698
           ],
           "yaxis": "y"
          }
         ],
         "name": "2029"
        },
        {
         "data": [
          {
           "hovertemplate": "<b>%{hovertext}</b><br><br>continent=Africa<br>year=2030<br> Population=%{marker.size}<extra></extra>",
           "hovertext": [
            "Africa"
           ],
           "ids": [
            "Africa"
           ],
           "legendgroup": "Africa",
           "marker": {
            "color": "#636efa",
            "size": [
             1710666359
            ],
            "sizemode": "area",
            "sizeref": 9811051.535,
            "symbol": "circle"
           },
           "mode": "markers",
           "name": "Africa",
           "orientation": "v",
           "showlegend": true,
           "type": "scatter",
           "x": [
            1710666359
           ],
           "xaxis": "x",
           "y": [
            1710666359
           ],
           "yaxis": "y"
          },
          {
           "hovertemplate": "<b>%{hovertext}</b><br><br>continent=North America<br>year=2030<br> Population=%{marker.size}<extra></extra>",
           "hovertext": [
            "North America"
           ],
           "ids": [
            "North America"
           ],
           "legendgroup": "North America",
           "marker": {
            "color": "#EF553B",
            "size": [
             393296506
            ],
            "sizemode": "area",
            "sizeref": 9811051.535,
            "symbol": "circle"
           },
           "mode": "markers",
           "name": "North America",
           "orientation": "v",
           "showlegend": true,
           "type": "scatter",
           "x": [
            393296506
           ],
           "xaxis": "x",
           "y": [
            393296506
           ],
           "yaxis": "y"
          }
         ],
         "name": "2030"
        },
        {
         "data": [
          {
           "hovertemplate": "<b>%{hovertext}</b><br><br>continent=Africa<br>year=2031<br> Population=%{marker.size}<extra></extra>",
           "hovertext": [
            "Africa"
           ],
           "ids": [
            "Africa"
           ],
           "legendgroup": "Africa",
           "marker": {
            "color": "#636efa",
            "size": [
             1747785516
            ],
            "sizemode": "area",
            "sizeref": 9811051.535,
            "symbol": "circle"
           },
           "mode": "markers",
           "name": "Africa",
           "orientation": "v",
           "showlegend": true,
           "type": "scatter",
           "x": [
            1747785516
           ],
           "xaxis": "x",
           "y": [
            1747785516
           ],
           "yaxis": "y"
          },
          {
           "hovertemplate": "<b>%{hovertext}</b><br><br>continent=North America<br>year=2031<br> Population=%{marker.size}<extra></extra>",
           "hovertext": [
            "North America"
           ],
           "ids": [
            "North America"
           ],
           "legendgroup": "North America",
           "marker": {
            "color": "#EF553B",
            "size": [
             395248171
            ],
            "sizemode": "area",
            "sizeref": 9811051.535,
            "symbol": "circle"
           },
           "mode": "markers",
           "name": "North America",
           "orientation": "v",
           "showlegend": true,
           "type": "scatter",
           "x": [
            395248171
           ],
           "xaxis": "x",
           "y": [
            395248171
           ],
           "yaxis": "y"
          }
         ],
         "name": "2031"
        },
        {
         "data": [
          {
           "hovertemplate": "<b>%{hovertext}</b><br><br>continent=Africa<br>year=2032<br> Population=%{marker.size}<extra></extra>",
           "hovertext": [
            "Africa"
           ],
           "ids": [
            "Africa"
           ],
           "legendgroup": "Africa",
           "marker": {
            "color": "#636efa",
            "size": [
             1785223387
            ],
            "sizemode": "area",
            "sizeref": 9811051.535,
            "symbol": "circle"
           },
           "mode": "markers",
           "name": "Africa",
           "orientation": "v",
           "showlegend": true,
           "type": "scatter",
           "x": [
            1785223387
           ],
           "xaxis": "x",
           "y": [
            1785223387
           ],
           "yaxis": "y"
          },
          {
           "hovertemplate": "<b>%{hovertext}</b><br><br>continent=North America<br>year=2032<br> Population=%{marker.size}<extra></extra>",
           "hovertext": [
            "North America"
           ],
           "ids": [
            "North America"
           ],
           "legendgroup": "North America",
           "marker": {
            "color": "#EF553B",
            "size": [
             397163535
            ],
            "sizemode": "area",
            "sizeref": 9811051.535,
            "symbol": "circle"
           },
           "mode": "markers",
           "name": "North America",
           "orientation": "v",
           "showlegend": true,
           "type": "scatter",
           "x": [
            397163535
           ],
           "xaxis": "x",
           "y": [
            397163535
           ],
           "yaxis": "y"
          }
         ],
         "name": "2032"
        },
        {
         "data": [
          {
           "hovertemplate": "<b>%{hovertext}</b><br><br>continent=Africa<br>year=2033<br> Population=%{marker.size}<extra></extra>",
           "hovertext": [
            "Africa"
           ],
           "ids": [
            "Africa"
           ],
           "legendgroup": "Africa",
           "marker": {
            "color": "#636efa",
            "size": [
             1822964745
            ],
            "sizemode": "area",
            "sizeref": 9811051.535,
            "symbol": "circle"
           },
           "mode": "markers",
           "name": "Africa",
           "orientation": "v",
           "showlegend": true,
           "type": "scatter",
           "x": [
            1822964745
           ],
           "xaxis": "x",
           "y": [
            1822964745
           ],
           "yaxis": "y"
          },
          {
           "hovertemplate": "<b>%{hovertext}</b><br><br>continent=North America<br>year=2033<br> Population=%{marker.size}<extra></extra>",
           "hovertext": [
            "North America"
           ],
           "ids": [
            "North America"
           ],
           "legendgroup": "North America",
           "marker": {
            "color": "#EF553B",
            "size": [
             399042027
            ],
            "sizemode": "area",
            "sizeref": 9811051.535,
            "symbol": "circle"
           },
           "mode": "markers",
           "name": "North America",
           "orientation": "v",
           "showlegend": true,
           "type": "scatter",
           "x": [
            399042027
           ],
           "xaxis": "x",
           "y": [
            399042027
           ],
           "yaxis": "y"
          }
         ],
         "name": "2033"
        },
        {
         "data": [
          {
           "hovertemplate": "<b>%{hovertext}</b><br><br>continent=Africa<br>year=2034<br> Population=%{marker.size}<extra></extra>",
           "hovertext": [
            "Africa"
           ],
           "ids": [
            "Africa"
           ],
           "legendgroup": "Africa",
           "marker": {
            "color": "#636efa",
            "size": [
             1861003225
            ],
            "sizemode": "area",
            "sizeref": 9811051.535,
            "symbol": "circle"
           },
           "mode": "markers",
           "name": "Africa",
           "orientation": "v",
           "showlegend": true,
           "type": "scatter",
           "x": [
            1861003225
           ],
           "xaxis": "x",
           "y": [
            1861003225
           ],
           "yaxis": "y"
          },
          {
           "hovertemplate": "<b>%{hovertext}</b><br><br>continent=North America<br>year=2034<br> Population=%{marker.size}<extra></extra>",
           "hovertext": [
            "North America"
           ],
           "ids": [
            "North America"
           ],
           "legendgroup": "North America",
           "marker": {
            "color": "#EF553B",
            "size": [
             400871883
            ],
            "sizemode": "area",
            "sizeref": 9811051.535,
            "symbol": "circle"
           },
           "mode": "markers",
           "name": "North America",
           "orientation": "v",
           "showlegend": true,
           "type": "scatter",
           "x": [
            400871883
           ],
           "xaxis": "x",
           "y": [
            400871883
           ],
           "yaxis": "y"
          }
         ],
         "name": "2034"
        },
        {
         "data": [
          {
           "hovertemplate": "<b>%{hovertext}</b><br><br>continent=Africa<br>year=2035<br> Population=%{marker.size}<extra></extra>",
           "hovertext": [
            "Africa"
           ],
           "ids": [
            "Africa"
           ],
           "legendgroup": "Africa",
           "marker": {
            "color": "#636efa",
            "size": [
             1899296806
            ],
            "sizemode": "area",
            "sizeref": 9811051.535,
            "symbol": "circle"
           },
           "mode": "markers",
           "name": "Africa",
           "orientation": "v",
           "showlegend": true,
           "type": "scatter",
           "x": [
            1899296806
           ],
           "xaxis": "x",
           "y": [
            1899296806
           ],
           "yaxis": "y"
          },
          {
           "hovertemplate": "<b>%{hovertext}</b><br><br>continent=North America<br>year=2035<br> Population=%{marker.size}<extra></extra>",
           "hovertext": [
            "North America"
           ],
           "ids": [
            "North America"
           ],
           "legendgroup": "North America",
           "marker": {
            "color": "#EF553B",
            "size": [
             402643537
            ],
            "sizemode": "area",
            "sizeref": 9811051.535,
            "symbol": "circle"
           },
           "mode": "markers",
           "name": "North America",
           "orientation": "v",
           "showlegend": true,
           "type": "scatter",
           "x": [
            402643537
           ],
           "xaxis": "x",
           "y": [
            402643537
           ],
           "yaxis": "y"
          }
         ],
         "name": "2035"
        },
        {
         "data": [
          {
           "hovertemplate": "<b>%{hovertext}</b><br><br>continent=Africa<br>year=2036<br> Population=%{marker.size}<extra></extra>",
           "hovertext": [
            "Africa"
           ],
           "ids": [
            "Africa"
           ],
           "legendgroup": "Africa",
           "marker": {
            "color": "#636efa",
            "size": [
             1937777711
            ],
            "sizemode": "area",
            "sizeref": 9811051.535,
            "symbol": "circle"
           },
           "mode": "markers",
           "name": "Africa",
           "orientation": "v",
           "showlegend": true,
           "type": "scatter",
           "x": [
            1937777711
           ],
           "xaxis": "x",
           "y": [
            1937777711
           ],
           "yaxis": "y"
          },
          {
           "hovertemplate": "<b>%{hovertext}</b><br><br>continent=North America<br>year=2036<br> Population=%{marker.size}<extra></extra>",
           "hovertext": [
            "North America"
           ],
           "ids": [
            "North America"
           ],
           "legendgroup": "North America",
           "marker": {
            "color": "#EF553B",
            "size": [
             404360244
            ],
            "sizemode": "area",
            "sizeref": 9811051.535,
            "symbol": "circle"
           },
           "mode": "markers",
           "name": "North America",
           "orientation": "v",
           "showlegend": true,
           "type": "scatter",
           "x": [
            404360244
           ],
           "xaxis": "x",
           "y": [
            404360244
           ],
           "yaxis": "y"
          }
         ],
         "name": "2036"
        },
        {
         "data": [
          {
           "hovertemplate": "<b>%{hovertext}</b><br><br>continent=Africa<br>year=2037<br> Population=%{marker.size}<extra></extra>",
           "hovertext": [
            "Africa"
           ],
           "ids": [
            "Africa"
           ],
           "legendgroup": "Africa",
           "marker": {
            "color": "#636efa",
            "size": [
             1976448546
            ],
            "sizemode": "area",
            "sizeref": 9811051.535,
            "symbol": "circle"
           },
           "mode": "markers",
           "name": "Africa",
           "orientation": "v",
           "showlegend": true,
           "type": "scatter",
           "x": [
            1976448546
           ],
           "xaxis": "x",
           "y": [
            1976448546
           ],
           "yaxis": "y"
          },
          {
           "hovertemplate": "<b>%{hovertext}</b><br><br>continent=North America<br>year=2037<br> Population=%{marker.size}<extra></extra>",
           "hovertext": [
            "North America"
           ],
           "ids": [
            "North America"
           ],
           "legendgroup": "North America",
           "marker": {
            "color": "#EF553B",
            "size": [
             406016075
            ],
            "sizemode": "area",
            "sizeref": 9811051.535,
            "symbol": "circle"
           },
           "mode": "markers",
           "name": "North America",
           "orientation": "v",
           "showlegend": true,
           "type": "scatter",
           "x": [
            406016075
           ],
           "xaxis": "x",
           "y": [
            406016075
           ],
           "yaxis": "y"
          }
         ],
         "name": "2037"
        },
        {
         "data": [
          {
           "hovertemplate": "<b>%{hovertext}</b><br><br>continent=Africa<br>year=2038<br> Population=%{marker.size}<extra></extra>",
           "hovertext": [
            "Africa"
           ],
           "ids": [
            "Africa"
           ],
           "legendgroup": "Africa",
           "marker": {
            "color": "#636efa",
            "size": [
             2015305954
            ],
            "sizemode": "area",
            "sizeref": 9811051.535,
            "symbol": "circle"
           },
           "mode": "markers",
           "name": "Africa",
           "orientation": "v",
           "showlegend": true,
           "type": "scatter",
           "x": [
            2015305954
           ],
           "xaxis": "x",
           "y": [
            2015305954
           ],
           "yaxis": "y"
          },
          {
           "hovertemplate": "<b>%{hovertext}</b><br><br>continent=North America<br>year=2038<br> Population=%{marker.size}<extra></extra>",
           "hovertext": [
            "North America"
           ],
           "ids": [
            "North America"
           ],
           "legendgroup": "North America",
           "marker": {
            "color": "#EF553B",
            "size": [
             407599361
            ],
            "sizemode": "area",
            "sizeref": 9811051.535,
            "symbol": "circle"
           },
           "mode": "markers",
           "name": "North America",
           "orientation": "v",
           "showlegend": true,
           "type": "scatter",
           "x": [
            407599361
           ],
           "xaxis": "x",
           "y": [
            407599361
           ],
           "yaxis": "y"
          }
         ],
         "name": "2038"
        },
        {
         "data": [
          {
           "hovertemplate": "<b>%{hovertext}</b><br><br>continent=Africa<br>year=2039<br> Population=%{marker.size}<extra></extra>",
           "hovertext": [
            "Africa"
           ],
           "ids": [
            "Africa"
           ],
           "legendgroup": "Africa",
           "marker": {
            "color": "#636efa",
            "size": [
             2054303343
            ],
            "sizemode": "area",
            "sizeref": 9811051.535,
            "symbol": "circle"
           },
           "mode": "markers",
           "name": "Africa",
           "orientation": "v",
           "showlegend": true,
           "type": "scatter",
           "x": [
            2054303343
           ],
           "xaxis": "x",
           "y": [
            2054303343
           ],
           "yaxis": "y"
          },
          {
           "hovertemplate": "<b>%{hovertext}</b><br><br>continent=North America<br>year=2039<br> Population=%{marker.size}<extra></extra>",
           "hovertext": [
            "North America"
           ],
           "ids": [
            "North America"
           ],
           "legendgroup": "North America",
           "marker": {
            "color": "#EF553B",
            "size": [
             409115727
            ],
            "sizemode": "area",
            "sizeref": 9811051.535,
            "symbol": "circle"
           },
           "mode": "markers",
           "name": "North America",
           "orientation": "v",
           "showlegend": true,
           "type": "scatter",
           "x": [
            409115727
           ],
           "xaxis": "x",
           "y": [
            409115727
           ],
           "yaxis": "y"
          }
         ],
         "name": "2039"
        },
        {
         "data": [
          {
           "hovertemplate": "<b>%{hovertext}</b><br><br>continent=Africa<br>year=2040<br> Population=%{marker.size}<extra></extra>",
           "hovertext": [
            "Africa"
           ],
           "ids": [
            "Africa"
           ],
           "legendgroup": "Africa",
           "marker": {
            "color": "#636efa",
            "size": [
             2093408427
            ],
            "sizemode": "area",
            "sizeref": 9811051.535,
            "symbol": "circle"
           },
           "mode": "markers",
           "name": "Africa",
           "orientation": "v",
           "showlegend": true,
           "type": "scatter",
           "x": [
            2093408427
           ],
           "xaxis": "x",
           "y": [
            2093408427
           ],
           "yaxis": "y"
          },
          {
           "hovertemplate": "<b>%{hovertext}</b><br><br>continent=North America<br>year=2040<br> Population=%{marker.size}<extra></extra>",
           "hovertext": [
            "North America"
           ],
           "ids": [
            "North America"
           ],
           "legendgroup": "North America",
           "marker": {
            "color": "#EF553B",
            "size": [
             410560796
            ],
            "sizemode": "area",
            "sizeref": 9811051.535,
            "symbol": "circle"
           },
           "mode": "markers",
           "name": "North America",
           "orientation": "v",
           "showlegend": true,
           "type": "scatter",
           "x": [
            410560796
           ],
           "xaxis": "x",
           "y": [
            410560796
           ],
           "yaxis": "y"
          }
         ],
         "name": "2040"
        },
        {
         "data": [
          {
           "hovertemplate": "<b>%{hovertext}</b><br><br>continent=Africa<br>year=2041<br> Population=%{marker.size}<extra></extra>",
           "hovertext": [
            "Africa"
           ],
           "ids": [
            "Africa"
           ],
           "legendgroup": "Africa",
           "marker": {
            "color": "#636efa",
            "size": [
             2132617527
            ],
            "sizemode": "area",
            "sizeref": 9811051.535,
            "symbol": "circle"
           },
           "mode": "markers",
           "name": "Africa",
           "orientation": "v",
           "showlegend": true,
           "type": "scatter",
           "x": [
            2132617527
           ],
           "xaxis": "x",
           "y": [
            2132617527
           ],
           "yaxis": "y"
          },
          {
           "hovertemplate": "<b>%{hovertext}</b><br><br>continent=North America<br>year=2041<br> Population=%{marker.size}<extra></extra>",
           "hovertext": [
            "North America"
           ],
           "ids": [
            "North America"
           ],
           "legendgroup": "North America",
           "marker": {
            "color": "#EF553B",
            "size": [
             411932726
            ],
            "sizemode": "area",
            "sizeref": 9811051.535,
            "symbol": "circle"
           },
           "mode": "markers",
           "name": "North America",
           "orientation": "v",
           "showlegend": true,
           "type": "scatter",
           "x": [
            411932726
           ],
           "xaxis": "x",
           "y": [
            411932726
           ],
           "yaxis": "y"
          }
         ],
         "name": "2041"
        },
        {
         "data": [
          {
           "hovertemplate": "<b>%{hovertext}</b><br><br>continent=Africa<br>year=2042<br> Population=%{marker.size}<extra></extra>",
           "hovertext": [
            "Africa"
           ],
           "ids": [
            "Africa"
           ],
           "legendgroup": "Africa",
           "marker": {
            "color": "#636efa",
            "size": [
             2171875609
            ],
            "sizemode": "area",
            "sizeref": 9811051.535,
            "symbol": "circle"
           },
           "mode": "markers",
           "name": "Africa",
           "orientation": "v",
           "showlegend": true,
           "type": "scatter",
           "x": [
            2171875609
           ],
           "xaxis": "x",
           "y": [
            2171875609
           ],
           "yaxis": "y"
          },
          {
           "hovertemplate": "<b>%{hovertext}</b><br><br>continent=North America<br>year=2042<br> Population=%{marker.size}<extra></extra>",
           "hovertext": [
            "North America"
           ],
           "ids": [
            "North America"
           ],
           "legendgroup": "North America",
           "marker": {
            "color": "#EF553B",
            "size": [
             413243236
            ],
            "sizemode": "area",
            "sizeref": 9811051.535,
            "symbol": "circle"
           },
           "mode": "markers",
           "name": "North America",
           "orientation": "v",
           "showlegend": true,
           "type": "scatter",
           "x": [
            413243236
           ],
           "xaxis": "x",
           "y": [
            413243236
           ],
           "yaxis": "y"
          }
         ],
         "name": "2042"
        },
        {
         "data": [
          {
           "hovertemplate": "<b>%{hovertext}</b><br><br>continent=Africa<br>year=2043<br> Population=%{marker.size}<extra></extra>",
           "hovertext": [
            "Africa"
           ],
           "ids": [
            "Africa"
           ],
           "legendgroup": "Africa",
           "marker": {
            "color": "#636efa",
            "size": [
             2211166983
            ],
            "sizemode": "area",
            "sizeref": 9811051.535,
            "symbol": "circle"
           },
           "mode": "markers",
           "name": "Africa",
           "orientation": "v",
           "showlegend": true,
           "type": "scatter",
           "x": [
            2211166983
           ],
           "xaxis": "x",
           "y": [
            2211166983
           ],
           "yaxis": "y"
          },
          {
           "hovertemplate": "<b>%{hovertext}</b><br><br>continent=North America<br>year=2043<br> Population=%{marker.size}<extra></extra>",
           "hovertext": [
            "North America"
           ],
           "ids": [
            "North America"
           ],
           "legendgroup": "North America",
           "marker": {
            "color": "#EF553B",
            "size": [
             414483943
            ],
            "sizemode": "area",
            "sizeref": 9811051.535,
            "symbol": "circle"
           },
           "mode": "markers",
           "name": "North America",
           "orientation": "v",
           "showlegend": true,
           "type": "scatter",
           "x": [
            414483943
           ],
           "xaxis": "x",
           "y": [
            414483943
           ],
           "yaxis": "y"
          }
         ],
         "name": "2043"
        },
        {
         "data": [
          {
           "hovertemplate": "<b>%{hovertext}</b><br><br>continent=Africa<br>year=2044<br> Population=%{marker.size}<extra></extra>",
           "hovertext": [
            "Africa"
           ],
           "ids": [
            "Africa"
           ],
           "legendgroup": "Africa",
           "marker": {
            "color": "#636efa",
            "size": [
             2250478962
            ],
            "sizemode": "area",
            "sizeref": 9811051.535,
            "symbol": "circle"
           },
           "mode": "markers",
           "name": "Africa",
           "orientation": "v",
           "showlegend": true,
           "type": "scatter",
           "x": [
            2250478962
           ],
           "xaxis": "x",
           "y": [
            2250478962
           ],
           "yaxis": "y"
          },
          {
           "hovertemplate": "<b>%{hovertext}</b><br><br>continent=North America<br>year=2044<br> Population=%{marker.size}<extra></extra>",
           "hovertext": [
            "North America"
           ],
           "ids": [
            "North America"
           ],
           "legendgroup": "North America",
           "marker": {
            "color": "#EF553B",
            "size": [
             415659177
            ],
            "sizemode": "area",
            "sizeref": 9811051.535,
            "symbol": "circle"
           },
           "mode": "markers",
           "name": "North America",
           "orientation": "v",
           "showlegend": true,
           "type": "scatter",
           "x": [
            415659177
           ],
           "xaxis": "x",
           "y": [
            415659177
           ],
           "yaxis": "y"
          }
         ],
         "name": "2044"
        },
        {
         "data": [
          {
           "hovertemplate": "<b>%{hovertext}</b><br><br>continent=Africa<br>year=2045<br> Population=%{marker.size}<extra></extra>",
           "hovertext": [
            "Africa"
           ],
           "ids": [
            "Africa"
           ],
           "legendgroup": "Africa",
           "marker": {
            "color": "#636efa",
            "size": [
             2289760657
            ],
            "sizemode": "area",
            "sizeref": 9811051.535,
            "symbol": "circle"
           },
           "mode": "markers",
           "name": "Africa",
           "orientation": "v",
           "showlegend": true,
           "type": "scatter",
           "x": [
            2289760657
           ],
           "xaxis": "x",
           "y": [
            2289760657
           ],
           "yaxis": "y"
          },
          {
           "hovertemplate": "<b>%{hovertext}</b><br><br>continent=North America<br>year=2045<br> Population=%{marker.size}<extra></extra>",
           "hovertext": [
            "North America"
           ],
           "ids": [
            "North America"
           ],
           "legendgroup": "North America",
           "marker": {
            "color": "#EF553B",
            "size": [
             416765992
            ],
            "sizemode": "area",
            "sizeref": 9811051.535,
            "symbol": "circle"
           },
           "mode": "markers",
           "name": "North America",
           "orientation": "v",
           "showlegend": true,
           "type": "scatter",
           "x": [
            416765992
           ],
           "xaxis": "x",
           "y": [
            416765992
           ],
           "yaxis": "y"
          }
         ],
         "name": "2045"
        },
        {
         "data": [
          {
           "hovertemplate": "<b>%{hovertext}</b><br><br>continent=Africa<br>year=2046<br> Population=%{marker.size}<extra></extra>",
           "hovertext": [
            "Africa"
           ],
           "ids": [
            "Africa"
           ],
           "legendgroup": "Africa",
           "marker": {
            "color": "#636efa",
            "size": [
             2328998686
            ],
            "sizemode": "area",
            "sizeref": 9811051.535,
            "symbol": "circle"
           },
           "mode": "markers",
           "name": "Africa",
           "orientation": "v",
           "showlegend": true,
           "type": "scatter",
           "x": [
            2328998686
           ],
           "xaxis": "x",
           "y": [
            2328998686
           ],
           "yaxis": "y"
          },
          {
           "hovertemplate": "<b>%{hovertext}</b><br><br>continent=North America<br>year=2046<br> Population=%{marker.size}<extra></extra>",
           "hovertext": [
            "North America"
           ],
           "ids": [
            "North America"
           ],
           "legendgroup": "North America",
           "marker": {
            "color": "#EF553B",
            "size": [
             417804094
            ],
            "sizemode": "area",
            "sizeref": 9811051.535,
            "symbol": "circle"
           },
           "mode": "markers",
           "name": "North America",
           "orientation": "v",
           "showlegend": true,
           "type": "scatter",
           "x": [
            417804094
           ],
           "xaxis": "x",
           "y": [
            417804094
           ],
           "yaxis": "y"
          }
         ],
         "name": "2046"
        },
        {
         "data": [
          {
           "hovertemplate": "<b>%{hovertext}</b><br><br>continent=Africa<br>year=2047<br> Population=%{marker.size}<extra></extra>",
           "hovertext": [
            "Africa"
           ],
           "ids": [
            "Africa"
           ],
           "legendgroup": "Africa",
           "marker": {
            "color": "#636efa",
            "size": [
             2368191007
            ],
            "sizemode": "area",
            "sizeref": 9811051.535,
            "symbol": "circle"
           },
           "mode": "markers",
           "name": "Africa",
           "orientation": "v",
           "showlegend": true,
           "type": "scatter",
           "x": [
            2368191007
           ],
           "xaxis": "x",
           "y": [
            2368191007
           ],
           "yaxis": "y"
          },
          {
           "hovertemplate": "<b>%{hovertext}</b><br><br>continent=North America<br>year=2047<br> Population=%{marker.size}<extra></extra>",
           "hovertext": [
            "North America"
           ],
           "ids": [
            "North America"
           ],
           "legendgroup": "North America",
           "marker": {
            "color": "#EF553B",
            "size": [
             418783546
            ],
            "sizemode": "area",
            "sizeref": 9811051.535,
            "symbol": "circle"
           },
           "mode": "markers",
           "name": "North America",
           "orientation": "v",
           "showlegend": true,
           "type": "scatter",
           "x": [
            418783546
           ],
           "xaxis": "x",
           "y": [
            418783546
           ],
           "yaxis": "y"
          }
         ],
         "name": "2047"
        },
        {
         "data": [
          {
           "hovertemplate": "<b>%{hovertext}</b><br><br>continent=Africa<br>year=2048<br> Population=%{marker.size}<extra></extra>",
           "hovertext": [
            "Africa"
           ],
           "ids": [
            "Africa"
           ],
           "legendgroup": "Africa",
           "marker": {
            "color": "#636efa",
            "size": [
             2407306427
            ],
            "sizemode": "area",
            "sizeref": 9811051.535,
            "symbol": "circle"
           },
           "mode": "markers",
           "name": "Africa",
           "orientation": "v",
           "showlegend": true,
           "type": "scatter",
           "x": [
            2407306427
           ],
           "xaxis": "x",
           "y": [
            2407306427
           ],
           "yaxis": "y"
          },
          {
           "hovertemplate": "<b>%{hovertext}</b><br><br>continent=North America<br>year=2048<br> Population=%{marker.size}<extra></extra>",
           "hovertext": [
            "North America"
           ],
           "ids": [
            "North America"
           ],
           "legendgroup": "North America",
           "marker": {
            "color": "#EF553B",
            "size": [
             419702405
            ],
            "sizemode": "area",
            "sizeref": 9811051.535,
            "symbol": "circle"
           },
           "mode": "markers",
           "name": "North America",
           "orientation": "v",
           "showlegend": true,
           "type": "scatter",
           "x": [
            419702405
           ],
           "xaxis": "x",
           "y": [
            419702405
           ],
           "yaxis": "y"
          }
         ],
         "name": "2048"
        },
        {
         "data": [
          {
           "hovertemplate": "<b>%{hovertext}</b><br><br>continent=Africa<br>year=2049<br> Population=%{marker.size}<extra></extra>",
           "hovertext": [
            "Africa"
           ],
           "ids": [
            "Africa"
           ],
           "legendgroup": "Africa",
           "marker": {
            "color": "#636efa",
            "size": [
             2446293956
            ],
            "sizemode": "area",
            "sizeref": 9811051.535,
            "symbol": "circle"
           },
           "mode": "markers",
           "name": "Africa",
           "orientation": "v",
           "showlegend": true,
           "type": "scatter",
           "x": [
            2446293956
           ],
           "xaxis": "x",
           "y": [
            2446293956
           ],
           "yaxis": "y"
          },
          {
           "hovertemplate": "<b>%{hovertext}</b><br><br>continent=North America<br>year=2049<br> Population=%{marker.size}<extra></extra>",
           "hovertext": [
            "North America"
           ],
           "ids": [
            "North America"
           ],
           "legendgroup": "North America",
           "marker": {
            "color": "#EF553B",
            "size": [
             420573789
            ],
            "sizemode": "area",
            "sizeref": 9811051.535,
            "symbol": "circle"
           },
           "mode": "markers",
           "name": "North America",
           "orientation": "v",
           "showlegend": true,
           "type": "scatter",
           "x": [
            420573789
           ],
           "xaxis": "x",
           "y": [
            420573789
           ],
           "yaxis": "y"
          }
         ],
         "name": "2049"
        },
        {
         "data": [
          {
           "hovertemplate": "<b>%{hovertext}</b><br><br>continent=Africa<br>year=2050<br> Population=%{marker.size}<extra></extra>",
           "hovertext": [
            "Africa"
           ],
           "ids": [
            "Africa"
           ],
           "legendgroup": "Africa",
           "marker": {
            "color": "#636efa",
            "size": [
             2485135539
            ],
            "sizemode": "area",
            "sizeref": 9811051.535,
            "symbol": "circle"
           },
           "mode": "markers",
           "name": "Africa",
           "orientation": "v",
           "showlegend": true,
           "type": "scatter",
           "x": [
            2485135539
           ],
           "xaxis": "x",
           "y": [
            2485135539
           ],
           "yaxis": "y"
          },
          {
           "hovertemplate": "<b>%{hovertext}</b><br><br>continent=North America<br>year=2050<br> Population=%{marker.size}<extra></extra>",
           "hovertext": [
            "North America"
           ],
           "ids": [
            "North America"
           ],
           "legendgroup": "North America",
           "marker": {
            "color": "#EF553B",
            "size": [
             421397985
            ],
            "sizemode": "area",
            "sizeref": 9811051.535,
            "symbol": "circle"
           },
           "mode": "markers",
           "name": "North America",
           "orientation": "v",
           "showlegend": true,
           "type": "scatter",
           "x": [
            421397985
           ],
           "xaxis": "x",
           "y": [
            421397985
           ],
           "yaxis": "y"
          }
         ],
         "name": "2050"
        },
        {
         "data": [
          {
           "hovertemplate": "<b>%{hovertext}</b><br><br>continent=Africa<br>year=2051<br> Population=%{marker.size}<extra></extra>",
           "hovertext": [
            "Africa"
           ],
           "ids": [
            "Africa"
           ],
           "legendgroup": "Africa",
           "marker": {
            "color": "#636efa",
            "size": [
             2523769525
            ],
            "sizemode": "area",
            "sizeref": 9811051.535,
            "symbol": "circle"
           },
           "mode": "markers",
           "name": "Africa",
           "orientation": "v",
           "showlegend": true,
           "type": "scatter",
           "x": [
            2523769525
           ],
           "xaxis": "x",
           "y": [
            2523769525
           ],
           "yaxis": "y"
          },
          {
           "hovertemplate": "<b>%{hovertext}</b><br><br>continent=North America<br>year=2051<br> Population=%{marker.size}<extra></extra>",
           "hovertext": [
            "North America"
           ],
           "ids": [
            "North America"
           ],
           "legendgroup": "North America",
           "marker": {
            "color": "#EF553B",
            "size": [
             422170990
            ],
            "sizemode": "area",
            "sizeref": 9811051.535,
            "symbol": "circle"
           },
           "mode": "markers",
           "name": "North America",
           "orientation": "v",
           "showlegend": true,
           "type": "scatter",
           "x": [
            422170990
           ],
           "xaxis": "x",
           "y": [
            422170990
           ],
           "yaxis": "y"
          }
         ],
         "name": "2051"
        },
        {
         "data": [
          {
           "hovertemplate": "<b>%{hovertext}</b><br><br>continent=Africa<br>year=2052<br> Population=%{marker.size}<extra></extra>",
           "hovertext": [
            "Africa"
           ],
           "ids": [
            "Africa"
           ],
           "legendgroup": "Africa",
           "marker": {
            "color": "#636efa",
            "size": [
             2562212475
            ],
            "sizemode": "area",
            "sizeref": 9811051.535,
            "symbol": "circle"
           },
           "mode": "markers",
           "name": "Africa",
           "orientation": "v",
           "showlegend": true,
           "type": "scatter",
           "x": [
            2562212475
           ],
           "xaxis": "x",
           "y": [
            2562212475
           ],
           "yaxis": "y"
          },
          {
           "hovertemplate": "<b>%{hovertext}</b><br><br>continent=North America<br>year=2052<br> Population=%{marker.size}<extra></extra>",
           "hovertext": [
            "North America"
           ],
           "ids": [
            "North America"
           ],
           "legendgroup": "North America",
           "marker": {
            "color": "#EF553B",
            "size": [
             422912699
            ],
            "sizemode": "area",
            "sizeref": 9811051.535,
            "symbol": "circle"
           },
           "mode": "markers",
           "name": "North America",
           "orientation": "v",
           "showlegend": true,
           "type": "scatter",
           "x": [
            422912699
           ],
           "xaxis": "x",
           "y": [
            422912699
           ],
           "yaxis": "y"
          }
         ],
         "name": "2052"
        },
        {
         "data": [
          {
           "hovertemplate": "<b>%{hovertext}</b><br><br>continent=Africa<br>year=2053<br> Population=%{marker.size}<extra></extra>",
           "hovertext": [
            "Africa"
           ],
           "ids": [
            "Africa"
           ],
           "legendgroup": "Africa",
           "marker": {
            "color": "#636efa",
            "size": [
             2600475601
            ],
            "sizemode": "area",
            "sizeref": 9811051.535,
            "symbol": "circle"
           },
           "mode": "markers",
           "name": "Africa",
           "orientation": "v",
           "showlegend": true,
           "type": "scatter",
           "x": [
            2600475601
           ],
           "xaxis": "x",
           "y": [
            2600475601
           ],
           "yaxis": "y"
          },
          {
           "hovertemplate": "<b>%{hovertext}</b><br><br>continent=North America<br>year=2053<br> Population=%{marker.size}<extra></extra>",
           "hovertext": [
            "North America"
           ],
           "ids": [
            "North America"
           ],
           "legendgroup": "North America",
           "marker": {
            "color": "#EF553B",
            "size": [
             423633459
            ],
            "sizemode": "area",
            "sizeref": 9811051.535,
            "symbol": "circle"
           },
           "mode": "markers",
           "name": "North America",
           "orientation": "v",
           "showlegend": true,
           "type": "scatter",
           "x": [
            423633459
           ],
           "xaxis": "x",
           "y": [
            423633459
           ],
           "yaxis": "y"
          }
         ],
         "name": "2053"
        },
        {
         "data": [
          {
           "hovertemplate": "<b>%{hovertext}</b><br><br>continent=Africa<br>year=2054<br> Population=%{marker.size}<extra></extra>",
           "hovertext": [
            "Africa"
           ],
           "ids": [
            "Africa"
           ],
           "legendgroup": "Africa",
           "marker": {
            "color": "#636efa",
            "size": [
             2638493882
            ],
            "sizemode": "area",
            "sizeref": 9811051.535,
            "symbol": "circle"
           },
           "mode": "markers",
           "name": "Africa",
           "orientation": "v",
           "showlegend": true,
           "type": "scatter",
           "x": [
            2638493882
           ],
           "xaxis": "x",
           "y": [
            2638493882
           ],
           "yaxis": "y"
          },
          {
           "hovertemplate": "<b>%{hovertext}</b><br><br>continent=North America<br>year=2054<br> Population=%{marker.size}<extra></extra>",
           "hovertext": [
            "North America"
           ],
           "ids": [
            "North America"
           ],
           "legendgroup": "North America",
           "marker": {
            "color": "#EF553B",
            "size": [
             424342088
            ],
            "sizemode": "area",
            "sizeref": 9811051.535,
            "symbol": "circle"
           },
           "mode": "markers",
           "name": "North America",
           "orientation": "v",
           "showlegend": true,
           "type": "scatter",
           "x": [
            424342088
           ],
           "xaxis": "x",
           "y": [
            424342088
           ],
           "yaxis": "y"
          }
         ],
         "name": "2054"
        },
        {
         "data": [
          {
           "hovertemplate": "<b>%{hovertext}</b><br><br>continent=Africa<br>year=2055<br> Population=%{marker.size}<extra></extra>",
           "hovertext": [
            "Africa"
           ],
           "ids": [
            "Africa"
           ],
           "legendgroup": "Africa",
           "marker": {
            "color": "#636efa",
            "size": [
             2676268187
            ],
            "sizemode": "area",
            "sizeref": 9811051.535,
            "symbol": "circle"
           },
           "mode": "markers",
           "name": "Africa",
           "orientation": "v",
           "showlegend": true,
           "type": "scatter",
           "x": [
            2676268187
           ],
           "xaxis": "x",
           "y": [
            2676268187
           ],
           "yaxis": "y"
          },
          {
           "hovertemplate": "<b>%{hovertext}</b><br><br>continent=North America<br>year=2055<br> Population=%{marker.size}<extra></extra>",
           "hovertext": [
            "North America"
           ],
           "ids": [
            "North America"
           ],
           "legendgroup": "North America",
           "marker": {
            "color": "#EF553B",
            "size": [
             425043515
            ],
            "sizemode": "area",
            "sizeref": 9811051.535,
            "symbol": "circle"
           },
           "mode": "markers",
           "name": "North America",
           "orientation": "v",
           "showlegend": true,
           "type": "scatter",
           "x": [
            425043515
           ],
           "xaxis": "x",
           "y": [
            425043515
           ],
           "yaxis": "y"
          }
         ],
         "name": "2055"
        },
        {
         "data": [
          {
           "hovertemplate": "<b>%{hovertext}</b><br><br>continent=Africa<br>year=2056<br> Population=%{marker.size}<extra></extra>",
           "hovertext": [
            "Africa"
           ],
           "ids": [
            "Africa"
           ],
           "legendgroup": "Africa",
           "marker": {
            "color": "#636efa",
            "size": [
             2713808602
            ],
            "sizemode": "area",
            "sizeref": 9811051.535,
            "symbol": "circle"
           },
           "mode": "markers",
           "name": "Africa",
           "orientation": "v",
           "showlegend": true,
           "type": "scatter",
           "x": [
            2713808602
           ],
           "xaxis": "x",
           "y": [
            2713808602
           ],
           "yaxis": "y"
          },
          {
           "hovertemplate": "<b>%{hovertext}</b><br><br>continent=North America<br>year=2056<br> Population=%{marker.size}<extra></extra>",
           "hovertext": [
            "North America"
           ],
           "ids": [
            "North America"
           ],
           "legendgroup": "North America",
           "marker": {
            "color": "#EF553B",
            "size": [
             425743535
            ],
            "sizemode": "area",
            "sizeref": 9811051.535,
            "symbol": "circle"
           },
           "mode": "markers",
           "name": "North America",
           "orientation": "v",
           "showlegend": true,
           "type": "scatter",
           "x": [
            425743535
           ],
           "xaxis": "x",
           "y": [
            425743535
           ],
           "yaxis": "y"
          }
         ],
         "name": "2056"
        },
        {
         "data": [
          {
           "hovertemplate": "<b>%{hovertext}</b><br><br>continent=Africa<br>year=2057<br> Population=%{marker.size}<extra></extra>",
           "hovertext": [
            "Africa"
           ],
           "ids": [
            "Africa"
           ],
           "legendgroup": "Africa",
           "marker": {
            "color": "#636efa",
            "size": [
             2751105347
            ],
            "sizemode": "area",
            "sizeref": 9811051.535,
            "symbol": "circle"
           },
           "mode": "markers",
           "name": "Africa",
           "orientation": "v",
           "showlegend": true,
           "type": "scatter",
           "x": [
            2751105347
           ],
           "xaxis": "x",
           "y": [
            2751105347
           ],
           "yaxis": "y"
          },
          {
           "hovertemplate": "<b>%{hovertext}</b><br><br>continent=North America<br>year=2057<br> Population=%{marker.size}<extra></extra>",
           "hovertext": [
            "North America"
           ],
           "ids": [
            "North America"
           ],
           "legendgroup": "North America",
           "marker": {
            "color": "#EF553B",
            "size": [
             426449542
            ],
            "sizemode": "area",
            "sizeref": 9811051.535,
            "symbol": "circle"
           },
           "mode": "markers",
           "name": "North America",
           "orientation": "v",
           "showlegend": true,
           "type": "scatter",
           "x": [
            426449542
           ],
           "xaxis": "x",
           "y": [
            426449542
           ],
           "yaxis": "y"
          }
         ],
         "name": "2057"
        },
        {
         "data": [
          {
           "hovertemplate": "<b>%{hovertext}</b><br><br>continent=Africa<br>year=2058<br> Population=%{marker.size}<extra></extra>",
           "hovertext": [
            "Africa"
           ],
           "ids": [
            "Africa"
           ],
           "legendgroup": "Africa",
           "marker": {
            "color": "#636efa",
            "size": [
             2788100678
            ],
            "sizemode": "area",
            "sizeref": 9811051.535,
            "symbol": "circle"
           },
           "mode": "markers",
           "name": "Africa",
           "orientation": "v",
           "showlegend": true,
           "type": "scatter",
           "x": [
            2788100678
           ],
           "xaxis": "x",
           "y": [
            2788100678
           ],
           "yaxis": "y"
          },
          {
           "hovertemplate": "<b>%{hovertext}</b><br><br>continent=North America<br>year=2058<br> Population=%{marker.size}<extra></extra>",
           "hovertext": [
            "North America"
           ],
           "ids": [
            "North America"
           ],
           "legendgroup": "North America",
           "marker": {
            "color": "#EF553B",
            "size": [
             427160485
            ],
            "sizemode": "area",
            "sizeref": 9811051.535,
            "symbol": "circle"
           },
           "mode": "markers",
           "name": "North America",
           "orientation": "v",
           "showlegend": true,
           "type": "scatter",
           "x": [
            427160485
           ],
           "xaxis": "x",
           "y": [
            427160485
           ],
           "yaxis": "y"
          }
         ],
         "name": "2058"
        },
        {
         "data": [
          {
           "hovertemplate": "<b>%{hovertext}</b><br><br>continent=Africa<br>year=2059<br> Population=%{marker.size}<extra></extra>",
           "hovertext": [
            "Africa"
           ],
           "ids": [
            "Africa"
           ],
           "legendgroup": "Africa",
           "marker": {
            "color": "#636efa",
            "size": [
             2824746220
            ],
            "sizemode": "area",
            "sizeref": 9811051.535,
            "symbol": "circle"
           },
           "mode": "markers",
           "name": "Africa",
           "orientation": "v",
           "showlegend": true,
           "type": "scatter",
           "x": [
            2824746220
           ],
           "xaxis": "x",
           "y": [
            2824746220
           ],
           "yaxis": "y"
          },
          {
           "hovertemplate": "<b>%{hovertext}</b><br><br>continent=North America<br>year=2059<br> Population=%{marker.size}<extra></extra>",
           "hovertext": [
            "North America"
           ],
           "ids": [
            "North America"
           ],
           "legendgroup": "North America",
           "marker": {
            "color": "#EF553B",
            "size": [
             427878981
            ],
            "sizemode": "area",
            "sizeref": 9811051.535,
            "symbol": "circle"
           },
           "mode": "markers",
           "name": "North America",
           "orientation": "v",
           "showlegend": true,
           "type": "scatter",
           "x": [
            427878981
           ],
           "xaxis": "x",
           "y": [
            427878981
           ],
           "yaxis": "y"
          }
         ],
         "name": "2059"
        },
        {
         "data": [
          {
           "hovertemplate": "<b>%{hovertext}</b><br><br>continent=Africa<br>year=2060<br> Population=%{marker.size}<extra></extra>",
           "hovertext": [
            "Africa"
           ],
           "ids": [
            "Africa"
           ],
           "legendgroup": "Africa",
           "marker": {
            "color": "#636efa",
            "size": [
             2861079511
            ],
            "sizemode": "area",
            "sizeref": 9811051.535,
            "symbol": "circle"
           },
           "mode": "markers",
           "name": "Africa",
           "orientation": "v",
           "showlegend": true,
           "type": "scatter",
           "x": [
            2861079511
           ],
           "xaxis": "x",
           "y": [
            2861079511
           ],
           "yaxis": "y"
          },
          {
           "hovertemplate": "<b>%{hovertext}</b><br><br>continent=North America<br>year=2060<br> Population=%{marker.size}<extra></extra>",
           "hovertext": [
            "North America"
           ],
           "ids": [
            "North America"
           ],
           "legendgroup": "North America",
           "marker": {
            "color": "#EF553B",
            "size": [
             428607143
            ],
            "sizemode": "area",
            "sizeref": 9811051.535,
            "symbol": "circle"
           },
           "mode": "markers",
           "name": "North America",
           "orientation": "v",
           "showlegend": true,
           "type": "scatter",
           "x": [
            428607143
           ],
           "xaxis": "x",
           "y": [
            428607143
           ],
           "yaxis": "y"
          }
         ],
         "name": "2060"
        },
        {
         "data": [
          {
           "hovertemplate": "<b>%{hovertext}</b><br><br>continent=Africa<br>year=2061<br> Population=%{marker.size}<extra></extra>",
           "hovertext": [
            "Africa"
           ],
           "ids": [
            "Africa"
           ],
           "legendgroup": "Africa",
           "marker": {
            "color": "#636efa",
            "size": [
             2897140195
            ],
            "sizemode": "area",
            "sizeref": 9811051.535,
            "symbol": "circle"
           },
           "mode": "markers",
           "name": "Africa",
           "orientation": "v",
           "showlegend": true,
           "type": "scatter",
           "x": [
            2897140195
           ],
           "xaxis": "x",
           "y": [
            2897140195
           ],
           "yaxis": "y"
          },
          {
           "hovertemplate": "<b>%{hovertext}</b><br><br>continent=North America<br>year=2061<br> Population=%{marker.size}<extra></extra>",
           "hovertext": [
            "North America"
           ],
           "ids": [
            "North America"
           ],
           "legendgroup": "North America",
           "marker": {
            "color": "#EF553B",
            "size": [
             429347465
            ],
            "sizemode": "area",
            "sizeref": 9811051.535,
            "symbol": "circle"
           },
           "mode": "markers",
           "name": "North America",
           "orientation": "v",
           "showlegend": true,
           "type": "scatter",
           "x": [
            429347465
           ],
           "xaxis": "x",
           "y": [
            429347465
           ],
           "yaxis": "y"
          }
         ],
         "name": "2061"
        },
        {
         "data": [
          {
           "hovertemplate": "<b>%{hovertext}</b><br><br>continent=Africa<br>year=2062<br> Population=%{marker.size}<extra></extra>",
           "hovertext": [
            "Africa"
           ],
           "ids": [
            "Africa"
           ],
           "legendgroup": "Africa",
           "marker": {
            "color": "#636efa",
            "size": [
             2932931499
            ],
            "sizemode": "area",
            "sizeref": 9811051.535,
            "symbol": "circle"
           },
           "mode": "markers",
           "name": "Africa",
           "orientation": "v",
           "showlegend": true,
           "type": "scatter",
           "x": [
            2932931499
           ],
           "xaxis": "x",
           "y": [
            2932931499
           ],
           "yaxis": "y"
          },
          {
           "hovertemplate": "<b>%{hovertext}</b><br><br>continent=North America<br>year=2062<br> Population=%{marker.size}<extra></extra>",
           "hovertext": [
            "North America"
           ],
           "ids": [
            "North America"
           ],
           "legendgroup": "North America",
           "marker": {
            "color": "#EF553B",
            "size": [
             430103383
            ],
            "sizemode": "area",
            "sizeref": 9811051.535,
            "symbol": "circle"
           },
           "mode": "markers",
           "name": "North America",
           "orientation": "v",
           "showlegend": true,
           "type": "scatter",
           "x": [
            430103383
           ],
           "xaxis": "x",
           "y": [
            430103383
           ],
           "yaxis": "y"
          }
         ],
         "name": "2062"
        },
        {
         "data": [
          {
           "hovertemplate": "<b>%{hovertext}</b><br><br>continent=Africa<br>year=2063<br> Population=%{marker.size}<extra></extra>",
           "hovertext": [
            "Africa"
           ],
           "ids": [
            "Africa"
           ],
           "legendgroup": "Africa",
           "marker": {
            "color": "#636efa",
            "size": [
             2968373604
            ],
            "sizemode": "area",
            "sizeref": 9811051.535,
            "symbol": "circle"
           },
           "mode": "markers",
           "name": "Africa",
           "orientation": "v",
           "showlegend": true,
           "type": "scatter",
           "x": [
            2968373604
           ],
           "xaxis": "x",
           "y": [
            2968373604
           ],
           "yaxis": "y"
          },
          {
           "hovertemplate": "<b>%{hovertext}</b><br><br>continent=North America<br>year=2063<br> Population=%{marker.size}<extra></extra>",
           "hovertext": [
            "North America"
           ],
           "ids": [
            "North America"
           ],
           "legendgroup": "North America",
           "marker": {
            "color": "#EF553B",
            "size": [
             430878529
            ],
            "sizemode": "area",
            "sizeref": 9811051.535,
            "symbol": "circle"
           },
           "mode": "markers",
           "name": "North America",
           "orientation": "v",
           "showlegend": true,
           "type": "scatter",
           "x": [
            430878529
           ],
           "xaxis": "x",
           "y": [
            430878529
           ],
           "yaxis": "y"
          }
         ],
         "name": "2063"
        },
        {
         "data": [
          {
           "hovertemplate": "<b>%{hovertext}</b><br><br>continent=Africa<br>year=2064<br> Population=%{marker.size}<extra></extra>",
           "hovertext": [
            "Africa"
           ],
           "ids": [
            "Africa"
           ],
           "legendgroup": "Africa",
           "marker": {
            "color": "#636efa",
            "size": [
             3003468334
            ],
            "sizemode": "area",
            "sizeref": 9811051.535,
            "symbol": "circle"
           },
           "mode": "markers",
           "name": "Africa",
           "orientation": "v",
           "showlegend": true,
           "type": "scatter",
           "x": [
            3003468334
           ],
           "xaxis": "x",
           "y": [
            3003468334
           ],
           "yaxis": "y"
          },
          {
           "hovertemplate": "<b>%{hovertext}</b><br><br>continent=North America<br>year=2064<br> Population=%{marker.size}<extra></extra>",
           "hovertext": [
            "North America"
           ],
           "ids": [
            "North America"
           ],
           "legendgroup": "North America",
           "marker": {
            "color": "#EF553B",
            "size": [
             431668725
            ],
            "sizemode": "area",
            "sizeref": 9811051.535,
            "symbol": "circle"
           },
           "mode": "markers",
           "name": "North America",
           "orientation": "v",
           "showlegend": true,
           "type": "scatter",
           "x": [
            431668725
           ],
           "xaxis": "x",
           "y": [
            431668725
           ],
           "yaxis": "y"
          }
         ],
         "name": "2064"
        },
        {
         "data": [
          {
           "hovertemplate": "<b>%{hovertext}</b><br><br>continent=Africa<br>year=2065<br> Population=%{marker.size}<extra></extra>",
           "hovertext": [
            "Africa"
           ],
           "ids": [
            "Africa"
           ],
           "legendgroup": "Africa",
           "marker": {
            "color": "#636efa",
            "size": [
             3038189396
            ],
            "sizemode": "area",
            "sizeref": 9811051.535,
            "symbol": "circle"
           },
           "mode": "markers",
           "name": "Africa",
           "orientation": "v",
           "showlegend": true,
           "type": "scatter",
           "x": [
            3038189396
           ],
           "xaxis": "x",
           "y": [
            3038189396
           ],
           "yaxis": "y"
          },
          {
           "hovertemplate": "<b>%{hovertext}</b><br><br>continent=North America<br>year=2065<br> Population=%{marker.size}<extra></extra>",
           "hovertext": [
            "North America"
           ],
           "ids": [
            "North America"
           ],
           "legendgroup": "North America",
           "marker": {
            "color": "#EF553B",
            "size": [
             432466239
            ],
            "sizemode": "area",
            "sizeref": 9811051.535,
            "symbol": "circle"
           },
           "mode": "markers",
           "name": "North America",
           "orientation": "v",
           "showlegend": true,
           "type": "scatter",
           "x": [
            432466239
           ],
           "xaxis": "x",
           "y": [
            432466239
           ],
           "yaxis": "y"
          }
         ],
         "name": "2065"
        },
        {
         "data": [
          {
           "hovertemplate": "<b>%{hovertext}</b><br><br>continent=Africa<br>year=2066<br> Population=%{marker.size}<extra></extra>",
           "hovertext": [
            "Africa"
           ],
           "ids": [
            "Africa"
           ],
           "legendgroup": "Africa",
           "marker": {
            "color": "#636efa",
            "size": [
             3072489966
            ],
            "sizemode": "area",
            "sizeref": 9811051.535,
            "symbol": "circle"
           },
           "mode": "markers",
           "name": "Africa",
           "orientation": "v",
           "showlegend": true,
           "type": "scatter",
           "x": [
            3072489966
           ],
           "xaxis": "x",
           "y": [
            3072489966
           ],
           "yaxis": "y"
          },
          {
           "hovertemplate": "<b>%{hovertext}</b><br><br>continent=North America<br>year=2066<br> Population=%{marker.size}<extra></extra>",
           "hovertext": [
            "North America"
           ],
           "ids": [
            "North America"
           ],
           "legendgroup": "North America",
           "marker": {
            "color": "#EF553B",
            "size": [
             433267543
            ],
            "sizemode": "area",
            "sizeref": 9811051.535,
            "symbol": "circle"
           },
           "mode": "markers",
           "name": "North America",
           "orientation": "v",
           "showlegend": true,
           "type": "scatter",
           "x": [
            433267543
           ],
           "xaxis": "x",
           "y": [
            433267543
           ],
           "yaxis": "y"
          }
         ],
         "name": "2066"
        },
        {
         "data": [
          {
           "hovertemplate": "<b>%{hovertext}</b><br><br>continent=Africa<br>year=2067<br> Population=%{marker.size}<extra></extra>",
           "hovertext": [
            "Africa"
           ],
           "ids": [
            "Africa"
           ],
           "legendgroup": "Africa",
           "marker": {
            "color": "#636efa",
            "size": [
             3106448544
            ],
            "sizemode": "area",
            "sizeref": 9811051.535,
            "symbol": "circle"
           },
           "mode": "markers",
           "name": "Africa",
           "orientation": "v",
           "showlegend": true,
           "type": "scatter",
           "x": [
            3106448544
           ],
           "xaxis": "x",
           "y": [
            3106448544
           ],
           "yaxis": "y"
          },
          {
           "hovertemplate": "<b>%{hovertext}</b><br><br>continent=North America<br>year=2067<br> Population=%{marker.size}<extra></extra>",
           "hovertext": [
            "North America"
           ],
           "ids": [
            "North America"
           ],
           "legendgroup": "North America",
           "marker": {
            "color": "#EF553B",
            "size": [
             434069046
            ],
            "sizemode": "area",
            "sizeref": 9811051.535,
            "symbol": "circle"
           },
           "mode": "markers",
           "name": "North America",
           "orientation": "v",
           "showlegend": true,
           "type": "scatter",
           "x": [
            434069046
           ],
           "xaxis": "x",
           "y": [
            434069046
           ],
           "yaxis": "y"
          }
         ],
         "name": "2067"
        },
        {
         "data": [
          {
           "hovertemplate": "<b>%{hovertext}</b><br><br>continent=Africa<br>year=2068<br> Population=%{marker.size}<extra></extra>",
           "hovertext": [
            "Africa"
           ],
           "ids": [
            "Africa"
           ],
           "legendgroup": "Africa",
           "marker": {
            "color": "#636efa",
            "size": [
             3140019266
            ],
            "sizemode": "area",
            "sizeref": 9811051.535,
            "symbol": "circle"
           },
           "mode": "markers",
           "name": "Africa",
           "orientation": "v",
           "showlegend": true,
           "type": "scatter",
           "x": [
            3140019266
           ],
           "xaxis": "x",
           "y": [
            3140019266
           ],
           "yaxis": "y"
          },
          {
           "hovertemplate": "<b>%{hovertext}</b><br><br>continent=North America<br>year=2068<br> Population=%{marker.size}<extra></extra>",
           "hovertext": [
            "North America"
           ],
           "ids": [
            "North America"
           ],
           "legendgroup": "North America",
           "marker": {
            "color": "#EF553B",
            "size": [
             434869639
            ],
            "sizemode": "area",
            "sizeref": 9811051.535,
            "symbol": "circle"
           },
           "mode": "markers",
           "name": "North America",
           "orientation": "v",
           "showlegend": true,
           "type": "scatter",
           "x": [
            434869639
           ],
           "xaxis": "x",
           "y": [
            434869639
           ],
           "yaxis": "y"
          }
         ],
         "name": "2068"
        },
        {
         "data": [
          {
           "hovertemplate": "<b>%{hovertext}</b><br><br>continent=Africa<br>year=2069<br> Population=%{marker.size}<extra></extra>",
           "hovertext": [
            "Africa"
           ],
           "ids": [
            "Africa"
           ],
           "legendgroup": "Africa",
           "marker": {
            "color": "#636efa",
            "size": [
             3173134557
            ],
            "sizemode": "area",
            "sizeref": 9811051.535,
            "symbol": "circle"
           },
           "mode": "markers",
           "name": "Africa",
           "orientation": "v",
           "showlegend": true,
           "type": "scatter",
           "x": [
            3173134557
           ],
           "xaxis": "x",
           "y": [
            3173134557
           ],
           "yaxis": "y"
          },
          {
           "hovertemplate": "<b>%{hovertext}</b><br><br>continent=North America<br>year=2069<br> Population=%{marker.size}<extra></extra>",
           "hovertext": [
            "North America"
           ],
           "ids": [
            "North America"
           ],
           "legendgroup": "North America",
           "marker": {
            "color": "#EF553B",
            "size": [
             435655518
            ],
            "sizemode": "area",
            "sizeref": 9811051.535,
            "symbol": "circle"
           },
           "mode": "markers",
           "name": "North America",
           "orientation": "v",
           "showlegend": true,
           "type": "scatter",
           "x": [
            435655518
           ],
           "xaxis": "x",
           "y": [
            435655518
           ],
           "yaxis": "y"
          }
         ],
         "name": "2069"
        },
        {
         "data": [
          {
           "hovertemplate": "<b>%{hovertext}</b><br><br>continent=Africa<br>year=2070<br> Population=%{marker.size}<extra></extra>",
           "hovertext": [
            "Africa"
           ],
           "ids": [
            "Africa"
           ],
           "legendgroup": "Africa",
           "marker": {
            "color": "#636efa",
            "size": [
             3205773359
            ],
            "sizemode": "area",
            "sizeref": 9811051.535,
            "symbol": "circle"
           },
           "mode": "markers",
           "name": "Africa",
           "orientation": "v",
           "showlegend": true,
           "type": "scatter",
           "x": [
            3205773359
           ],
           "xaxis": "x",
           "y": [
            3205773359
           ],
           "yaxis": "y"
          },
          {
           "hovertemplate": "<b>%{hovertext}</b><br><br>continent=North America<br>year=2070<br> Population=%{marker.size}<extra></extra>",
           "hovertext": [
            "North America"
           ],
           "ids": [
            "North America"
           ],
           "legendgroup": "North America",
           "marker": {
            "color": "#EF553B",
            "size": [
             436416085
            ],
            "sizemode": "area",
            "sizeref": 9811051.535,
            "symbol": "circle"
           },
           "mode": "markers",
           "name": "North America",
           "orientation": "v",
           "showlegend": true,
           "type": "scatter",
           "x": [
            436416085
           ],
           "xaxis": "x",
           "y": [
            436416085
           ],
           "yaxis": "y"
          }
         ],
         "name": "2070"
        },
        {
         "data": [
          {
           "hovertemplate": "<b>%{hovertext}</b><br><br>continent=Africa<br>year=2071<br> Population=%{marker.size}<extra></extra>",
           "hovertext": [
            "Africa"
           ],
           "ids": [
            "Africa"
           ],
           "legendgroup": "Africa",
           "marker": {
            "color": "#636efa",
            "size": [
             3237935473
            ],
            "sizemode": "area",
            "sizeref": 9811051.535,
            "symbol": "circle"
           },
           "mode": "markers",
           "name": "Africa",
           "orientation": "v",
           "showlegend": true,
           "type": "scatter",
           "x": [
            3237935473
           ],
           "xaxis": "x",
           "y": [
            3237935473
           ],
           "yaxis": "y"
          },
          {
           "hovertemplate": "<b>%{hovertext}</b><br><br>continent=North America<br>year=2071<br> Population=%{marker.size}<extra></extra>",
           "hovertext": [
            "North America"
           ],
           "ids": [
            "North America"
           ],
           "legendgroup": "North America",
           "marker": {
            "color": "#EF553B",
            "size": [
             437167122
            ],
            "sizemode": "area",
            "sizeref": 9811051.535,
            "symbol": "circle"
           },
           "mode": "markers",
           "name": "North America",
           "orientation": "v",
           "showlegend": true,
           "type": "scatter",
           "x": [
            437167122
           ],
           "xaxis": "x",
           "y": [
            437167122
           ],
           "yaxis": "y"
          }
         ],
         "name": "2071"
        },
        {
         "data": [
          {
           "hovertemplate": "<b>%{hovertext}</b><br><br>continent=Africa<br>year=2072<br> Population=%{marker.size}<extra></extra>",
           "hovertext": [
            "Africa"
           ],
           "ids": [
            "Africa"
           ],
           "legendgroup": "Africa",
           "marker": {
            "color": "#636efa",
            "size": [
             3269661930
            ],
            "sizemode": "area",
            "sizeref": 9811051.535,
            "symbol": "circle"
           },
           "mode": "markers",
           "name": "Africa",
           "orientation": "v",
           "showlegend": true,
           "type": "scatter",
           "x": [
            3269661930
           ],
           "xaxis": "x",
           "y": [
            3269661930
           ],
           "yaxis": "y"
          },
          {
           "hovertemplate": "<b>%{hovertext}</b><br><br>continent=North America<br>year=2072<br> Population=%{marker.size}<extra></extra>",
           "hovertext": [
            "North America"
           ],
           "ids": [
            "North America"
           ],
           "legendgroup": "North America",
           "marker": {
            "color": "#EF553B",
            "size": [
             437902238
            ],
            "sizemode": "area",
            "sizeref": 9811051.535,
            "symbol": "circle"
           },
           "mode": "markers",
           "name": "North America",
           "orientation": "v",
           "showlegend": true,
           "type": "scatter",
           "x": [
            437902238
           ],
           "xaxis": "x",
           "y": [
            437902238
           ],
           "yaxis": "y"
          }
         ],
         "name": "2072"
        },
        {
         "data": [
          {
           "hovertemplate": "<b>%{hovertext}</b><br><br>continent=Africa<br>year=2073<br> Population=%{marker.size}<extra></extra>",
           "hovertext": [
            "Africa"
           ],
           "ids": [
            "Africa"
           ],
           "legendgroup": "Africa",
           "marker": {
            "color": "#636efa",
            "size": [
             3300925347
            ],
            "sizemode": "area",
            "sizeref": 9811051.535,
            "symbol": "circle"
           },
           "mode": "markers",
           "name": "Africa",
           "orientation": "v",
           "showlegend": true,
           "type": "scatter",
           "x": [
            3300925347
           ],
           "xaxis": "x",
           "y": [
            3300925347
           ],
           "yaxis": "y"
          },
          {
           "hovertemplate": "<b>%{hovertext}</b><br><br>continent=North America<br>year=2073<br> Population=%{marker.size}<extra></extra>",
           "hovertext": [
            "North America"
           ],
           "ids": [
            "North America"
           ],
           "legendgroup": "North America",
           "marker": {
            "color": "#EF553B",
            "size": [
             438604558
            ],
            "sizemode": "area",
            "sizeref": 9811051.535,
            "symbol": "circle"
           },
           "mode": "markers",
           "name": "North America",
           "orientation": "v",
           "showlegend": true,
           "type": "scatter",
           "x": [
            438604558
           ],
           "xaxis": "x",
           "y": [
            438604558
           ],
           "yaxis": "y"
          }
         ],
         "name": "2073"
        },
        {
         "data": [
          {
           "hovertemplate": "<b>%{hovertext}</b><br><br>continent=Africa<br>year=2074<br> Population=%{marker.size}<extra></extra>",
           "hovertext": [
            "Africa"
           ],
           "ids": [
            "Africa"
           ],
           "legendgroup": "Africa",
           "marker": {
            "color": "#636efa",
            "size": [
             3331662177
            ],
            "sizemode": "area",
            "sizeref": 9811051.535,
            "symbol": "circle"
           },
           "mode": "markers",
           "name": "Africa",
           "orientation": "v",
           "showlegend": true,
           "type": "scatter",
           "x": [
            3331662177
           ],
           "xaxis": "x",
           "y": [
            3331662177
           ],
           "yaxis": "y"
          },
          {
           "hovertemplate": "<b>%{hovertext}</b><br><br>continent=North America<br>year=2074<br> Population=%{marker.size}<extra></extra>",
           "hovertext": [
            "North America"
           ],
           "ids": [
            "North America"
           ],
           "legendgroup": "North America",
           "marker": {
            "color": "#EF553B",
            "size": [
             439269445
            ],
            "sizemode": "area",
            "sizeref": 9811051.535,
            "symbol": "circle"
           },
           "mode": "markers",
           "name": "North America",
           "orientation": "v",
           "showlegend": true,
           "type": "scatter",
           "x": [
            439269445
           ],
           "xaxis": "x",
           "y": [
            439269445
           ],
           "yaxis": "y"
          }
         ],
         "name": "2074"
        },
        {
         "data": [
          {
           "hovertemplate": "<b>%{hovertext}</b><br><br>continent=Africa<br>year=2075<br> Population=%{marker.size}<extra></extra>",
           "hovertext": [
            "Africa"
           ],
           "ids": [
            "Africa"
           ],
           "legendgroup": "Africa",
           "marker": {
            "color": "#636efa",
            "size": [
             3361854381
            ],
            "sizemode": "area",
            "sizeref": 9811051.535,
            "symbol": "circle"
           },
           "mode": "markers",
           "name": "Africa",
           "orientation": "v",
           "showlegend": true,
           "type": "scatter",
           "x": [
            3361854381
           ],
           "xaxis": "x",
           "y": [
            3361854381
           ],
           "yaxis": "y"
          },
          {
           "hovertemplate": "<b>%{hovertext}</b><br><br>continent=North America<br>year=2075<br> Population=%{marker.size}<extra></extra>",
           "hovertext": [
            "North America"
           ],
           "ids": [
            "North America"
           ],
           "legendgroup": "North America",
           "marker": {
            "color": "#EF553B",
            "size": [
             439895173
            ],
            "sizemode": "area",
            "sizeref": 9811051.535,
            "symbol": "circle"
           },
           "mode": "markers",
           "name": "North America",
           "orientation": "v",
           "showlegend": true,
           "type": "scatter",
           "x": [
            439895173
           ],
           "xaxis": "x",
           "y": [
            439895173
           ],
           "yaxis": "y"
          }
         ],
         "name": "2075"
        },
        {
         "data": [
          {
           "hovertemplate": "<b>%{hovertext}</b><br><br>continent=Africa<br>year=2076<br> Population=%{marker.size}<extra></extra>",
           "hovertext": [
            "Africa"
           ],
           "ids": [
            "Africa"
           ],
           "legendgroup": "Africa",
           "marker": {
            "color": "#636efa",
            "size": [
             3391480493
            ],
            "sizemode": "area",
            "sizeref": 9811051.535,
            "symbol": "circle"
           },
           "mode": "markers",
           "name": "Africa",
           "orientation": "v",
           "showlegend": true,
           "type": "scatter",
           "x": [
            3391480493
           ],
           "xaxis": "x",
           "y": [
            3391480493
           ],
           "yaxis": "y"
          },
          {
           "hovertemplate": "<b>%{hovertext}</b><br><br>continent=North America<br>year=2076<br> Population=%{marker.size}<extra></extra>",
           "hovertext": [
            "North America"
           ],
           "ids": [
            "North America"
           ],
           "legendgroup": "North America",
           "marker": {
            "color": "#EF553B",
            "size": [
             440482370
            ],
            "sizemode": "area",
            "sizeref": 9811051.535,
            "symbol": "circle"
           },
           "mode": "markers",
           "name": "North America",
           "orientation": "v",
           "showlegend": true,
           "type": "scatter",
           "x": [
            440482370
           ],
           "xaxis": "x",
           "y": [
            440482370
           ],
           "yaxis": "y"
          }
         ],
         "name": "2076"
        },
        {
         "data": [
          {
           "hovertemplate": "<b>%{hovertext}</b><br><br>continent=Africa<br>year=2077<br> Population=%{marker.size}<extra></extra>",
           "hovertext": [
            "Africa"
           ],
           "ids": [
            "Africa"
           ],
           "legendgroup": "Africa",
           "marker": {
            "color": "#636efa",
            "size": [
             3420510775
            ],
            "sizemode": "area",
            "sizeref": 9811051.535,
            "symbol": "circle"
           },
           "mode": "markers",
           "name": "Africa",
           "orientation": "v",
           "showlegend": true,
           "type": "scatter",
           "x": [
            3420510775
           ],
           "xaxis": "x",
           "y": [
            3420510775
           ],
           "yaxis": "y"
          },
          {
           "hovertemplate": "<b>%{hovertext}</b><br><br>continent=North America<br>year=2077<br> Population=%{marker.size}<extra></extra>",
           "hovertext": [
            "North America"
           ],
           "ids": [
            "North America"
           ],
           "legendgroup": "North America",
           "marker": {
            "color": "#EF553B",
            "size": [
             441033329
            ],
            "sizemode": "area",
            "sizeref": 9811051.535,
            "symbol": "circle"
           },
           "mode": "markers",
           "name": "North America",
           "orientation": "v",
           "showlegend": true,
           "type": "scatter",
           "x": [
            441033329
           ],
           "xaxis": "x",
           "y": [
            441033329
           ],
           "yaxis": "y"
          }
         ],
         "name": "2077"
        },
        {
         "data": [
          {
           "hovertemplate": "<b>%{hovertext}</b><br><br>continent=Africa<br>year=2078<br> Population=%{marker.size}<extra></extra>",
           "hovertext": [
            "Africa"
           ],
           "ids": [
            "Africa"
           ],
           "legendgroup": "Africa",
           "marker": {
            "color": "#636efa",
            "size": [
             3449000022
            ],
            "sizemode": "area",
            "sizeref": 9811051.535,
            "symbol": "circle"
           },
           "mode": "markers",
           "name": "Africa",
           "orientation": "v",
           "showlegend": true,
           "type": "scatter",
           "x": [
            3449000022
           ],
           "xaxis": "x",
           "y": [
            3449000022
           ],
           "yaxis": "y"
          },
          {
           "hovertemplate": "<b>%{hovertext}</b><br><br>continent=North America<br>year=2078<br> Population=%{marker.size}<extra></extra>",
           "hovertext": [
            "North America"
           ],
           "ids": [
            "North America"
           ],
           "legendgroup": "North America",
           "marker": {
            "color": "#EF553B",
            "size": [
             441551108
            ],
            "sizemode": "area",
            "sizeref": 9811051.535,
            "symbol": "circle"
           },
           "mode": "markers",
           "name": "North America",
           "orientation": "v",
           "showlegend": true,
           "type": "scatter",
           "x": [
            441551108
           ],
           "xaxis": "x",
           "y": [
            441551108
           ],
           "yaxis": "y"
          }
         ],
         "name": "2078"
        },
        {
         "data": [
          {
           "hovertemplate": "<b>%{hovertext}</b><br><br>continent=Africa<br>year=2079<br> Population=%{marker.size}<extra></extra>",
           "hovertext": [
            "Africa"
           ],
           "ids": [
            "Africa"
           ],
           "legendgroup": "Africa",
           "marker": {
            "color": "#636efa",
            "size": [
             3476975700
            ],
            "sizemode": "area",
            "sizeref": 9811051.535,
            "symbol": "circle"
           },
           "mode": "markers",
           "name": "Africa",
           "orientation": "v",
           "showlegend": true,
           "type": "scatter",
           "x": [
            3476975700
           ],
           "xaxis": "x",
           "y": [
            3476975700
           ],
           "yaxis": "y"
          },
          {
           "hovertemplate": "<b>%{hovertext}</b><br><br>continent=North America<br>year=2079<br> Population=%{marker.size}<extra></extra>",
           "hovertext": [
            "North America"
           ],
           "ids": [
            "North America"
           ],
           "legendgroup": "North America",
           "marker": {
            "color": "#EF553B",
            "size": [
             442028720
            ],
            "sizemode": "area",
            "sizeref": 9811051.535,
            "symbol": "circle"
           },
           "mode": "markers",
           "name": "North America",
           "orientation": "v",
           "showlegend": true,
           "type": "scatter",
           "x": [
            442028720
           ],
           "xaxis": "x",
           "y": [
            442028720
           ],
           "yaxis": "y"
          }
         ],
         "name": "2079"
        },
        {
         "data": [
          {
           "hovertemplate": "<b>%{hovertext}</b><br><br>continent=Africa<br>year=2080<br> Population=%{marker.size}<extra></extra>",
           "hovertext": [
            "Africa"
           ],
           "ids": [
            "Africa"
           ],
           "legendgroup": "Africa",
           "marker": {
            "color": "#636efa",
            "size": [
             3504401640
            ],
            "sizemode": "area",
            "sizeref": 9811051.535,
            "symbol": "circle"
           },
           "mode": "markers",
           "name": "Africa",
           "orientation": "v",
           "showlegend": true,
           "type": "scatter",
           "x": [
            3504401640
           ],
           "xaxis": "x",
           "y": [
            3504401640
           ],
           "yaxis": "y"
          },
          {
           "hovertemplate": "<b>%{hovertext}</b><br><br>continent=North America<br>year=2080<br> Population=%{marker.size}<extra></extra>",
           "hovertext": [
            "North America"
           ],
           "ids": [
            "North America"
           ],
           "legendgroup": "North America",
           "marker": {
            "color": "#EF553B",
            "size": [
             442464213
            ],
            "sizemode": "area",
            "sizeref": 9811051.535,
            "symbol": "circle"
           },
           "mode": "markers",
           "name": "North America",
           "orientation": "v",
           "showlegend": true,
           "type": "scatter",
           "x": [
            442464213
           ],
           "xaxis": "x",
           "y": [
            442464213
           ],
           "yaxis": "y"
          }
         ],
         "name": "2080"
        },
        {
         "data": [
          {
           "hovertemplate": "<b>%{hovertext}</b><br><br>continent=Africa<br>year=2081<br> Population=%{marker.size}<extra></extra>",
           "hovertext": [
            "Africa"
           ],
           "ids": [
            "Africa"
           ],
           "legendgroup": "Africa",
           "marker": {
            "color": "#636efa",
            "size": [
             3531278214
            ],
            "sizemode": "area",
            "sizeref": 9811051.535,
            "symbol": "circle"
           },
           "mode": "markers",
           "name": "Africa",
           "orientation": "v",
           "showlegend": true,
           "type": "scatter",
           "x": [
            3531278214
           ],
           "xaxis": "x",
           "y": [
            3531278214
           ],
           "yaxis": "y"
          },
          {
           "hovertemplate": "<b>%{hovertext}</b><br><br>continent=North America<br>year=2081<br> Population=%{marker.size}<extra></extra>",
           "hovertext": [
            "North America"
           ],
           "ids": [
            "North America"
           ],
           "legendgroup": "North America",
           "marker": {
            "color": "#EF553B",
            "size": [
             442865862
            ],
            "sizemode": "area",
            "sizeref": 9811051.535,
            "symbol": "circle"
           },
           "mode": "markers",
           "name": "North America",
           "orientation": "v",
           "showlegend": true,
           "type": "scatter",
           "x": [
            442865862
           ],
           "xaxis": "x",
           "y": [
            442865862
           ],
           "yaxis": "y"
          }
         ],
         "name": "2081"
        },
        {
         "data": [
          {
           "hovertemplate": "<b>%{hovertext}</b><br><br>continent=Africa<br>year=2082<br> Population=%{marker.size}<extra></extra>",
           "hovertext": [
            "Africa"
           ],
           "ids": [
            "Africa"
           ],
           "legendgroup": "Africa",
           "marker": {
            "color": "#636efa",
            "size": [
             3557592404
            ],
            "sizemode": "area",
            "sizeref": 9811051.535,
            "symbol": "circle"
           },
           "mode": "markers",
           "name": "Africa",
           "orientation": "v",
           "showlegend": true,
           "type": "scatter",
           "x": [
            3557592404
           ],
           "xaxis": "x",
           "y": [
            3557592404
           ],
           "yaxis": "y"
          },
          {
           "hovertemplate": "<b>%{hovertext}</b><br><br>continent=North America<br>year=2082<br> Population=%{marker.size}<extra></extra>",
           "hovertext": [
            "North America"
           ],
           "ids": [
            "North America"
           ],
           "legendgroup": "North America",
           "marker": {
            "color": "#EF553B",
            "size": [
             443236806
            ],
            "sizemode": "area",
            "sizeref": 9811051.535,
            "symbol": "circle"
           },
           "mode": "markers",
           "name": "North America",
           "orientation": "v",
           "showlegend": true,
           "type": "scatter",
           "x": [
            443236806
           ],
           "xaxis": "x",
           "y": [
            443236806
           ],
           "yaxis": "y"
          }
         ],
         "name": "2082"
        },
        {
         "data": [
          {
           "hovertemplate": "<b>%{hovertext}</b><br><br>continent=Africa<br>year=2083<br> Population=%{marker.size}<extra></extra>",
           "hovertext": [
            "Africa"
           ],
           "ids": [
            "Africa"
           ],
           "legendgroup": "Africa",
           "marker": {
            "color": "#636efa",
            "size": [
             3583317421
            ],
            "sizemode": "area",
            "sizeref": 9811051.535,
            "symbol": "circle"
           },
           "mode": "markers",
           "name": "Africa",
           "orientation": "v",
           "showlegend": true,
           "type": "scatter",
           "x": [
            3583317421
           ],
           "xaxis": "x",
           "y": [
            3583317421
           ],
           "yaxis": "y"
          },
          {
           "hovertemplate": "<b>%{hovertext}</b><br><br>continent=North America<br>year=2083<br> Population=%{marker.size}<extra></extra>",
           "hovertext": [
            "North America"
           ],
           "ids": [
            "North America"
           ],
           "legendgroup": "North America",
           "marker": {
            "color": "#EF553B",
            "size": [
             443580807
            ],
            "sizemode": "area",
            "sizeref": 9811051.535,
            "symbol": "circle"
           },
           "mode": "markers",
           "name": "North America",
           "orientation": "v",
           "showlegend": true,
           "type": "scatter",
           "x": [
            443580807
           ],
           "xaxis": "x",
           "y": [
            443580807
           ],
           "yaxis": "y"
          }
         ],
         "name": "2083"
        },
        {
         "data": [
          {
           "hovertemplate": "<b>%{hovertext}</b><br><br>continent=Africa<br>year=2084<br> Population=%{marker.size}<extra></extra>",
           "hovertext": [
            "Africa"
           ],
           "ids": [
            "Africa"
           ],
           "legendgroup": "Africa",
           "marker": {
            "color": "#636efa",
            "size": [
             3608448708
            ],
            "sizemode": "area",
            "sizeref": 9811051.535,
            "symbol": "circle"
           },
           "mode": "markers",
           "name": "Africa",
           "orientation": "v",
           "showlegend": true,
           "type": "scatter",
           "x": [
            3608448708
           ],
           "xaxis": "x",
           "y": [
            3608448708
           ],
           "yaxis": "y"
          },
          {
           "hovertemplate": "<b>%{hovertext}</b><br><br>continent=North America<br>year=2084<br> Population=%{marker.size}<extra></extra>",
           "hovertext": [
            "North America"
           ],
           "ids": [
            "North America"
           ],
           "legendgroup": "North America",
           "marker": {
            "color": "#EF553B",
            "size": [
             443903737
            ],
            "sizemode": "area",
            "sizeref": 9811051.535,
            "symbol": "circle"
           },
           "mode": "markers",
           "name": "North America",
           "orientation": "v",
           "showlegend": true,
           "type": "scatter",
           "x": [
            443903737
           ],
           "xaxis": "x",
           "y": [
            443903737
           ],
           "yaxis": "y"
          }
         ],
         "name": "2084"
        },
        {
         "data": [
          {
           "hovertemplate": "<b>%{hovertext}</b><br><br>continent=Africa<br>year=2085<br> Population=%{marker.size}<extra></extra>",
           "hovertext": [
            "Africa"
           ],
           "ids": [
            "Africa"
           ],
           "legendgroup": "Africa",
           "marker": {
            "color": "#636efa",
            "size": [
             3632983263
            ],
            "sizemode": "area",
            "sizeref": 9811051.535,
            "symbol": "circle"
           },
           "mode": "markers",
           "name": "Africa",
           "orientation": "v",
           "showlegend": true,
           "type": "scatter",
           "x": [
            3632983263
           ],
           "xaxis": "x",
           "y": [
            3632983263
           ],
           "yaxis": "y"
          },
          {
           "hovertemplate": "<b>%{hovertext}</b><br><br>continent=North America<br>year=2085<br> Population=%{marker.size}<extra></extra>",
           "hovertext": [
            "North America"
           ],
           "ids": [
            "North America"
           ],
           "legendgroup": "North America",
           "marker": {
            "color": "#EF553B",
            "size": [
             444204557
            ],
            "sizemode": "area",
            "sizeref": 9811051.535,
            "symbol": "circle"
           },
           "mode": "markers",
           "name": "North America",
           "orientation": "v",
           "showlegend": true,
           "type": "scatter",
           "x": [
            444204557
           ],
           "xaxis": "x",
           "y": [
            444204557
           ],
           "yaxis": "y"
          }
         ],
         "name": "2085"
        },
        {
         "data": [
          {
           "hovertemplate": "<b>%{hovertext}</b><br><br>continent=Africa<br>year=2086<br> Population=%{marker.size}<extra></extra>",
           "hovertext": [
            "Africa"
           ],
           "ids": [
            "Africa"
           ],
           "legendgroup": "Africa",
           "marker": {
            "color": "#636efa",
            "size": [
             3656872629
            ],
            "sizemode": "area",
            "sizeref": 9811051.535,
            "symbol": "circle"
           },
           "mode": "markers",
           "name": "Africa",
           "orientation": "v",
           "showlegend": true,
           "type": "scatter",
           "x": [
            3656872629
           ],
           "xaxis": "x",
           "y": [
            3656872629
           ],
           "yaxis": "y"
          },
          {
           "hovertemplate": "<b>%{hovertext}</b><br><br>continent=North America<br>year=2086<br> Population=%{marker.size}<extra></extra>",
           "hovertext": [
            "North America"
           ],
           "ids": [
            "North America"
           ],
           "legendgroup": "North America",
           "marker": {
            "color": "#EF553B",
            "size": [
             444490542
            ],
            "sizemode": "area",
            "sizeref": 9811051.535,
            "symbol": "circle"
           },
           "mode": "markers",
           "name": "North America",
           "orientation": "v",
           "showlegend": true,
           "type": "scatter",
           "x": [
            444490542
           ],
           "xaxis": "x",
           "y": [
            444490542
           ],
           "yaxis": "y"
          }
         ],
         "name": "2086"
        },
        {
         "data": [
          {
           "hovertemplate": "<b>%{hovertext}</b><br><br>continent=Africa<br>year=2087<br> Population=%{marker.size}<extra></extra>",
           "hovertext": [
            "Africa"
           ],
           "ids": [
            "Africa"
           ],
           "legendgroup": "Africa",
           "marker": {
            "color": "#636efa",
            "size": [
             3680115945
            ],
            "sizemode": "area",
            "sizeref": 9811051.535,
            "symbol": "circle"
           },
           "mode": "markers",
           "name": "Africa",
           "orientation": "v",
           "showlegend": true,
           "type": "scatter",
           "x": [
            3680115945
           ],
           "xaxis": "x",
           "y": [
            3680115945
           ],
           "yaxis": "y"
          },
          {
           "hovertemplate": "<b>%{hovertext}</b><br><br>continent=North America<br>year=2087<br> Population=%{marker.size}<extra></extra>",
           "hovertext": [
            "North America"
           ],
           "ids": [
            "North America"
           ],
           "legendgroup": "North America",
           "marker": {
            "color": "#EF553B",
            "size": [
             444762383
            ],
            "sizemode": "area",
            "sizeref": 9811051.535,
            "symbol": "circle"
           },
           "mode": "markers",
           "name": "North America",
           "orientation": "v",
           "showlegend": true,
           "type": "scatter",
           "x": [
            444762383
           ],
           "xaxis": "x",
           "y": [
            444762383
           ],
           "yaxis": "y"
          }
         ],
         "name": "2087"
        },
        {
         "data": [
          {
           "hovertemplate": "<b>%{hovertext}</b><br><br>continent=Africa<br>year=2088<br> Population=%{marker.size}<extra></extra>",
           "hovertext": [
            "Africa"
           ],
           "ids": [
            "Africa"
           ],
           "legendgroup": "Africa",
           "marker": {
            "color": "#636efa",
            "size": [
             3702756286
            ],
            "sizemode": "area",
            "sizeref": 9811051.535,
            "symbol": "circle"
           },
           "mode": "markers",
           "name": "Africa",
           "orientation": "v",
           "showlegend": true,
           "type": "scatter",
           "x": [
            3702756286
           ],
           "xaxis": "x",
           "y": [
            3702756286
           ],
           "yaxis": "y"
          },
          {
           "hovertemplate": "<b>%{hovertext}</b><br><br>continent=North America<br>year=2088<br> Population=%{marker.size}<extra></extra>",
           "hovertext": [
            "North America"
           ],
           "ids": [
            "North America"
           ],
           "legendgroup": "North America",
           "marker": {
            "color": "#EF553B",
            "size": [
             445021539
            ],
            "sizemode": "area",
            "sizeref": 9811051.535,
            "symbol": "circle"
           },
           "mode": "markers",
           "name": "North America",
           "orientation": "v",
           "showlegend": true,
           "type": "scatter",
           "x": [
            445021539
           ],
           "xaxis": "x",
           "y": [
            445021539
           ],
           "yaxis": "y"
          }
         ],
         "name": "2088"
        },
        {
         "data": [
          {
           "hovertemplate": "<b>%{hovertext}</b><br><br>continent=Africa<br>year=2089<br> Population=%{marker.size}<extra></extra>",
           "hovertext": [
            "Africa"
           ],
           "ids": [
            "Africa"
           ],
           "legendgroup": "Africa",
           "marker": {
            "color": "#636efa",
            "size": [
             3724740394
            ],
            "sizemode": "area",
            "sizeref": 9811051.535,
            "symbol": "circle"
           },
           "mode": "markers",
           "name": "Africa",
           "orientation": "v",
           "showlegend": true,
           "type": "scatter",
           "x": [
            3724740394
           ],
           "xaxis": "x",
           "y": [
            3724740394
           ],
           "yaxis": "y"
          },
          {
           "hovertemplate": "<b>%{hovertext}</b><br><br>continent=North America<br>year=2089<br> Population=%{marker.size}<extra></extra>",
           "hovertext": [
            "North America"
           ],
           "ids": [
            "North America"
           ],
           "legendgroup": "North America",
           "marker": {
            "color": "#EF553B",
            "size": [
             445276791
            ],
            "sizemode": "area",
            "sizeref": 9811051.535,
            "symbol": "circle"
           },
           "mode": "markers",
           "name": "North America",
           "orientation": "v",
           "showlegend": true,
           "type": "scatter",
           "x": [
            445276791
           ],
           "xaxis": "x",
           "y": [
            445276791
           ],
           "yaxis": "y"
          }
         ],
         "name": "2089"
        },
        {
         "data": [
          {
           "hovertemplate": "<b>%{hovertext}</b><br><br>continent=Africa<br>year=2090<br> Population=%{marker.size}<extra></extra>",
           "hovertext": [
            "Africa"
           ],
           "ids": [
            "Africa"
           ],
           "legendgroup": "Africa",
           "marker": {
            "color": "#636efa",
            "size": [
             3746056451
            ],
            "sizemode": "area",
            "sizeref": 9811051.535,
            "symbol": "circle"
           },
           "mode": "markers",
           "name": "Africa",
           "orientation": "v",
           "showlegend": true,
           "type": "scatter",
           "x": [
            3746056451
           ],
           "xaxis": "x",
           "y": [
            3746056451
           ],
           "yaxis": "y"
          },
          {
           "hovertemplate": "<b>%{hovertext}</b><br><br>continent=North America<br>year=2090<br> Population=%{marker.size}<extra></extra>",
           "hovertext": [
            "North America"
           ],
           "ids": [
            "North America"
           ],
           "legendgroup": "North America",
           "marker": {
            "color": "#EF553B",
            "size": [
             445522605
            ],
            "sizemode": "area",
            "sizeref": 9811051.535,
            "symbol": "circle"
           },
           "mode": "markers",
           "name": "North America",
           "orientation": "v",
           "showlegend": true,
           "type": "scatter",
           "x": [
            445522605
           ],
           "xaxis": "x",
           "y": [
            445522605
           ],
           "yaxis": "y"
          }
         ],
         "name": "2090"
        },
        {
         "data": [
          {
           "hovertemplate": "<b>%{hovertext}</b><br><br>continent=Africa<br>year=2091<br> Population=%{marker.size}<extra></extra>",
           "hovertext": [
            "Africa"
           ],
           "ids": [
            "Africa"
           ],
           "legendgroup": "Africa",
           "marker": {
            "color": "#636efa",
            "size": [
             3766731760
            ],
            "sizemode": "area",
            "sizeref": 9811051.535,
            "symbol": "circle"
           },
           "mode": "markers",
           "name": "Africa",
           "orientation": "v",
           "showlegend": true,
           "type": "scatter",
           "x": [
            3766731760
           ],
           "xaxis": "x",
           "y": [
            3766731760
           ],
           "yaxis": "y"
          },
          {
           "hovertemplate": "<b>%{hovertext}</b><br><br>continent=North America<br>year=2091<br> Population=%{marker.size}<extra></extra>",
           "hovertext": [
            "North America"
           ],
           "ids": [
            "North America"
           ],
           "legendgroup": "North America",
           "marker": {
            "color": "#EF553B",
            "size": [
             445766415
            ],
            "sizemode": "area",
            "sizeref": 9811051.535,
            "symbol": "circle"
           },
           "mode": "markers",
           "name": "North America",
           "orientation": "v",
           "showlegend": true,
           "type": "scatter",
           "x": [
            445766415
           ],
           "xaxis": "x",
           "y": [
            445766415
           ],
           "yaxis": "y"
          }
         ],
         "name": "2091"
        },
        {
         "data": [
          {
           "hovertemplate": "<b>%{hovertext}</b><br><br>continent=Africa<br>year=2092<br> Population=%{marker.size}<extra></extra>",
           "hovertext": [
            "Africa"
           ],
           "ids": [
            "Africa"
           ],
           "legendgroup": "Africa",
           "marker": {
            "color": "#636efa",
            "size": [
             3786782004
            ],
            "sizemode": "area",
            "sizeref": 9811051.535,
            "symbol": "circle"
           },
           "mode": "markers",
           "name": "Africa",
           "orientation": "v",
           "showlegend": true,
           "type": "scatter",
           "x": [
            3786782004
           ],
           "xaxis": "x",
           "y": [
            3786782004
           ],
           "yaxis": "y"
          },
          {
           "hovertemplate": "<b>%{hovertext}</b><br><br>continent=North America<br>year=2092<br> Population=%{marker.size}<extra></extra>",
           "hovertext": [
            "North America"
           ],
           "ids": [
            "North America"
           ],
           "legendgroup": "North America",
           "marker": {
            "color": "#EF553B",
            "size": [
             446015282
            ],
            "sizemode": "area",
            "sizeref": 9811051.535,
            "symbol": "circle"
           },
           "mode": "markers",
           "name": "North America",
           "orientation": "v",
           "showlegend": true,
           "type": "scatter",
           "x": [
            446015282
           ],
           "xaxis": "x",
           "y": [
            446015282
           ],
           "yaxis": "y"
          }
         ],
         "name": "2092"
        },
        {
         "data": [
          {
           "hovertemplate": "<b>%{hovertext}</b><br><br>continent=Africa<br>year=2093<br> Population=%{marker.size}<extra></extra>",
           "hovertext": [
            "Africa"
           ],
           "ids": [
            "Africa"
           ],
           "legendgroup": "Africa",
           "marker": {
            "color": "#636efa",
            "size": [
             3806216486
            ],
            "sizemode": "area",
            "sizeref": 9811051.535,
            "symbol": "circle"
           },
           "mode": "markers",
           "name": "Africa",
           "orientation": "v",
           "showlegend": true,
           "type": "scatter",
           "x": [
            3806216486
           ],
           "xaxis": "x",
           "y": [
            3806216486
           ],
           "yaxis": "y"
          },
          {
           "hovertemplate": "<b>%{hovertext}</b><br><br>continent=North America<br>year=2093<br> Population=%{marker.size}<extra></extra>",
           "hovertext": [
            "North America"
           ],
           "ids": [
            "North America"
           ],
           "legendgroup": "North America",
           "marker": {
            "color": "#EF553B",
            "size": [
             446263269
            ],
            "sizemode": "area",
            "sizeref": 9811051.535,
            "symbol": "circle"
           },
           "mode": "markers",
           "name": "North America",
           "orientation": "v",
           "showlegend": true,
           "type": "scatter",
           "x": [
            446263269
           ],
           "xaxis": "x",
           "y": [
            446263269
           ],
           "yaxis": "y"
          }
         ],
         "name": "2093"
        },
        {
         "data": [
          {
           "hovertemplate": "<b>%{hovertext}</b><br><br>continent=Africa<br>year=2094<br> Population=%{marker.size}<extra></extra>",
           "hovertext": [
            "Africa"
           ],
           "ids": [
            "Africa"
           ],
           "legendgroup": "Africa",
           "marker": {
            "color": "#636efa",
            "size": [
             3825036829
            ],
            "sizemode": "area",
            "sizeref": 9811051.535,
            "symbol": "circle"
           },
           "mode": "markers",
           "name": "Africa",
           "orientation": "v",
           "showlegend": true,
           "type": "scatter",
           "x": [
            3825036829
           ],
           "xaxis": "x",
           "y": [
            3825036829
           ],
           "yaxis": "y"
          },
          {
           "hovertemplate": "<b>%{hovertext}</b><br><br>continent=North America<br>year=2094<br> Population=%{marker.size}<extra></extra>",
           "hovertext": [
            "North America"
           ],
           "ids": [
            "North America"
           ],
           "legendgroup": "North America",
           "marker": {
            "color": "#EF553B",
            "size": [
             446512807
            ],
            "sizemode": "area",
            "sizeref": 9811051.535,
            "symbol": "circle"
           },
           "mode": "markers",
           "name": "North America",
           "orientation": "v",
           "showlegend": true,
           "type": "scatter",
           "x": [
            446512807
           ],
           "xaxis": "x",
           "y": [
            446512807
           ],
           "yaxis": "y"
          }
         ],
         "name": "2094"
        },
        {
         "data": [
          {
           "hovertemplate": "<b>%{hovertext}</b><br><br>continent=Africa<br>year=2095<br> Population=%{marker.size}<extra></extra>",
           "hovertext": [
            "Africa"
           ],
           "ids": [
            "Africa"
           ],
           "legendgroup": "Africa",
           "marker": {
            "color": "#636efa",
            "size": [
             3843212997
            ],
            "sizemode": "area",
            "sizeref": 9811051.535,
            "symbol": "circle"
           },
           "mode": "markers",
           "name": "Africa",
           "orientation": "v",
           "showlegend": true,
           "type": "scatter",
           "x": [
            3843212997
           ],
           "xaxis": "x",
           "y": [
            3843212997
           ],
           "yaxis": "y"
          },
          {
           "hovertemplate": "<b>%{hovertext}</b><br><br>continent=North America<br>year=2095<br> Population=%{marker.size}<extra></extra>",
           "hovertext": [
            "North America"
           ],
           "ids": [
            "North America"
           ],
           "legendgroup": "North America",
           "marker": {
            "color": "#EF553B",
            "size": [
             446766722
            ],
            "sizemode": "area",
            "sizeref": 9811051.535,
            "symbol": "circle"
           },
           "mode": "markers",
           "name": "North America",
           "orientation": "v",
           "showlegend": true,
           "type": "scatter",
           "x": [
            446766722
           ],
           "xaxis": "x",
           "y": [
            446766722
           ],
           "yaxis": "y"
          }
         ],
         "name": "2095"
        },
        {
         "data": [
          {
           "hovertemplate": "<b>%{hovertext}</b><br><br>continent=Africa<br>year=2096<br> Population=%{marker.size}<extra></extra>",
           "hovertext": [
            "Africa"
           ],
           "ids": [
            "Africa"
           ],
           "legendgroup": "Africa",
           "marker": {
            "color": "#636efa",
            "size": [
             3860723993
            ],
            "sizemode": "area",
            "sizeref": 9811051.535,
            "symbol": "circle"
           },
           "mode": "markers",
           "name": "Africa",
           "orientation": "v",
           "showlegend": true,
           "type": "scatter",
           "x": [
            3860723993
           ],
           "xaxis": "x",
           "y": [
            3860723993
           ],
           "yaxis": "y"
          },
          {
           "hovertemplate": "<b>%{hovertext}</b><br><br>continent=North America<br>year=2096<br> Population=%{marker.size}<extra></extra>",
           "hovertext": [
            "North America"
           ],
           "ids": [
            "North America"
           ],
           "legendgroup": "North America",
           "marker": {
            "color": "#EF553B",
            "size": [
             447031086
            ],
            "sizemode": "area",
            "sizeref": 9811051.535,
            "symbol": "circle"
           },
           "mode": "markers",
           "name": "North America",
           "orientation": "v",
           "showlegend": true,
           "type": "scatter",
           "x": [
            447031086
           ],
           "xaxis": "x",
           "y": [
            447031086
           ],
           "yaxis": "y"
          }
         ],
         "name": "2096"
        },
        {
         "data": [
          {
           "hovertemplate": "<b>%{hovertext}</b><br><br>continent=Africa<br>year=2097<br> Population=%{marker.size}<extra></extra>",
           "hovertext": [
            "Africa"
           ],
           "ids": [
            "Africa"
           ],
           "legendgroup": "Africa",
           "marker": {
            "color": "#636efa",
            "size": [
             3877576535
            ],
            "sizemode": "area",
            "sizeref": 9811051.535,
            "symbol": "circle"
           },
           "mode": "markers",
           "name": "Africa",
           "orientation": "v",
           "showlegend": true,
           "type": "scatter",
           "x": [
            3877576535
           ],
           "xaxis": "x",
           "y": [
            3877576535
           ],
           "yaxis": "y"
          },
          {
           "hovertemplate": "<b>%{hovertext}</b><br><br>continent=North America<br>year=2097<br> Population=%{marker.size}<extra></extra>",
           "hovertext": [
            "North America"
           ],
           "ids": [
            "North America"
           ],
           "legendgroup": "North America",
           "marker": {
            "color": "#EF553B",
            "size": [
             447294621
            ],
            "sizemode": "area",
            "sizeref": 9811051.535,
            "symbol": "circle"
           },
           "mode": "markers",
           "name": "North America",
           "orientation": "v",
           "showlegend": true,
           "type": "scatter",
           "x": [
            447294621
           ],
           "xaxis": "x",
           "y": [
            447294621
           ],
           "yaxis": "y"
          }
         ],
         "name": "2097"
        },
        {
         "data": [
          {
           "hovertemplate": "<b>%{hovertext}</b><br><br>continent=Africa<br>year=2098<br> Population=%{marker.size}<extra></extra>",
           "hovertext": [
            "Africa"
           ],
           "ids": [
            "Africa"
           ],
           "legendgroup": "Africa",
           "marker": {
            "color": "#636efa",
            "size": [
             3893797579
            ],
            "sizemode": "area",
            "sizeref": 9811051.535,
            "symbol": "circle"
           },
           "mode": "markers",
           "name": "Africa",
           "orientation": "v",
           "showlegend": true,
           "type": "scatter",
           "x": [
            3893797579
           ],
           "xaxis": "x",
           "y": [
            3893797579
           ],
           "yaxis": "y"
          },
          {
           "hovertemplate": "<b>%{hovertext}</b><br><br>continent=North America<br>year=2098<br> Population=%{marker.size}<extra></extra>",
           "hovertext": [
            "North America"
           ],
           "ids": [
            "North America"
           ],
           "legendgroup": "North America",
           "marker": {
            "color": "#EF553B",
            "size": [
             447547761
            ],
            "sizemode": "area",
            "sizeref": 9811051.535,
            "symbol": "circle"
           },
           "mode": "markers",
           "name": "North America",
           "orientation": "v",
           "showlegend": true,
           "type": "scatter",
           "x": [
            447547761
           ],
           "xaxis": "x",
           "y": [
            447547761
           ],
           "yaxis": "y"
          }
         ],
         "name": "2098"
        },
        {
         "data": [
          {
           "hovertemplate": "<b>%{hovertext}</b><br><br>continent=Africa<br>year=2099<br> Population=%{marker.size}<extra></extra>",
           "hovertext": [
            "Africa"
           ],
           "ids": [
            "Africa"
           ],
           "legendgroup": "Africa",
           "marker": {
            "color": "#636efa",
            "size": [
             3909421429
            ],
            "sizemode": "area",
            "sizeref": 9811051.535,
            "symbol": "circle"
           },
           "mode": "markers",
           "name": "Africa",
           "orientation": "v",
           "showlegend": true,
           "type": "scatter",
           "x": [
            3909421429
           ],
           "xaxis": "x",
           "y": [
            3909421429
           ],
           "yaxis": "y"
          },
          {
           "hovertemplate": "<b>%{hovertext}</b><br><br>continent=North America<br>year=2099<br> Population=%{marker.size}<extra></extra>",
           "hovertext": [
            "North America"
           ],
           "ids": [
            "North America"
           ],
           "legendgroup": "North America",
           "marker": {
            "color": "#EF553B",
            "size": [
             447790290
            ],
            "sizemode": "area",
            "sizeref": 9811051.535,
            "symbol": "circle"
           },
           "mode": "markers",
           "name": "North America",
           "orientation": "v",
           "showlegend": true,
           "type": "scatter",
           "x": [
            447790290
           ],
           "xaxis": "x",
           "y": [
            447790290
           ],
           "yaxis": "y"
          }
         ],
         "name": "2099"
        },
        {
         "data": [
          {
           "hovertemplate": "<b>%{hovertext}</b><br><br>continent=Africa<br>year=2100<br> Population=%{marker.size}<extra></extra>",
           "hovertext": [
            "Africa"
           ],
           "ids": [
            "Africa"
           ],
           "legendgroup": "Africa",
           "marker": {
            "color": "#636efa",
            "size": [
             3924420614
            ],
            "sizemode": "area",
            "sizeref": 9811051.535,
            "symbol": "circle"
           },
           "mode": "markers",
           "name": "Africa",
           "orientation": "v",
           "showlegend": true,
           "type": "scatter",
           "x": [
            3924420614
           ],
           "xaxis": "x",
           "y": [
            3924420614
           ],
           "yaxis": "y"
          },
          {
           "hovertemplate": "<b>%{hovertext}</b><br><br>continent=North America<br>year=2100<br> Population=%{marker.size}<extra></extra>",
           "hovertext": [
            "North America"
           ],
           "ids": [
            "North America"
           ],
           "legendgroup": "North America",
           "marker": {
            "color": "#EF553B",
            "size": [
             448026120
            ],
            "sizemode": "area",
            "sizeref": 9811051.535,
            "symbol": "circle"
           },
           "mode": "markers",
           "name": "North America",
           "orientation": "v",
           "showlegend": true,
           "type": "scatter",
           "x": [
            448026120
           ],
           "xaxis": "x",
           "y": [
            448026120
           ],
           "yaxis": "y"
          }
         ],
         "name": "2100"
        }
       ],
       "layout": {
        "legend": {
         "itemsizing": "constant",
         "title": {
          "text": "continent"
         },
         "tracegroupgap": 0
        },
        "sliders": [
         {
          "active": 0,
          "currentvalue": {
           "prefix": "year="
          },
          "len": 0.9,
          "pad": {
           "b": 10,
           "t": 60
          },
          "steps": [
           {
            "args": [
             [
              "1950"
             ],
             {
              "frame": {
               "duration": 0,
               "redraw": false
              },
              "fromcurrent": true,
              "mode": "immediate",
              "transition": {
               "duration": 0,
               "easing": "linear"
              }
             }
            ],
            "label": "1950",
            "method": "animate"
           },
           {
            "args": [
             [
              "1951"
             ],
             {
              "frame": {
               "duration": 0,
               "redraw": false
              },
              "fromcurrent": true,
              "mode": "immediate",
              "transition": {
               "duration": 0,
               "easing": "linear"
              }
             }
            ],
            "label": "1951",
            "method": "animate"
           },
           {
            "args": [
             [
              "1952"
             ],
             {
              "frame": {
               "duration": 0,
               "redraw": false
              },
              "fromcurrent": true,
              "mode": "immediate",
              "transition": {
               "duration": 0,
               "easing": "linear"
              }
             }
            ],
            "label": "1952",
            "method": "animate"
           },
           {
            "args": [
             [
              "1953"
             ],
             {
              "frame": {
               "duration": 0,
               "redraw": false
              },
              "fromcurrent": true,
              "mode": "immediate",
              "transition": {
               "duration": 0,
               "easing": "linear"
              }
             }
            ],
            "label": "1953",
            "method": "animate"
           },
           {
            "args": [
             [
              "1954"
             ],
             {
              "frame": {
               "duration": 0,
               "redraw": false
              },
              "fromcurrent": true,
              "mode": "immediate",
              "transition": {
               "duration": 0,
               "easing": "linear"
              }
             }
            ],
            "label": "1954",
            "method": "animate"
           },
           {
            "args": [
             [
              "1955"
             ],
             {
              "frame": {
               "duration": 0,
               "redraw": false
              },
              "fromcurrent": true,
              "mode": "immediate",
              "transition": {
               "duration": 0,
               "easing": "linear"
              }
             }
            ],
            "label": "1955",
            "method": "animate"
           },
           {
            "args": [
             [
              "1956"
             ],
             {
              "frame": {
               "duration": 0,
               "redraw": false
              },
              "fromcurrent": true,
              "mode": "immediate",
              "transition": {
               "duration": 0,
               "easing": "linear"
              }
             }
            ],
            "label": "1956",
            "method": "animate"
           },
           {
            "args": [
             [
              "1957"
             ],
             {
              "frame": {
               "duration": 0,
               "redraw": false
              },
              "fromcurrent": true,
              "mode": "immediate",
              "transition": {
               "duration": 0,
               "easing": "linear"
              }
             }
            ],
            "label": "1957",
            "method": "animate"
           },
           {
            "args": [
             [
              "1958"
             ],
             {
              "frame": {
               "duration": 0,
               "redraw": false
              },
              "fromcurrent": true,
              "mode": "immediate",
              "transition": {
               "duration": 0,
               "easing": "linear"
              }
             }
            ],
            "label": "1958",
            "method": "animate"
           },
           {
            "args": [
             [
              "1959"
             ],
             {
              "frame": {
               "duration": 0,
               "redraw": false
              },
              "fromcurrent": true,
              "mode": "immediate",
              "transition": {
               "duration": 0,
               "easing": "linear"
              }
             }
            ],
            "label": "1959",
            "method": "animate"
           },
           {
            "args": [
             [
              "1960"
             ],
             {
              "frame": {
               "duration": 0,
               "redraw": false
              },
              "fromcurrent": true,
              "mode": "immediate",
              "transition": {
               "duration": 0,
               "easing": "linear"
              }
             }
            ],
            "label": "1960",
            "method": "animate"
           },
           {
            "args": [
             [
              "1961"
             ],
             {
              "frame": {
               "duration": 0,
               "redraw": false
              },
              "fromcurrent": true,
              "mode": "immediate",
              "transition": {
               "duration": 0,
               "easing": "linear"
              }
             }
            ],
            "label": "1961",
            "method": "animate"
           },
           {
            "args": [
             [
              "1962"
             ],
             {
              "frame": {
               "duration": 0,
               "redraw": false
              },
              "fromcurrent": true,
              "mode": "immediate",
              "transition": {
               "duration": 0,
               "easing": "linear"
              }
             }
            ],
            "label": "1962",
            "method": "animate"
           },
           {
            "args": [
             [
              "1963"
             ],
             {
              "frame": {
               "duration": 0,
               "redraw": false
              },
              "fromcurrent": true,
              "mode": "immediate",
              "transition": {
               "duration": 0,
               "easing": "linear"
              }
             }
            ],
            "label": "1963",
            "method": "animate"
           },
           {
            "args": [
             [
              "1964"
             ],
             {
              "frame": {
               "duration": 0,
               "redraw": false
              },
              "fromcurrent": true,
              "mode": "immediate",
              "transition": {
               "duration": 0,
               "easing": "linear"
              }
             }
            ],
            "label": "1964",
            "method": "animate"
           },
           {
            "args": [
             [
              "1965"
             ],
             {
              "frame": {
               "duration": 0,
               "redraw": false
              },
              "fromcurrent": true,
              "mode": "immediate",
              "transition": {
               "duration": 0,
               "easing": "linear"
              }
             }
            ],
            "label": "1965",
            "method": "animate"
           },
           {
            "args": [
             [
              "1966"
             ],
             {
              "frame": {
               "duration": 0,
               "redraw": false
              },
              "fromcurrent": true,
              "mode": "immediate",
              "transition": {
               "duration": 0,
               "easing": "linear"
              }
             }
            ],
            "label": "1966",
            "method": "animate"
           },
           {
            "args": [
             [
              "1967"
             ],
             {
              "frame": {
               "duration": 0,
               "redraw": false
              },
              "fromcurrent": true,
              "mode": "immediate",
              "transition": {
               "duration": 0,
               "easing": "linear"
              }
             }
            ],
            "label": "1967",
            "method": "animate"
           },
           {
            "args": [
             [
              "1968"
             ],
             {
              "frame": {
               "duration": 0,
               "redraw": false
              },
              "fromcurrent": true,
              "mode": "immediate",
              "transition": {
               "duration": 0,
               "easing": "linear"
              }
             }
            ],
            "label": "1968",
            "method": "animate"
           },
           {
            "args": [
             [
              "1969"
             ],
             {
              "frame": {
               "duration": 0,
               "redraw": false
              },
              "fromcurrent": true,
              "mode": "immediate",
              "transition": {
               "duration": 0,
               "easing": "linear"
              }
             }
            ],
            "label": "1969",
            "method": "animate"
           },
           {
            "args": [
             [
              "1970"
             ],
             {
              "frame": {
               "duration": 0,
               "redraw": false
              },
              "fromcurrent": true,
              "mode": "immediate",
              "transition": {
               "duration": 0,
               "easing": "linear"
              }
             }
            ],
            "label": "1970",
            "method": "animate"
           },
           {
            "args": [
             [
              "1971"
             ],
             {
              "frame": {
               "duration": 0,
               "redraw": false
              },
              "fromcurrent": true,
              "mode": "immediate",
              "transition": {
               "duration": 0,
               "easing": "linear"
              }
             }
            ],
            "label": "1971",
            "method": "animate"
           },
           {
            "args": [
             [
              "1972"
             ],
             {
              "frame": {
               "duration": 0,
               "redraw": false
              },
              "fromcurrent": true,
              "mode": "immediate",
              "transition": {
               "duration": 0,
               "easing": "linear"
              }
             }
            ],
            "label": "1972",
            "method": "animate"
           },
           {
            "args": [
             [
              "1973"
             ],
             {
              "frame": {
               "duration": 0,
               "redraw": false
              },
              "fromcurrent": true,
              "mode": "immediate",
              "transition": {
               "duration": 0,
               "easing": "linear"
              }
             }
            ],
            "label": "1973",
            "method": "animate"
           },
           {
            "args": [
             [
              "1974"
             ],
             {
              "frame": {
               "duration": 0,
               "redraw": false
              },
              "fromcurrent": true,
              "mode": "immediate",
              "transition": {
               "duration": 0,
               "easing": "linear"
              }
             }
            ],
            "label": "1974",
            "method": "animate"
           },
           {
            "args": [
             [
              "1975"
             ],
             {
              "frame": {
               "duration": 0,
               "redraw": false
              },
              "fromcurrent": true,
              "mode": "immediate",
              "transition": {
               "duration": 0,
               "easing": "linear"
              }
             }
            ],
            "label": "1975",
            "method": "animate"
           },
           {
            "args": [
             [
              "1976"
             ],
             {
              "frame": {
               "duration": 0,
               "redraw": false
              },
              "fromcurrent": true,
              "mode": "immediate",
              "transition": {
               "duration": 0,
               "easing": "linear"
              }
             }
            ],
            "label": "1976",
            "method": "animate"
           },
           {
            "args": [
             [
              "1977"
             ],
             {
              "frame": {
               "duration": 0,
               "redraw": false
              },
              "fromcurrent": true,
              "mode": "immediate",
              "transition": {
               "duration": 0,
               "easing": "linear"
              }
             }
            ],
            "label": "1977",
            "method": "animate"
           },
           {
            "args": [
             [
              "1978"
             ],
             {
              "frame": {
               "duration": 0,
               "redraw": false
              },
              "fromcurrent": true,
              "mode": "immediate",
              "transition": {
               "duration": 0,
               "easing": "linear"
              }
             }
            ],
            "label": "1978",
            "method": "animate"
           },
           {
            "args": [
             [
              "1979"
             ],
             {
              "frame": {
               "duration": 0,
               "redraw": false
              },
              "fromcurrent": true,
              "mode": "immediate",
              "transition": {
               "duration": 0,
               "easing": "linear"
              }
             }
            ],
            "label": "1979",
            "method": "animate"
           },
           {
            "args": [
             [
              "1980"
             ],
             {
              "frame": {
               "duration": 0,
               "redraw": false
              },
              "fromcurrent": true,
              "mode": "immediate",
              "transition": {
               "duration": 0,
               "easing": "linear"
              }
             }
            ],
            "label": "1980",
            "method": "animate"
           },
           {
            "args": [
             [
              "1981"
             ],
             {
              "frame": {
               "duration": 0,
               "redraw": false
              },
              "fromcurrent": true,
              "mode": "immediate",
              "transition": {
               "duration": 0,
               "easing": "linear"
              }
             }
            ],
            "label": "1981",
            "method": "animate"
           },
           {
            "args": [
             [
              "1982"
             ],
             {
              "frame": {
               "duration": 0,
               "redraw": false
              },
              "fromcurrent": true,
              "mode": "immediate",
              "transition": {
               "duration": 0,
               "easing": "linear"
              }
             }
            ],
            "label": "1982",
            "method": "animate"
           },
           {
            "args": [
             [
              "1983"
             ],
             {
              "frame": {
               "duration": 0,
               "redraw": false
              },
              "fromcurrent": true,
              "mode": "immediate",
              "transition": {
               "duration": 0,
               "easing": "linear"
              }
             }
            ],
            "label": "1983",
            "method": "animate"
           },
           {
            "args": [
             [
              "1984"
             ],
             {
              "frame": {
               "duration": 0,
               "redraw": false
              },
              "fromcurrent": true,
              "mode": "immediate",
              "transition": {
               "duration": 0,
               "easing": "linear"
              }
             }
            ],
            "label": "1984",
            "method": "animate"
           },
           {
            "args": [
             [
              "1985"
             ],
             {
              "frame": {
               "duration": 0,
               "redraw": false
              },
              "fromcurrent": true,
              "mode": "immediate",
              "transition": {
               "duration": 0,
               "easing": "linear"
              }
             }
            ],
            "label": "1985",
            "method": "animate"
           },
           {
            "args": [
             [
              "1986"
             ],
             {
              "frame": {
               "duration": 0,
               "redraw": false
              },
              "fromcurrent": true,
              "mode": "immediate",
              "transition": {
               "duration": 0,
               "easing": "linear"
              }
             }
            ],
            "label": "1986",
            "method": "animate"
           },
           {
            "args": [
             [
              "1987"
             ],
             {
              "frame": {
               "duration": 0,
               "redraw": false
              },
              "fromcurrent": true,
              "mode": "immediate",
              "transition": {
               "duration": 0,
               "easing": "linear"
              }
             }
            ],
            "label": "1987",
            "method": "animate"
           },
           {
            "args": [
             [
              "1988"
             ],
             {
              "frame": {
               "duration": 0,
               "redraw": false
              },
              "fromcurrent": true,
              "mode": "immediate",
              "transition": {
               "duration": 0,
               "easing": "linear"
              }
             }
            ],
            "label": "1988",
            "method": "animate"
           },
           {
            "args": [
             [
              "1989"
             ],
             {
              "frame": {
               "duration": 0,
               "redraw": false
              },
              "fromcurrent": true,
              "mode": "immediate",
              "transition": {
               "duration": 0,
               "easing": "linear"
              }
             }
            ],
            "label": "1989",
            "method": "animate"
           },
           {
            "args": [
             [
              "1990"
             ],
             {
              "frame": {
               "duration": 0,
               "redraw": false
              },
              "fromcurrent": true,
              "mode": "immediate",
              "transition": {
               "duration": 0,
               "easing": "linear"
              }
             }
            ],
            "label": "1990",
            "method": "animate"
           },
           {
            "args": [
             [
              "1991"
             ],
             {
              "frame": {
               "duration": 0,
               "redraw": false
              },
              "fromcurrent": true,
              "mode": "immediate",
              "transition": {
               "duration": 0,
               "easing": "linear"
              }
             }
            ],
            "label": "1991",
            "method": "animate"
           },
           {
            "args": [
             [
              "1992"
             ],
             {
              "frame": {
               "duration": 0,
               "redraw": false
              },
              "fromcurrent": true,
              "mode": "immediate",
              "transition": {
               "duration": 0,
               "easing": "linear"
              }
             }
            ],
            "label": "1992",
            "method": "animate"
           },
           {
            "args": [
             [
              "1993"
             ],
             {
              "frame": {
               "duration": 0,
               "redraw": false
              },
              "fromcurrent": true,
              "mode": "immediate",
              "transition": {
               "duration": 0,
               "easing": "linear"
              }
             }
            ],
            "label": "1993",
            "method": "animate"
           },
           {
            "args": [
             [
              "1994"
             ],
             {
              "frame": {
               "duration": 0,
               "redraw": false
              },
              "fromcurrent": true,
              "mode": "immediate",
              "transition": {
               "duration": 0,
               "easing": "linear"
              }
             }
            ],
            "label": "1994",
            "method": "animate"
           },
           {
            "args": [
             [
              "1995"
             ],
             {
              "frame": {
               "duration": 0,
               "redraw": false
              },
              "fromcurrent": true,
              "mode": "immediate",
              "transition": {
               "duration": 0,
               "easing": "linear"
              }
             }
            ],
            "label": "1995",
            "method": "animate"
           },
           {
            "args": [
             [
              "1996"
             ],
             {
              "frame": {
               "duration": 0,
               "redraw": false
              },
              "fromcurrent": true,
              "mode": "immediate",
              "transition": {
               "duration": 0,
               "easing": "linear"
              }
             }
            ],
            "label": "1996",
            "method": "animate"
           },
           {
            "args": [
             [
              "1997"
             ],
             {
              "frame": {
               "duration": 0,
               "redraw": false
              },
              "fromcurrent": true,
              "mode": "immediate",
              "transition": {
               "duration": 0,
               "easing": "linear"
              }
             }
            ],
            "label": "1997",
            "method": "animate"
           },
           {
            "args": [
             [
              "1998"
             ],
             {
              "frame": {
               "duration": 0,
               "redraw": false
              },
              "fromcurrent": true,
              "mode": "immediate",
              "transition": {
               "duration": 0,
               "easing": "linear"
              }
             }
            ],
            "label": "1998",
            "method": "animate"
           },
           {
            "args": [
             [
              "1999"
             ],
             {
              "frame": {
               "duration": 0,
               "redraw": false
              },
              "fromcurrent": true,
              "mode": "immediate",
              "transition": {
               "duration": 0,
               "easing": "linear"
              }
             }
            ],
            "label": "1999",
            "method": "animate"
           },
           {
            "args": [
             [
              "2000"
             ],
             {
              "frame": {
               "duration": 0,
               "redraw": false
              },
              "fromcurrent": true,
              "mode": "immediate",
              "transition": {
               "duration": 0,
               "easing": "linear"
              }
             }
            ],
            "label": "2000",
            "method": "animate"
           },
           {
            "args": [
             [
              "2001"
             ],
             {
              "frame": {
               "duration": 0,
               "redraw": false
              },
              "fromcurrent": true,
              "mode": "immediate",
              "transition": {
               "duration": 0,
               "easing": "linear"
              }
             }
            ],
            "label": "2001",
            "method": "animate"
           },
           {
            "args": [
             [
              "2002"
             ],
             {
              "frame": {
               "duration": 0,
               "redraw": false
              },
              "fromcurrent": true,
              "mode": "immediate",
              "transition": {
               "duration": 0,
               "easing": "linear"
              }
             }
            ],
            "label": "2002",
            "method": "animate"
           },
           {
            "args": [
             [
              "2003"
             ],
             {
              "frame": {
               "duration": 0,
               "redraw": false
              },
              "fromcurrent": true,
              "mode": "immediate",
              "transition": {
               "duration": 0,
               "easing": "linear"
              }
             }
            ],
            "label": "2003",
            "method": "animate"
           },
           {
            "args": [
             [
              "2004"
             ],
             {
              "frame": {
               "duration": 0,
               "redraw": false
              },
              "fromcurrent": true,
              "mode": "immediate",
              "transition": {
               "duration": 0,
               "easing": "linear"
              }
             }
            ],
            "label": "2004",
            "method": "animate"
           },
           {
            "args": [
             [
              "2005"
             ],
             {
              "frame": {
               "duration": 0,
               "redraw": false
              },
              "fromcurrent": true,
              "mode": "immediate",
              "transition": {
               "duration": 0,
               "easing": "linear"
              }
             }
            ],
            "label": "2005",
            "method": "animate"
           },
           {
            "args": [
             [
              "2006"
             ],
             {
              "frame": {
               "duration": 0,
               "redraw": false
              },
              "fromcurrent": true,
              "mode": "immediate",
              "transition": {
               "duration": 0,
               "easing": "linear"
              }
             }
            ],
            "label": "2006",
            "method": "animate"
           },
           {
            "args": [
             [
              "2007"
             ],
             {
              "frame": {
               "duration": 0,
               "redraw": false
              },
              "fromcurrent": true,
              "mode": "immediate",
              "transition": {
               "duration": 0,
               "easing": "linear"
              }
             }
            ],
            "label": "2007",
            "method": "animate"
           },
           {
            "args": [
             [
              "2008"
             ],
             {
              "frame": {
               "duration": 0,
               "redraw": false
              },
              "fromcurrent": true,
              "mode": "immediate",
              "transition": {
               "duration": 0,
               "easing": "linear"
              }
             }
            ],
            "label": "2008",
            "method": "animate"
           },
           {
            "args": [
             [
              "2009"
             ],
             {
              "frame": {
               "duration": 0,
               "redraw": false
              },
              "fromcurrent": true,
              "mode": "immediate",
              "transition": {
               "duration": 0,
               "easing": "linear"
              }
             }
            ],
            "label": "2009",
            "method": "animate"
           },
           {
            "args": [
             [
              "2010"
             ],
             {
              "frame": {
               "duration": 0,
               "redraw": false
              },
              "fromcurrent": true,
              "mode": "immediate",
              "transition": {
               "duration": 0,
               "easing": "linear"
              }
             }
            ],
            "label": "2010",
            "method": "animate"
           },
           {
            "args": [
             [
              "2011"
             ],
             {
              "frame": {
               "duration": 0,
               "redraw": false
              },
              "fromcurrent": true,
              "mode": "immediate",
              "transition": {
               "duration": 0,
               "easing": "linear"
              }
             }
            ],
            "label": "2011",
            "method": "animate"
           },
           {
            "args": [
             [
              "2012"
             ],
             {
              "frame": {
               "duration": 0,
               "redraw": false
              },
              "fromcurrent": true,
              "mode": "immediate",
              "transition": {
               "duration": 0,
               "easing": "linear"
              }
             }
            ],
            "label": "2012",
            "method": "animate"
           },
           {
            "args": [
             [
              "2013"
             ],
             {
              "frame": {
               "duration": 0,
               "redraw": false
              },
              "fromcurrent": true,
              "mode": "immediate",
              "transition": {
               "duration": 0,
               "easing": "linear"
              }
             }
            ],
            "label": "2013",
            "method": "animate"
           },
           {
            "args": [
             [
              "2014"
             ],
             {
              "frame": {
               "duration": 0,
               "redraw": false
              },
              "fromcurrent": true,
              "mode": "immediate",
              "transition": {
               "duration": 0,
               "easing": "linear"
              }
             }
            ],
            "label": "2014",
            "method": "animate"
           },
           {
            "args": [
             [
              "2015"
             ],
             {
              "frame": {
               "duration": 0,
               "redraw": false
              },
              "fromcurrent": true,
              "mode": "immediate",
              "transition": {
               "duration": 0,
               "easing": "linear"
              }
             }
            ],
            "label": "2015",
            "method": "animate"
           },
           {
            "args": [
             [
              "2016"
             ],
             {
              "frame": {
               "duration": 0,
               "redraw": false
              },
              "fromcurrent": true,
              "mode": "immediate",
              "transition": {
               "duration": 0,
               "easing": "linear"
              }
             }
            ],
            "label": "2016",
            "method": "animate"
           },
           {
            "args": [
             [
              "2017"
             ],
             {
              "frame": {
               "duration": 0,
               "redraw": false
              },
              "fromcurrent": true,
              "mode": "immediate",
              "transition": {
               "duration": 0,
               "easing": "linear"
              }
             }
            ],
            "label": "2017",
            "method": "animate"
           },
           {
            "args": [
             [
              "2018"
             ],
             {
              "frame": {
               "duration": 0,
               "redraw": false
              },
              "fromcurrent": true,
              "mode": "immediate",
              "transition": {
               "duration": 0,
               "easing": "linear"
              }
             }
            ],
            "label": "2018",
            "method": "animate"
           },
           {
            "args": [
             [
              "2019"
             ],
             {
              "frame": {
               "duration": 0,
               "redraw": false
              },
              "fromcurrent": true,
              "mode": "immediate",
              "transition": {
               "duration": 0,
               "easing": "linear"
              }
             }
            ],
            "label": "2019",
            "method": "animate"
           },
           {
            "args": [
             [
              "2020"
             ],
             {
              "frame": {
               "duration": 0,
               "redraw": false
              },
              "fromcurrent": true,
              "mode": "immediate",
              "transition": {
               "duration": 0,
               "easing": "linear"
              }
             }
            ],
            "label": "2020",
            "method": "animate"
           },
           {
            "args": [
             [
              "2021"
             ],
             {
              "frame": {
               "duration": 0,
               "redraw": false
              },
              "fromcurrent": true,
              "mode": "immediate",
              "transition": {
               "duration": 0,
               "easing": "linear"
              }
             }
            ],
            "label": "2021",
            "method": "animate"
           },
           {
            "args": [
             [
              "2022"
             ],
             {
              "frame": {
               "duration": 0,
               "redraw": false
              },
              "fromcurrent": true,
              "mode": "immediate",
              "transition": {
               "duration": 0,
               "easing": "linear"
              }
             }
            ],
            "label": "2022",
            "method": "animate"
           },
           {
            "args": [
             [
              "2023"
             ],
             {
              "frame": {
               "duration": 0,
               "redraw": false
              },
              "fromcurrent": true,
              "mode": "immediate",
              "transition": {
               "duration": 0,
               "easing": "linear"
              }
             }
            ],
            "label": "2023",
            "method": "animate"
           },
           {
            "args": [
             [
              "2024"
             ],
             {
              "frame": {
               "duration": 0,
               "redraw": false
              },
              "fromcurrent": true,
              "mode": "immediate",
              "transition": {
               "duration": 0,
               "easing": "linear"
              }
             }
            ],
            "label": "2024",
            "method": "animate"
           },
           {
            "args": [
             [
              "2025"
             ],
             {
              "frame": {
               "duration": 0,
               "redraw": false
              },
              "fromcurrent": true,
              "mode": "immediate",
              "transition": {
               "duration": 0,
               "easing": "linear"
              }
             }
            ],
            "label": "2025",
            "method": "animate"
           },
           {
            "args": [
             [
              "2026"
             ],
             {
              "frame": {
               "duration": 0,
               "redraw": false
              },
              "fromcurrent": true,
              "mode": "immediate",
              "transition": {
               "duration": 0,
               "easing": "linear"
              }
             }
            ],
            "label": "2026",
            "method": "animate"
           },
           {
            "args": [
             [
              "2027"
             ],
             {
              "frame": {
               "duration": 0,
               "redraw": false
              },
              "fromcurrent": true,
              "mode": "immediate",
              "transition": {
               "duration": 0,
               "easing": "linear"
              }
             }
            ],
            "label": "2027",
            "method": "animate"
           },
           {
            "args": [
             [
              "2028"
             ],
             {
              "frame": {
               "duration": 0,
               "redraw": false
              },
              "fromcurrent": true,
              "mode": "immediate",
              "transition": {
               "duration": 0,
               "easing": "linear"
              }
             }
            ],
            "label": "2028",
            "method": "animate"
           },
           {
            "args": [
             [
              "2029"
             ],
             {
              "frame": {
               "duration": 0,
               "redraw": false
              },
              "fromcurrent": true,
              "mode": "immediate",
              "transition": {
               "duration": 0,
               "easing": "linear"
              }
             }
            ],
            "label": "2029",
            "method": "animate"
           },
           {
            "args": [
             [
              "2030"
             ],
             {
              "frame": {
               "duration": 0,
               "redraw": false
              },
              "fromcurrent": true,
              "mode": "immediate",
              "transition": {
               "duration": 0,
               "easing": "linear"
              }
             }
            ],
            "label": "2030",
            "method": "animate"
           },
           {
            "args": [
             [
              "2031"
             ],
             {
              "frame": {
               "duration": 0,
               "redraw": false
              },
              "fromcurrent": true,
              "mode": "immediate",
              "transition": {
               "duration": 0,
               "easing": "linear"
              }
             }
            ],
            "label": "2031",
            "method": "animate"
           },
           {
            "args": [
             [
              "2032"
             ],
             {
              "frame": {
               "duration": 0,
               "redraw": false
              },
              "fromcurrent": true,
              "mode": "immediate",
              "transition": {
               "duration": 0,
               "easing": "linear"
              }
             }
            ],
            "label": "2032",
            "method": "animate"
           },
           {
            "args": [
             [
              "2033"
             ],
             {
              "frame": {
               "duration": 0,
               "redraw": false
              },
              "fromcurrent": true,
              "mode": "immediate",
              "transition": {
               "duration": 0,
               "easing": "linear"
              }
             }
            ],
            "label": "2033",
            "method": "animate"
           },
           {
            "args": [
             [
              "2034"
             ],
             {
              "frame": {
               "duration": 0,
               "redraw": false
              },
              "fromcurrent": true,
              "mode": "immediate",
              "transition": {
               "duration": 0,
               "easing": "linear"
              }
             }
            ],
            "label": "2034",
            "method": "animate"
           },
           {
            "args": [
             [
              "2035"
             ],
             {
              "frame": {
               "duration": 0,
               "redraw": false
              },
              "fromcurrent": true,
              "mode": "immediate",
              "transition": {
               "duration": 0,
               "easing": "linear"
              }
             }
            ],
            "label": "2035",
            "method": "animate"
           },
           {
            "args": [
             [
              "2036"
             ],
             {
              "frame": {
               "duration": 0,
               "redraw": false
              },
              "fromcurrent": true,
              "mode": "immediate",
              "transition": {
               "duration": 0,
               "easing": "linear"
              }
             }
            ],
            "label": "2036",
            "method": "animate"
           },
           {
            "args": [
             [
              "2037"
             ],
             {
              "frame": {
               "duration": 0,
               "redraw": false
              },
              "fromcurrent": true,
              "mode": "immediate",
              "transition": {
               "duration": 0,
               "easing": "linear"
              }
             }
            ],
            "label": "2037",
            "method": "animate"
           },
           {
            "args": [
             [
              "2038"
             ],
             {
              "frame": {
               "duration": 0,
               "redraw": false
              },
              "fromcurrent": true,
              "mode": "immediate",
              "transition": {
               "duration": 0,
               "easing": "linear"
              }
             }
            ],
            "label": "2038",
            "method": "animate"
           },
           {
            "args": [
             [
              "2039"
             ],
             {
              "frame": {
               "duration": 0,
               "redraw": false
              },
              "fromcurrent": true,
              "mode": "immediate",
              "transition": {
               "duration": 0,
               "easing": "linear"
              }
             }
            ],
            "label": "2039",
            "method": "animate"
           },
           {
            "args": [
             [
              "2040"
             ],
             {
              "frame": {
               "duration": 0,
               "redraw": false
              },
              "fromcurrent": true,
              "mode": "immediate",
              "transition": {
               "duration": 0,
               "easing": "linear"
              }
             }
            ],
            "label": "2040",
            "method": "animate"
           },
           {
            "args": [
             [
              "2041"
             ],
             {
              "frame": {
               "duration": 0,
               "redraw": false
              },
              "fromcurrent": true,
              "mode": "immediate",
              "transition": {
               "duration": 0,
               "easing": "linear"
              }
             }
            ],
            "label": "2041",
            "method": "animate"
           },
           {
            "args": [
             [
              "2042"
             ],
             {
              "frame": {
               "duration": 0,
               "redraw": false
              },
              "fromcurrent": true,
              "mode": "immediate",
              "transition": {
               "duration": 0,
               "easing": "linear"
              }
             }
            ],
            "label": "2042",
            "method": "animate"
           },
           {
            "args": [
             [
              "2043"
             ],
             {
              "frame": {
               "duration": 0,
               "redraw": false
              },
              "fromcurrent": true,
              "mode": "immediate",
              "transition": {
               "duration": 0,
               "easing": "linear"
              }
             }
            ],
            "label": "2043",
            "method": "animate"
           },
           {
            "args": [
             [
              "2044"
             ],
             {
              "frame": {
               "duration": 0,
               "redraw": false
              },
              "fromcurrent": true,
              "mode": "immediate",
              "transition": {
               "duration": 0,
               "easing": "linear"
              }
             }
            ],
            "label": "2044",
            "method": "animate"
           },
           {
            "args": [
             [
              "2045"
             ],
             {
              "frame": {
               "duration": 0,
               "redraw": false
              },
              "fromcurrent": true,
              "mode": "immediate",
              "transition": {
               "duration": 0,
               "easing": "linear"
              }
             }
            ],
            "label": "2045",
            "method": "animate"
           },
           {
            "args": [
             [
              "2046"
             ],
             {
              "frame": {
               "duration": 0,
               "redraw": false
              },
              "fromcurrent": true,
              "mode": "immediate",
              "transition": {
               "duration": 0,
               "easing": "linear"
              }
             }
            ],
            "label": "2046",
            "method": "animate"
           },
           {
            "args": [
             [
              "2047"
             ],
             {
              "frame": {
               "duration": 0,
               "redraw": false
              },
              "fromcurrent": true,
              "mode": "immediate",
              "transition": {
               "duration": 0,
               "easing": "linear"
              }
             }
            ],
            "label": "2047",
            "method": "animate"
           },
           {
            "args": [
             [
              "2048"
             ],
             {
              "frame": {
               "duration": 0,
               "redraw": false
              },
              "fromcurrent": true,
              "mode": "immediate",
              "transition": {
               "duration": 0,
               "easing": "linear"
              }
             }
            ],
            "label": "2048",
            "method": "animate"
           },
           {
            "args": [
             [
              "2049"
             ],
             {
              "frame": {
               "duration": 0,
               "redraw": false
              },
              "fromcurrent": true,
              "mode": "immediate",
              "transition": {
               "duration": 0,
               "easing": "linear"
              }
             }
            ],
            "label": "2049",
            "method": "animate"
           },
           {
            "args": [
             [
              "2050"
             ],
             {
              "frame": {
               "duration": 0,
               "redraw": false
              },
              "fromcurrent": true,
              "mode": "immediate",
              "transition": {
               "duration": 0,
               "easing": "linear"
              }
             }
            ],
            "label": "2050",
            "method": "animate"
           },
           {
            "args": [
             [
              "2051"
             ],
             {
              "frame": {
               "duration": 0,
               "redraw": false
              },
              "fromcurrent": true,
              "mode": "immediate",
              "transition": {
               "duration": 0,
               "easing": "linear"
              }
             }
            ],
            "label": "2051",
            "method": "animate"
           },
           {
            "args": [
             [
              "2052"
             ],
             {
              "frame": {
               "duration": 0,
               "redraw": false
              },
              "fromcurrent": true,
              "mode": "immediate",
              "transition": {
               "duration": 0,
               "easing": "linear"
              }
             }
            ],
            "label": "2052",
            "method": "animate"
           },
           {
            "args": [
             [
              "2053"
             ],
             {
              "frame": {
               "duration": 0,
               "redraw": false
              },
              "fromcurrent": true,
              "mode": "immediate",
              "transition": {
               "duration": 0,
               "easing": "linear"
              }
             }
            ],
            "label": "2053",
            "method": "animate"
           },
           {
            "args": [
             [
              "2054"
             ],
             {
              "frame": {
               "duration": 0,
               "redraw": false
              },
              "fromcurrent": true,
              "mode": "immediate",
              "transition": {
               "duration": 0,
               "easing": "linear"
              }
             }
            ],
            "label": "2054",
            "method": "animate"
           },
           {
            "args": [
             [
              "2055"
             ],
             {
              "frame": {
               "duration": 0,
               "redraw": false
              },
              "fromcurrent": true,
              "mode": "immediate",
              "transition": {
               "duration": 0,
               "easing": "linear"
              }
             }
            ],
            "label": "2055",
            "method": "animate"
           },
           {
            "args": [
             [
              "2056"
             ],
             {
              "frame": {
               "duration": 0,
               "redraw": false
              },
              "fromcurrent": true,
              "mode": "immediate",
              "transition": {
               "duration": 0,
               "easing": "linear"
              }
             }
            ],
            "label": "2056",
            "method": "animate"
           },
           {
            "args": [
             [
              "2057"
             ],
             {
              "frame": {
               "duration": 0,
               "redraw": false
              },
              "fromcurrent": true,
              "mode": "immediate",
              "transition": {
               "duration": 0,
               "easing": "linear"
              }
             }
            ],
            "label": "2057",
            "method": "animate"
           },
           {
            "args": [
             [
              "2058"
             ],
             {
              "frame": {
               "duration": 0,
               "redraw": false
              },
              "fromcurrent": true,
              "mode": "immediate",
              "transition": {
               "duration": 0,
               "easing": "linear"
              }
             }
            ],
            "label": "2058",
            "method": "animate"
           },
           {
            "args": [
             [
              "2059"
             ],
             {
              "frame": {
               "duration": 0,
               "redraw": false
              },
              "fromcurrent": true,
              "mode": "immediate",
              "transition": {
               "duration": 0,
               "easing": "linear"
              }
             }
            ],
            "label": "2059",
            "method": "animate"
           },
           {
            "args": [
             [
              "2060"
             ],
             {
              "frame": {
               "duration": 0,
               "redraw": false
              },
              "fromcurrent": true,
              "mode": "immediate",
              "transition": {
               "duration": 0,
               "easing": "linear"
              }
             }
            ],
            "label": "2060",
            "method": "animate"
           },
           {
            "args": [
             [
              "2061"
             ],
             {
              "frame": {
               "duration": 0,
               "redraw": false
              },
              "fromcurrent": true,
              "mode": "immediate",
              "transition": {
               "duration": 0,
               "easing": "linear"
              }
             }
            ],
            "label": "2061",
            "method": "animate"
           },
           {
            "args": [
             [
              "2062"
             ],
             {
              "frame": {
               "duration": 0,
               "redraw": false
              },
              "fromcurrent": true,
              "mode": "immediate",
              "transition": {
               "duration": 0,
               "easing": "linear"
              }
             }
            ],
            "label": "2062",
            "method": "animate"
           },
           {
            "args": [
             [
              "2063"
             ],
             {
              "frame": {
               "duration": 0,
               "redraw": false
              },
              "fromcurrent": true,
              "mode": "immediate",
              "transition": {
               "duration": 0,
               "easing": "linear"
              }
             }
            ],
            "label": "2063",
            "method": "animate"
           },
           {
            "args": [
             [
              "2064"
             ],
             {
              "frame": {
               "duration": 0,
               "redraw": false
              },
              "fromcurrent": true,
              "mode": "immediate",
              "transition": {
               "duration": 0,
               "easing": "linear"
              }
             }
            ],
            "label": "2064",
            "method": "animate"
           },
           {
            "args": [
             [
              "2065"
             ],
             {
              "frame": {
               "duration": 0,
               "redraw": false
              },
              "fromcurrent": true,
              "mode": "immediate",
              "transition": {
               "duration": 0,
               "easing": "linear"
              }
             }
            ],
            "label": "2065",
            "method": "animate"
           },
           {
            "args": [
             [
              "2066"
             ],
             {
              "frame": {
               "duration": 0,
               "redraw": false
              },
              "fromcurrent": true,
              "mode": "immediate",
              "transition": {
               "duration": 0,
               "easing": "linear"
              }
             }
            ],
            "label": "2066",
            "method": "animate"
           },
           {
            "args": [
             [
              "2067"
             ],
             {
              "frame": {
               "duration": 0,
               "redraw": false
              },
              "fromcurrent": true,
              "mode": "immediate",
              "transition": {
               "duration": 0,
               "easing": "linear"
              }
             }
            ],
            "label": "2067",
            "method": "animate"
           },
           {
            "args": [
             [
              "2068"
             ],
             {
              "frame": {
               "duration": 0,
               "redraw": false
              },
              "fromcurrent": true,
              "mode": "immediate",
              "transition": {
               "duration": 0,
               "easing": "linear"
              }
             }
            ],
            "label": "2068",
            "method": "animate"
           },
           {
            "args": [
             [
              "2069"
             ],
             {
              "frame": {
               "duration": 0,
               "redraw": false
              },
              "fromcurrent": true,
              "mode": "immediate",
              "transition": {
               "duration": 0,
               "easing": "linear"
              }
             }
            ],
            "label": "2069",
            "method": "animate"
           },
           {
            "args": [
             [
              "2070"
             ],
             {
              "frame": {
               "duration": 0,
               "redraw": false
              },
              "fromcurrent": true,
              "mode": "immediate",
              "transition": {
               "duration": 0,
               "easing": "linear"
              }
             }
            ],
            "label": "2070",
            "method": "animate"
           },
           {
            "args": [
             [
              "2071"
             ],
             {
              "frame": {
               "duration": 0,
               "redraw": false
              },
              "fromcurrent": true,
              "mode": "immediate",
              "transition": {
               "duration": 0,
               "easing": "linear"
              }
             }
            ],
            "label": "2071",
            "method": "animate"
           },
           {
            "args": [
             [
              "2072"
             ],
             {
              "frame": {
               "duration": 0,
               "redraw": false
              },
              "fromcurrent": true,
              "mode": "immediate",
              "transition": {
               "duration": 0,
               "easing": "linear"
              }
             }
            ],
            "label": "2072",
            "method": "animate"
           },
           {
            "args": [
             [
              "2073"
             ],
             {
              "frame": {
               "duration": 0,
               "redraw": false
              },
              "fromcurrent": true,
              "mode": "immediate",
              "transition": {
               "duration": 0,
               "easing": "linear"
              }
             }
            ],
            "label": "2073",
            "method": "animate"
           },
           {
            "args": [
             [
              "2074"
             ],
             {
              "frame": {
               "duration": 0,
               "redraw": false
              },
              "fromcurrent": true,
              "mode": "immediate",
              "transition": {
               "duration": 0,
               "easing": "linear"
              }
             }
            ],
            "label": "2074",
            "method": "animate"
           },
           {
            "args": [
             [
              "2075"
             ],
             {
              "frame": {
               "duration": 0,
               "redraw": false
              },
              "fromcurrent": true,
              "mode": "immediate",
              "transition": {
               "duration": 0,
               "easing": "linear"
              }
             }
            ],
            "label": "2075",
            "method": "animate"
           },
           {
            "args": [
             [
              "2076"
             ],
             {
              "frame": {
               "duration": 0,
               "redraw": false
              },
              "fromcurrent": true,
              "mode": "immediate",
              "transition": {
               "duration": 0,
               "easing": "linear"
              }
             }
            ],
            "label": "2076",
            "method": "animate"
           },
           {
            "args": [
             [
              "2077"
             ],
             {
              "frame": {
               "duration": 0,
               "redraw": false
              },
              "fromcurrent": true,
              "mode": "immediate",
              "transition": {
               "duration": 0,
               "easing": "linear"
              }
             }
            ],
            "label": "2077",
            "method": "animate"
           },
           {
            "args": [
             [
              "2078"
             ],
             {
              "frame": {
               "duration": 0,
               "redraw": false
              },
              "fromcurrent": true,
              "mode": "immediate",
              "transition": {
               "duration": 0,
               "easing": "linear"
              }
             }
            ],
            "label": "2078",
            "method": "animate"
           },
           {
            "args": [
             [
              "2079"
             ],
             {
              "frame": {
               "duration": 0,
               "redraw": false
              },
              "fromcurrent": true,
              "mode": "immediate",
              "transition": {
               "duration": 0,
               "easing": "linear"
              }
             }
            ],
            "label": "2079",
            "method": "animate"
           },
           {
            "args": [
             [
              "2080"
             ],
             {
              "frame": {
               "duration": 0,
               "redraw": false
              },
              "fromcurrent": true,
              "mode": "immediate",
              "transition": {
               "duration": 0,
               "easing": "linear"
              }
             }
            ],
            "label": "2080",
            "method": "animate"
           },
           {
            "args": [
             [
              "2081"
             ],
             {
              "frame": {
               "duration": 0,
               "redraw": false
              },
              "fromcurrent": true,
              "mode": "immediate",
              "transition": {
               "duration": 0,
               "easing": "linear"
              }
             }
            ],
            "label": "2081",
            "method": "animate"
           },
           {
            "args": [
             [
              "2082"
             ],
             {
              "frame": {
               "duration": 0,
               "redraw": false
              },
              "fromcurrent": true,
              "mode": "immediate",
              "transition": {
               "duration": 0,
               "easing": "linear"
              }
             }
            ],
            "label": "2082",
            "method": "animate"
           },
           {
            "args": [
             [
              "2083"
             ],
             {
              "frame": {
               "duration": 0,
               "redraw": false
              },
              "fromcurrent": true,
              "mode": "immediate",
              "transition": {
               "duration": 0,
               "easing": "linear"
              }
             }
            ],
            "label": "2083",
            "method": "animate"
           },
           {
            "args": [
             [
              "2084"
             ],
             {
              "frame": {
               "duration": 0,
               "redraw": false
              },
              "fromcurrent": true,
              "mode": "immediate",
              "transition": {
               "duration": 0,
               "easing": "linear"
              }
             }
            ],
            "label": "2084",
            "method": "animate"
           },
           {
            "args": [
             [
              "2085"
             ],
             {
              "frame": {
               "duration": 0,
               "redraw": false
              },
              "fromcurrent": true,
              "mode": "immediate",
              "transition": {
               "duration": 0,
               "easing": "linear"
              }
             }
            ],
            "label": "2085",
            "method": "animate"
           },
           {
            "args": [
             [
              "2086"
             ],
             {
              "frame": {
               "duration": 0,
               "redraw": false
              },
              "fromcurrent": true,
              "mode": "immediate",
              "transition": {
               "duration": 0,
               "easing": "linear"
              }
             }
            ],
            "label": "2086",
            "method": "animate"
           },
           {
            "args": [
             [
              "2087"
             ],
             {
              "frame": {
               "duration": 0,
               "redraw": false
              },
              "fromcurrent": true,
              "mode": "immediate",
              "transition": {
               "duration": 0,
               "easing": "linear"
              }
             }
            ],
            "label": "2087",
            "method": "animate"
           },
           {
            "args": [
             [
              "2088"
             ],
             {
              "frame": {
               "duration": 0,
               "redraw": false
              },
              "fromcurrent": true,
              "mode": "immediate",
              "transition": {
               "duration": 0,
               "easing": "linear"
              }
             }
            ],
            "label": "2088",
            "method": "animate"
           },
           {
            "args": [
             [
              "2089"
             ],
             {
              "frame": {
               "duration": 0,
               "redraw": false
              },
              "fromcurrent": true,
              "mode": "immediate",
              "transition": {
               "duration": 0,
               "easing": "linear"
              }
             }
            ],
            "label": "2089",
            "method": "animate"
           },
           {
            "args": [
             [
              "2090"
             ],
             {
              "frame": {
               "duration": 0,
               "redraw": false
              },
              "fromcurrent": true,
              "mode": "immediate",
              "transition": {
               "duration": 0,
               "easing": "linear"
              }
             }
            ],
            "label": "2090",
            "method": "animate"
           },
           {
            "args": [
             [
              "2091"
             ],
             {
              "frame": {
               "duration": 0,
               "redraw": false
              },
              "fromcurrent": true,
              "mode": "immediate",
              "transition": {
               "duration": 0,
               "easing": "linear"
              }
             }
            ],
            "label": "2091",
            "method": "animate"
           },
           {
            "args": [
             [
              "2092"
             ],
             {
              "frame": {
               "duration": 0,
               "redraw": false
              },
              "fromcurrent": true,
              "mode": "immediate",
              "transition": {
               "duration": 0,
               "easing": "linear"
              }
             }
            ],
            "label": "2092",
            "method": "animate"
           },
           {
            "args": [
             [
              "2093"
             ],
             {
              "frame": {
               "duration": 0,
               "redraw": false
              },
              "fromcurrent": true,
              "mode": "immediate",
              "transition": {
               "duration": 0,
               "easing": "linear"
              }
             }
            ],
            "label": "2093",
            "method": "animate"
           },
           {
            "args": [
             [
              "2094"
             ],
             {
              "frame": {
               "duration": 0,
               "redraw": false
              },
              "fromcurrent": true,
              "mode": "immediate",
              "transition": {
               "duration": 0,
               "easing": "linear"
              }
             }
            ],
            "label": "2094",
            "method": "animate"
           },
           {
            "args": [
             [
              "2095"
             ],
             {
              "frame": {
               "duration": 0,
               "redraw": false
              },
              "fromcurrent": true,
              "mode": "immediate",
              "transition": {
               "duration": 0,
               "easing": "linear"
              }
             }
            ],
            "label": "2095",
            "method": "animate"
           },
           {
            "args": [
             [
              "2096"
             ],
             {
              "frame": {
               "duration": 0,
               "redraw": false
              },
              "fromcurrent": true,
              "mode": "immediate",
              "transition": {
               "duration": 0,
               "easing": "linear"
              }
             }
            ],
            "label": "2096",
            "method": "animate"
           },
           {
            "args": [
             [
              "2097"
             ],
             {
              "frame": {
               "duration": 0,
               "redraw": false
              },
              "fromcurrent": true,
              "mode": "immediate",
              "transition": {
               "duration": 0,
               "easing": "linear"
              }
             }
            ],
            "label": "2097",
            "method": "animate"
           },
           {
            "args": [
             [
              "2098"
             ],
             {
              "frame": {
               "duration": 0,
               "redraw": false
              },
              "fromcurrent": true,
              "mode": "immediate",
              "transition": {
               "duration": 0,
               "easing": "linear"
              }
             }
            ],
            "label": "2098",
            "method": "animate"
           },
           {
            "args": [
             [
              "2099"
             ],
             {
              "frame": {
               "duration": 0,
               "redraw": false
              },
              "fromcurrent": true,
              "mode": "immediate",
              "transition": {
               "duration": 0,
               "easing": "linear"
              }
             }
            ],
            "label": "2099",
            "method": "animate"
           },
           {
            "args": [
             [
              "2100"
             ],
             {
              "frame": {
               "duration": 0,
               "redraw": false
              },
              "fromcurrent": true,
              "mode": "immediate",
              "transition": {
               "duration": 0,
               "easing": "linear"
              }
             }
            ],
            "label": "2100",
            "method": "animate"
           }
          ],
          "x": 0.1,
          "xanchor": "left",
          "y": 0,
          "yanchor": "top"
         }
        ],
        "template": {
         "data": {
          "bar": [
           {
            "error_x": {
             "color": "#2a3f5f"
            },
            "error_y": {
             "color": "#2a3f5f"
            },
            "marker": {
             "line": {
              "color": "#E5ECF6",
              "width": 0.5
             },
             "pattern": {
              "fillmode": "overlay",
              "size": 10,
              "solidity": 0.2
             }
            },
            "type": "bar"
           }
          ],
          "barpolar": [
           {
            "marker": {
             "line": {
              "color": "#E5ECF6",
              "width": 0.5
             },
             "pattern": {
              "fillmode": "overlay",
              "size": 10,
              "solidity": 0.2
             }
            },
            "type": "barpolar"
           }
          ],
          "carpet": [
           {
            "aaxis": {
             "endlinecolor": "#2a3f5f",
             "gridcolor": "white",
             "linecolor": "white",
             "minorgridcolor": "white",
             "startlinecolor": "#2a3f5f"
            },
            "baxis": {
             "endlinecolor": "#2a3f5f",
             "gridcolor": "white",
             "linecolor": "white",
             "minorgridcolor": "white",
             "startlinecolor": "#2a3f5f"
            },
            "type": "carpet"
           }
          ],
          "choropleth": [
           {
            "colorbar": {
             "outlinewidth": 0,
             "ticks": ""
            },
            "type": "choropleth"
           }
          ],
          "contour": [
           {
            "colorbar": {
             "outlinewidth": 0,
             "ticks": ""
            },
            "colorscale": [
             [
              0,
              "#0d0887"
             ],
             [
              0.1111111111111111,
              "#46039f"
             ],
             [
              0.2222222222222222,
              "#7201a8"
             ],
             [
              0.3333333333333333,
              "#9c179e"
             ],
             [
              0.4444444444444444,
              "#bd3786"
             ],
             [
              0.5555555555555556,
              "#d8576b"
             ],
             [
              0.6666666666666666,
              "#ed7953"
             ],
             [
              0.7777777777777778,
              "#fb9f3a"
             ],
             [
              0.8888888888888888,
              "#fdca26"
             ],
             [
              1,
              "#f0f921"
             ]
            ],
            "type": "contour"
           }
          ],
          "contourcarpet": [
           {
            "colorbar": {
             "outlinewidth": 0,
             "ticks": ""
            },
            "type": "contourcarpet"
           }
          ],
          "heatmap": [
           {
            "colorbar": {
             "outlinewidth": 0,
             "ticks": ""
            },
            "colorscale": [
             [
              0,
              "#0d0887"
             ],
             [
              0.1111111111111111,
              "#46039f"
             ],
             [
              0.2222222222222222,
              "#7201a8"
             ],
             [
              0.3333333333333333,
              "#9c179e"
             ],
             [
              0.4444444444444444,
              "#bd3786"
             ],
             [
              0.5555555555555556,
              "#d8576b"
             ],
             [
              0.6666666666666666,
              "#ed7953"
             ],
             [
              0.7777777777777778,
              "#fb9f3a"
             ],
             [
              0.8888888888888888,
              "#fdca26"
             ],
             [
              1,
              "#f0f921"
             ]
            ],
            "type": "heatmap"
           }
          ],
          "heatmapgl": [
           {
            "colorbar": {
             "outlinewidth": 0,
             "ticks": ""
            },
            "colorscale": [
             [
              0,
              "#0d0887"
             ],
             [
              0.1111111111111111,
              "#46039f"
             ],
             [
              0.2222222222222222,
              "#7201a8"
             ],
             [
              0.3333333333333333,
              "#9c179e"
             ],
             [
              0.4444444444444444,
              "#bd3786"
             ],
             [
              0.5555555555555556,
              "#d8576b"
             ],
             [
              0.6666666666666666,
              "#ed7953"
             ],
             [
              0.7777777777777778,
              "#fb9f3a"
             ],
             [
              0.8888888888888888,
              "#fdca26"
             ],
             [
              1,
              "#f0f921"
             ]
            ],
            "type": "heatmapgl"
           }
          ],
          "histogram": [
           {
            "marker": {
             "pattern": {
              "fillmode": "overlay",
              "size": 10,
              "solidity": 0.2
             }
            },
            "type": "histogram"
           }
          ],
          "histogram2d": [
           {
            "colorbar": {
             "outlinewidth": 0,
             "ticks": ""
            },
            "colorscale": [
             [
              0,
              "#0d0887"
             ],
             [
              0.1111111111111111,
              "#46039f"
             ],
             [
              0.2222222222222222,
              "#7201a8"
             ],
             [
              0.3333333333333333,
              "#9c179e"
             ],
             [
              0.4444444444444444,
              "#bd3786"
             ],
             [
              0.5555555555555556,
              "#d8576b"
             ],
             [
              0.6666666666666666,
              "#ed7953"
             ],
             [
              0.7777777777777778,
              "#fb9f3a"
             ],
             [
              0.8888888888888888,
              "#fdca26"
             ],
             [
              1,
              "#f0f921"
             ]
            ],
            "type": "histogram2d"
           }
          ],
          "histogram2dcontour": [
           {
            "colorbar": {
             "outlinewidth": 0,
             "ticks": ""
            },
            "colorscale": [
             [
              0,
              "#0d0887"
             ],
             [
              0.1111111111111111,
              "#46039f"
             ],
             [
              0.2222222222222222,
              "#7201a8"
             ],
             [
              0.3333333333333333,
              "#9c179e"
             ],
             [
              0.4444444444444444,
              "#bd3786"
             ],
             [
              0.5555555555555556,
              "#d8576b"
             ],
             [
              0.6666666666666666,
              "#ed7953"
             ],
             [
              0.7777777777777778,
              "#fb9f3a"
             ],
             [
              0.8888888888888888,
              "#fdca26"
             ],
             [
              1,
              "#f0f921"
             ]
            ],
            "type": "histogram2dcontour"
           }
          ],
          "mesh3d": [
           {
            "colorbar": {
             "outlinewidth": 0,
             "ticks": ""
            },
            "type": "mesh3d"
           }
          ],
          "parcoords": [
           {
            "line": {
             "colorbar": {
              "outlinewidth": 0,
              "ticks": ""
             }
            },
            "type": "parcoords"
           }
          ],
          "pie": [
           {
            "automargin": true,
            "type": "pie"
           }
          ],
          "scatter": [
           {
            "marker": {
             "colorbar": {
              "outlinewidth": 0,
              "ticks": ""
             }
            },
            "type": "scatter"
           }
          ],
          "scatter3d": [
           {
            "line": {
             "colorbar": {
              "outlinewidth": 0,
              "ticks": ""
             }
            },
            "marker": {
             "colorbar": {
              "outlinewidth": 0,
              "ticks": ""
             }
            },
            "type": "scatter3d"
           }
          ],
          "scattercarpet": [
           {
            "marker": {
             "colorbar": {
              "outlinewidth": 0,
              "ticks": ""
             }
            },
            "type": "scattercarpet"
           }
          ],
          "scattergeo": [
           {
            "marker": {
             "colorbar": {
              "outlinewidth": 0,
              "ticks": ""
             }
            },
            "type": "scattergeo"
           }
          ],
          "scattergl": [
           {
            "marker": {
             "colorbar": {
              "outlinewidth": 0,
              "ticks": ""
             }
            },
            "type": "scattergl"
           }
          ],
          "scattermapbox": [
           {
            "marker": {
             "colorbar": {
              "outlinewidth": 0,
              "ticks": ""
             }
            },
            "type": "scattermapbox"
           }
          ],
          "scatterpolar": [
           {
            "marker": {
             "colorbar": {
              "outlinewidth": 0,
              "ticks": ""
             }
            },
            "type": "scatterpolar"
           }
          ],
          "scatterpolargl": [
           {
            "marker": {
             "colorbar": {
              "outlinewidth": 0,
              "ticks": ""
             }
            },
            "type": "scatterpolargl"
           }
          ],
          "scatterternary": [
           {
            "marker": {
             "colorbar": {
              "outlinewidth": 0,
              "ticks": ""
             }
            },
            "type": "scatterternary"
           }
          ],
          "surface": [
           {
            "colorbar": {
             "outlinewidth": 0,
             "ticks": ""
            },
            "colorscale": [
             [
              0,
              "#0d0887"
             ],
             [
              0.1111111111111111,
              "#46039f"
             ],
             [
              0.2222222222222222,
              "#7201a8"
             ],
             [
              0.3333333333333333,
              "#9c179e"
             ],
             [
              0.4444444444444444,
              "#bd3786"
             ],
             [
              0.5555555555555556,
              "#d8576b"
             ],
             [
              0.6666666666666666,
              "#ed7953"
             ],
             [
              0.7777777777777778,
              "#fb9f3a"
             ],
             [
              0.8888888888888888,
              "#fdca26"
             ],
             [
              1,
              "#f0f921"
             ]
            ],
            "type": "surface"
           }
          ],
          "table": [
           {
            "cells": {
             "fill": {
              "color": "#EBF0F8"
             },
             "line": {
              "color": "white"
             }
            },
            "header": {
             "fill": {
              "color": "#C8D4E3"
             },
             "line": {
              "color": "white"
             }
            },
            "type": "table"
           }
          ]
         },
         "layout": {
          "annotationdefaults": {
           "arrowcolor": "#2a3f5f",
           "arrowhead": 0,
           "arrowwidth": 1
          },
          "autotypenumbers": "strict",
          "coloraxis": {
           "colorbar": {
            "outlinewidth": 0,
            "ticks": ""
           }
          },
          "colorscale": {
           "diverging": [
            [
             0,
             "#8e0152"
            ],
            [
             0.1,
             "#c51b7d"
            ],
            [
             0.2,
             "#de77ae"
            ],
            [
             0.3,
             "#f1b6da"
            ],
            [
             0.4,
             "#fde0ef"
            ],
            [
             0.5,
             "#f7f7f7"
            ],
            [
             0.6,
             "#e6f5d0"
            ],
            [
             0.7,
             "#b8e186"
            ],
            [
             0.8,
             "#7fbc41"
            ],
            [
             0.9,
             "#4d9221"
            ],
            [
             1,
             "#276419"
            ]
           ],
           "sequential": [
            [
             0,
             "#0d0887"
            ],
            [
             0.1111111111111111,
             "#46039f"
            ],
            [
             0.2222222222222222,
             "#7201a8"
            ],
            [
             0.3333333333333333,
             "#9c179e"
            ],
            [
             0.4444444444444444,
             "#bd3786"
            ],
            [
             0.5555555555555556,
             "#d8576b"
            ],
            [
             0.6666666666666666,
             "#ed7953"
            ],
            [
             0.7777777777777778,
             "#fb9f3a"
            ],
            [
             0.8888888888888888,
             "#fdca26"
            ],
            [
             1,
             "#f0f921"
            ]
           ],
           "sequentialminus": [
            [
             0,
             "#0d0887"
            ],
            [
             0.1111111111111111,
             "#46039f"
            ],
            [
             0.2222222222222222,
             "#7201a8"
            ],
            [
             0.3333333333333333,
             "#9c179e"
            ],
            [
             0.4444444444444444,
             "#bd3786"
            ],
            [
             0.5555555555555556,
             "#d8576b"
            ],
            [
             0.6666666666666666,
             "#ed7953"
            ],
            [
             0.7777777777777778,
             "#fb9f3a"
            ],
            [
             0.8888888888888888,
             "#fdca26"
            ],
            [
             1,
             "#f0f921"
            ]
           ]
          },
          "colorway": [
           "#636efa",
           "#EF553B",
           "#00cc96",
           "#ab63fa",
           "#FFA15A",
           "#19d3f3",
           "#FF6692",
           "#B6E880",
           "#FF97FF",
           "#FECB52"
          ],
          "font": {
           "color": "#2a3f5f"
          },
          "geo": {
           "bgcolor": "white",
           "lakecolor": "white",
           "landcolor": "#E5ECF6",
           "showlakes": true,
           "showland": true,
           "subunitcolor": "white"
          },
          "hoverlabel": {
           "align": "left"
          },
          "hovermode": "closest",
          "mapbox": {
           "style": "light"
          },
          "paper_bgcolor": "white",
          "plot_bgcolor": "#E5ECF6",
          "polar": {
           "angularaxis": {
            "gridcolor": "white",
            "linecolor": "white",
            "ticks": ""
           },
           "bgcolor": "#E5ECF6",
           "radialaxis": {
            "gridcolor": "white",
            "linecolor": "white",
            "ticks": ""
           }
          },
          "scene": {
           "xaxis": {
            "backgroundcolor": "#E5ECF6",
            "gridcolor": "white",
            "gridwidth": 2,
            "linecolor": "white",
            "showbackground": true,
            "ticks": "",
            "zerolinecolor": "white"
           },
           "yaxis": {
            "backgroundcolor": "#E5ECF6",
            "gridcolor": "white",
            "gridwidth": 2,
            "linecolor": "white",
            "showbackground": true,
            "ticks": "",
            "zerolinecolor": "white"
           },
           "zaxis": {
            "backgroundcolor": "#E5ECF6",
            "gridcolor": "white",
            "gridwidth": 2,
            "linecolor": "white",
            "showbackground": true,
            "ticks": "",
            "zerolinecolor": "white"
           }
          },
          "shapedefaults": {
           "line": {
            "color": "#2a3f5f"
           }
          },
          "ternary": {
           "aaxis": {
            "gridcolor": "white",
            "linecolor": "white",
            "ticks": ""
           },
           "baxis": {
            "gridcolor": "white",
            "linecolor": "white",
            "ticks": ""
           },
           "bgcolor": "#E5ECF6",
           "caxis": {
            "gridcolor": "white",
            "linecolor": "white",
            "ticks": ""
           }
          },
          "title": {
           "x": 0.05
          },
          "xaxis": {
           "automargin": true,
           "gridcolor": "white",
           "linecolor": "white",
           "ticks": "",
           "title": {
            "standoff": 15
           },
           "zerolinecolor": "white",
           "zerolinewidth": 2
          },
          "yaxis": {
           "automargin": true,
           "gridcolor": "white",
           "linecolor": "white",
           "ticks": "",
           "title": {
            "standoff": 15
           },
           "zerolinecolor": "white",
           "zerolinewidth": 2
          }
         }
        },
        "title": {
         "text": "Africa Vs North America"
        },
        "updatemenus": [
         {
          "buttons": [
           {
            "args": [
             null,
             {
              "frame": {
               "duration": 500,
               "redraw": false
              },
              "fromcurrent": true,
              "mode": "immediate",
              "transition": {
               "duration": 500,
               "easing": "linear"
              }
             }
            ],
            "label": "&#9654;",
            "method": "animate"
           },
           {
            "args": [
             [
              null
             ],
             {
              "frame": {
               "duration": 0,
               "redraw": false
              },
              "fromcurrent": true,
              "mode": "immediate",
              "transition": {
               "duration": 0,
               "easing": "linear"
              }
             }
            ],
            "label": "&#9724;",
            "method": "animate"
           }
          ],
          "direction": "left",
          "pad": {
           "r": 10,
           "t": 70
          },
          "showactive": false,
          "type": "buttons",
          "x": 0.1,
          "xanchor": "right",
          "y": 0,
          "yanchor": "top"
         }
        ],
        "xaxis": {
         "anchor": "y",
         "domain": [
          0,
          1
         ],
         "range": [
          6.903089986991943,
          9.698970004336017
         ],
         "title": {
          "text": " Population"
         },
         "type": "log"
        },
        "yaxis": {
         "anchor": "x",
         "domain": [
          0,
          1
         ],
         "range": [
          8000000,
          5000000000
         ],
         "title": {
          "text": " Population"
         }
        }
       }
      },
      "text/html": [
       "<div>                            <div id=\"58c93d6e-3e66-4efe-809f-c6375977ddc5\" class=\"plotly-graph-div\" style=\"height:525px; width:100%;\"></div>            <script type=\"text/javascript\">                require([\"plotly\"], function(Plotly) {                    window.PLOTLYENV=window.PLOTLYENV || {};                                    if (document.getElementById(\"58c93d6e-3e66-4efe-809f-c6375977ddc5\")) {                    Plotly.newPlot(                        \"58c93d6e-3e66-4efe-809f-c6375977ddc5\",                        [{\"hovertemplate\":\"<b>%{hovertext}</b><br><br>continent=Africa<br>year=1950<br> Population=%{marker.size}<extra></extra>\",\"hovertext\":[\"Africa\"],\"ids\":[\"Africa\"],\"legendgroup\":\"Africa\",\"marker\":{\"color\":\"#636efa\",\"size\":[227549258],\"sizemode\":\"area\",\"sizeref\":9811051.535,\"symbol\":\"circle\"},\"mode\":\"markers\",\"name\":\"Africa\",\"orientation\":\"v\",\"showlegend\":true,\"type\":\"scatter\",\"x\":[227549258],\"xaxis\":\"x\",\"y\":[227549258],\"yaxis\":\"y\"},{\"hovertemplate\":\"<b>%{hovertext}</b><br><br>continent=North America<br>year=1950<br> Population=%{marker.size}<extra></extra>\",\"hovertext\":[\"North America\"],\"ids\":[\"North America\"],\"legendgroup\":\"North America\",\"marker\":{\"color\":\"#EF553B\",\"size\":[162089353],\"sizemode\":\"area\",\"sizeref\":9811051.535,\"symbol\":\"circle\"},\"mode\":\"markers\",\"name\":\"North America\",\"orientation\":\"v\",\"showlegend\":true,\"type\":\"scatter\",\"x\":[162089353],\"xaxis\":\"x\",\"y\":[162089353],\"yaxis\":\"y\"}],                        {\"legend\":{\"itemsizing\":\"constant\",\"title\":{\"text\":\"continent\"},\"tracegroupgap\":0},\"sliders\":[{\"active\":0,\"currentvalue\":{\"prefix\":\"year=\"},\"len\":0.9,\"pad\":{\"b\":10,\"t\":60},\"steps\":[{\"args\":[[\"1950\"],{\"frame\":{\"duration\":0,\"redraw\":false},\"fromcurrent\":true,\"mode\":\"immediate\",\"transition\":{\"duration\":0,\"easing\":\"linear\"}}],\"label\":\"1950\",\"method\":\"animate\"},{\"args\":[[\"1951\"],{\"frame\":{\"duration\":0,\"redraw\":false},\"fromcurrent\":true,\"mode\":\"immediate\",\"transition\":{\"duration\":0,\"easing\":\"linear\"}}],\"label\":\"1951\",\"method\":\"animate\"},{\"args\":[[\"1952\"],{\"frame\":{\"duration\":0,\"redraw\":false},\"fromcurrent\":true,\"mode\":\"immediate\",\"transition\":{\"duration\":0,\"easing\":\"linear\"}}],\"label\":\"1952\",\"method\":\"animate\"},{\"args\":[[\"1953\"],{\"frame\":{\"duration\":0,\"redraw\":false},\"fromcurrent\":true,\"mode\":\"immediate\",\"transition\":{\"duration\":0,\"easing\":\"linear\"}}],\"label\":\"1953\",\"method\":\"animate\"},{\"args\":[[\"1954\"],{\"frame\":{\"duration\":0,\"redraw\":false},\"fromcurrent\":true,\"mode\":\"immediate\",\"transition\":{\"duration\":0,\"easing\":\"linear\"}}],\"label\":\"1954\",\"method\":\"animate\"},{\"args\":[[\"1955\"],{\"frame\":{\"duration\":0,\"redraw\":false},\"fromcurrent\":true,\"mode\":\"immediate\",\"transition\":{\"duration\":0,\"easing\":\"linear\"}}],\"label\":\"1955\",\"method\":\"animate\"},{\"args\":[[\"1956\"],{\"frame\":{\"duration\":0,\"redraw\":false},\"fromcurrent\":true,\"mode\":\"immediate\",\"transition\":{\"duration\":0,\"easing\":\"linear\"}}],\"label\":\"1956\",\"method\":\"animate\"},{\"args\":[[\"1957\"],{\"frame\":{\"duration\":0,\"redraw\":false},\"fromcurrent\":true,\"mode\":\"immediate\",\"transition\":{\"duration\":0,\"easing\":\"linear\"}}],\"label\":\"1957\",\"method\":\"animate\"},{\"args\":[[\"1958\"],{\"frame\":{\"duration\":0,\"redraw\":false},\"fromcurrent\":true,\"mode\":\"immediate\",\"transition\":{\"duration\":0,\"easing\":\"linear\"}}],\"label\":\"1958\",\"method\":\"animate\"},{\"args\":[[\"1959\"],{\"frame\":{\"duration\":0,\"redraw\":false},\"fromcurrent\":true,\"mode\":\"immediate\",\"transition\":{\"duration\":0,\"easing\":\"linear\"}}],\"label\":\"1959\",\"method\":\"animate\"},{\"args\":[[\"1960\"],{\"frame\":{\"duration\":0,\"redraw\":false},\"fromcurrent\":true,\"mode\":\"immediate\",\"transition\":{\"duration\":0,\"easing\":\"linear\"}}],\"label\":\"1960\",\"method\":\"animate\"},{\"args\":[[\"1961\"],{\"frame\":{\"duration\":0,\"redraw\":false},\"fromcurrent\":true,\"mode\":\"immediate\",\"transition\":{\"duration\":0,\"easing\":\"linear\"}}],\"label\":\"1961\",\"method\":\"animate\"},{\"args\":[[\"1962\"],{\"frame\":{\"duration\":0,\"redraw\":false},\"fromcurrent\":true,\"mode\":\"immediate\",\"transition\":{\"duration\":0,\"easing\":\"linear\"}}],\"label\":\"1962\",\"method\":\"animate\"},{\"args\":[[\"1963\"],{\"frame\":{\"duration\":0,\"redraw\":false},\"fromcurrent\":true,\"mode\":\"immediate\",\"transition\":{\"duration\":0,\"easing\":\"linear\"}}],\"label\":\"1963\",\"method\":\"animate\"},{\"args\":[[\"1964\"],{\"frame\":{\"duration\":0,\"redraw\":false},\"fromcurrent\":true,\"mode\":\"immediate\",\"transition\":{\"duration\":0,\"easing\":\"linear\"}}],\"label\":\"1964\",\"method\":\"animate\"},{\"args\":[[\"1965\"],{\"frame\":{\"duration\":0,\"redraw\":false},\"fromcurrent\":true,\"mode\":\"immediate\",\"transition\":{\"duration\":0,\"easing\":\"linear\"}}],\"label\":\"1965\",\"method\":\"animate\"},{\"args\":[[\"1966\"],{\"frame\":{\"duration\":0,\"redraw\":false},\"fromcurrent\":true,\"mode\":\"immediate\",\"transition\":{\"duration\":0,\"easing\":\"linear\"}}],\"label\":\"1966\",\"method\":\"animate\"},{\"args\":[[\"1967\"],{\"frame\":{\"duration\":0,\"redraw\":false},\"fromcurrent\":true,\"mode\":\"immediate\",\"transition\":{\"duration\":0,\"easing\":\"linear\"}}],\"label\":\"1967\",\"method\":\"animate\"},{\"args\":[[\"1968\"],{\"frame\":{\"duration\":0,\"redraw\":false},\"fromcurrent\":true,\"mode\":\"immediate\",\"transition\":{\"duration\":0,\"easing\":\"linear\"}}],\"label\":\"1968\",\"method\":\"animate\"},{\"args\":[[\"1969\"],{\"frame\":{\"duration\":0,\"redraw\":false},\"fromcurrent\":true,\"mode\":\"immediate\",\"transition\":{\"duration\":0,\"easing\":\"linear\"}}],\"label\":\"1969\",\"method\":\"animate\"},{\"args\":[[\"1970\"],{\"frame\":{\"duration\":0,\"redraw\":false},\"fromcurrent\":true,\"mode\":\"immediate\",\"transition\":{\"duration\":0,\"easing\":\"linear\"}}],\"label\":\"1970\",\"method\":\"animate\"},{\"args\":[[\"1971\"],{\"frame\":{\"duration\":0,\"redraw\":false},\"fromcurrent\":true,\"mode\":\"immediate\",\"transition\":{\"duration\":0,\"easing\":\"linear\"}}],\"label\":\"1971\",\"method\":\"animate\"},{\"args\":[[\"1972\"],{\"frame\":{\"duration\":0,\"redraw\":false},\"fromcurrent\":true,\"mode\":\"immediate\",\"transition\":{\"duration\":0,\"easing\":\"linear\"}}],\"label\":\"1972\",\"method\":\"animate\"},{\"args\":[[\"1973\"],{\"frame\":{\"duration\":0,\"redraw\":false},\"fromcurrent\":true,\"mode\":\"immediate\",\"transition\":{\"duration\":0,\"easing\":\"linear\"}}],\"label\":\"1973\",\"method\":\"animate\"},{\"args\":[[\"1974\"],{\"frame\":{\"duration\":0,\"redraw\":false},\"fromcurrent\":true,\"mode\":\"immediate\",\"transition\":{\"duration\":0,\"easing\":\"linear\"}}],\"label\":\"1974\",\"method\":\"animate\"},{\"args\":[[\"1975\"],{\"frame\":{\"duration\":0,\"redraw\":false},\"fromcurrent\":true,\"mode\":\"immediate\",\"transition\":{\"duration\":0,\"easing\":\"linear\"}}],\"label\":\"1975\",\"method\":\"animate\"},{\"args\":[[\"1976\"],{\"frame\":{\"duration\":0,\"redraw\":false},\"fromcurrent\":true,\"mode\":\"immediate\",\"transition\":{\"duration\":0,\"easing\":\"linear\"}}],\"label\":\"1976\",\"method\":\"animate\"},{\"args\":[[\"1977\"],{\"frame\":{\"duration\":0,\"redraw\":false},\"fromcurrent\":true,\"mode\":\"immediate\",\"transition\":{\"duration\":0,\"easing\":\"linear\"}}],\"label\":\"1977\",\"method\":\"animate\"},{\"args\":[[\"1978\"],{\"frame\":{\"duration\":0,\"redraw\":false},\"fromcurrent\":true,\"mode\":\"immediate\",\"transition\":{\"duration\":0,\"easing\":\"linear\"}}],\"label\":\"1978\",\"method\":\"animate\"},{\"args\":[[\"1979\"],{\"frame\":{\"duration\":0,\"redraw\":false},\"fromcurrent\":true,\"mode\":\"immediate\",\"transition\":{\"duration\":0,\"easing\":\"linear\"}}],\"label\":\"1979\",\"method\":\"animate\"},{\"args\":[[\"1980\"],{\"frame\":{\"duration\":0,\"redraw\":false},\"fromcurrent\":true,\"mode\":\"immediate\",\"transition\":{\"duration\":0,\"easing\":\"linear\"}}],\"label\":\"1980\",\"method\":\"animate\"},{\"args\":[[\"1981\"],{\"frame\":{\"duration\":0,\"redraw\":false},\"fromcurrent\":true,\"mode\":\"immediate\",\"transition\":{\"duration\":0,\"easing\":\"linear\"}}],\"label\":\"1981\",\"method\":\"animate\"},{\"args\":[[\"1982\"],{\"frame\":{\"duration\":0,\"redraw\":false},\"fromcurrent\":true,\"mode\":\"immediate\",\"transition\":{\"duration\":0,\"easing\":\"linear\"}}],\"label\":\"1982\",\"method\":\"animate\"},{\"args\":[[\"1983\"],{\"frame\":{\"duration\":0,\"redraw\":false},\"fromcurrent\":true,\"mode\":\"immediate\",\"transition\":{\"duration\":0,\"easing\":\"linear\"}}],\"label\":\"1983\",\"method\":\"animate\"},{\"args\":[[\"1984\"],{\"frame\":{\"duration\":0,\"redraw\":false},\"fromcurrent\":true,\"mode\":\"immediate\",\"transition\":{\"duration\":0,\"easing\":\"linear\"}}],\"label\":\"1984\",\"method\":\"animate\"},{\"args\":[[\"1985\"],{\"frame\":{\"duration\":0,\"redraw\":false},\"fromcurrent\":true,\"mode\":\"immediate\",\"transition\":{\"duration\":0,\"easing\":\"linear\"}}],\"label\":\"1985\",\"method\":\"animate\"},{\"args\":[[\"1986\"],{\"frame\":{\"duration\":0,\"redraw\":false},\"fromcurrent\":true,\"mode\":\"immediate\",\"transition\":{\"duration\":0,\"easing\":\"linear\"}}],\"label\":\"1986\",\"method\":\"animate\"},{\"args\":[[\"1987\"],{\"frame\":{\"duration\":0,\"redraw\":false},\"fromcurrent\":true,\"mode\":\"immediate\",\"transition\":{\"duration\":0,\"easing\":\"linear\"}}],\"label\":\"1987\",\"method\":\"animate\"},{\"args\":[[\"1988\"],{\"frame\":{\"duration\":0,\"redraw\":false},\"fromcurrent\":true,\"mode\":\"immediate\",\"transition\":{\"duration\":0,\"easing\":\"linear\"}}],\"label\":\"1988\",\"method\":\"animate\"},{\"args\":[[\"1989\"],{\"frame\":{\"duration\":0,\"redraw\":false},\"fromcurrent\":true,\"mode\":\"immediate\",\"transition\":{\"duration\":0,\"easing\":\"linear\"}}],\"label\":\"1989\",\"method\":\"animate\"},{\"args\":[[\"1990\"],{\"frame\":{\"duration\":0,\"redraw\":false},\"fromcurrent\":true,\"mode\":\"immediate\",\"transition\":{\"duration\":0,\"easing\":\"linear\"}}],\"label\":\"1990\",\"method\":\"animate\"},{\"args\":[[\"1991\"],{\"frame\":{\"duration\":0,\"redraw\":false},\"fromcurrent\":true,\"mode\":\"immediate\",\"transition\":{\"duration\":0,\"easing\":\"linear\"}}],\"label\":\"1991\",\"method\":\"animate\"},{\"args\":[[\"1992\"],{\"frame\":{\"duration\":0,\"redraw\":false},\"fromcurrent\":true,\"mode\":\"immediate\",\"transition\":{\"duration\":0,\"easing\":\"linear\"}}],\"label\":\"1992\",\"method\":\"animate\"},{\"args\":[[\"1993\"],{\"frame\":{\"duration\":0,\"redraw\":false},\"fromcurrent\":true,\"mode\":\"immediate\",\"transition\":{\"duration\":0,\"easing\":\"linear\"}}],\"label\":\"1993\",\"method\":\"animate\"},{\"args\":[[\"1994\"],{\"frame\":{\"duration\":0,\"redraw\":false},\"fromcurrent\":true,\"mode\":\"immediate\",\"transition\":{\"duration\":0,\"easing\":\"linear\"}}],\"label\":\"1994\",\"method\":\"animate\"},{\"args\":[[\"1995\"],{\"frame\":{\"duration\":0,\"redraw\":false},\"fromcurrent\":true,\"mode\":\"immediate\",\"transition\":{\"duration\":0,\"easing\":\"linear\"}}],\"label\":\"1995\",\"method\":\"animate\"},{\"args\":[[\"1996\"],{\"frame\":{\"duration\":0,\"redraw\":false},\"fromcurrent\":true,\"mode\":\"immediate\",\"transition\":{\"duration\":0,\"easing\":\"linear\"}}],\"label\":\"1996\",\"method\":\"animate\"},{\"args\":[[\"1997\"],{\"frame\":{\"duration\":0,\"redraw\":false},\"fromcurrent\":true,\"mode\":\"immediate\",\"transition\":{\"duration\":0,\"easing\":\"linear\"}}],\"label\":\"1997\",\"method\":\"animate\"},{\"args\":[[\"1998\"],{\"frame\":{\"duration\":0,\"redraw\":false},\"fromcurrent\":true,\"mode\":\"immediate\",\"transition\":{\"duration\":0,\"easing\":\"linear\"}}],\"label\":\"1998\",\"method\":\"animate\"},{\"args\":[[\"1999\"],{\"frame\":{\"duration\":0,\"redraw\":false},\"fromcurrent\":true,\"mode\":\"immediate\",\"transition\":{\"duration\":0,\"easing\":\"linear\"}}],\"label\":\"1999\",\"method\":\"animate\"},{\"args\":[[\"2000\"],{\"frame\":{\"duration\":0,\"redraw\":false},\"fromcurrent\":true,\"mode\":\"immediate\",\"transition\":{\"duration\":0,\"easing\":\"linear\"}}],\"label\":\"2000\",\"method\":\"animate\"},{\"args\":[[\"2001\"],{\"frame\":{\"duration\":0,\"redraw\":false},\"fromcurrent\":true,\"mode\":\"immediate\",\"transition\":{\"duration\":0,\"easing\":\"linear\"}}],\"label\":\"2001\",\"method\":\"animate\"},{\"args\":[[\"2002\"],{\"frame\":{\"duration\":0,\"redraw\":false},\"fromcurrent\":true,\"mode\":\"immediate\",\"transition\":{\"duration\":0,\"easing\":\"linear\"}}],\"label\":\"2002\",\"method\":\"animate\"},{\"args\":[[\"2003\"],{\"frame\":{\"duration\":0,\"redraw\":false},\"fromcurrent\":true,\"mode\":\"immediate\",\"transition\":{\"duration\":0,\"easing\":\"linear\"}}],\"label\":\"2003\",\"method\":\"animate\"},{\"args\":[[\"2004\"],{\"frame\":{\"duration\":0,\"redraw\":false},\"fromcurrent\":true,\"mode\":\"immediate\",\"transition\":{\"duration\":0,\"easing\":\"linear\"}}],\"label\":\"2004\",\"method\":\"animate\"},{\"args\":[[\"2005\"],{\"frame\":{\"duration\":0,\"redraw\":false},\"fromcurrent\":true,\"mode\":\"immediate\",\"transition\":{\"duration\":0,\"easing\":\"linear\"}}],\"label\":\"2005\",\"method\":\"animate\"},{\"args\":[[\"2006\"],{\"frame\":{\"duration\":0,\"redraw\":false},\"fromcurrent\":true,\"mode\":\"immediate\",\"transition\":{\"duration\":0,\"easing\":\"linear\"}}],\"label\":\"2006\",\"method\":\"animate\"},{\"args\":[[\"2007\"],{\"frame\":{\"duration\":0,\"redraw\":false},\"fromcurrent\":true,\"mode\":\"immediate\",\"transition\":{\"duration\":0,\"easing\":\"linear\"}}],\"label\":\"2007\",\"method\":\"animate\"},{\"args\":[[\"2008\"],{\"frame\":{\"duration\":0,\"redraw\":false},\"fromcurrent\":true,\"mode\":\"immediate\",\"transition\":{\"duration\":0,\"easing\":\"linear\"}}],\"label\":\"2008\",\"method\":\"animate\"},{\"args\":[[\"2009\"],{\"frame\":{\"duration\":0,\"redraw\":false},\"fromcurrent\":true,\"mode\":\"immediate\",\"transition\":{\"duration\":0,\"easing\":\"linear\"}}],\"label\":\"2009\",\"method\":\"animate\"},{\"args\":[[\"2010\"],{\"frame\":{\"duration\":0,\"redraw\":false},\"fromcurrent\":true,\"mode\":\"immediate\",\"transition\":{\"duration\":0,\"easing\":\"linear\"}}],\"label\":\"2010\",\"method\":\"animate\"},{\"args\":[[\"2011\"],{\"frame\":{\"duration\":0,\"redraw\":false},\"fromcurrent\":true,\"mode\":\"immediate\",\"transition\":{\"duration\":0,\"easing\":\"linear\"}}],\"label\":\"2011\",\"method\":\"animate\"},{\"args\":[[\"2012\"],{\"frame\":{\"duration\":0,\"redraw\":false},\"fromcurrent\":true,\"mode\":\"immediate\",\"transition\":{\"duration\":0,\"easing\":\"linear\"}}],\"label\":\"2012\",\"method\":\"animate\"},{\"args\":[[\"2013\"],{\"frame\":{\"duration\":0,\"redraw\":false},\"fromcurrent\":true,\"mode\":\"immediate\",\"transition\":{\"duration\":0,\"easing\":\"linear\"}}],\"label\":\"2013\",\"method\":\"animate\"},{\"args\":[[\"2014\"],{\"frame\":{\"duration\":0,\"redraw\":false},\"fromcurrent\":true,\"mode\":\"immediate\",\"transition\":{\"duration\":0,\"easing\":\"linear\"}}],\"label\":\"2014\",\"method\":\"animate\"},{\"args\":[[\"2015\"],{\"frame\":{\"duration\":0,\"redraw\":false},\"fromcurrent\":true,\"mode\":\"immediate\",\"transition\":{\"duration\":0,\"easing\":\"linear\"}}],\"label\":\"2015\",\"method\":\"animate\"},{\"args\":[[\"2016\"],{\"frame\":{\"duration\":0,\"redraw\":false},\"fromcurrent\":true,\"mode\":\"immediate\",\"transition\":{\"duration\":0,\"easing\":\"linear\"}}],\"label\":\"2016\",\"method\":\"animate\"},{\"args\":[[\"2017\"],{\"frame\":{\"duration\":0,\"redraw\":false},\"fromcurrent\":true,\"mode\":\"immediate\",\"transition\":{\"duration\":0,\"easing\":\"linear\"}}],\"label\":\"2017\",\"method\":\"animate\"},{\"args\":[[\"2018\"],{\"frame\":{\"duration\":0,\"redraw\":false},\"fromcurrent\":true,\"mode\":\"immediate\",\"transition\":{\"duration\":0,\"easing\":\"linear\"}}],\"label\":\"2018\",\"method\":\"animate\"},{\"args\":[[\"2019\"],{\"frame\":{\"duration\":0,\"redraw\":false},\"fromcurrent\":true,\"mode\":\"immediate\",\"transition\":{\"duration\":0,\"easing\":\"linear\"}}],\"label\":\"2019\",\"method\":\"animate\"},{\"args\":[[\"2020\"],{\"frame\":{\"duration\":0,\"redraw\":false},\"fromcurrent\":true,\"mode\":\"immediate\",\"transition\":{\"duration\":0,\"easing\":\"linear\"}}],\"label\":\"2020\",\"method\":\"animate\"},{\"args\":[[\"2021\"],{\"frame\":{\"duration\":0,\"redraw\":false},\"fromcurrent\":true,\"mode\":\"immediate\",\"transition\":{\"duration\":0,\"easing\":\"linear\"}}],\"label\":\"2021\",\"method\":\"animate\"},{\"args\":[[\"2022\"],{\"frame\":{\"duration\":0,\"redraw\":false},\"fromcurrent\":true,\"mode\":\"immediate\",\"transition\":{\"duration\":0,\"easing\":\"linear\"}}],\"label\":\"2022\",\"method\":\"animate\"},{\"args\":[[\"2023\"],{\"frame\":{\"duration\":0,\"redraw\":false},\"fromcurrent\":true,\"mode\":\"immediate\",\"transition\":{\"duration\":0,\"easing\":\"linear\"}}],\"label\":\"2023\",\"method\":\"animate\"},{\"args\":[[\"2024\"],{\"frame\":{\"duration\":0,\"redraw\":false},\"fromcurrent\":true,\"mode\":\"immediate\",\"transition\":{\"duration\":0,\"easing\":\"linear\"}}],\"label\":\"2024\",\"method\":\"animate\"},{\"args\":[[\"2025\"],{\"frame\":{\"duration\":0,\"redraw\":false},\"fromcurrent\":true,\"mode\":\"immediate\",\"transition\":{\"duration\":0,\"easing\":\"linear\"}}],\"label\":\"2025\",\"method\":\"animate\"},{\"args\":[[\"2026\"],{\"frame\":{\"duration\":0,\"redraw\":false},\"fromcurrent\":true,\"mode\":\"immediate\",\"transition\":{\"duration\":0,\"easing\":\"linear\"}}],\"label\":\"2026\",\"method\":\"animate\"},{\"args\":[[\"2027\"],{\"frame\":{\"duration\":0,\"redraw\":false},\"fromcurrent\":true,\"mode\":\"immediate\",\"transition\":{\"duration\":0,\"easing\":\"linear\"}}],\"label\":\"2027\",\"method\":\"animate\"},{\"args\":[[\"2028\"],{\"frame\":{\"duration\":0,\"redraw\":false},\"fromcurrent\":true,\"mode\":\"immediate\",\"transition\":{\"duration\":0,\"easing\":\"linear\"}}],\"label\":\"2028\",\"method\":\"animate\"},{\"args\":[[\"2029\"],{\"frame\":{\"duration\":0,\"redraw\":false},\"fromcurrent\":true,\"mode\":\"immediate\",\"transition\":{\"duration\":0,\"easing\":\"linear\"}}],\"label\":\"2029\",\"method\":\"animate\"},{\"args\":[[\"2030\"],{\"frame\":{\"duration\":0,\"redraw\":false},\"fromcurrent\":true,\"mode\":\"immediate\",\"transition\":{\"duration\":0,\"easing\":\"linear\"}}],\"label\":\"2030\",\"method\":\"animate\"},{\"args\":[[\"2031\"],{\"frame\":{\"duration\":0,\"redraw\":false},\"fromcurrent\":true,\"mode\":\"immediate\",\"transition\":{\"duration\":0,\"easing\":\"linear\"}}],\"label\":\"2031\",\"method\":\"animate\"},{\"args\":[[\"2032\"],{\"frame\":{\"duration\":0,\"redraw\":false},\"fromcurrent\":true,\"mode\":\"immediate\",\"transition\":{\"duration\":0,\"easing\":\"linear\"}}],\"label\":\"2032\",\"method\":\"animate\"},{\"args\":[[\"2033\"],{\"frame\":{\"duration\":0,\"redraw\":false},\"fromcurrent\":true,\"mode\":\"immediate\",\"transition\":{\"duration\":0,\"easing\":\"linear\"}}],\"label\":\"2033\",\"method\":\"animate\"},{\"args\":[[\"2034\"],{\"frame\":{\"duration\":0,\"redraw\":false},\"fromcurrent\":true,\"mode\":\"immediate\",\"transition\":{\"duration\":0,\"easing\":\"linear\"}}],\"label\":\"2034\",\"method\":\"animate\"},{\"args\":[[\"2035\"],{\"frame\":{\"duration\":0,\"redraw\":false},\"fromcurrent\":true,\"mode\":\"immediate\",\"transition\":{\"duration\":0,\"easing\":\"linear\"}}],\"label\":\"2035\",\"method\":\"animate\"},{\"args\":[[\"2036\"],{\"frame\":{\"duration\":0,\"redraw\":false},\"fromcurrent\":true,\"mode\":\"immediate\",\"transition\":{\"duration\":0,\"easing\":\"linear\"}}],\"label\":\"2036\",\"method\":\"animate\"},{\"args\":[[\"2037\"],{\"frame\":{\"duration\":0,\"redraw\":false},\"fromcurrent\":true,\"mode\":\"immediate\",\"transition\":{\"duration\":0,\"easing\":\"linear\"}}],\"label\":\"2037\",\"method\":\"animate\"},{\"args\":[[\"2038\"],{\"frame\":{\"duration\":0,\"redraw\":false},\"fromcurrent\":true,\"mode\":\"immediate\",\"transition\":{\"duration\":0,\"easing\":\"linear\"}}],\"label\":\"2038\",\"method\":\"animate\"},{\"args\":[[\"2039\"],{\"frame\":{\"duration\":0,\"redraw\":false},\"fromcurrent\":true,\"mode\":\"immediate\",\"transition\":{\"duration\":0,\"easing\":\"linear\"}}],\"label\":\"2039\",\"method\":\"animate\"},{\"args\":[[\"2040\"],{\"frame\":{\"duration\":0,\"redraw\":false},\"fromcurrent\":true,\"mode\":\"immediate\",\"transition\":{\"duration\":0,\"easing\":\"linear\"}}],\"label\":\"2040\",\"method\":\"animate\"},{\"args\":[[\"2041\"],{\"frame\":{\"duration\":0,\"redraw\":false},\"fromcurrent\":true,\"mode\":\"immediate\",\"transition\":{\"duration\":0,\"easing\":\"linear\"}}],\"label\":\"2041\",\"method\":\"animate\"},{\"args\":[[\"2042\"],{\"frame\":{\"duration\":0,\"redraw\":false},\"fromcurrent\":true,\"mode\":\"immediate\",\"transition\":{\"duration\":0,\"easing\":\"linear\"}}],\"label\":\"2042\",\"method\":\"animate\"},{\"args\":[[\"2043\"],{\"frame\":{\"duration\":0,\"redraw\":false},\"fromcurrent\":true,\"mode\":\"immediate\",\"transition\":{\"duration\":0,\"easing\":\"linear\"}}],\"label\":\"2043\",\"method\":\"animate\"},{\"args\":[[\"2044\"],{\"frame\":{\"duration\":0,\"redraw\":false},\"fromcurrent\":true,\"mode\":\"immediate\",\"transition\":{\"duration\":0,\"easing\":\"linear\"}}],\"label\":\"2044\",\"method\":\"animate\"},{\"args\":[[\"2045\"],{\"frame\":{\"duration\":0,\"redraw\":false},\"fromcurrent\":true,\"mode\":\"immediate\",\"transition\":{\"duration\":0,\"easing\":\"linear\"}}],\"label\":\"2045\",\"method\":\"animate\"},{\"args\":[[\"2046\"],{\"frame\":{\"duration\":0,\"redraw\":false},\"fromcurrent\":true,\"mode\":\"immediate\",\"transition\":{\"duration\":0,\"easing\":\"linear\"}}],\"label\":\"2046\",\"method\":\"animate\"},{\"args\":[[\"2047\"],{\"frame\":{\"duration\":0,\"redraw\":false},\"fromcurrent\":true,\"mode\":\"immediate\",\"transition\":{\"duration\":0,\"easing\":\"linear\"}}],\"label\":\"2047\",\"method\":\"animate\"},{\"args\":[[\"2048\"],{\"frame\":{\"duration\":0,\"redraw\":false},\"fromcurrent\":true,\"mode\":\"immediate\",\"transition\":{\"duration\":0,\"easing\":\"linear\"}}],\"label\":\"2048\",\"method\":\"animate\"},{\"args\":[[\"2049\"],{\"frame\":{\"duration\":0,\"redraw\":false},\"fromcurrent\":true,\"mode\":\"immediate\",\"transition\":{\"duration\":0,\"easing\":\"linear\"}}],\"label\":\"2049\",\"method\":\"animate\"},{\"args\":[[\"2050\"],{\"frame\":{\"duration\":0,\"redraw\":false},\"fromcurrent\":true,\"mode\":\"immediate\",\"transition\":{\"duration\":0,\"easing\":\"linear\"}}],\"label\":\"2050\",\"method\":\"animate\"},{\"args\":[[\"2051\"],{\"frame\":{\"duration\":0,\"redraw\":false},\"fromcurrent\":true,\"mode\":\"immediate\",\"transition\":{\"duration\":0,\"easing\":\"linear\"}}],\"label\":\"2051\",\"method\":\"animate\"},{\"args\":[[\"2052\"],{\"frame\":{\"duration\":0,\"redraw\":false},\"fromcurrent\":true,\"mode\":\"immediate\",\"transition\":{\"duration\":0,\"easing\":\"linear\"}}],\"label\":\"2052\",\"method\":\"animate\"},{\"args\":[[\"2053\"],{\"frame\":{\"duration\":0,\"redraw\":false},\"fromcurrent\":true,\"mode\":\"immediate\",\"transition\":{\"duration\":0,\"easing\":\"linear\"}}],\"label\":\"2053\",\"method\":\"animate\"},{\"args\":[[\"2054\"],{\"frame\":{\"duration\":0,\"redraw\":false},\"fromcurrent\":true,\"mode\":\"immediate\",\"transition\":{\"duration\":0,\"easing\":\"linear\"}}],\"label\":\"2054\",\"method\":\"animate\"},{\"args\":[[\"2055\"],{\"frame\":{\"duration\":0,\"redraw\":false},\"fromcurrent\":true,\"mode\":\"immediate\",\"transition\":{\"duration\":0,\"easing\":\"linear\"}}],\"label\":\"2055\",\"method\":\"animate\"},{\"args\":[[\"2056\"],{\"frame\":{\"duration\":0,\"redraw\":false},\"fromcurrent\":true,\"mode\":\"immediate\",\"transition\":{\"duration\":0,\"easing\":\"linear\"}}],\"label\":\"2056\",\"method\":\"animate\"},{\"args\":[[\"2057\"],{\"frame\":{\"duration\":0,\"redraw\":false},\"fromcurrent\":true,\"mode\":\"immediate\",\"transition\":{\"duration\":0,\"easing\":\"linear\"}}],\"label\":\"2057\",\"method\":\"animate\"},{\"args\":[[\"2058\"],{\"frame\":{\"duration\":0,\"redraw\":false},\"fromcurrent\":true,\"mode\":\"immediate\",\"transition\":{\"duration\":0,\"easing\":\"linear\"}}],\"label\":\"2058\",\"method\":\"animate\"},{\"args\":[[\"2059\"],{\"frame\":{\"duration\":0,\"redraw\":false},\"fromcurrent\":true,\"mode\":\"immediate\",\"transition\":{\"duration\":0,\"easing\":\"linear\"}}],\"label\":\"2059\",\"method\":\"animate\"},{\"args\":[[\"2060\"],{\"frame\":{\"duration\":0,\"redraw\":false},\"fromcurrent\":true,\"mode\":\"immediate\",\"transition\":{\"duration\":0,\"easing\":\"linear\"}}],\"label\":\"2060\",\"method\":\"animate\"},{\"args\":[[\"2061\"],{\"frame\":{\"duration\":0,\"redraw\":false},\"fromcurrent\":true,\"mode\":\"immediate\",\"transition\":{\"duration\":0,\"easing\":\"linear\"}}],\"label\":\"2061\",\"method\":\"animate\"},{\"args\":[[\"2062\"],{\"frame\":{\"duration\":0,\"redraw\":false},\"fromcurrent\":true,\"mode\":\"immediate\",\"transition\":{\"duration\":0,\"easing\":\"linear\"}}],\"label\":\"2062\",\"method\":\"animate\"},{\"args\":[[\"2063\"],{\"frame\":{\"duration\":0,\"redraw\":false},\"fromcurrent\":true,\"mode\":\"immediate\",\"transition\":{\"duration\":0,\"easing\":\"linear\"}}],\"label\":\"2063\",\"method\":\"animate\"},{\"args\":[[\"2064\"],{\"frame\":{\"duration\":0,\"redraw\":false},\"fromcurrent\":true,\"mode\":\"immediate\",\"transition\":{\"duration\":0,\"easing\":\"linear\"}}],\"label\":\"2064\",\"method\":\"animate\"},{\"args\":[[\"2065\"],{\"frame\":{\"duration\":0,\"redraw\":false},\"fromcurrent\":true,\"mode\":\"immediate\",\"transition\":{\"duration\":0,\"easing\":\"linear\"}}],\"label\":\"2065\",\"method\":\"animate\"},{\"args\":[[\"2066\"],{\"frame\":{\"duration\":0,\"redraw\":false},\"fromcurrent\":true,\"mode\":\"immediate\",\"transition\":{\"duration\":0,\"easing\":\"linear\"}}],\"label\":\"2066\",\"method\":\"animate\"},{\"args\":[[\"2067\"],{\"frame\":{\"duration\":0,\"redraw\":false},\"fromcurrent\":true,\"mode\":\"immediate\",\"transition\":{\"duration\":0,\"easing\":\"linear\"}}],\"label\":\"2067\",\"method\":\"animate\"},{\"args\":[[\"2068\"],{\"frame\":{\"duration\":0,\"redraw\":false},\"fromcurrent\":true,\"mode\":\"immediate\",\"transition\":{\"duration\":0,\"easing\":\"linear\"}}],\"label\":\"2068\",\"method\":\"animate\"},{\"args\":[[\"2069\"],{\"frame\":{\"duration\":0,\"redraw\":false},\"fromcurrent\":true,\"mode\":\"immediate\",\"transition\":{\"duration\":0,\"easing\":\"linear\"}}],\"label\":\"2069\",\"method\":\"animate\"},{\"args\":[[\"2070\"],{\"frame\":{\"duration\":0,\"redraw\":false},\"fromcurrent\":true,\"mode\":\"immediate\",\"transition\":{\"duration\":0,\"easing\":\"linear\"}}],\"label\":\"2070\",\"method\":\"animate\"},{\"args\":[[\"2071\"],{\"frame\":{\"duration\":0,\"redraw\":false},\"fromcurrent\":true,\"mode\":\"immediate\",\"transition\":{\"duration\":0,\"easing\":\"linear\"}}],\"label\":\"2071\",\"method\":\"animate\"},{\"args\":[[\"2072\"],{\"frame\":{\"duration\":0,\"redraw\":false},\"fromcurrent\":true,\"mode\":\"immediate\",\"transition\":{\"duration\":0,\"easing\":\"linear\"}}],\"label\":\"2072\",\"method\":\"animate\"},{\"args\":[[\"2073\"],{\"frame\":{\"duration\":0,\"redraw\":false},\"fromcurrent\":true,\"mode\":\"immediate\",\"transition\":{\"duration\":0,\"easing\":\"linear\"}}],\"label\":\"2073\",\"method\":\"animate\"},{\"args\":[[\"2074\"],{\"frame\":{\"duration\":0,\"redraw\":false},\"fromcurrent\":true,\"mode\":\"immediate\",\"transition\":{\"duration\":0,\"easing\":\"linear\"}}],\"label\":\"2074\",\"method\":\"animate\"},{\"args\":[[\"2075\"],{\"frame\":{\"duration\":0,\"redraw\":false},\"fromcurrent\":true,\"mode\":\"immediate\",\"transition\":{\"duration\":0,\"easing\":\"linear\"}}],\"label\":\"2075\",\"method\":\"animate\"},{\"args\":[[\"2076\"],{\"frame\":{\"duration\":0,\"redraw\":false},\"fromcurrent\":true,\"mode\":\"immediate\",\"transition\":{\"duration\":0,\"easing\":\"linear\"}}],\"label\":\"2076\",\"method\":\"animate\"},{\"args\":[[\"2077\"],{\"frame\":{\"duration\":0,\"redraw\":false},\"fromcurrent\":true,\"mode\":\"immediate\",\"transition\":{\"duration\":0,\"easing\":\"linear\"}}],\"label\":\"2077\",\"method\":\"animate\"},{\"args\":[[\"2078\"],{\"frame\":{\"duration\":0,\"redraw\":false},\"fromcurrent\":true,\"mode\":\"immediate\",\"transition\":{\"duration\":0,\"easing\":\"linear\"}}],\"label\":\"2078\",\"method\":\"animate\"},{\"args\":[[\"2079\"],{\"frame\":{\"duration\":0,\"redraw\":false},\"fromcurrent\":true,\"mode\":\"immediate\",\"transition\":{\"duration\":0,\"easing\":\"linear\"}}],\"label\":\"2079\",\"method\":\"animate\"},{\"args\":[[\"2080\"],{\"frame\":{\"duration\":0,\"redraw\":false},\"fromcurrent\":true,\"mode\":\"immediate\",\"transition\":{\"duration\":0,\"easing\":\"linear\"}}],\"label\":\"2080\",\"method\":\"animate\"},{\"args\":[[\"2081\"],{\"frame\":{\"duration\":0,\"redraw\":false},\"fromcurrent\":true,\"mode\":\"immediate\",\"transition\":{\"duration\":0,\"easing\":\"linear\"}}],\"label\":\"2081\",\"method\":\"animate\"},{\"args\":[[\"2082\"],{\"frame\":{\"duration\":0,\"redraw\":false},\"fromcurrent\":true,\"mode\":\"immediate\",\"transition\":{\"duration\":0,\"easing\":\"linear\"}}],\"label\":\"2082\",\"method\":\"animate\"},{\"args\":[[\"2083\"],{\"frame\":{\"duration\":0,\"redraw\":false},\"fromcurrent\":true,\"mode\":\"immediate\",\"transition\":{\"duration\":0,\"easing\":\"linear\"}}],\"label\":\"2083\",\"method\":\"animate\"},{\"args\":[[\"2084\"],{\"frame\":{\"duration\":0,\"redraw\":false},\"fromcurrent\":true,\"mode\":\"immediate\",\"transition\":{\"duration\":0,\"easing\":\"linear\"}}],\"label\":\"2084\",\"method\":\"animate\"},{\"args\":[[\"2085\"],{\"frame\":{\"duration\":0,\"redraw\":false},\"fromcurrent\":true,\"mode\":\"immediate\",\"transition\":{\"duration\":0,\"easing\":\"linear\"}}],\"label\":\"2085\",\"method\":\"animate\"},{\"args\":[[\"2086\"],{\"frame\":{\"duration\":0,\"redraw\":false},\"fromcurrent\":true,\"mode\":\"immediate\",\"transition\":{\"duration\":0,\"easing\":\"linear\"}}],\"label\":\"2086\",\"method\":\"animate\"},{\"args\":[[\"2087\"],{\"frame\":{\"duration\":0,\"redraw\":false},\"fromcurrent\":true,\"mode\":\"immediate\",\"transition\":{\"duration\":0,\"easing\":\"linear\"}}],\"label\":\"2087\",\"method\":\"animate\"},{\"args\":[[\"2088\"],{\"frame\":{\"duration\":0,\"redraw\":false},\"fromcurrent\":true,\"mode\":\"immediate\",\"transition\":{\"duration\":0,\"easing\":\"linear\"}}],\"label\":\"2088\",\"method\":\"animate\"},{\"args\":[[\"2089\"],{\"frame\":{\"duration\":0,\"redraw\":false},\"fromcurrent\":true,\"mode\":\"immediate\",\"transition\":{\"duration\":0,\"easing\":\"linear\"}}],\"label\":\"2089\",\"method\":\"animate\"},{\"args\":[[\"2090\"],{\"frame\":{\"duration\":0,\"redraw\":false},\"fromcurrent\":true,\"mode\":\"immediate\",\"transition\":{\"duration\":0,\"easing\":\"linear\"}}],\"label\":\"2090\",\"method\":\"animate\"},{\"args\":[[\"2091\"],{\"frame\":{\"duration\":0,\"redraw\":false},\"fromcurrent\":true,\"mode\":\"immediate\",\"transition\":{\"duration\":0,\"easing\":\"linear\"}}],\"label\":\"2091\",\"method\":\"animate\"},{\"args\":[[\"2092\"],{\"frame\":{\"duration\":0,\"redraw\":false},\"fromcurrent\":true,\"mode\":\"immediate\",\"transition\":{\"duration\":0,\"easing\":\"linear\"}}],\"label\":\"2092\",\"method\":\"animate\"},{\"args\":[[\"2093\"],{\"frame\":{\"duration\":0,\"redraw\":false},\"fromcurrent\":true,\"mode\":\"immediate\",\"transition\":{\"duration\":0,\"easing\":\"linear\"}}],\"label\":\"2093\",\"method\":\"animate\"},{\"args\":[[\"2094\"],{\"frame\":{\"duration\":0,\"redraw\":false},\"fromcurrent\":true,\"mode\":\"immediate\",\"transition\":{\"duration\":0,\"easing\":\"linear\"}}],\"label\":\"2094\",\"method\":\"animate\"},{\"args\":[[\"2095\"],{\"frame\":{\"duration\":0,\"redraw\":false},\"fromcurrent\":true,\"mode\":\"immediate\",\"transition\":{\"duration\":0,\"easing\":\"linear\"}}],\"label\":\"2095\",\"method\":\"animate\"},{\"args\":[[\"2096\"],{\"frame\":{\"duration\":0,\"redraw\":false},\"fromcurrent\":true,\"mode\":\"immediate\",\"transition\":{\"duration\":0,\"easing\":\"linear\"}}],\"label\":\"2096\",\"method\":\"animate\"},{\"args\":[[\"2097\"],{\"frame\":{\"duration\":0,\"redraw\":false},\"fromcurrent\":true,\"mode\":\"immediate\",\"transition\":{\"duration\":0,\"easing\":\"linear\"}}],\"label\":\"2097\",\"method\":\"animate\"},{\"args\":[[\"2098\"],{\"frame\":{\"duration\":0,\"redraw\":false},\"fromcurrent\":true,\"mode\":\"immediate\",\"transition\":{\"duration\":0,\"easing\":\"linear\"}}],\"label\":\"2098\",\"method\":\"animate\"},{\"args\":[[\"2099\"],{\"frame\":{\"duration\":0,\"redraw\":false},\"fromcurrent\":true,\"mode\":\"immediate\",\"transition\":{\"duration\":0,\"easing\":\"linear\"}}],\"label\":\"2099\",\"method\":\"animate\"},{\"args\":[[\"2100\"],{\"frame\":{\"duration\":0,\"redraw\":false},\"fromcurrent\":true,\"mode\":\"immediate\",\"transition\":{\"duration\":0,\"easing\":\"linear\"}}],\"label\":\"2100\",\"method\":\"animate\"}],\"x\":0.1,\"xanchor\":\"left\",\"y\":0,\"yanchor\":\"top\"}],\"template\":{\"data\":{\"bar\":[{\"error_x\":{\"color\":\"#2a3f5f\"},\"error_y\":{\"color\":\"#2a3f5f\"},\"marker\":{\"line\":{\"color\":\"#E5ECF6\",\"width\":0.5},\"pattern\":{\"fillmode\":\"overlay\",\"size\":10,\"solidity\":0.2}},\"type\":\"bar\"}],\"barpolar\":[{\"marker\":{\"line\":{\"color\":\"#E5ECF6\",\"width\":0.5},\"pattern\":{\"fillmode\":\"overlay\",\"size\":10,\"solidity\":0.2}},\"type\":\"barpolar\"}],\"carpet\":[{\"aaxis\":{\"endlinecolor\":\"#2a3f5f\",\"gridcolor\":\"white\",\"linecolor\":\"white\",\"minorgridcolor\":\"white\",\"startlinecolor\":\"#2a3f5f\"},\"baxis\":{\"endlinecolor\":\"#2a3f5f\",\"gridcolor\":\"white\",\"linecolor\":\"white\",\"minorgridcolor\":\"white\",\"startlinecolor\":\"#2a3f5f\"},\"type\":\"carpet\"}],\"choropleth\":[{\"colorbar\":{\"outlinewidth\":0,\"ticks\":\"\"},\"type\":\"choropleth\"}],\"contour\":[{\"colorbar\":{\"outlinewidth\":0,\"ticks\":\"\"},\"colorscale\":[[0.0,\"#0d0887\"],[0.1111111111111111,\"#46039f\"],[0.2222222222222222,\"#7201a8\"],[0.3333333333333333,\"#9c179e\"],[0.4444444444444444,\"#bd3786\"],[0.5555555555555556,\"#d8576b\"],[0.6666666666666666,\"#ed7953\"],[0.7777777777777778,\"#fb9f3a\"],[0.8888888888888888,\"#fdca26\"],[1.0,\"#f0f921\"]],\"type\":\"contour\"}],\"contourcarpet\":[{\"colorbar\":{\"outlinewidth\":0,\"ticks\":\"\"},\"type\":\"contourcarpet\"}],\"heatmap\":[{\"colorbar\":{\"outlinewidth\":0,\"ticks\":\"\"},\"colorscale\":[[0.0,\"#0d0887\"],[0.1111111111111111,\"#46039f\"],[0.2222222222222222,\"#7201a8\"],[0.3333333333333333,\"#9c179e\"],[0.4444444444444444,\"#bd3786\"],[0.5555555555555556,\"#d8576b\"],[0.6666666666666666,\"#ed7953\"],[0.7777777777777778,\"#fb9f3a\"],[0.8888888888888888,\"#fdca26\"],[1.0,\"#f0f921\"]],\"type\":\"heatmap\"}],\"heatmapgl\":[{\"colorbar\":{\"outlinewidth\":0,\"ticks\":\"\"},\"colorscale\":[[0.0,\"#0d0887\"],[0.1111111111111111,\"#46039f\"],[0.2222222222222222,\"#7201a8\"],[0.3333333333333333,\"#9c179e\"],[0.4444444444444444,\"#bd3786\"],[0.5555555555555556,\"#d8576b\"],[0.6666666666666666,\"#ed7953\"],[0.7777777777777778,\"#fb9f3a\"],[0.8888888888888888,\"#fdca26\"],[1.0,\"#f0f921\"]],\"type\":\"heatmapgl\"}],\"histogram\":[{\"marker\":{\"pattern\":{\"fillmode\":\"overlay\",\"size\":10,\"solidity\":0.2}},\"type\":\"histogram\"}],\"histogram2d\":[{\"colorbar\":{\"outlinewidth\":0,\"ticks\":\"\"},\"colorscale\":[[0.0,\"#0d0887\"],[0.1111111111111111,\"#46039f\"],[0.2222222222222222,\"#7201a8\"],[0.3333333333333333,\"#9c179e\"],[0.4444444444444444,\"#bd3786\"],[0.5555555555555556,\"#d8576b\"],[0.6666666666666666,\"#ed7953\"],[0.7777777777777778,\"#fb9f3a\"],[0.8888888888888888,\"#fdca26\"],[1.0,\"#f0f921\"]],\"type\":\"histogram2d\"}],\"histogram2dcontour\":[{\"colorbar\":{\"outlinewidth\":0,\"ticks\":\"\"},\"colorscale\":[[0.0,\"#0d0887\"],[0.1111111111111111,\"#46039f\"],[0.2222222222222222,\"#7201a8\"],[0.3333333333333333,\"#9c179e\"],[0.4444444444444444,\"#bd3786\"],[0.5555555555555556,\"#d8576b\"],[0.6666666666666666,\"#ed7953\"],[0.7777777777777778,\"#fb9f3a\"],[0.8888888888888888,\"#fdca26\"],[1.0,\"#f0f921\"]],\"type\":\"histogram2dcontour\"}],\"mesh3d\":[{\"colorbar\":{\"outlinewidth\":0,\"ticks\":\"\"},\"type\":\"mesh3d\"}],\"parcoords\":[{\"line\":{\"colorbar\":{\"outlinewidth\":0,\"ticks\":\"\"}},\"type\":\"parcoords\"}],\"pie\":[{\"automargin\":true,\"type\":\"pie\"}],\"scatter\":[{\"marker\":{\"colorbar\":{\"outlinewidth\":0,\"ticks\":\"\"}},\"type\":\"scatter\"}],\"scatter3d\":[{\"line\":{\"colorbar\":{\"outlinewidth\":0,\"ticks\":\"\"}},\"marker\":{\"colorbar\":{\"outlinewidth\":0,\"ticks\":\"\"}},\"type\":\"scatter3d\"}],\"scattercarpet\":[{\"marker\":{\"colorbar\":{\"outlinewidth\":0,\"ticks\":\"\"}},\"type\":\"scattercarpet\"}],\"scattergeo\":[{\"marker\":{\"colorbar\":{\"outlinewidth\":0,\"ticks\":\"\"}},\"type\":\"scattergeo\"}],\"scattergl\":[{\"marker\":{\"colorbar\":{\"outlinewidth\":0,\"ticks\":\"\"}},\"type\":\"scattergl\"}],\"scattermapbox\":[{\"marker\":{\"colorbar\":{\"outlinewidth\":0,\"ticks\":\"\"}},\"type\":\"scattermapbox\"}],\"scatterpolar\":[{\"marker\":{\"colorbar\":{\"outlinewidth\":0,\"ticks\":\"\"}},\"type\":\"scatterpolar\"}],\"scatterpolargl\":[{\"marker\":{\"colorbar\":{\"outlinewidth\":0,\"ticks\":\"\"}},\"type\":\"scatterpolargl\"}],\"scatterternary\":[{\"marker\":{\"colorbar\":{\"outlinewidth\":0,\"ticks\":\"\"}},\"type\":\"scatterternary\"}],\"surface\":[{\"colorbar\":{\"outlinewidth\":0,\"ticks\":\"\"},\"colorscale\":[[0.0,\"#0d0887\"],[0.1111111111111111,\"#46039f\"],[0.2222222222222222,\"#7201a8\"],[0.3333333333333333,\"#9c179e\"],[0.4444444444444444,\"#bd3786\"],[0.5555555555555556,\"#d8576b\"],[0.6666666666666666,\"#ed7953\"],[0.7777777777777778,\"#fb9f3a\"],[0.8888888888888888,\"#fdca26\"],[1.0,\"#f0f921\"]],\"type\":\"surface\"}],\"table\":[{\"cells\":{\"fill\":{\"color\":\"#EBF0F8\"},\"line\":{\"color\":\"white\"}},\"header\":{\"fill\":{\"color\":\"#C8D4E3\"},\"line\":{\"color\":\"white\"}},\"type\":\"table\"}]},\"layout\":{\"annotationdefaults\":{\"arrowcolor\":\"#2a3f5f\",\"arrowhead\":0,\"arrowwidth\":1},\"autotypenumbers\":\"strict\",\"coloraxis\":{\"colorbar\":{\"outlinewidth\":0,\"ticks\":\"\"}},\"colorscale\":{\"diverging\":[[0,\"#8e0152\"],[0.1,\"#c51b7d\"],[0.2,\"#de77ae\"],[0.3,\"#f1b6da\"],[0.4,\"#fde0ef\"],[0.5,\"#f7f7f7\"],[0.6,\"#e6f5d0\"],[0.7,\"#b8e186\"],[0.8,\"#7fbc41\"],[0.9,\"#4d9221\"],[1,\"#276419\"]],\"sequential\":[[0.0,\"#0d0887\"],[0.1111111111111111,\"#46039f\"],[0.2222222222222222,\"#7201a8\"],[0.3333333333333333,\"#9c179e\"],[0.4444444444444444,\"#bd3786\"],[0.5555555555555556,\"#d8576b\"],[0.6666666666666666,\"#ed7953\"],[0.7777777777777778,\"#fb9f3a\"],[0.8888888888888888,\"#fdca26\"],[1.0,\"#f0f921\"]],\"sequentialminus\":[[0.0,\"#0d0887\"],[0.1111111111111111,\"#46039f\"],[0.2222222222222222,\"#7201a8\"],[0.3333333333333333,\"#9c179e\"],[0.4444444444444444,\"#bd3786\"],[0.5555555555555556,\"#d8576b\"],[0.6666666666666666,\"#ed7953\"],[0.7777777777777778,\"#fb9f3a\"],[0.8888888888888888,\"#fdca26\"],[1.0,\"#f0f921\"]]},\"colorway\":[\"#636efa\",\"#EF553B\",\"#00cc96\",\"#ab63fa\",\"#FFA15A\",\"#19d3f3\",\"#FF6692\",\"#B6E880\",\"#FF97FF\",\"#FECB52\"],\"font\":{\"color\":\"#2a3f5f\"},\"geo\":{\"bgcolor\":\"white\",\"lakecolor\":\"white\",\"landcolor\":\"#E5ECF6\",\"showlakes\":true,\"showland\":true,\"subunitcolor\":\"white\"},\"hoverlabel\":{\"align\":\"left\"},\"hovermode\":\"closest\",\"mapbox\":{\"style\":\"light\"},\"paper_bgcolor\":\"white\",\"plot_bgcolor\":\"#E5ECF6\",\"polar\":{\"angularaxis\":{\"gridcolor\":\"white\",\"linecolor\":\"white\",\"ticks\":\"\"},\"bgcolor\":\"#E5ECF6\",\"radialaxis\":{\"gridcolor\":\"white\",\"linecolor\":\"white\",\"ticks\":\"\"}},\"scene\":{\"xaxis\":{\"backgroundcolor\":\"#E5ECF6\",\"gridcolor\":\"white\",\"gridwidth\":2,\"linecolor\":\"white\",\"showbackground\":true,\"ticks\":\"\",\"zerolinecolor\":\"white\"},\"yaxis\":{\"backgroundcolor\":\"#E5ECF6\",\"gridcolor\":\"white\",\"gridwidth\":2,\"linecolor\":\"white\",\"showbackground\":true,\"ticks\":\"\",\"zerolinecolor\":\"white\"},\"zaxis\":{\"backgroundcolor\":\"#E5ECF6\",\"gridcolor\":\"white\",\"gridwidth\":2,\"linecolor\":\"white\",\"showbackground\":true,\"ticks\":\"\",\"zerolinecolor\":\"white\"}},\"shapedefaults\":{\"line\":{\"color\":\"#2a3f5f\"}},\"ternary\":{\"aaxis\":{\"gridcolor\":\"white\",\"linecolor\":\"white\",\"ticks\":\"\"},\"baxis\":{\"gridcolor\":\"white\",\"linecolor\":\"white\",\"ticks\":\"\"},\"bgcolor\":\"#E5ECF6\",\"caxis\":{\"gridcolor\":\"white\",\"linecolor\":\"white\",\"ticks\":\"\"}},\"title\":{\"x\":0.05},\"xaxis\":{\"automargin\":true,\"gridcolor\":\"white\",\"linecolor\":\"white\",\"ticks\":\"\",\"title\":{\"standoff\":15},\"zerolinecolor\":\"white\",\"zerolinewidth\":2},\"yaxis\":{\"automargin\":true,\"gridcolor\":\"white\",\"linecolor\":\"white\",\"ticks\":\"\",\"title\":{\"standoff\":15},\"zerolinecolor\":\"white\",\"zerolinewidth\":2}}},\"title\":{\"text\":\"Africa Vs North America\"},\"updatemenus\":[{\"buttons\":[{\"args\":[null,{\"frame\":{\"duration\":500,\"redraw\":false},\"fromcurrent\":true,\"mode\":\"immediate\",\"transition\":{\"duration\":500,\"easing\":\"linear\"}}],\"label\":\"&#9654;\",\"method\":\"animate\"},{\"args\":[[null],{\"frame\":{\"duration\":0,\"redraw\":false},\"fromcurrent\":true,\"mode\":\"immediate\",\"transition\":{\"duration\":0,\"easing\":\"linear\"}}],\"label\":\"&#9724;\",\"method\":\"animate\"}],\"direction\":\"left\",\"pad\":{\"r\":10,\"t\":70},\"showactive\":false,\"type\":\"buttons\",\"x\":0.1,\"xanchor\":\"right\",\"y\":0,\"yanchor\":\"top\"}],\"xaxis\":{\"anchor\":\"y\",\"domain\":[0.0,1.0],\"range\":[6.903089986991943,9.698970004336017],\"title\":{\"text\":\" Population\"},\"type\":\"log\"},\"yaxis\":{\"anchor\":\"x\",\"domain\":[0.0,1.0],\"range\":[8000000,5000000000],\"title\":{\"text\":\" Population\"}}},                        {\"responsive\": true}                    ).then(function(){\n",
       "                            Plotly.addFrames('58c93d6e-3e66-4efe-809f-c6375977ddc5', [{\"data\":[{\"hovertemplate\":\"<b>%{hovertext}</b><br><br>continent=Africa<br>year=1950<br> Population=%{marker.size}<extra></extra>\",\"hovertext\":[\"Africa\"],\"ids\":[\"Africa\"],\"legendgroup\":\"Africa\",\"marker\":{\"color\":\"#636efa\",\"size\":[227549258],\"sizemode\":\"area\",\"sizeref\":9811051.535,\"symbol\":\"circle\"},\"mode\":\"markers\",\"name\":\"Africa\",\"orientation\":\"v\",\"showlegend\":true,\"type\":\"scatter\",\"x\":[227549258],\"xaxis\":\"x\",\"y\":[227549258],\"yaxis\":\"y\"},{\"hovertemplate\":\"<b>%{hovertext}</b><br><br>continent=North America<br>year=1950<br> Population=%{marker.size}<extra></extra>\",\"hovertext\":[\"North America\"],\"ids\":[\"North America\"],\"legendgroup\":\"North America\",\"marker\":{\"color\":\"#EF553B\",\"size\":[162089353],\"sizemode\":\"area\",\"sizeref\":9811051.535,\"symbol\":\"circle\"},\"mode\":\"markers\",\"name\":\"North America\",\"orientation\":\"v\",\"showlegend\":true,\"type\":\"scatter\",\"x\":[162089353],\"xaxis\":\"x\",\"y\":[162089353],\"yaxis\":\"y\"}],\"name\":\"1950\"},{\"data\":[{\"hovertemplate\":\"<b>%{hovertext}</b><br><br>continent=Africa<br>year=1951<br> Population=%{marker.size}<extra></extra>\",\"hovertext\":[\"Africa\"],\"ids\":[\"Africa\"],\"legendgroup\":\"Africa\",\"marker\":{\"color\":\"#636efa\",\"size\":[232483995],\"sizemode\":\"area\",\"sizeref\":9811051.535,\"symbol\":\"circle\"},\"mode\":\"markers\",\"name\":\"Africa\",\"orientation\":\"v\",\"showlegend\":true,\"type\":\"scatter\",\"x\":[232483995],\"xaxis\":\"x\",\"y\":[232483995],\"yaxis\":\"y\"},{\"hovertemplate\":\"<b>%{hovertext}</b><br><br>continent=North America<br>year=1951<br> Population=%{marker.size}<extra></extra>\",\"hovertext\":[\"North America\"],\"ids\":[\"North America\"],\"legendgroup\":\"North America\",\"marker\":{\"color\":\"#EF553B\",\"size\":[164749833],\"sizemode\":\"area\",\"sizeref\":9811051.535,\"symbol\":\"circle\"},\"mode\":\"markers\",\"name\":\"North America\",\"orientation\":\"v\",\"showlegend\":true,\"type\":\"scatter\",\"x\":[164749833],\"xaxis\":\"x\",\"y\":[164749833],\"yaxis\":\"y\"}],\"name\":\"1951\"},{\"data\":[{\"hovertemplate\":\"<b>%{hovertext}</b><br><br>continent=Africa<br>year=1952<br> Population=%{marker.size}<extra></extra>\",\"hovertext\":[\"Africa\"],\"ids\":[\"Africa\"],\"legendgroup\":\"Africa\",\"marker\":{\"color\":\"#636efa\",\"size\":[237586060],\"sizemode\":\"area\",\"sizeref\":9811051.535,\"symbol\":\"circle\"},\"mode\":\"markers\",\"name\":\"Africa\",\"orientation\":\"v\",\"showlegend\":true,\"type\":\"scatter\",\"x\":[237586060],\"xaxis\":\"x\",\"y\":[237586060],\"yaxis\":\"y\"},{\"hovertemplate\":\"<b>%{hovertext}</b><br><br>continent=North America<br>year=1952<br> Population=%{marker.size}<extra></extra>\",\"hovertext\":[\"North America\"],\"ids\":[\"North America\"],\"legendgroup\":\"North America\",\"marker\":{\"color\":\"#EF553B\",\"size\":[167494177],\"sizemode\":\"area\",\"sizeref\":9811051.535,\"symbol\":\"circle\"},\"mode\":\"markers\",\"name\":\"North America\",\"orientation\":\"v\",\"showlegend\":true,\"type\":\"scatter\",\"x\":[167494177],\"xaxis\":\"x\",\"y\":[167494177],\"yaxis\":\"y\"}],\"name\":\"1952\"},{\"data\":[{\"hovertemplate\":\"<b>%{hovertext}</b><br><br>continent=Africa<br>year=1953<br> Population=%{marker.size}<extra></extra>\",\"hovertext\":[\"Africa\"],\"ids\":[\"Africa\"],\"legendgroup\":\"Africa\",\"marker\":{\"color\":\"#636efa\",\"size\":[242837448],\"sizemode\":\"area\",\"sizeref\":9811051.535,\"symbol\":\"circle\"},\"mode\":\"markers\",\"name\":\"Africa\",\"orientation\":\"v\",\"showlegend\":true,\"type\":\"scatter\",\"x\":[242837448],\"xaxis\":\"x\",\"y\":[242837448],\"yaxis\":\"y\"},{\"hovertemplate\":\"<b>%{hovertext}</b><br><br>continent=North America<br>year=1953<br> Population=%{marker.size}<extra></extra>\",\"hovertext\":[\"North America\"],\"ids\":[\"North America\"],\"legendgroup\":\"North America\",\"marker\":{\"color\":\"#EF553B\",\"size\":[170420514],\"sizemode\":\"area\",\"sizeref\":9811051.535,\"symbol\":\"circle\"},\"mode\":\"markers\",\"name\":\"North America\",\"orientation\":\"v\",\"showlegend\":true,\"type\":\"scatter\",\"x\":[170420514],\"xaxis\":\"x\",\"y\":[170420514],\"yaxis\":\"y\"}],\"name\":\"1953\"},{\"data\":[{\"hovertemplate\":\"<b>%{hovertext}</b><br><br>continent=Africa<br>year=1954<br> Population=%{marker.size}<extra></extra>\",\"hovertext\":[\"Africa\"],\"ids\":[\"Africa\"],\"legendgroup\":\"Africa\",\"marker\":{\"color\":\"#636efa\",\"size\":[248244771],\"sizemode\":\"area\",\"sizeref\":9811051.535,\"symbol\":\"circle\"},\"mode\":\"markers\",\"name\":\"Africa\",\"orientation\":\"v\",\"showlegend\":true,\"type\":\"scatter\",\"x\":[248244771],\"xaxis\":\"x\",\"y\":[248244771],\"yaxis\":\"y\"},{\"hovertemplate\":\"<b>%{hovertext}</b><br><br>continent=North America<br>year=1954<br> Population=%{marker.size}<extra></extra>\",\"hovertext\":[\"North America\"],\"ids\":[\"North America\"],\"legendgroup\":\"North America\",\"marker\":{\"color\":\"#EF553B\",\"size\":[173598022],\"sizemode\":\"area\",\"sizeref\":9811051.535,\"symbol\":\"circle\"},\"mode\":\"markers\",\"name\":\"North America\",\"orientation\":\"v\",\"showlegend\":true,\"type\":\"scatter\",\"x\":[173598022],\"xaxis\":\"x\",\"y\":[173598022],\"yaxis\":\"y\"}],\"name\":\"1954\"},{\"data\":[{\"hovertemplate\":\"<b>%{hovertext}</b><br><br>continent=Africa<br>year=1955<br> Population=%{marker.size}<extra></extra>\",\"hovertext\":[\"Africa\"],\"ids\":[\"Africa\"],\"legendgroup\":\"Africa\",\"marker\":{\"color\":\"#636efa\",\"size\":[253847728],\"sizemode\":\"area\",\"sizeref\":9811051.535,\"symbol\":\"circle\"},\"mode\":\"markers\",\"name\":\"Africa\",\"orientation\":\"v\",\"showlegend\":true,\"type\":\"scatter\",\"x\":[253847728],\"xaxis\":\"x\",\"y\":[253847728],\"yaxis\":\"y\"},{\"hovertemplate\":\"<b>%{hovertext}</b><br><br>continent=North America<br>year=1955<br> Population=%{marker.size}<extra></extra>\",\"hovertext\":[\"North America\"],\"ids\":[\"North America\"],\"legendgroup\":\"North America\",\"marker\":{\"color\":\"#EF553B\",\"size\":[176940530],\"sizemode\":\"area\",\"sizeref\":9811051.535,\"symbol\":\"circle\"},\"mode\":\"markers\",\"name\":\"North America\",\"orientation\":\"v\",\"showlegend\":true,\"type\":\"scatter\",\"x\":[176940530],\"xaxis\":\"x\",\"y\":[176940530],\"yaxis\":\"y\"}],\"name\":\"1955\"},{\"data\":[{\"hovertemplate\":\"<b>%{hovertext}</b><br><br>continent=Africa<br>year=1956<br> Population=%{marker.size}<extra></extra>\",\"hovertext\":[\"Africa\"],\"ids\":[\"Africa\"],\"legendgroup\":\"Africa\",\"marker\":{\"color\":\"#636efa\",\"size\":[259631382],\"sizemode\":\"area\",\"sizeref\":9811051.535,\"symbol\":\"circle\"},\"mode\":\"markers\",\"name\":\"Africa\",\"orientation\":\"v\",\"showlegend\":true,\"type\":\"scatter\",\"x\":[259631382],\"xaxis\":\"x\",\"y\":[259631382],\"yaxis\":\"y\"},{\"hovertemplate\":\"<b>%{hovertext}</b><br><br>continent=North America<br>year=1956<br> Population=%{marker.size}<extra></extra>\",\"hovertext\":[\"North America\"],\"ids\":[\"North America\"],\"legendgroup\":\"North America\",\"marker\":{\"color\":\"#EF553B\",\"size\":[180302051],\"sizemode\":\"area\",\"sizeref\":9811051.535,\"symbol\":\"circle\"},\"mode\":\"markers\",\"name\":\"North America\",\"orientation\":\"v\",\"showlegend\":true,\"type\":\"scatter\",\"x\":[180302051],\"xaxis\":\"x\",\"y\":[180302051],\"yaxis\":\"y\"}],\"name\":\"1956\"},{\"data\":[{\"hovertemplate\":\"<b>%{hovertext}</b><br><br>continent=Africa<br>year=1957<br> Population=%{marker.size}<extra></extra>\",\"hovertext\":[\"Africa\"],\"ids\":[\"Africa\"],\"legendgroup\":\"Africa\",\"marker\":{\"color\":\"#636efa\",\"size\":[265515232],\"sizemode\":\"area\",\"sizeref\":9811051.535,\"symbol\":\"circle\"},\"mode\":\"markers\",\"name\":\"Africa\",\"orientation\":\"v\",\"showlegend\":true,\"type\":\"scatter\",\"x\":[265515232],\"xaxis\":\"x\",\"y\":[265515232],\"yaxis\":\"y\"},{\"hovertemplate\":\"<b>%{hovertext}</b><br><br>continent=North America<br>year=1957<br> Population=%{marker.size}<extra></extra>\",\"hovertext\":[\"North America\"],\"ids\":[\"North America\"],\"legendgroup\":\"North America\",\"marker\":{\"color\":\"#EF553B\",\"size\":[183672449],\"sizemode\":\"area\",\"sizeref\":9811051.535,\"symbol\":\"circle\"},\"mode\":\"markers\",\"name\":\"North America\",\"orientation\":\"v\",\"showlegend\":true,\"type\":\"scatter\",\"x\":[183672449],\"xaxis\":\"x\",\"y\":[183672449],\"yaxis\":\"y\"}],\"name\":\"1957\"},{\"data\":[{\"hovertemplate\":\"<b>%{hovertext}</b><br><br>continent=Africa<br>year=1958<br> Population=%{marker.size}<extra></extra>\",\"hovertext\":[\"Africa\"],\"ids\":[\"Africa\"],\"legendgroup\":\"Africa\",\"marker\":{\"color\":\"#636efa\",\"size\":[271429557],\"sizemode\":\"area\",\"sizeref\":9811051.535,\"symbol\":\"circle\"},\"mode\":\"markers\",\"name\":\"Africa\",\"orientation\":\"v\",\"showlegend\":true,\"type\":\"scatter\",\"x\":[271429557],\"xaxis\":\"x\",\"y\":[271429557],\"yaxis\":\"y\"},{\"hovertemplate\":\"<b>%{hovertext}</b><br><br>continent=North America<br>year=1958<br> Population=%{marker.size}<extra></extra>\",\"hovertext\":[\"North America\"],\"ids\":[\"North America\"],\"legendgroup\":\"North America\",\"marker\":{\"color\":\"#EF553B\",\"size\":[187335604],\"sizemode\":\"area\",\"sizeref\":9811051.535,\"symbol\":\"circle\"},\"mode\":\"markers\",\"name\":\"North America\",\"orientation\":\"v\",\"showlegend\":true,\"type\":\"scatter\",\"x\":[187335604],\"xaxis\":\"x\",\"y\":[187335604],\"yaxis\":\"y\"}],\"name\":\"1958\"},{\"data\":[{\"hovertemplate\":\"<b>%{hovertext}</b><br><br>continent=Africa<br>year=1959<br> Population=%{marker.size}<extra></extra>\",\"hovertext\":[\"Africa\"],\"ids\":[\"Africa\"],\"legendgroup\":\"Africa\",\"marker\":{\"color\":\"#636efa\",\"size\":[277648187],\"sizemode\":\"area\",\"sizeref\":9811051.535,\"symbol\":\"circle\"},\"mode\":\"markers\",\"name\":\"Africa\",\"orientation\":\"v\",\"showlegend\":true,\"type\":\"scatter\",\"x\":[277648187],\"xaxis\":\"x\",\"y\":[277648187],\"yaxis\":\"y\"},{\"hovertemplate\":\"<b>%{hovertext}</b><br><br>continent=North America<br>year=1959<br> Population=%{marker.size}<extra></extra>\",\"hovertext\":[\"North America\"],\"ids\":[\"North America\"],\"legendgroup\":\"North America\",\"marker\":{\"color\":\"#EF553B\",\"size\":[190926573],\"sizemode\":\"area\",\"sizeref\":9811051.535,\"symbol\":\"circle\"},\"mode\":\"markers\",\"name\":\"North America\",\"orientation\":\"v\",\"showlegend\":true,\"type\":\"scatter\",\"x\":[190926573],\"xaxis\":\"x\",\"y\":[190926573],\"yaxis\":\"y\"}],\"name\":\"1959\"},{\"data\":[{\"hovertemplate\":\"<b>%{hovertext}</b><br><br>continent=Africa<br>year=1960<br> Population=%{marker.size}<extra></extra>\",\"hovertext\":[\"Africa\"],\"ids\":[\"Africa\"],\"legendgroup\":\"Africa\",\"marker\":{\"color\":\"#636efa\",\"size\":[284287856],\"sizemode\":\"area\",\"sizeref\":9811051.535,\"symbol\":\"circle\"},\"mode\":\"markers\",\"name\":\"Africa\",\"orientation\":\"v\",\"showlegend\":true,\"type\":\"scatter\",\"x\":[284287856],\"xaxis\":\"x\",\"y\":[284287856],\"yaxis\":\"y\"},{\"hovertemplate\":\"<b>%{hovertext}</b><br><br>continent=North America<br>year=1960<br> Population=%{marker.size}<extra></extra>\",\"hovertext\":[\"North America\"],\"ids\":[\"North America\"],\"legendgroup\":\"North America\",\"marker\":{\"color\":\"#EF553B\",\"size\":[194177008],\"sizemode\":\"area\",\"sizeref\":9811051.535,\"symbol\":\"circle\"},\"mode\":\"markers\",\"name\":\"North America\",\"orientation\":\"v\",\"showlegend\":true,\"type\":\"scatter\",\"x\":[194177008],\"xaxis\":\"x\",\"y\":[194177008],\"yaxis\":\"y\"}],\"name\":\"1960\"},{\"data\":[{\"hovertemplate\":\"<b>%{hovertext}</b><br><br>continent=Africa<br>year=1961<br> Population=%{marker.size}<extra></extra>\",\"hovertext\":[\"Africa\"],\"ids\":[\"Africa\"],\"legendgroup\":\"Africa\",\"marker\":{\"color\":\"#636efa\",\"size\":[291177557],\"sizemode\":\"area\",\"sizeref\":9811051.535,\"symbol\":\"circle\"},\"mode\":\"markers\",\"name\":\"Africa\",\"orientation\":\"v\",\"showlegend\":true,\"type\":\"scatter\",\"x\":[291177557],\"xaxis\":\"x\",\"y\":[291177557],\"yaxis\":\"y\"},{\"hovertemplate\":\"<b>%{hovertext}</b><br><br>continent=North America<br>year=1961<br> Population=%{marker.size}<extra></extra>\",\"hovertext\":[\"North America\"],\"ids\":[\"North America\"],\"legendgroup\":\"North America\",\"marker\":{\"color\":\"#EF553B\",\"size\":[197442207],\"sizemode\":\"area\",\"sizeref\":9811051.535,\"symbol\":\"circle\"},\"mode\":\"markers\",\"name\":\"North America\",\"orientation\":\"v\",\"showlegend\":true,\"type\":\"scatter\",\"x\":[197442207],\"xaxis\":\"x\",\"y\":[197442207],\"yaxis\":\"y\"}],\"name\":\"1961\"},{\"data\":[{\"hovertemplate\":\"<b>%{hovertext}</b><br><br>continent=Africa<br>year=1962<br> Population=%{marker.size}<extra></extra>\",\"hovertext\":[\"Africa\"],\"ids\":[\"Africa\"],\"legendgroup\":\"Africa\",\"marker\":{\"color\":\"#636efa\",\"size\":[298334053],\"sizemode\":\"area\",\"sizeref\":9811051.535,\"symbol\":\"circle\"},\"mode\":\"markers\",\"name\":\"Africa\",\"orientation\":\"v\",\"showlegend\":true,\"type\":\"scatter\",\"x\":[298334053],\"xaxis\":\"x\",\"y\":[298334053],\"yaxis\":\"y\"},{\"hovertemplate\":\"<b>%{hovertext}</b><br><br>continent=North America<br>year=1962<br> Population=%{marker.size}<extra></extra>\",\"hovertext\":[\"North America\"],\"ids\":[\"North America\"],\"legendgroup\":\"North America\",\"marker\":{\"color\":\"#EF553B\",\"size\":[200623682],\"sizemode\":\"area\",\"sizeref\":9811051.535,\"symbol\":\"circle\"},\"mode\":\"markers\",\"name\":\"North America\",\"orientation\":\"v\",\"showlegend\":true,\"type\":\"scatter\",\"x\":[200623682],\"xaxis\":\"x\",\"y\":[200623682],\"yaxis\":\"y\"}],\"name\":\"1962\"},{\"data\":[{\"hovertemplate\":\"<b>%{hovertext}</b><br><br>continent=Africa<br>year=1963<br> Population=%{marker.size}<extra></extra>\",\"hovertext\":[\"Africa\"],\"ids\":[\"Africa\"],\"legendgroup\":\"Africa\",\"marker\":{\"color\":\"#636efa\",\"size\":[305755225],\"sizemode\":\"area\",\"sizeref\":9811051.535,\"symbol\":\"circle\"},\"mode\":\"markers\",\"name\":\"Africa\",\"orientation\":\"v\",\"showlegend\":true,\"type\":\"scatter\",\"x\":[305755225],\"xaxis\":\"x\",\"y\":[305755225],\"yaxis\":\"y\"},{\"hovertemplate\":\"<b>%{hovertext}</b><br><br>continent=North America<br>year=1963<br> Population=%{marker.size}<extra></extra>\",\"hovertext\":[\"North America\"],\"ids\":[\"North America\"],\"legendgroup\":\"North America\",\"marker\":{\"color\":\"#EF553B\",\"size\":[203706745],\"sizemode\":\"area\",\"sizeref\":9811051.535,\"symbol\":\"circle\"},\"mode\":\"markers\",\"name\":\"North America\",\"orientation\":\"v\",\"showlegend\":true,\"type\":\"scatter\",\"x\":[203706745],\"xaxis\":\"x\",\"y\":[203706745],\"yaxis\":\"y\"}],\"name\":\"1963\"},{\"data\":[{\"hovertemplate\":\"<b>%{hovertext}</b><br><br>continent=Africa<br>year=1964<br> Population=%{marker.size}<extra></extra>\",\"hovertext\":[\"Africa\"],\"ids\":[\"Africa\"],\"legendgroup\":\"Africa\",\"marker\":{\"color\":\"#636efa\",\"size\":[313465702],\"sizemode\":\"area\",\"sizeref\":9811051.535,\"symbol\":\"circle\"},\"mode\":\"markers\",\"name\":\"Africa\",\"orientation\":\"v\",\"showlegend\":true,\"type\":\"scatter\",\"x\":[313465702],\"xaxis\":\"x\",\"y\":[313465702],\"yaxis\":\"y\"},{\"hovertemplate\":\"<b>%{hovertext}</b><br><br>continent=North America<br>year=1964<br> Population=%{marker.size}<extra></extra>\",\"hovertext\":[\"North America\"],\"ids\":[\"North America\"],\"legendgroup\":\"North America\",\"marker\":{\"color\":\"#EF553B\",\"size\":[206691981],\"sizemode\":\"area\",\"sizeref\":9811051.535,\"symbol\":\"circle\"},\"mode\":\"markers\",\"name\":\"North America\",\"orientation\":\"v\",\"showlegend\":true,\"type\":\"scatter\",\"x\":[206691981],\"xaxis\":\"x\",\"y\":[206691981],\"yaxis\":\"y\"}],\"name\":\"1964\"},{\"data\":[{\"hovertemplate\":\"<b>%{hovertext}</b><br><br>continent=Africa<br>year=1965<br> Population=%{marker.size}<extra></extra>\",\"hovertext\":[\"Africa\"],\"ids\":[\"Africa\"],\"legendgroup\":\"Africa\",\"marker\":{\"color\":\"#636efa\",\"size\":[321446986],\"sizemode\":\"area\",\"sizeref\":9811051.535,\"symbol\":\"circle\"},\"mode\":\"markers\",\"name\":\"Africa\",\"orientation\":\"v\",\"showlegend\":true,\"type\":\"scatter\",\"x\":[321446986],\"xaxis\":\"x\",\"y\":[321446986],\"yaxis\":\"y\"},{\"hovertemplate\":\"<b>%{hovertext}</b><br><br>continent=North America<br>year=1965<br> Population=%{marker.size}<extra></extra>\",\"hovertext\":[\"North America\"],\"ids\":[\"North America\"],\"legendgroup\":\"North America\",\"marker\":{\"color\":\"#EF553B\",\"size\":[209482853],\"sizemode\":\"area\",\"sizeref\":9811051.535,\"symbol\":\"circle\"},\"mode\":\"markers\",\"name\":\"North America\",\"orientation\":\"v\",\"showlegend\":true,\"type\":\"scatter\",\"x\":[209482853],\"xaxis\":\"x\",\"y\":[209482853],\"yaxis\":\"y\"}],\"name\":\"1965\"},{\"data\":[{\"hovertemplate\":\"<b>%{hovertext}</b><br><br>continent=Africa<br>year=1966<br> Population=%{marker.size}<extra></extra>\",\"hovertext\":[\"Africa\"],\"ids\":[\"Africa\"],\"legendgroup\":\"Africa\",\"marker\":{\"color\":\"#636efa\",\"size\":[329658041],\"sizemode\":\"area\",\"sizeref\":9811051.535,\"symbol\":\"circle\"},\"mode\":\"markers\",\"name\":\"Africa\",\"orientation\":\"v\",\"showlegend\":true,\"type\":\"scatter\",\"x\":[329658041],\"xaxis\":\"x\",\"y\":[329658041],\"yaxis\":\"y\"},{\"hovertemplate\":\"<b>%{hovertext}</b><br><br>continent=North America<br>year=1966<br> Population=%{marker.size}<extra></extra>\",\"hovertext\":[\"North America\"],\"ids\":[\"North America\"],\"legendgroup\":\"North America\",\"marker\":{\"color\":\"#EF553B\",\"size\":[211979519],\"sizemode\":\"area\",\"sizeref\":9811051.535,\"symbol\":\"circle\"},\"mode\":\"markers\",\"name\":\"North America\",\"orientation\":\"v\",\"showlegend\":true,\"type\":\"scatter\",\"x\":[211979519],\"xaxis\":\"x\",\"y\":[211979519],\"yaxis\":\"y\"}],\"name\":\"1966\"},{\"data\":[{\"hovertemplate\":\"<b>%{hovertext}</b><br><br>continent=Africa<br>year=1967<br> Population=%{marker.size}<extra></extra>\",\"hovertext\":[\"Africa\"],\"ids\":[\"Africa\"],\"legendgroup\":\"Africa\",\"marker\":{\"color\":\"#636efa\",\"size\":[338159594],\"sizemode\":\"area\",\"sizeref\":9811051.535,\"symbol\":\"circle\"},\"mode\":\"markers\",\"name\":\"Africa\",\"orientation\":\"v\",\"showlegend\":true,\"type\":\"scatter\",\"x\":[338159594],\"xaxis\":\"x\",\"y\":[338159594],\"yaxis\":\"y\"},{\"hovertemplate\":\"<b>%{hovertext}</b><br><br>continent=North America<br>year=1967<br> Population=%{marker.size}<extra></extra>\",\"hovertext\":[\"North America\"],\"ids\":[\"North America\"],\"legendgroup\":\"North America\",\"marker\":{\"color\":\"#EF553B\",\"size\":[214286308],\"sizemode\":\"area\",\"sizeref\":9811051.535,\"symbol\":\"circle\"},\"mode\":\"markers\",\"name\":\"North America\",\"orientation\":\"v\",\"showlegend\":true,\"type\":\"scatter\",\"x\":[214286308],\"xaxis\":\"x\",\"y\":[214286308],\"yaxis\":\"y\"}],\"name\":\"1967\"},{\"data\":[{\"hovertemplate\":\"<b>%{hovertext}</b><br><br>continent=Africa<br>year=1968<br> Population=%{marker.size}<extra></extra>\",\"hovertext\":[\"Africa\"],\"ids\":[\"Africa\"],\"legendgroup\":\"Africa\",\"marker\":{\"color\":\"#636efa\",\"size\":[346980009],\"sizemode\":\"area\",\"sizeref\":9811051.535,\"symbol\":\"circle\"},\"mode\":\"markers\",\"name\":\"Africa\",\"orientation\":\"v\",\"showlegend\":true,\"type\":\"scatter\",\"x\":[346980009],\"xaxis\":\"x\",\"y\":[346980009],\"yaxis\":\"y\"},{\"hovertemplate\":\"<b>%{hovertext}</b><br><br>continent=North America<br>year=1968<br> Population=%{marker.size}<extra></extra>\",\"hovertext\":[\"North America\"],\"ids\":[\"North America\"],\"legendgroup\":\"North America\",\"marker\":{\"color\":\"#EF553B\",\"size\":[216573634],\"sizemode\":\"area\",\"sizeref\":9811051.535,\"symbol\":\"circle\"},\"mode\":\"markers\",\"name\":\"North America\",\"orientation\":\"v\",\"showlegend\":true,\"type\":\"scatter\",\"x\":[216573634],\"xaxis\":\"x\",\"y\":[216573634],\"yaxis\":\"y\"}],\"name\":\"1968\"},{\"data\":[{\"hovertemplate\":\"<b>%{hovertext}</b><br><br>continent=Africa<br>year=1969<br> Population=%{marker.size}<extra></extra>\",\"hovertext\":[\"Africa\"],\"ids\":[\"Africa\"],\"legendgroup\":\"Africa\",\"marker\":{\"color\":\"#636efa\",\"size\":[356070247],\"sizemode\":\"area\",\"sizeref\":9811051.535,\"symbol\":\"circle\"},\"mode\":\"markers\",\"name\":\"Africa\",\"orientation\":\"v\",\"showlegend\":true,\"type\":\"scatter\",\"x\":[356070247],\"xaxis\":\"x\",\"y\":[356070247],\"yaxis\":\"y\"},{\"hovertemplate\":\"<b>%{hovertext}</b><br><br>continent=North America<br>year=1969<br> Population=%{marker.size}<extra></extra>\",\"hovertext\":[\"North America\"],\"ids\":[\"North America\"],\"legendgroup\":\"North America\",\"marker\":{\"color\":\"#EF553B\",\"size\":[218993970],\"sizemode\":\"area\",\"sizeref\":9811051.535,\"symbol\":\"circle\"},\"mode\":\"markers\",\"name\":\"North America\",\"orientation\":\"v\",\"showlegend\":true,\"type\":\"scatter\",\"x\":[218993970],\"xaxis\":\"x\",\"y\":[218993970],\"yaxis\":\"y\"}],\"name\":\"1969\"},{\"data\":[{\"hovertemplate\":\"<b>%{hovertext}</b><br><br>continent=Africa<br>year=1970<br> Population=%{marker.size}<extra></extra>\",\"hovertext\":[\"Africa\"],\"ids\":[\"Africa\"],\"legendgroup\":\"Africa\",\"marker\":{\"color\":\"#636efa\",\"size\":[365450108],\"sizemode\":\"area\",\"sizeref\":9811051.535,\"symbol\":\"circle\"},\"mode\":\"markers\",\"name\":\"Africa\",\"orientation\":\"v\",\"showlegend\":true,\"type\":\"scatter\",\"x\":[365450108],\"xaxis\":\"x\",\"y\":[365450108],\"yaxis\":\"y\"},{\"hovertemplate\":\"<b>%{hovertext}</b><br><br>continent=North America<br>year=1970<br> Population=%{marker.size}<extra></extra>\",\"hovertext\":[\"North America\"],\"ids\":[\"North America\"],\"legendgroup\":\"North America\",\"marker\":{\"color\":\"#EF553B\",\"size\":[221865907],\"sizemode\":\"area\",\"sizeref\":9811051.535,\"symbol\":\"circle\"},\"mode\":\"markers\",\"name\":\"North America\",\"orientation\":\"v\",\"showlegend\":true,\"type\":\"scatter\",\"x\":[221865907],\"xaxis\":\"x\",\"y\":[221865907],\"yaxis\":\"y\"}],\"name\":\"1970\"},{\"data\":[{\"hovertemplate\":\"<b>%{hovertext}</b><br><br>continent=Africa<br>year=1971<br> Population=%{marker.size}<extra></extra>\",\"hovertext\":[\"Africa\"],\"ids\":[\"Africa\"],\"legendgroup\":\"Africa\",\"marker\":{\"color\":\"#636efa\",\"size\":[375085855],\"sizemode\":\"area\",\"sizeref\":9811051.535,\"symbol\":\"circle\"},\"mode\":\"markers\",\"name\":\"Africa\",\"orientation\":\"v\",\"showlegend\":true,\"type\":\"scatter\",\"x\":[375085855],\"xaxis\":\"x\",\"y\":[375085855],\"yaxis\":\"y\"},{\"hovertemplate\":\"<b>%{hovertext}</b><br><br>continent=North America<br>year=1971<br> Population=%{marker.size}<extra></extra>\",\"hovertext\":[\"North America\"],\"ids\":[\"North America\"],\"legendgroup\":\"North America\",\"marker\":{\"color\":\"#EF553B\",\"size\":[224901245],\"sizemode\":\"area\",\"sizeref\":9811051.535,\"symbol\":\"circle\"},\"mode\":\"markers\",\"name\":\"North America\",\"orientation\":\"v\",\"showlegend\":true,\"type\":\"scatter\",\"x\":[224901245],\"xaxis\":\"x\",\"y\":[224901245],\"yaxis\":\"y\"}],\"name\":\"1971\"},{\"data\":[{\"hovertemplate\":\"<b>%{hovertext}</b><br><br>continent=Africa<br>year=1972<br> Population=%{marker.size}<extra></extra>\",\"hovertext\":[\"Africa\"],\"ids\":[\"Africa\"],\"legendgroup\":\"Africa\",\"marker\":{\"color\":\"#636efa\",\"size\":[384930392],\"sizemode\":\"area\",\"sizeref\":9811051.535,\"symbol\":\"circle\"},\"mode\":\"markers\",\"name\":\"Africa\",\"orientation\":\"v\",\"showlegend\":true,\"type\":\"scatter\",\"x\":[384930392],\"xaxis\":\"x\",\"y\":[384930392],\"yaxis\":\"y\"},{\"hovertemplate\":\"<b>%{hovertext}</b><br><br>continent=North America<br>year=1972<br> Population=%{marker.size}<extra></extra>\",\"hovertext\":[\"North America\"],\"ids\":[\"North America\"],\"legendgroup\":\"North America\",\"marker\":{\"color\":\"#EF553B\",\"size\":[227566327],\"sizemode\":\"area\",\"sizeref\":9811051.535,\"symbol\":\"circle\"},\"mode\":\"markers\",\"name\":\"North America\",\"orientation\":\"v\",\"showlegend\":true,\"type\":\"scatter\",\"x\":[227566327],\"xaxis\":\"x\",\"y\":[227566327],\"yaxis\":\"y\"}],\"name\":\"1972\"},{\"data\":[{\"hovertemplate\":\"<b>%{hovertext}</b><br><br>continent=Africa<br>year=1973<br> Population=%{marker.size}<extra></extra>\",\"hovertext\":[\"Africa\"],\"ids\":[\"Africa\"],\"legendgroup\":\"Africa\",\"marker\":{\"color\":\"#636efa\",\"size\":[395212021],\"sizemode\":\"area\",\"sizeref\":9811051.535,\"symbol\":\"circle\"},\"mode\":\"markers\",\"name\":\"Africa\",\"orientation\":\"v\",\"showlegend\":true,\"type\":\"scatter\",\"x\":[395212021],\"xaxis\":\"x\",\"y\":[395212021],\"yaxis\":\"y\"},{\"hovertemplate\":\"<b>%{hovertext}</b><br><br>continent=North America<br>year=1973<br> Population=%{marker.size}<extra></extra>\",\"hovertext\":[\"North America\"],\"ids\":[\"North America\"],\"legendgroup\":\"North America\",\"marker\":{\"color\":\"#EF553B\",\"size\":[229923511],\"sizemode\":\"area\",\"sizeref\":9811051.535,\"symbol\":\"circle\"},\"mode\":\"markers\",\"name\":\"North America\",\"orientation\":\"v\",\"showlegend\":true,\"type\":\"scatter\",\"x\":[229923511],\"xaxis\":\"x\",\"y\":[229923511],\"yaxis\":\"y\"}],\"name\":\"1973\"},{\"data\":[{\"hovertemplate\":\"<b>%{hovertext}</b><br><br>continent=Africa<br>year=1974<br> Population=%{marker.size}<extra></extra>\",\"hovertext\":[\"Africa\"],\"ids\":[\"Africa\"],\"legendgroup\":\"Africa\",\"marker\":{\"color\":\"#636efa\",\"size\":[406068836],\"sizemode\":\"area\",\"sizeref\":9811051.535,\"symbol\":\"circle\"},\"mode\":\"markers\",\"name\":\"Africa\",\"orientation\":\"v\",\"showlegend\":true,\"type\":\"scatter\",\"x\":[406068836],\"xaxis\":\"x\",\"y\":[406068836],\"yaxis\":\"y\"},{\"hovertemplate\":\"<b>%{hovertext}</b><br><br>continent=North America<br>year=1974<br> Population=%{marker.size}<extra></extra>\",\"hovertext\":[\"North America\"],\"ids\":[\"North America\"],\"legendgroup\":\"North America\",\"marker\":{\"color\":\"#EF553B\",\"size\":[232198019],\"sizemode\":\"area\",\"sizeref\":9811051.535,\"symbol\":\"circle\"},\"mode\":\"markers\",\"name\":\"North America\",\"orientation\":\"v\",\"showlegend\":true,\"type\":\"scatter\",\"x\":[232198019],\"xaxis\":\"x\",\"y\":[232198019],\"yaxis\":\"y\"}],\"name\":\"1974\"},{\"data\":[{\"hovertemplate\":\"<b>%{hovertext}</b><br><br>continent=Africa<br>year=1975<br> Population=%{marker.size}<extra></extra>\",\"hovertext\":[\"Africa\"],\"ids\":[\"Africa\"],\"legendgroup\":\"Africa\",\"marker\":{\"color\":\"#636efa\",\"size\":[417556630],\"sizemode\":\"area\",\"sizeref\":9811051.535,\"symbol\":\"circle\"},\"mode\":\"markers\",\"name\":\"Africa\",\"orientation\":\"v\",\"showlegend\":true,\"type\":\"scatter\",\"x\":[417556630],\"xaxis\":\"x\",\"y\":[417556630],\"yaxis\":\"y\"},{\"hovertemplate\":\"<b>%{hovertext}</b><br><br>continent=North America<br>year=1975<br> Population=%{marker.size}<extra></extra>\",\"hovertext\":[\"North America\"],\"ids\":[\"North America\"],\"legendgroup\":\"North America\",\"marker\":{\"color\":\"#EF553B\",\"size\":[234519142],\"sizemode\":\"area\",\"sizeref\":9811051.535,\"symbol\":\"circle\"},\"mode\":\"markers\",\"name\":\"North America\",\"orientation\":\"v\",\"showlegend\":true,\"type\":\"scatter\",\"x\":[234519142],\"xaxis\":\"x\",\"y\":[234519142],\"yaxis\":\"y\"}],\"name\":\"1975\"},{\"data\":[{\"hovertemplate\":\"<b>%{hovertext}</b><br><br>continent=Africa<br>year=1976<br> Population=%{marker.size}<extra></extra>\",\"hovertext\":[\"Africa\"],\"ids\":[\"Africa\"],\"legendgroup\":\"Africa\",\"marker\":{\"color\":\"#636efa\",\"size\":[429572939],\"sizemode\":\"area\",\"sizeref\":9811051.535,\"symbol\":\"circle\"},\"mode\":\"markers\",\"name\":\"Africa\",\"orientation\":\"v\",\"showlegend\":true,\"type\":\"scatter\",\"x\":[429572939],\"xaxis\":\"x\",\"y\":[429572939],\"yaxis\":\"y\"},{\"hovertemplate\":\"<b>%{hovertext}</b><br><br>continent=North America<br>year=1976<br> Population=%{marker.size}<extra></extra>\",\"hovertext\":[\"North America\"],\"ids\":[\"North America\"],\"legendgroup\":\"North America\",\"marker\":{\"color\":\"#EF553B\",\"size\":[236821063],\"sizemode\":\"area\",\"sizeref\":9811051.535,\"symbol\":\"circle\"},\"mode\":\"markers\",\"name\":\"North America\",\"orientation\":\"v\",\"showlegend\":true,\"type\":\"scatter\",\"x\":[236821063],\"xaxis\":\"x\",\"y\":[236821063],\"yaxis\":\"y\"}],\"name\":\"1976\"},{\"data\":[{\"hovertemplate\":\"<b>%{hovertext}</b><br><br>continent=Africa<br>year=1977<br> Population=%{marker.size}<extra></extra>\",\"hovertext\":[\"Africa\"],\"ids\":[\"Africa\"],\"legendgroup\":\"Africa\",\"marker\":{\"color\":\"#636efa\",\"size\":[441701411],\"sizemode\":\"area\",\"sizeref\":9811051.535,\"symbol\":\"circle\"},\"mode\":\"markers\",\"name\":\"Africa\",\"orientation\":\"v\",\"showlegend\":true,\"type\":\"scatter\",\"x\":[441701411],\"xaxis\":\"x\",\"y\":[441701411],\"yaxis\":\"y\"},{\"hovertemplate\":\"<b>%{hovertext}</b><br><br>continent=North America<br>year=1977<br> Population=%{marker.size}<extra></extra>\",\"hovertext\":[\"North America\"],\"ids\":[\"North America\"],\"legendgroup\":\"North America\",\"marker\":{\"color\":\"#EF553B\",\"size\":[239261913],\"sizemode\":\"area\",\"sizeref\":9811051.535,\"symbol\":\"circle\"},\"mode\":\"markers\",\"name\":\"North America\",\"orientation\":\"v\",\"showlegend\":true,\"type\":\"scatter\",\"x\":[239261913],\"xaxis\":\"x\",\"y\":[239261913],\"yaxis\":\"y\"}],\"name\":\"1977\"},{\"data\":[{\"hovertemplate\":\"<b>%{hovertext}</b><br><br>continent=Africa<br>year=1978<br> Population=%{marker.size}<extra></extra>\",\"hovertext\":[\"Africa\"],\"ids\":[\"Africa\"],\"legendgroup\":\"Africa\",\"marker\":{\"color\":\"#636efa\",\"size\":[454462679],\"sizemode\":\"area\",\"sizeref\":9811051.535,\"symbol\":\"circle\"},\"mode\":\"markers\",\"name\":\"Africa\",\"orientation\":\"v\",\"showlegend\":true,\"type\":\"scatter\",\"x\":[454462679],\"xaxis\":\"x\",\"y\":[454462679],\"yaxis\":\"y\"},{\"hovertemplate\":\"<b>%{hovertext}</b><br><br>continent=North America<br>year=1978<br> Population=%{marker.size}<extra></extra>\",\"hovertext\":[\"North America\"],\"ids\":[\"North America\"],\"legendgroup\":\"North America\",\"marker\":{\"color\":\"#EF553B\",\"size\":[241953380],\"sizemode\":\"area\",\"sizeref\":9811051.535,\"symbol\":\"circle\"},\"mode\":\"markers\",\"name\":\"North America\",\"orientation\":\"v\",\"showlegend\":true,\"type\":\"scatter\",\"x\":[241953380],\"xaxis\":\"x\",\"y\":[241953380],\"yaxis\":\"y\"}],\"name\":\"1978\"},{\"data\":[{\"hovertemplate\":\"<b>%{hovertext}</b><br><br>continent=Africa<br>year=1979<br> Population=%{marker.size}<extra></extra>\",\"hovertext\":[\"Africa\"],\"ids\":[\"Africa\"],\"legendgroup\":\"Africa\",\"marker\":{\"color\":\"#636efa\",\"size\":[467975884],\"sizemode\":\"area\",\"sizeref\":9811051.535,\"symbol\":\"circle\"},\"mode\":\"markers\",\"name\":\"Africa\",\"orientation\":\"v\",\"showlegend\":true,\"type\":\"scatter\",\"x\":[467975884],\"xaxis\":\"x\",\"y\":[467975884],\"yaxis\":\"y\"},{\"hovertemplate\":\"<b>%{hovertext}</b><br><br>continent=North America<br>year=1979<br> Population=%{marker.size}<extra></extra>\",\"hovertext\":[\"North America\"],\"ids\":[\"North America\"],\"legendgroup\":\"North America\",\"marker\":{\"color\":\"#EF553B\",\"size\":[244791543],\"sizemode\":\"area\",\"sizeref\":9811051.535,\"symbol\":\"circle\"},\"mode\":\"markers\",\"name\":\"North America\",\"orientation\":\"v\",\"showlegend\":true,\"type\":\"scatter\",\"x\":[244791543],\"xaxis\":\"x\",\"y\":[244791543],\"yaxis\":\"y\"}],\"name\":\"1979\"},{\"data\":[{\"hovertemplate\":\"<b>%{hovertext}</b><br><br>continent=Africa<br>year=1980<br> Population=%{marker.size}<extra></extra>\",\"hovertext\":[\"Africa\"],\"ids\":[\"Africa\"],\"legendgroup\":\"Africa\",\"marker\":{\"color\":\"#636efa\",\"size\":[481542773],\"sizemode\":\"area\",\"sizeref\":9811051.535,\"symbol\":\"circle\"},\"mode\":\"markers\",\"name\":\"Africa\",\"orientation\":\"v\",\"showlegend\":true,\"type\":\"scatter\",\"x\":[481542773],\"xaxis\":\"x\",\"y\":[481542773],\"yaxis\":\"y\"},{\"hovertemplate\":\"<b>%{hovertext}</b><br><br>continent=North America<br>year=1980<br> Population=%{marker.size}<extra></extra>\",\"hovertext\":[\"North America\"],\"ids\":[\"North America\"],\"legendgroup\":\"North America\",\"marker\":{\"color\":\"#EF553B\",\"size\":[247761304],\"sizemode\":\"area\",\"sizeref\":9811051.535,\"symbol\":\"circle\"},\"mode\":\"markers\",\"name\":\"North America\",\"orientation\":\"v\",\"showlegend\":true,\"type\":\"scatter\",\"x\":[247761304],\"xaxis\":\"x\",\"y\":[247761304],\"yaxis\":\"y\"}],\"name\":\"1980\"},{\"data\":[{\"hovertemplate\":\"<b>%{hovertext}</b><br><br>continent=Africa<br>year=1981<br> Population=%{marker.size}<extra></extra>\",\"hovertext\":[\"Africa\"],\"ids\":[\"Africa\"],\"legendgroup\":\"Africa\",\"marker\":{\"color\":\"#636efa\",\"size\":[495655336],\"sizemode\":\"area\",\"sizeref\":9811051.535,\"symbol\":\"circle\"},\"mode\":\"markers\",\"name\":\"Africa\",\"orientation\":\"v\",\"showlegend\":true,\"type\":\"scatter\",\"x\":[495655336],\"xaxis\":\"x\",\"y\":[495655336],\"yaxis\":\"y\"},{\"hovertemplate\":\"<b>%{hovertext}</b><br><br>continent=North America<br>year=1981<br> Population=%{marker.size}<extra></extra>\",\"hovertext\":[\"North America\"],\"ids\":[\"North America\"],\"legendgroup\":\"North America\",\"marker\":{\"color\":\"#EF553B\",\"size\":[250580512],\"sizemode\":\"area\",\"sizeref\":9811051.535,\"symbol\":\"circle\"},\"mode\":\"markers\",\"name\":\"North America\",\"orientation\":\"v\",\"showlegend\":true,\"type\":\"scatter\",\"x\":[250580512],\"xaxis\":\"x\",\"y\":[250580512],\"yaxis\":\"y\"}],\"name\":\"1981\"},{\"data\":[{\"hovertemplate\":\"<b>%{hovertext}</b><br><br>continent=Africa<br>year=1982<br> Population=%{marker.size}<extra></extra>\",\"hovertext\":[\"Africa\"],\"ids\":[\"Africa\"],\"legendgroup\":\"Africa\",\"marker\":{\"color\":\"#636efa\",\"size\":[510540229],\"sizemode\":\"area\",\"sizeref\":9811051.535,\"symbol\":\"circle\"},\"mode\":\"markers\",\"name\":\"Africa\",\"orientation\":\"v\",\"showlegend\":true,\"type\":\"scatter\",\"x\":[510540229],\"xaxis\":\"x\",\"y\":[510540229],\"yaxis\":\"y\"},{\"hovertemplate\":\"<b>%{hovertext}</b><br><br>continent=North America<br>year=1982<br> Population=%{marker.size}<extra></extra>\",\"hovertext\":[\"North America\"],\"ids\":[\"North America\"],\"legendgroup\":\"North America\",\"marker\":{\"color\":\"#EF553B\",\"size\":[253214700],\"sizemode\":\"area\",\"sizeref\":9811051.535,\"symbol\":\"circle\"},\"mode\":\"markers\",\"name\":\"North America\",\"orientation\":\"v\",\"showlegend\":true,\"type\":\"scatter\",\"x\":[253214700],\"xaxis\":\"x\",\"y\":[253214700],\"yaxis\":\"y\"}],\"name\":\"1982\"},{\"data\":[{\"hovertemplate\":\"<b>%{hovertext}</b><br><br>continent=Africa<br>year=1983<br> Population=%{marker.size}<extra></extra>\",\"hovertext\":[\"Africa\"],\"ids\":[\"Africa\"],\"legendgroup\":\"Africa\",\"marker\":{\"color\":\"#636efa\",\"size\":[525335031],\"sizemode\":\"area\",\"sizeref\":9811051.535,\"symbol\":\"circle\"},\"mode\":\"markers\",\"name\":\"Africa\",\"orientation\":\"v\",\"showlegend\":true,\"type\":\"scatter\",\"x\":[525335031],\"xaxis\":\"x\",\"y\":[525335031],\"yaxis\":\"y\"},{\"hovertemplate\":\"<b>%{hovertext}</b><br><br>continent=North America<br>year=1983<br> Population=%{marker.size}<extra></extra>\",\"hovertext\":[\"North America\"],\"ids\":[\"North America\"],\"legendgroup\":\"North America\",\"marker\":{\"color\":\"#EF553B\",\"size\":[255863568],\"sizemode\":\"area\",\"sizeref\":9811051.535,\"symbol\":\"circle\"},\"mode\":\"markers\",\"name\":\"North America\",\"orientation\":\"v\",\"showlegend\":true,\"type\":\"scatter\",\"x\":[255863568],\"xaxis\":\"x\",\"y\":[255863568],\"yaxis\":\"y\"}],\"name\":\"1983\"},{\"data\":[{\"hovertemplate\":\"<b>%{hovertext}</b><br><br>continent=Africa<br>year=1984<br> Population=%{marker.size}<extra></extra>\",\"hovertext\":[\"Africa\"],\"ids\":[\"Africa\"],\"legendgroup\":\"Africa\",\"marker\":{\"color\":\"#636efa\",\"size\":[540182783],\"sizemode\":\"area\",\"sizeref\":9811051.535,\"symbol\":\"circle\"},\"mode\":\"markers\",\"name\":\"Africa\",\"orientation\":\"v\",\"showlegend\":true,\"type\":\"scatter\",\"x\":[540182783],\"xaxis\":\"x\",\"y\":[540182783],\"yaxis\":\"y\"},{\"hovertemplate\":\"<b>%{hovertext}</b><br><br>continent=North America<br>year=1984<br> Population=%{marker.size}<extra></extra>\",\"hovertext\":[\"North America\"],\"ids\":[\"North America\"],\"legendgroup\":\"North America\",\"marker\":{\"color\":\"#EF553B\",\"size\":[258482369],\"sizemode\":\"area\",\"sizeref\":9811051.535,\"symbol\":\"circle\"},\"mode\":\"markers\",\"name\":\"North America\",\"orientation\":\"v\",\"showlegend\":true,\"type\":\"scatter\",\"x\":[258482369],\"xaxis\":\"x\",\"y\":[258482369],\"yaxis\":\"y\"}],\"name\":\"1984\"},{\"data\":[{\"hovertemplate\":\"<b>%{hovertext}</b><br><br>continent=Africa<br>year=1985<br> Population=%{marker.size}<extra></extra>\",\"hovertext\":[\"Africa\"],\"ids\":[\"Africa\"],\"legendgroup\":\"Africa\",\"marker\":{\"color\":\"#636efa\",\"size\":[555652630],\"sizemode\":\"area\",\"sizeref\":9811051.535,\"symbol\":\"circle\"},\"mode\":\"markers\",\"name\":\"Africa\",\"orientation\":\"v\",\"showlegend\":true,\"type\":\"scatter\",\"x\":[555652630],\"xaxis\":\"x\",\"y\":[555652630],\"yaxis\":\"y\"},{\"hovertemplate\":\"<b>%{hovertext}</b><br><br>continent=North America<br>year=1985<br> Population=%{marker.size}<extra></extra>\",\"hovertext\":[\"North America\"],\"ids\":[\"North America\"],\"legendgroup\":\"North America\",\"marker\":{\"color\":\"#EF553B\",\"size\":[261105161],\"sizemode\":\"area\",\"sizeref\":9811051.535,\"symbol\":\"circle\"},\"mode\":\"markers\",\"name\":\"North America\",\"orientation\":\"v\",\"showlegend\":true,\"type\":\"scatter\",\"x\":[261105161],\"xaxis\":\"x\",\"y\":[261105161],\"yaxis\":\"y\"}],\"name\":\"1985\"},{\"data\":[{\"hovertemplate\":\"<b>%{hovertext}</b><br><br>continent=Africa<br>year=1986<br> Population=%{marker.size}<extra></extra>\",\"hovertext\":[\"Africa\"],\"ids\":[\"Africa\"],\"legendgroup\":\"Africa\",\"marker\":{\"color\":\"#636efa\",\"size\":[571646426],\"sizemode\":\"area\",\"sizeref\":9811051.535,\"symbol\":\"circle\"},\"mode\":\"markers\",\"name\":\"Africa\",\"orientation\":\"v\",\"showlegend\":true,\"type\":\"scatter\",\"x\":[571646426],\"xaxis\":\"x\",\"y\":[571646426],\"yaxis\":\"y\"},{\"hovertemplate\":\"<b>%{hovertext}</b><br><br>continent=North America<br>year=1986<br> Population=%{marker.size}<extra></extra>\",\"hovertext\":[\"North America\"],\"ids\":[\"North America\"],\"legendgroup\":\"North America\",\"marker\":{\"color\":\"#EF553B\",\"size\":[263744844],\"sizemode\":\"area\",\"sizeref\":9811051.535,\"symbol\":\"circle\"},\"mode\":\"markers\",\"name\":\"North America\",\"orientation\":\"v\",\"showlegend\":true,\"type\":\"scatter\",\"x\":[263744844],\"xaxis\":\"x\",\"y\":[263744844],\"yaxis\":\"y\"}],\"name\":\"1986\"},{\"data\":[{\"hovertemplate\":\"<b>%{hovertext}</b><br><br>continent=Africa<br>year=1987<br> Population=%{marker.size}<extra></extra>\",\"hovertext\":[\"Africa\"],\"ids\":[\"Africa\"],\"legendgroup\":\"Africa\",\"marker\":{\"color\":\"#636efa\",\"size\":[588079706],\"sizemode\":\"area\",\"sizeref\":9811051.535,\"symbol\":\"circle\"},\"mode\":\"markers\",\"name\":\"Africa\",\"orientation\":\"v\",\"showlegend\":true,\"type\":\"scatter\",\"x\":[588079706],\"xaxis\":\"x\",\"y\":[588079706],\"yaxis\":\"y\"},{\"hovertemplate\":\"<b>%{hovertext}</b><br><br>continent=North America<br>year=1987<br> Population=%{marker.size}<extra></extra>\",\"hovertext\":[\"North America\"],\"ids\":[\"North America\"],\"legendgroup\":\"North America\",\"marker\":{\"color\":\"#EF553B\",\"size\":[266406972],\"sizemode\":\"area\",\"sizeref\":9811051.535,\"symbol\":\"circle\"},\"mode\":\"markers\",\"name\":\"North America\",\"orientation\":\"v\",\"showlegend\":true,\"type\":\"scatter\",\"x\":[266406972],\"xaxis\":\"x\",\"y\":[266406972],\"yaxis\":\"y\"}],\"name\":\"1987\"},{\"data\":[{\"hovertemplate\":\"<b>%{hovertext}</b><br><br>continent=Africa<br>year=1988<br> Population=%{marker.size}<extra></extra>\",\"hovertext\":[\"Africa\"],\"ids\":[\"Africa\"],\"legendgroup\":\"Africa\",\"marker\":{\"color\":\"#636efa\",\"size\":[604511226],\"sizemode\":\"area\",\"sizeref\":9811051.535,\"symbol\":\"circle\"},\"mode\":\"markers\",\"name\":\"Africa\",\"orientation\":\"v\",\"showlegend\":true,\"type\":\"scatter\",\"x\":[604511226],\"xaxis\":\"x\",\"y\":[604511226],\"yaxis\":\"y\"},{\"hovertemplate\":\"<b>%{hovertext}</b><br><br>continent=North America<br>year=1988<br> Population=%{marker.size}<extra></extra>\",\"hovertext\":[\"North America\"],\"ids\":[\"North America\"],\"legendgroup\":\"North America\",\"marker\":{\"color\":\"#EF553B\",\"size\":[269220718],\"sizemode\":\"area\",\"sizeref\":9811051.535,\"symbol\":\"circle\"},\"mode\":\"markers\",\"name\":\"North America\",\"orientation\":\"v\",\"showlegend\":true,\"type\":\"scatter\",\"x\":[269220718],\"xaxis\":\"x\",\"y\":[269220718],\"yaxis\":\"y\"}],\"name\":\"1988\"},{\"data\":[{\"hovertemplate\":\"<b>%{hovertext}</b><br><br>continent=Africa<br>year=1989<br> Population=%{marker.size}<extra></extra>\",\"hovertext\":[\"Africa\"],\"ids\":[\"Africa\"],\"legendgroup\":\"Africa\",\"marker\":{\"color\":\"#636efa\",\"size\":[621167635],\"sizemode\":\"area\",\"sizeref\":9811051.535,\"symbol\":\"circle\"},\"mode\":\"markers\",\"name\":\"Africa\",\"orientation\":\"v\",\"showlegend\":true,\"type\":\"scatter\",\"x\":[621167635],\"xaxis\":\"x\",\"y\":[621167635],\"yaxis\":\"y\"},{\"hovertemplate\":\"<b>%{hovertext}</b><br><br>continent=North America<br>year=1989<br> Population=%{marker.size}<extra></extra>\",\"hovertext\":[\"North America\"],\"ids\":[\"North America\"],\"legendgroup\":\"North America\",\"marker\":{\"color\":\"#EF553B\",\"size\":[272317228],\"sizemode\":\"area\",\"sizeref\":9811051.535,\"symbol\":\"circle\"},\"mode\":\"markers\",\"name\":\"North America\",\"orientation\":\"v\",\"showlegend\":true,\"type\":\"scatter\",\"x\":[272317228],\"xaxis\":\"x\",\"y\":[272317228],\"yaxis\":\"y\"}],\"name\":\"1989\"},{\"data\":[{\"hovertemplate\":\"<b>%{hovertext}</b><br><br>continent=Africa<br>year=1990<br> Population=%{marker.size}<extra></extra>\",\"hovertext\":[\"Africa\"],\"ids\":[\"Africa\"],\"legendgroup\":\"Africa\",\"marker\":{\"color\":\"#636efa\",\"size\":[638157236],\"sizemode\":\"area\",\"sizeref\":9811051.535,\"symbol\":\"circle\"},\"mode\":\"markers\",\"name\":\"Africa\",\"orientation\":\"v\",\"showlegend\":true,\"type\":\"scatter\",\"x\":[638157236],\"xaxis\":\"x\",\"y\":[638157236],\"yaxis\":\"y\"},{\"hovertemplate\":\"<b>%{hovertext}</b><br><br>continent=North America<br>year=1990<br> Population=%{marker.size}<extra></extra>\",\"hovertext\":[\"North America\"],\"ids\":[\"North America\"],\"legendgroup\":\"North America\",\"marker\":{\"color\":\"#EF553B\",\"size\":[275860329],\"sizemode\":\"area\",\"sizeref\":9811051.535,\"symbol\":\"circle\"},\"mode\":\"markers\",\"name\":\"North America\",\"orientation\":\"v\",\"showlegend\":true,\"type\":\"scatter\",\"x\":[275860329],\"xaxis\":\"x\",\"y\":[275860329],\"yaxis\":\"y\"}],\"name\":\"1990\"},{\"data\":[{\"hovertemplate\":\"<b>%{hovertext}</b><br><br>continent=Africa<br>year=1991<br> Population=%{marker.size}<extra></extra>\",\"hovertext\":[\"Africa\"],\"ids\":[\"Africa\"],\"legendgroup\":\"Africa\",\"marker\":{\"color\":\"#636efa\",\"size\":[655040493],\"sizemode\":\"area\",\"sizeref\":9811051.535,\"symbol\":\"circle\"},\"mode\":\"markers\",\"name\":\"Africa\",\"orientation\":\"v\",\"showlegend\":true,\"type\":\"scatter\",\"x\":[655040493],\"xaxis\":\"x\",\"y\":[655040493],\"yaxis\":\"y\"},{\"hovertemplate\":\"<b>%{hovertext}</b><br><br>continent=North America<br>year=1991<br> Population=%{marker.size}<extra></extra>\",\"hovertext\":[\"North America\"],\"ids\":[\"North America\"],\"legendgroup\":\"North America\",\"marker\":{\"color\":\"#EF553B\",\"size\":[279695833],\"sizemode\":\"area\",\"sizeref\":9811051.535,\"symbol\":\"circle\"},\"mode\":\"markers\",\"name\":\"North America\",\"orientation\":\"v\",\"showlegend\":true,\"type\":\"scatter\",\"x\":[279695833],\"xaxis\":\"x\",\"y\":[279695833],\"yaxis\":\"y\"}],\"name\":\"1991\"},{\"data\":[{\"hovertemplate\":\"<b>%{hovertext}</b><br><br>continent=Africa<br>year=1992<br> Population=%{marker.size}<extra></extra>\",\"hovertext\":[\"Africa\"],\"ids\":[\"Africa\"],\"legendgroup\":\"Africa\",\"marker\":{\"color\":\"#636efa\",\"size\":[671931548],\"sizemode\":\"area\",\"sizeref\":9811051.535,\"symbol\":\"circle\"},\"mode\":\"markers\",\"name\":\"Africa\",\"orientation\":\"v\",\"showlegend\":true,\"type\":\"scatter\",\"x\":[671931548],\"xaxis\":\"x\",\"y\":[671931548],\"yaxis\":\"y\"},{\"hovertemplate\":\"<b>%{hovertext}</b><br><br>continent=North America<br>year=1992<br> Population=%{marker.size}<extra></extra>\",\"hovertext\":[\"North America\"],\"ids\":[\"North America\"],\"legendgroup\":\"North America\",\"marker\":{\"color\":\"#EF553B\",\"size\":[283643363],\"sizemode\":\"area\",\"sizeref\":9811051.535,\"symbol\":\"circle\"},\"mode\":\"markers\",\"name\":\"North America\",\"orientation\":\"v\",\"showlegend\":true,\"type\":\"scatter\",\"x\":[283643363],\"xaxis\":\"x\",\"y\":[283643363],\"yaxis\":\"y\"}],\"name\":\"1992\"},{\"data\":[{\"hovertemplate\":\"<b>%{hovertext}</b><br><br>continent=Africa<br>year=1993<br> Population=%{marker.size}<extra></extra>\",\"hovertext\":[\"Africa\"],\"ids\":[\"Africa\"],\"legendgroup\":\"Africa\",\"marker\":{\"color\":\"#636efa\",\"size\":[689139958],\"sizemode\":\"area\",\"sizeref\":9811051.535,\"symbol\":\"circle\"},\"mode\":\"markers\",\"name\":\"Africa\",\"orientation\":\"v\",\"showlegend\":true,\"type\":\"scatter\",\"x\":[689139958],\"xaxis\":\"x\",\"y\":[689139958],\"yaxis\":\"y\"},{\"hovertemplate\":\"<b>%{hovertext}</b><br><br>continent=North America<br>year=1993<br> Population=%{marker.size}<extra></extra>\",\"hovertext\":[\"North America\"],\"ids\":[\"North America\"],\"legendgroup\":\"North America\",\"marker\":{\"color\":\"#EF553B\",\"size\":[287568763],\"sizemode\":\"area\",\"sizeref\":9811051.535,\"symbol\":\"circle\"},\"mode\":\"markers\",\"name\":\"North America\",\"orientation\":\"v\",\"showlegend\":true,\"type\":\"scatter\",\"x\":[287568763],\"xaxis\":\"x\",\"y\":[287568763],\"yaxis\":\"y\"}],\"name\":\"1993\"},{\"data\":[{\"hovertemplate\":\"<b>%{hovertext}</b><br><br>continent=Africa<br>year=1994<br> Population=%{marker.size}<extra></extra>\",\"hovertext\":[\"Africa\"],\"ids\":[\"Africa\"],\"legendgroup\":\"Africa\",\"marker\":{\"color\":\"#636efa\",\"size\":[706488294],\"sizemode\":\"area\",\"sizeref\":9811051.535,\"symbol\":\"circle\"},\"mode\":\"markers\",\"name\":\"Africa\",\"orientation\":\"v\",\"showlegend\":true,\"type\":\"scatter\",\"x\":[706488294],\"xaxis\":\"x\",\"y\":[706488294],\"yaxis\":\"y\"},{\"hovertemplate\":\"<b>%{hovertext}</b><br><br>continent=North America<br>year=1994<br> Population=%{marker.size}<extra></extra>\",\"hovertext\":[\"North America\"],\"ids\":[\"North America\"],\"legendgroup\":\"North America\",\"marker\":{\"color\":\"#EF553B\",\"size\":[291375997],\"sizemode\":\"area\",\"sizeref\":9811051.535,\"symbol\":\"circle\"},\"mode\":\"markers\",\"name\":\"North America\",\"orientation\":\"v\",\"showlegend\":true,\"type\":\"scatter\",\"x\":[291375997],\"xaxis\":\"x\",\"y\":[291375997],\"yaxis\":\"y\"}],\"name\":\"1994\"},{\"data\":[{\"hovertemplate\":\"<b>%{hovertext}</b><br><br>continent=Africa<br>year=1995<br> Population=%{marker.size}<extra></extra>\",\"hovertext\":[\"Africa\"],\"ids\":[\"Africa\"],\"legendgroup\":\"Africa\",\"marker\":{\"color\":\"#636efa\",\"size\":[724331670],\"sizemode\":\"area\",\"sizeref\":9811051.535,\"symbol\":\"circle\"},\"mode\":\"markers\",\"name\":\"Africa\",\"orientation\":\"v\",\"showlegend\":true,\"type\":\"scatter\",\"x\":[724331670],\"xaxis\":\"x\",\"y\":[724331670],\"yaxis\":\"y\"},{\"hovertemplate\":\"<b>%{hovertext}</b><br><br>continent=North America<br>year=1995<br> Population=%{marker.size}<extra></extra>\",\"hovertext\":[\"North America\"],\"ids\":[\"North America\"],\"legendgroup\":\"North America\",\"marker\":{\"color\":\"#EF553B\",\"size\":[295071643],\"sizemode\":\"area\",\"sizeref\":9811051.535,\"symbol\":\"circle\"},\"mode\":\"markers\",\"name\":\"North America\",\"orientation\":\"v\",\"showlegend\":true,\"type\":\"scatter\",\"x\":[295071643],\"xaxis\":\"x\",\"y\":[295071643],\"yaxis\":\"y\"}],\"name\":\"1995\"},{\"data\":[{\"hovertemplate\":\"<b>%{hovertext}</b><br><br>continent=Africa<br>year=1996<br> Population=%{marker.size}<extra></extra>\",\"hovertext\":[\"Africa\"],\"ids\":[\"Africa\"],\"legendgroup\":\"Africa\",\"marker\":{\"color\":\"#636efa\",\"size\":[742764748],\"sizemode\":\"area\",\"sizeref\":9811051.535,\"symbol\":\"circle\"},\"mode\":\"markers\",\"name\":\"Africa\",\"orientation\":\"v\",\"showlegend\":true,\"type\":\"scatter\",\"x\":[742764748],\"xaxis\":\"x\",\"y\":[742764748],\"yaxis\":\"y\"},{\"hovertemplate\":\"<b>%{hovertext}</b><br><br>continent=North America<br>year=1996<br> Population=%{marker.size}<extra></extra>\",\"hovertext\":[\"North America\"],\"ids\":[\"North America\"],\"legendgroup\":\"North America\",\"marker\":{\"color\":\"#EF553B\",\"size\":[298700407],\"sizemode\":\"area\",\"sizeref\":9811051.535,\"symbol\":\"circle\"},\"mode\":\"markers\",\"name\":\"North America\",\"orientation\":\"v\",\"showlegend\":true,\"type\":\"scatter\",\"x\":[298700407],\"xaxis\":\"x\",\"y\":[298700407],\"yaxis\":\"y\"}],\"name\":\"1996\"},{\"data\":[{\"hovertemplate\":\"<b>%{hovertext}</b><br><br>continent=Africa<br>year=1997<br> Population=%{marker.size}<extra></extra>\",\"hovertext\":[\"Africa\"],\"ids\":[\"Africa\"],\"legendgroup\":\"Africa\",\"marker\":{\"color\":\"#636efa\",\"size\":[761224444],\"sizemode\":\"area\",\"sizeref\":9811051.535,\"symbol\":\"circle\"},\"mode\":\"markers\",\"name\":\"Africa\",\"orientation\":\"v\",\"showlegend\":true,\"type\":\"scatter\",\"x\":[761224444],\"xaxis\":\"x\",\"y\":[761224444],\"yaxis\":\"y\"},{\"hovertemplate\":\"<b>%{hovertext}</b><br><br>continent=North America<br>year=1997<br> Population=%{marker.size}<extra></extra>\",\"hovertext\":[\"North America\"],\"ids\":[\"North America\"],\"legendgroup\":\"North America\",\"marker\":{\"color\":\"#EF553B\",\"size\":[302400883],\"sizemode\":\"area\",\"sizeref\":9811051.535,\"symbol\":\"circle\"},\"mode\":\"markers\",\"name\":\"North America\",\"orientation\":\"v\",\"showlegend\":true,\"type\":\"scatter\",\"x\":[302400883],\"xaxis\":\"x\",\"y\":[302400883],\"yaxis\":\"y\"}],\"name\":\"1997\"},{\"data\":[{\"hovertemplate\":\"<b>%{hovertext}</b><br><br>continent=Africa<br>year=1998<br> Population=%{marker.size}<extra></extra>\",\"hovertext\":[\"Africa\"],\"ids\":[\"Africa\"],\"legendgroup\":\"Africa\",\"marker\":{\"color\":\"#636efa\",\"size\":[779908035],\"sizemode\":\"area\",\"sizeref\":9811051.535,\"symbol\":\"circle\"},\"mode\":\"markers\",\"name\":\"Africa\",\"orientation\":\"v\",\"showlegend\":true,\"type\":\"scatter\",\"x\":[779908035],\"xaxis\":\"x\",\"y\":[779908035],\"yaxis\":\"y\"},{\"hovertemplate\":\"<b>%{hovertext}</b><br><br>continent=North America<br>year=1998<br> Population=%{marker.size}<extra></extra>\",\"hovertext\":[\"North America\"],\"ids\":[\"North America\"],\"legendgroup\":\"North America\",\"marker\":{\"color\":\"#EF553B\",\"size\":[306102899],\"sizemode\":\"area\",\"sizeref\":9811051.535,\"symbol\":\"circle\"},\"mode\":\"markers\",\"name\":\"North America\",\"orientation\":\"v\",\"showlegend\":true,\"type\":\"scatter\",\"x\":[306102899],\"xaxis\":\"x\",\"y\":[306102899],\"yaxis\":\"y\"}],\"name\":\"1998\"},{\"data\":[{\"hovertemplate\":\"<b>%{hovertext}</b><br><br>continent=Africa<br>year=1999<br> Population=%{marker.size}<extra></extra>\",\"hovertext\":[\"Africa\"],\"ids\":[\"Africa\"],\"legendgroup\":\"Africa\",\"marker\":{\"color\":\"#636efa\",\"size\":[799099340],\"sizemode\":\"area\",\"sizeref\":9811051.535,\"symbol\":\"circle\"},\"mode\":\"markers\",\"name\":\"Africa\",\"orientation\":\"v\",\"showlegend\":true,\"type\":\"scatter\",\"x\":[799099340],\"xaxis\":\"x\",\"y\":[799099340],\"yaxis\":\"y\"},{\"hovertemplate\":\"<b>%{hovertext}</b><br><br>continent=North America<br>year=1999<br> Population=%{marker.size}<extra></extra>\",\"hovertext\":[\"North America\"],\"ids\":[\"North America\"],\"legendgroup\":\"North America\",\"marker\":{\"color\":\"#EF553B\",\"size\":[309704740],\"sizemode\":\"area\",\"sizeref\":9811051.535,\"symbol\":\"circle\"},\"mode\":\"markers\",\"name\":\"North America\",\"orientation\":\"v\",\"showlegend\":true,\"type\":\"scatter\",\"x\":[309704740],\"xaxis\":\"x\",\"y\":[309704740],\"yaxis\":\"y\"}],\"name\":\"1999\"},{\"data\":[{\"hovertemplate\":\"<b>%{hovertext}</b><br><br>continent=Africa<br>year=2000<br> Population=%{marker.size}<extra></extra>\",\"hovertext\":[\"Africa\"],\"ids\":[\"Africa\"],\"legendgroup\":\"Africa\",\"marker\":{\"color\":\"#636efa\",\"size\":[818952057],\"sizemode\":\"area\",\"sizeref\":9811051.535,\"symbol\":\"circle\"},\"mode\":\"markers\",\"name\":\"Africa\",\"orientation\":\"v\",\"showlegend\":true,\"type\":\"scatter\",\"x\":[818952057],\"xaxis\":\"x\",\"y\":[818952057],\"yaxis\":\"y\"},{\"hovertemplate\":\"<b>%{hovertext}</b><br><br>continent=North America<br>year=2000<br> Population=%{marker.size}<extra></extra>\",\"hovertext\":[\"North America\"],\"ids\":[\"North America\"],\"legendgroup\":\"North America\",\"marker\":{\"color\":\"#EF553B\",\"size\":[313205695],\"sizemode\":\"area\",\"sizeref\":9811051.535,\"symbol\":\"circle\"},\"mode\":\"markers\",\"name\":\"North America\",\"orientation\":\"v\",\"showlegend\":true,\"type\":\"scatter\",\"x\":[313205695],\"xaxis\":\"x\",\"y\":[313205695],\"yaxis\":\"y\"}],\"name\":\"2000\"},{\"data\":[{\"hovertemplate\":\"<b>%{hovertext}</b><br><br>continent=Africa<br>year=2001<br> Population=%{marker.size}<extra></extra>\",\"hovertext\":[\"Africa\"],\"ids\":[\"Africa\"],\"legendgroup\":\"Africa\",\"marker\":{\"color\":\"#636efa\",\"size\":[839463871],\"sizemode\":\"area\",\"sizeref\":9811051.535,\"symbol\":\"circle\"},\"mode\":\"markers\",\"name\":\"Africa\",\"orientation\":\"v\",\"showlegend\":true,\"type\":\"scatter\",\"x\":[839463871],\"xaxis\":\"x\",\"y\":[839463871],\"yaxis\":\"y\"},{\"hovertemplate\":\"<b>%{hovertext}</b><br><br>continent=North America<br>year=2001<br> Population=%{marker.size}<extra></extra>\",\"hovertext\":[\"North America\"],\"ids\":[\"North America\"],\"legendgroup\":\"North America\",\"marker\":{\"color\":\"#EF553B\",\"size\":[316597666],\"sizemode\":\"area\",\"sizeref\":9811051.535,\"symbol\":\"circle\"},\"mode\":\"markers\",\"name\":\"North America\",\"orientation\":\"v\",\"showlegend\":true,\"type\":\"scatter\",\"x\":[316597666],\"xaxis\":\"x\",\"y\":[316597666],\"yaxis\":\"y\"}],\"name\":\"2001\"},{\"data\":[{\"hovertemplate\":\"<b>%{hovertext}</b><br><br>continent=Africa<br>year=2002<br> Population=%{marker.size}<extra></extra>\",\"hovertext\":[\"Africa\"],\"ids\":[\"Africa\"],\"legendgroup\":\"Africa\",\"marker\":{\"color\":\"#636efa\",\"size\":[860611461],\"sizemode\":\"area\",\"sizeref\":9811051.535,\"symbol\":\"circle\"},\"mode\":\"markers\",\"name\":\"Africa\",\"orientation\":\"v\",\"showlegend\":true,\"type\":\"scatter\",\"x\":[860611461],\"xaxis\":\"x\",\"y\":[860611461],\"yaxis\":\"y\"},{\"hovertemplate\":\"<b>%{hovertext}</b><br><br>continent=North America<br>year=2002<br> Population=%{marker.size}<extra></extra>\",\"hovertext\":[\"North America\"],\"ids\":[\"North America\"],\"legendgroup\":\"North America\",\"marker\":{\"color\":\"#EF553B\",\"size\":[319797595],\"sizemode\":\"area\",\"sizeref\":9811051.535,\"symbol\":\"circle\"},\"mode\":\"markers\",\"name\":\"North America\",\"orientation\":\"v\",\"showlegend\":true,\"type\":\"scatter\",\"x\":[319797595],\"xaxis\":\"x\",\"y\":[319797595],\"yaxis\":\"y\"}],\"name\":\"2002\"},{\"data\":[{\"hovertemplate\":\"<b>%{hovertext}</b><br><br>continent=Africa<br>year=2003<br> Population=%{marker.size}<extra></extra>\",\"hovertext\":[\"Africa\"],\"ids\":[\"Africa\"],\"legendgroup\":\"Africa\",\"marker\":{\"color\":\"#636efa\",\"size\":[882349262],\"sizemode\":\"area\",\"sizeref\":9811051.535,\"symbol\":\"circle\"},\"mode\":\"markers\",\"name\":\"Africa\",\"orientation\":\"v\",\"showlegend\":true,\"type\":\"scatter\",\"x\":[882349262],\"xaxis\":\"x\",\"y\":[882349262],\"yaxis\":\"y\"},{\"hovertemplate\":\"<b>%{hovertext}</b><br><br>continent=North America<br>year=2003<br> Population=%{marker.size}<extra></extra>\",\"hovertext\":[\"North America\"],\"ids\":[\"North America\"],\"legendgroup\":\"North America\",\"marker\":{\"color\":\"#EF553B\",\"size\":[322854669],\"sizemode\":\"area\",\"sizeref\":9811051.535,\"symbol\":\"circle\"},\"mode\":\"markers\",\"name\":\"North America\",\"orientation\":\"v\",\"showlegend\":true,\"type\":\"scatter\",\"x\":[322854669],\"xaxis\":\"x\",\"y\":[322854669],\"yaxis\":\"y\"}],\"name\":\"2003\"},{\"data\":[{\"hovertemplate\":\"<b>%{hovertext}</b><br><br>continent=Africa<br>year=2004<br> Population=%{marker.size}<extra></extra>\",\"hovertext\":[\"Africa\"],\"ids\":[\"Africa\"],\"legendgroup\":\"Africa\",\"marker\":{\"color\":\"#636efa\",\"size\":[904781335],\"sizemode\":\"area\",\"sizeref\":9811051.535,\"symbol\":\"circle\"},\"mode\":\"markers\",\"name\":\"Africa\",\"orientation\":\"v\",\"showlegend\":true,\"type\":\"scatter\",\"x\":[904781335],\"xaxis\":\"x\",\"y\":[904781335],\"yaxis\":\"y\"},{\"hovertemplate\":\"<b>%{hovertext}</b><br><br>continent=North America<br>year=2004<br> Population=%{marker.size}<extra></extra>\",\"hovertext\":[\"North America\"],\"ids\":[\"North America\"],\"legendgroup\":\"North America\",\"marker\":{\"color\":\"#EF553B\",\"size\":[325985321],\"sizemode\":\"area\",\"sizeref\":9811051.535,\"symbol\":\"circle\"},\"mode\":\"markers\",\"name\":\"North America\",\"orientation\":\"v\",\"showlegend\":true,\"type\":\"scatter\",\"x\":[325985321],\"xaxis\":\"x\",\"y\":[325985321],\"yaxis\":\"y\"}],\"name\":\"2004\"},{\"data\":[{\"hovertemplate\":\"<b>%{hovertext}</b><br><br>continent=Africa<br>year=2005<br> Population=%{marker.size}<extra></extra>\",\"hovertext\":[\"Africa\"],\"ids\":[\"Africa\"],\"legendgroup\":\"Africa\",\"marker\":{\"color\":\"#636efa\",\"size\":[927898100],\"sizemode\":\"area\",\"sizeref\":9811051.535,\"symbol\":\"circle\"},\"mode\":\"markers\",\"name\":\"Africa\",\"orientation\":\"v\",\"showlegend\":true,\"type\":\"scatter\",\"x\":[927898100],\"xaxis\":\"x\",\"y\":[927898100],\"yaxis\":\"y\"},{\"hovertemplate\":\"<b>%{hovertext}</b><br><br>continent=North America<br>year=2005<br> Population=%{marker.size}<extra></extra>\",\"hovertext\":[\"North America\"],\"ids\":[\"North America\"],\"legendgroup\":\"North America\",\"marker\":{\"color\":\"#EF553B\",\"size\":[329184546],\"sizemode\":\"area\",\"sizeref\":9811051.535,\"symbol\":\"circle\"},\"mode\":\"markers\",\"name\":\"North America\",\"orientation\":\"v\",\"showlegend\":true,\"type\":\"scatter\",\"x\":[329184546],\"xaxis\":\"x\",\"y\":[329184546],\"yaxis\":\"y\"}],\"name\":\"2005\"},{\"data\":[{\"hovertemplate\":\"<b>%{hovertext}</b><br><br>continent=Africa<br>year=2006<br> Population=%{marker.size}<extra></extra>\",\"hovertext\":[\"Africa\"],\"ids\":[\"Africa\"],\"legendgroup\":\"Africa\",\"marker\":{\"color\":\"#636efa\",\"size\":[951740272],\"sizemode\":\"area\",\"sizeref\":9811051.535,\"symbol\":\"circle\"},\"mode\":\"markers\",\"name\":\"Africa\",\"orientation\":\"v\",\"showlegend\":true,\"type\":\"scatter\",\"x\":[951740272],\"xaxis\":\"x\",\"y\":[951740272],\"yaxis\":\"y\"},{\"hovertemplate\":\"<b>%{hovertext}</b><br><br>continent=North America<br>year=2006<br> Population=%{marker.size}<extra></extra>\",\"hovertext\":[\"North America\"],\"ids\":[\"North America\"],\"legendgroup\":\"North America\",\"marker\":{\"color\":\"#EF553B\",\"size\":[332410934],\"sizemode\":\"area\",\"sizeref\":9811051.535,\"symbol\":\"circle\"},\"mode\":\"markers\",\"name\":\"North America\",\"orientation\":\"v\",\"showlegend\":true,\"type\":\"scatter\",\"x\":[332410934],\"xaxis\":\"x\",\"y\":[332410934],\"yaxis\":\"y\"}],\"name\":\"2006\"},{\"data\":[{\"hovertemplate\":\"<b>%{hovertext}</b><br><br>continent=Africa<br>year=2007<br> Population=%{marker.size}<extra></extra>\",\"hovertext\":[\"Africa\"],\"ids\":[\"Africa\"],\"legendgroup\":\"Africa\",\"marker\":{\"color\":\"#636efa\",\"size\":[976461444],\"sizemode\":\"area\",\"sizeref\":9811051.535,\"symbol\":\"circle\"},\"mode\":\"markers\",\"name\":\"Africa\",\"orientation\":\"v\",\"showlegend\":true,\"type\":\"scatter\",\"x\":[976461444],\"xaxis\":\"x\",\"y\":[976461444],\"yaxis\":\"y\"},{\"hovertemplate\":\"<b>%{hovertext}</b><br><br>continent=North America<br>year=2007<br> Population=%{marker.size}<extra></extra>\",\"hovertext\":[\"North America\"],\"ids\":[\"North America\"],\"legendgroup\":\"North America\",\"marker\":{\"color\":\"#EF553B\",\"size\":[335731785],\"sizemode\":\"area\",\"sizeref\":9811051.535,\"symbol\":\"circle\"},\"mode\":\"markers\",\"name\":\"North America\",\"orientation\":\"v\",\"showlegend\":true,\"type\":\"scatter\",\"x\":[335731785],\"xaxis\":\"x\",\"y\":[335731785],\"yaxis\":\"y\"}],\"name\":\"2007\"},{\"data\":[{\"hovertemplate\":\"<b>%{hovertext}</b><br><br>continent=Africa<br>year=2008<br> Population=%{marker.size}<extra></extra>\",\"hovertext\":[\"Africa\"],\"ids\":[\"Africa\"],\"legendgroup\":\"Africa\",\"marker\":{\"color\":\"#636efa\",\"size\":[1001981281],\"sizemode\":\"area\",\"sizeref\":9811051.535,\"symbol\":\"circle\"},\"mode\":\"markers\",\"name\":\"Africa\",\"orientation\":\"v\",\"showlegend\":true,\"type\":\"scatter\",\"x\":[1001981281],\"xaxis\":\"x\",\"y\":[1001981281],\"yaxis\":\"y\"},{\"hovertemplate\":\"<b>%{hovertext}</b><br><br>continent=North America<br>year=2008<br> Population=%{marker.size}<extra></extra>\",\"hovertext\":[\"North America\"],\"ids\":[\"North America\"],\"legendgroup\":\"North America\",\"marker\":{\"color\":\"#EF553B\",\"size\":[339039344],\"sizemode\":\"area\",\"sizeref\":9811051.535,\"symbol\":\"circle\"},\"mode\":\"markers\",\"name\":\"North America\",\"orientation\":\"v\",\"showlegend\":true,\"type\":\"scatter\",\"x\":[339039344],\"xaxis\":\"x\",\"y\":[339039344],\"yaxis\":\"y\"}],\"name\":\"2008\"},{\"data\":[{\"hovertemplate\":\"<b>%{hovertext}</b><br><br>continent=Africa<br>year=2009<br> Population=%{marker.size}<extra></extra>\",\"hovertext\":[\"Africa\"],\"ids\":[\"Africa\"],\"legendgroup\":\"Africa\",\"marker\":{\"color\":\"#636efa\",\"size\":[1028200282],\"sizemode\":\"area\",\"sizeref\":9811051.535,\"symbol\":\"circle\"},\"mode\":\"markers\",\"name\":\"Africa\",\"orientation\":\"v\",\"showlegend\":true,\"type\":\"scatter\",\"x\":[1028200282],\"xaxis\":\"x\",\"y\":[1028200282],\"yaxis\":\"y\"},{\"hovertemplate\":\"<b>%{hovertext}</b><br><br>continent=North America<br>year=2009<br> Population=%{marker.size}<extra></extra>\",\"hovertext\":[\"North America\"],\"ids\":[\"North America\"],\"legendgroup\":\"North America\",\"marker\":{\"color\":\"#EF553B\",\"size\":[342231802],\"sizemode\":\"area\",\"sizeref\":9811051.535,\"symbol\":\"circle\"},\"mode\":\"markers\",\"name\":\"North America\",\"orientation\":\"v\",\"showlegend\":true,\"type\":\"scatter\",\"x\":[342231802],\"xaxis\":\"x\",\"y\":[342231802],\"yaxis\":\"y\"}],\"name\":\"2009\"},{\"data\":[{\"hovertemplate\":\"<b>%{hovertext}</b><br><br>continent=Africa<br>year=2010<br> Population=%{marker.size}<extra></extra>\",\"hovertext\":[\"Africa\"],\"ids\":[\"Africa\"],\"legendgroup\":\"Africa\",\"marker\":{\"color\":\"#636efa\",\"size\":[1055233397],\"sizemode\":\"area\",\"sizeref\":9811051.535,\"symbol\":\"circle\"},\"mode\":\"markers\",\"name\":\"Africa\",\"orientation\":\"v\",\"showlegend\":true,\"type\":\"scatter\",\"x\":[1055233397],\"xaxis\":\"x\",\"y\":[1055233397],\"yaxis\":\"y\"},{\"hovertemplate\":\"<b>%{hovertext}</b><br><br>continent=North America<br>year=2010<br> Population=%{marker.size}<extra></extra>\",\"hovertext\":[\"North America\"],\"ids\":[\"North America\"],\"legendgroup\":\"North America\",\"marker\":{\"color\":\"#EF553B\",\"size\":[345272107],\"sizemode\":\"area\",\"sizeref\":9811051.535,\"symbol\":\"circle\"},\"mode\":\"markers\",\"name\":\"North America\",\"orientation\":\"v\",\"showlegend\":true,\"type\":\"scatter\",\"x\":[345272107],\"xaxis\":\"x\",\"y\":[345272107],\"yaxis\":\"y\"}],\"name\":\"2010\"},{\"data\":[{\"hovertemplate\":\"<b>%{hovertext}</b><br><br>continent=Africa<br>year=2011<br> Population=%{marker.size}<extra></extra>\",\"hovertext\":[\"Africa\"],\"ids\":[\"Africa\"],\"legendgroup\":\"Africa\",\"marker\":{\"color\":\"#636efa\",\"size\":[1082675800],\"sizemode\":\"area\",\"sizeref\":9811051.535,\"symbol\":\"circle\"},\"mode\":\"markers\",\"name\":\"Africa\",\"orientation\":\"v\",\"showlegend\":true,\"type\":\"scatter\",\"x\":[1082675800],\"xaxis\":\"x\",\"y\":[1082675800],\"yaxis\":\"y\"},{\"hovertemplate\":\"<b>%{hovertext}</b><br><br>continent=North America<br>year=2011<br> Population=%{marker.size}<extra></extra>\",\"hovertext\":[\"North America\"],\"ids\":[\"North America\"],\"legendgroup\":\"North America\",\"marker\":{\"color\":\"#EF553B\",\"size\":[348326006],\"sizemode\":\"area\",\"sizeref\":9811051.535,\"symbol\":\"circle\"},\"mode\":\"markers\",\"name\":\"North America\",\"orientation\":\"v\",\"showlegend\":true,\"type\":\"scatter\",\"x\":[348326006],\"xaxis\":\"x\",\"y\":[348326006],\"yaxis\":\"y\"}],\"name\":\"2011\"},{\"data\":[{\"hovertemplate\":\"<b>%{hovertext}</b><br><br>continent=Africa<br>year=2012<br> Population=%{marker.size}<extra></extra>\",\"hovertext\":[\"Africa\"],\"ids\":[\"Africa\"],\"legendgroup\":\"Africa\",\"marker\":{\"color\":\"#636efa\",\"size\":[1110797234],\"sizemode\":\"area\",\"sizeref\":9811051.535,\"symbol\":\"circle\"},\"mode\":\"markers\",\"name\":\"Africa\",\"orientation\":\"v\",\"showlegend\":true,\"type\":\"scatter\",\"x\":[1110797234],\"xaxis\":\"x\",\"y\":[1110797234],\"yaxis\":\"y\"},{\"hovertemplate\":\"<b>%{hovertext}</b><br><br>continent=North America<br>year=2012<br> Population=%{marker.size}<extra></extra>\",\"hovertext\":[\"North America\"],\"ids\":[\"North America\"],\"legendgroup\":\"North America\",\"marker\":{\"color\":\"#EF553B\",\"size\":[351468986],\"sizemode\":\"area\",\"sizeref\":9811051.535,\"symbol\":\"circle\"},\"mode\":\"markers\",\"name\":\"North America\",\"orientation\":\"v\",\"showlegend\":true,\"type\":\"scatter\",\"x\":[351468986],\"xaxis\":\"x\",\"y\":[351468986],\"yaxis\":\"y\"}],\"name\":\"2012\"},{\"data\":[{\"hovertemplate\":\"<b>%{hovertext}</b><br><br>continent=Africa<br>year=2013<br> Population=%{marker.size}<extra></extra>\",\"hovertext\":[\"Africa\"],\"ids\":[\"Africa\"],\"legendgroup\":\"Africa\",\"marker\":{\"color\":\"#636efa\",\"size\":[1140180580],\"sizemode\":\"area\",\"sizeref\":9811051.535,\"symbol\":\"circle\"},\"mode\":\"markers\",\"name\":\"Africa\",\"orientation\":\"v\",\"showlegend\":true,\"type\":\"scatter\",\"x\":[1140180580],\"xaxis\":\"x\",\"y\":[1140180580],\"yaxis\":\"y\"},{\"hovertemplate\":\"<b>%{hovertext}</b><br><br>continent=North America<br>year=2013<br> Population=%{marker.size}<extra></extra>\",\"hovertext\":[\"North America\"],\"ids\":[\"North America\"],\"legendgroup\":\"North America\",\"marker\":{\"color\":\"#EF553B\",\"size\":[354564457],\"sizemode\":\"area\",\"sizeref\":9811051.535,\"symbol\":\"circle\"},\"mode\":\"markers\",\"name\":\"North America\",\"orientation\":\"v\",\"showlegend\":true,\"type\":\"scatter\",\"x\":[354564457],\"xaxis\":\"x\",\"y\":[354564457],\"yaxis\":\"y\"}],\"name\":\"2013\"},{\"data\":[{\"hovertemplate\":\"<b>%{hovertext}</b><br><br>continent=Africa<br>year=2014<br> Population=%{marker.size}<extra></extra>\",\"hovertext\":[\"Africa\"],\"ids\":[\"Africa\"],\"legendgroup\":\"Africa\",\"marker\":{\"color\":\"#636efa\",\"size\":[1170299023],\"sizemode\":\"area\",\"sizeref\":9811051.535,\"symbol\":\"circle\"},\"mode\":\"markers\",\"name\":\"Africa\",\"orientation\":\"v\",\"showlegend\":true,\"type\":\"scatter\",\"x\":[1170299023],\"xaxis\":\"x\",\"y\":[1170299023],\"yaxis\":\"y\"},{\"hovertemplate\":\"<b>%{hovertext}</b><br><br>continent=North America<br>year=2014<br> Population=%{marker.size}<extra></extra>\",\"hovertext\":[\"North America\"],\"ids\":[\"North America\"],\"legendgroup\":\"North America\",\"marker\":{\"color\":\"#EF553B\",\"size\":[357563868],\"sizemode\":\"area\",\"sizeref\":9811051.535,\"symbol\":\"circle\"},\"mode\":\"markers\",\"name\":\"North America\",\"orientation\":\"v\",\"showlegend\":true,\"type\":\"scatter\",\"x\":[357563868],\"xaxis\":\"x\",\"y\":[357563868],\"yaxis\":\"y\"}],\"name\":\"2014\"},{\"data\":[{\"hovertemplate\":\"<b>%{hovertext}</b><br><br>continent=Africa<br>year=2015<br> Population=%{marker.size}<extra></extra>\",\"hovertext\":[\"Africa\"],\"ids\":[\"Africa\"],\"legendgroup\":\"Africa\",\"marker\":{\"color\":\"#636efa\",\"size\":[1201107938],\"sizemode\":\"area\",\"sizeref\":9811051.535,\"symbol\":\"circle\"},\"mode\":\"markers\",\"name\":\"Africa\",\"orientation\":\"v\",\"showlegend\":true,\"type\":\"scatter\",\"x\":[1201107938],\"xaxis\":\"x\",\"y\":[1201107938],\"yaxis\":\"y\"},{\"hovertemplate\":\"<b>%{hovertext}</b><br><br>continent=North America<br>year=2015<br> Population=%{marker.size}<extra></extra>\",\"hovertext\":[\"North America\"],\"ids\":[\"North America\"],\"legendgroup\":\"North America\",\"marker\":{\"color\":\"#EF553B\",\"size\":[360464919],\"sizemode\":\"area\",\"sizeref\":9811051.535,\"symbol\":\"circle\"},\"mode\":\"markers\",\"name\":\"North America\",\"orientation\":\"v\",\"showlegend\":true,\"type\":\"scatter\",\"x\":[360464919],\"xaxis\":\"x\",\"y\":[360464919],\"yaxis\":\"y\"}],\"name\":\"2015\"},{\"data\":[{\"hovertemplate\":\"<b>%{hovertext}</b><br><br>continent=Africa<br>year=2016<br> Population=%{marker.size}<extra></extra>\",\"hovertext\":[\"Africa\"],\"ids\":[\"Africa\"],\"legendgroup\":\"Africa\",\"marker\":{\"color\":\"#636efa\",\"size\":[1232111603],\"sizemode\":\"area\",\"sizeref\":9811051.535,\"symbol\":\"circle\"},\"mode\":\"markers\",\"name\":\"Africa\",\"orientation\":\"v\",\"showlegend\":true,\"type\":\"scatter\",\"x\":[1232111603],\"xaxis\":\"x\",\"y\":[1232111603],\"yaxis\":\"y\"},{\"hovertemplate\":\"<b>%{hovertext}</b><br><br>continent=North America<br>year=2016<br> Population=%{marker.size}<extra></extra>\",\"hovertext\":[\"North America\"],\"ids\":[\"North America\"],\"legendgroup\":\"North America\",\"marker\":{\"color\":\"#EF553B\",\"size\":[363448679],\"sizemode\":\"area\",\"sizeref\":9811051.535,\"symbol\":\"circle\"},\"mode\":\"markers\",\"name\":\"North America\",\"orientation\":\"v\",\"showlegend\":true,\"type\":\"scatter\",\"x\":[363448679],\"xaxis\":\"x\",\"y\":[363448679],\"yaxis\":\"y\"}],\"name\":\"2016\"},{\"data\":[{\"hovertemplate\":\"<b>%{hovertext}</b><br><br>continent=Africa<br>year=2017<br> Population=%{marker.size}<extra></extra>\",\"hovertext\":[\"Africa\"],\"ids\":[\"Africa\"],\"legendgroup\":\"Africa\",\"marker\":{\"color\":\"#636efa\",\"size\":[1263333733],\"sizemode\":\"area\",\"sizeref\":9811051.535,\"symbol\":\"circle\"},\"mode\":\"markers\",\"name\":\"Africa\",\"orientation\":\"v\",\"showlegend\":true,\"type\":\"scatter\",\"x\":[1263333733],\"xaxis\":\"x\",\"y\":[1263333733],\"yaxis\":\"y\"},{\"hovertemplate\":\"<b>%{hovertext}</b><br><br>continent=North America<br>year=2017<br> Population=%{marker.size}<extra></extra>\",\"hovertext\":[\"North America\"],\"ids\":[\"North America\"],\"legendgroup\":\"North America\",\"marker\":{\"color\":\"#EF553B\",\"size\":[366470737],\"sizemode\":\"area\",\"sizeref\":9811051.535,\"symbol\":\"circle\"},\"mode\":\"markers\",\"name\":\"North America\",\"orientation\":\"v\",\"showlegend\":true,\"type\":\"scatter\",\"x\":[366470737],\"xaxis\":\"x\",\"y\":[366470737],\"yaxis\":\"y\"}],\"name\":\"2017\"},{\"data\":[{\"hovertemplate\":\"<b>%{hovertext}</b><br><br>continent=Africa<br>year=2018<br> Population=%{marker.size}<extra></extra>\",\"hovertext\":[\"Africa\"],\"ids\":[\"Africa\"],\"legendgroup\":\"Africa\",\"marker\":{\"color\":\"#636efa\",\"size\":[1295265049],\"sizemode\":\"area\",\"sizeref\":9811051.535,\"symbol\":\"circle\"},\"mode\":\"markers\",\"name\":\"Africa\",\"orientation\":\"v\",\"showlegend\":true,\"type\":\"scatter\",\"x\":[1295265049],\"xaxis\":\"x\",\"y\":[1295265049],\"yaxis\":\"y\"},{\"hovertemplate\":\"<b>%{hovertext}</b><br><br>continent=North America<br>year=2018<br> Population=%{marker.size}<extra></extra>\",\"hovertext\":[\"North America\"],\"ids\":[\"North America\"],\"legendgroup\":\"North America\",\"marker\":{\"color\":\"#EF553B\",\"size\":[369300738],\"sizemode\":\"area\",\"sizeref\":9811051.535,\"symbol\":\"circle\"},\"mode\":\"markers\",\"name\":\"North America\",\"orientation\":\"v\",\"showlegend\":true,\"type\":\"scatter\",\"x\":[369300738],\"xaxis\":\"x\",\"y\":[369300738],\"yaxis\":\"y\"}],\"name\":\"2018\"},{\"data\":[{\"hovertemplate\":\"<b>%{hovertext}</b><br><br>continent=Africa<br>year=2019<br> Population=%{marker.size}<extra></extra>\",\"hovertext\":[\"Africa\"],\"ids\":[\"Africa\"],\"legendgroup\":\"Africa\",\"marker\":{\"color\":\"#636efa\",\"size\":[1327701163],\"sizemode\":\"area\",\"sizeref\":9811051.535,\"symbol\":\"circle\"},\"mode\":\"markers\",\"name\":\"Africa\",\"orientation\":\"v\",\"showlegend\":true,\"type\":\"scatter\",\"x\":[1327701163],\"xaxis\":\"x\",\"y\":[1327701163],\"yaxis\":\"y\"},{\"hovertemplate\":\"<b>%{hovertext}</b><br><br>continent=North America<br>year=2019<br> Population=%{marker.size}<extra></extra>\",\"hovertext\":[\"North America\"],\"ids\":[\"North America\"],\"legendgroup\":\"North America\",\"marker\":{\"color\":\"#EF553B\",\"size\":[371967922],\"sizemode\":\"area\",\"sizeref\":9811051.535,\"symbol\":\"circle\"},\"mode\":\"markers\",\"name\":\"North America\",\"orientation\":\"v\",\"showlegend\":true,\"type\":\"scatter\",\"x\":[371967922],\"xaxis\":\"x\",\"y\":[371967922],\"yaxis\":\"y\"}],\"name\":\"2019\"},{\"data\":[{\"hovertemplate\":\"<b>%{hovertext}</b><br><br>continent=Africa<br>year=2020<br> Population=%{marker.size}<extra></extra>\",\"hovertext\":[\"Africa\"],\"ids\":[\"Africa\"],\"legendgroup\":\"Africa\",\"marker\":{\"color\":\"#636efa\",\"size\":[1360677231],\"sizemode\":\"area\",\"sizeref\":9811051.535,\"symbol\":\"circle\"},\"mode\":\"markers\",\"name\":\"Africa\",\"orientation\":\"v\",\"showlegend\":true,\"type\":\"scatter\",\"x\":[1360677231],\"xaxis\":\"x\",\"y\":[1360677231],\"yaxis\":\"y\"},{\"hovertemplate\":\"<b>%{hovertext}</b><br><br>continent=North America<br>year=2020<br> Population=%{marker.size}<extra></extra>\",\"hovertext\":[\"North America\"],\"ids\":[\"North America\"],\"legendgroup\":\"North America\",\"marker\":{\"color\":\"#EF553B\",\"size\":[373956671],\"sizemode\":\"area\",\"sizeref\":9811051.535,\"symbol\":\"circle\"},\"mode\":\"markers\",\"name\":\"North America\",\"orientation\":\"v\",\"showlegend\":true,\"type\":\"scatter\",\"x\":[373956671],\"xaxis\":\"x\",\"y\":[373956671],\"yaxis\":\"y\"}],\"name\":\"2020\"},{\"data\":[{\"hovertemplate\":\"<b>%{hovertext}</b><br><br>continent=Africa<br>year=2021<br> Population=%{marker.size}<extra></extra>\",\"hovertext\":[\"Africa\"],\"ids\":[\"Africa\"],\"legendgroup\":\"Africa\",\"marker\":{\"color\":\"#636efa\",\"size\":[1393676444],\"sizemode\":\"area\",\"sizeref\":9811051.535,\"symbol\":\"circle\"},\"mode\":\"markers\",\"name\":\"Africa\",\"orientation\":\"v\",\"showlegend\":true,\"type\":\"scatter\",\"x\":[1393676444],\"xaxis\":\"x\",\"y\":[1393676444],\"yaxis\":\"y\"},{\"hovertemplate\":\"<b>%{hovertext}</b><br><br>continent=North America<br>year=2021<br> Population=%{marker.size}<extra></extra>\",\"hovertext\":[\"North America\"],\"ids\":[\"North America\"],\"legendgroup\":\"North America\",\"marker\":{\"color\":\"#EF553B\",\"size\":[375278947],\"sizemode\":\"area\",\"sizeref\":9811051.535,\"symbol\":\"circle\"},\"mode\":\"markers\",\"name\":\"North America\",\"orientation\":\"v\",\"showlegend\":true,\"type\":\"scatter\",\"x\":[375278947],\"xaxis\":\"x\",\"y\":[375278947],\"yaxis\":\"y\"}],\"name\":\"2021\"},{\"data\":[{\"hovertemplate\":\"<b>%{hovertext}</b><br><br>continent=Africa<br>year=2022<br> Population=%{marker.size}<extra></extra>\",\"hovertext\":[\"Africa\"],\"ids\":[\"Africa\"],\"legendgroup\":\"Africa\",\"marker\":{\"color\":\"#636efa\",\"size\":[1426736305],\"sizemode\":\"area\",\"sizeref\":9811051.535,\"symbol\":\"circle\"},\"mode\":\"markers\",\"name\":\"Africa\",\"orientation\":\"v\",\"showlegend\":true,\"type\":\"scatter\",\"x\":[1426736305],\"xaxis\":\"x\",\"y\":[1426736305],\"yaxis\":\"y\"},{\"hovertemplate\":\"<b>%{hovertext}</b><br><br>continent=North America<br>year=2022<br> Population=%{marker.size}<extra></extra>\",\"hovertext\":[\"North America\"],\"ids\":[\"North America\"],\"legendgroup\":\"North America\",\"marker\":{\"color\":\"#EF553B\",\"size\":[376870696],\"sizemode\":\"area\",\"sizeref\":9811051.535,\"symbol\":\"circle\"},\"mode\":\"markers\",\"name\":\"North America\",\"orientation\":\"v\",\"showlegend\":true,\"type\":\"scatter\",\"x\":[376870696],\"xaxis\":\"x\",\"y\":[376870696],\"yaxis\":\"y\"}],\"name\":\"2022\"},{\"data\":[{\"hovertemplate\":\"<b>%{hovertext}</b><br><br>continent=Africa<br>year=2023<br> Population=%{marker.size}<extra></extra>\",\"hovertext\":[\"Africa\"],\"ids\":[\"Africa\"],\"legendgroup\":\"Africa\",\"marker\":{\"color\":\"#636efa\",\"size\":[1460481772],\"sizemode\":\"area\",\"sizeref\":9811051.535,\"symbol\":\"circle\"},\"mode\":\"markers\",\"name\":\"Africa\",\"orientation\":\"v\",\"showlegend\":true,\"type\":\"scatter\",\"x\":[1460481772],\"xaxis\":\"x\",\"y\":[1460481772],\"yaxis\":\"y\"},{\"hovertemplate\":\"<b>%{hovertext}</b><br><br>continent=North America<br>year=2023<br> Population=%{marker.size}<extra></extra>\",\"hovertext\":[\"North America\"],\"ids\":[\"North America\"],\"legendgroup\":\"North America\",\"marker\":{\"color\":\"#EF553B\",\"size\":[378904407],\"sizemode\":\"area\",\"sizeref\":9811051.535,\"symbol\":\"circle\"},\"mode\":\"markers\",\"name\":\"North America\",\"orientation\":\"v\",\"showlegend\":true,\"type\":\"scatter\",\"x\":[378904407],\"xaxis\":\"x\",\"y\":[378904407],\"yaxis\":\"y\"}],\"name\":\"2023\"},{\"data\":[{\"hovertemplate\":\"<b>%{hovertext}</b><br><br>continent=Africa<br>year=2024<br> Population=%{marker.size}<extra></extra>\",\"hovertext\":[\"Africa\"],\"ids\":[\"Africa\"],\"legendgroup\":\"Africa\",\"marker\":{\"color\":\"#636efa\",\"size\":[1494993924],\"sizemode\":\"area\",\"sizeref\":9811051.535,\"symbol\":\"circle\"},\"mode\":\"markers\",\"name\":\"Africa\",\"orientation\":\"v\",\"showlegend\":true,\"type\":\"scatter\",\"x\":[1494993924],\"xaxis\":\"x\",\"y\":[1494993924],\"yaxis\":\"y\"},{\"hovertemplate\":\"<b>%{hovertext}</b><br><br>continent=North America<br>year=2024<br> Population=%{marker.size}<extra></extra>\",\"hovertext\":[\"North America\"],\"ids\":[\"North America\"],\"legendgroup\":\"North America\",\"marker\":{\"color\":\"#EF553B\",\"size\":[381048005],\"sizemode\":\"area\",\"sizeref\":9811051.535,\"symbol\":\"circle\"},\"mode\":\"markers\",\"name\":\"North America\",\"orientation\":\"v\",\"showlegend\":true,\"type\":\"scatter\",\"x\":[381048005],\"xaxis\":\"x\",\"y\":[381048005],\"yaxis\":\"y\"}],\"name\":\"2024\"},{\"data\":[{\"hovertemplate\":\"<b>%{hovertext}</b><br><br>continent=Africa<br>year=2025<br> Population=%{marker.size}<extra></extra>\",\"hovertext\":[\"Africa\"],\"ids\":[\"Africa\"],\"legendgroup\":\"Africa\",\"marker\":{\"color\":\"#636efa\",\"size\":[1530031247],\"sizemode\":\"area\",\"sizeref\":9811051.535,\"symbol\":\"circle\"},\"mode\":\"markers\",\"name\":\"Africa\",\"orientation\":\"v\",\"showlegend\":true,\"type\":\"scatter\",\"x\":[1530031247],\"xaxis\":\"x\",\"y\":[1530031247],\"yaxis\":\"y\"},{\"hovertemplate\":\"<b>%{hovertext}</b><br><br>continent=North America<br>year=2025<br> Population=%{marker.size}<extra></extra>\",\"hovertext\":[\"North America\"],\"ids\":[\"North America\"],\"legendgroup\":\"North America\",\"marker\":{\"color\":\"#EF553B\",\"size\":[383161331],\"sizemode\":\"area\",\"sizeref\":9811051.535,\"symbol\":\"circle\"},\"mode\":\"markers\",\"name\":\"North America\",\"orientation\":\"v\",\"showlegend\":true,\"type\":\"scatter\",\"x\":[383161331],\"xaxis\":\"x\",\"y\":[383161331],\"yaxis\":\"y\"}],\"name\":\"2025\"},{\"data\":[{\"hovertemplate\":\"<b>%{hovertext}</b><br><br>continent=Africa<br>year=2026<br> Population=%{marker.size}<extra></extra>\",\"hovertext\":[\"Africa\"],\"ids\":[\"Africa\"],\"legendgroup\":\"Africa\",\"marker\":{\"color\":\"#636efa\",\"size\":[1565426616],\"sizemode\":\"area\",\"sizeref\":9811051.535,\"symbol\":\"circle\"},\"mode\":\"markers\",\"name\":\"Africa\",\"orientation\":\"v\",\"showlegend\":true,\"type\":\"scatter\",\"x\":[1565426616],\"xaxis\":\"x\",\"y\":[1565426616],\"yaxis\":\"y\"},{\"hovertemplate\":\"<b>%{hovertext}</b><br><br>continent=North America<br>year=2026<br> Population=%{marker.size}<extra></extra>\",\"hovertext\":[\"North America\"],\"ids\":[\"North America\"],\"legendgroup\":\"North America\",\"marker\":{\"color\":\"#EF553B\",\"size\":[385245079],\"sizemode\":\"area\",\"sizeref\":9811051.535,\"symbol\":\"circle\"},\"mode\":\"markers\",\"name\":\"North America\",\"orientation\":\"v\",\"showlegend\":true,\"type\":\"scatter\",\"x\":[385245079],\"xaxis\":\"x\",\"y\":[385245079],\"yaxis\":\"y\"}],\"name\":\"2026\"},{\"data\":[{\"hovertemplate\":\"<b>%{hovertext}</b><br><br>continent=Africa<br>year=2027<br> Population=%{marker.size}<extra></extra>\",\"hovertext\":[\"Africa\"],\"ids\":[\"Africa\"],\"legendgroup\":\"Africa\",\"marker\":{\"color\":\"#636efa\",\"size\":[1601202762],\"sizemode\":\"area\",\"sizeref\":9811051.535,\"symbol\":\"circle\"},\"mode\":\"markers\",\"name\":\"Africa\",\"orientation\":\"v\",\"showlegend\":true,\"type\":\"scatter\",\"x\":[1601202762],\"xaxis\":\"x\",\"y\":[1601202762],\"yaxis\":\"y\"},{\"hovertemplate\":\"<b>%{hovertext}</b><br><br>continent=North America<br>year=2027<br> Population=%{marker.size}<extra></extra>\",\"hovertext\":[\"North America\"],\"ids\":[\"North America\"],\"legendgroup\":\"North America\",\"marker\":{\"color\":\"#EF553B\",\"size\":[387295922],\"sizemode\":\"area\",\"sizeref\":9811051.535,\"symbol\":\"circle\"},\"mode\":\"markers\",\"name\":\"North America\",\"orientation\":\"v\",\"showlegend\":true,\"type\":\"scatter\",\"x\":[387295922],\"xaxis\":\"x\",\"y\":[387295922],\"yaxis\":\"y\"}],\"name\":\"2027\"},{\"data\":[{\"hovertemplate\":\"<b>%{hovertext}</b><br><br>continent=Africa<br>year=2028<br> Population=%{marker.size}<extra></extra>\",\"hovertext\":[\"Africa\"],\"ids\":[\"Africa\"],\"legendgroup\":\"Africa\",\"marker\":{\"color\":\"#636efa\",\"size\":[1637345106],\"sizemode\":\"area\",\"sizeref\":9811051.535,\"symbol\":\"circle\"},\"mode\":\"markers\",\"name\":\"Africa\",\"orientation\":\"v\",\"showlegend\":true,\"type\":\"scatter\",\"x\":[1637345106],\"xaxis\":\"x\",\"y\":[1637345106],\"yaxis\":\"y\"},{\"hovertemplate\":\"<b>%{hovertext}</b><br><br>continent=North America<br>year=2028<br> Population=%{marker.size}<extra></extra>\",\"hovertext\":[\"North America\"],\"ids\":[\"North America\"],\"legendgroup\":\"North America\",\"marker\":{\"color\":\"#EF553B\",\"size\":[389316784],\"sizemode\":\"area\",\"sizeref\":9811051.535,\"symbol\":\"circle\"},\"mode\":\"markers\",\"name\":\"North America\",\"orientation\":\"v\",\"showlegend\":true,\"type\":\"scatter\",\"x\":[389316784],\"xaxis\":\"x\",\"y\":[389316784],\"yaxis\":\"y\"}],\"name\":\"2028\"},{\"data\":[{\"hovertemplate\":\"<b>%{hovertext}</b><br><br>continent=Africa<br>year=2029<br> Population=%{marker.size}<extra></extra>\",\"hovertext\":[\"Africa\"],\"ids\":[\"Africa\"],\"legendgroup\":\"Africa\",\"marker\":{\"color\":\"#636efa\",\"size\":[1673845126],\"sizemode\":\"area\",\"sizeref\":9811051.535,\"symbol\":\"circle\"},\"mode\":\"markers\",\"name\":\"Africa\",\"orientation\":\"v\",\"showlegend\":true,\"type\":\"scatter\",\"x\":[1673845126],\"xaxis\":\"x\",\"y\":[1673845126],\"yaxis\":\"y\"},{\"hovertemplate\":\"<b>%{hovertext}</b><br><br>continent=North America<br>year=2029<br> Population=%{marker.size}<extra></extra>\",\"hovertext\":[\"North America\"],\"ids\":[\"North America\"],\"legendgroup\":\"North America\",\"marker\":{\"color\":\"#EF553B\",\"size\":[391316698],\"sizemode\":\"area\",\"sizeref\":9811051.535,\"symbol\":\"circle\"},\"mode\":\"markers\",\"name\":\"North America\",\"orientation\":\"v\",\"showlegend\":true,\"type\":\"scatter\",\"x\":[391316698],\"xaxis\":\"x\",\"y\":[391316698],\"yaxis\":\"y\"}],\"name\":\"2029\"},{\"data\":[{\"hovertemplate\":\"<b>%{hovertext}</b><br><br>continent=Africa<br>year=2030<br> Population=%{marker.size}<extra></extra>\",\"hovertext\":[\"Africa\"],\"ids\":[\"Africa\"],\"legendgroup\":\"Africa\",\"marker\":{\"color\":\"#636efa\",\"size\":[1710666359],\"sizemode\":\"area\",\"sizeref\":9811051.535,\"symbol\":\"circle\"},\"mode\":\"markers\",\"name\":\"Africa\",\"orientation\":\"v\",\"showlegend\":true,\"type\":\"scatter\",\"x\":[1710666359],\"xaxis\":\"x\",\"y\":[1710666359],\"yaxis\":\"y\"},{\"hovertemplate\":\"<b>%{hovertext}</b><br><br>continent=North America<br>year=2030<br> Population=%{marker.size}<extra></extra>\",\"hovertext\":[\"North America\"],\"ids\":[\"North America\"],\"legendgroup\":\"North America\",\"marker\":{\"color\":\"#EF553B\",\"size\":[393296506],\"sizemode\":\"area\",\"sizeref\":9811051.535,\"symbol\":\"circle\"},\"mode\":\"markers\",\"name\":\"North America\",\"orientation\":\"v\",\"showlegend\":true,\"type\":\"scatter\",\"x\":[393296506],\"xaxis\":\"x\",\"y\":[393296506],\"yaxis\":\"y\"}],\"name\":\"2030\"},{\"data\":[{\"hovertemplate\":\"<b>%{hovertext}</b><br><br>continent=Africa<br>year=2031<br> Population=%{marker.size}<extra></extra>\",\"hovertext\":[\"Africa\"],\"ids\":[\"Africa\"],\"legendgroup\":\"Africa\",\"marker\":{\"color\":\"#636efa\",\"size\":[1747785516],\"sizemode\":\"area\",\"sizeref\":9811051.535,\"symbol\":\"circle\"},\"mode\":\"markers\",\"name\":\"Africa\",\"orientation\":\"v\",\"showlegend\":true,\"type\":\"scatter\",\"x\":[1747785516],\"xaxis\":\"x\",\"y\":[1747785516],\"yaxis\":\"y\"},{\"hovertemplate\":\"<b>%{hovertext}</b><br><br>continent=North America<br>year=2031<br> Population=%{marker.size}<extra></extra>\",\"hovertext\":[\"North America\"],\"ids\":[\"North America\"],\"legendgroup\":\"North America\",\"marker\":{\"color\":\"#EF553B\",\"size\":[395248171],\"sizemode\":\"area\",\"sizeref\":9811051.535,\"symbol\":\"circle\"},\"mode\":\"markers\",\"name\":\"North America\",\"orientation\":\"v\",\"showlegend\":true,\"type\":\"scatter\",\"x\":[395248171],\"xaxis\":\"x\",\"y\":[395248171],\"yaxis\":\"y\"}],\"name\":\"2031\"},{\"data\":[{\"hovertemplate\":\"<b>%{hovertext}</b><br><br>continent=Africa<br>year=2032<br> Population=%{marker.size}<extra></extra>\",\"hovertext\":[\"Africa\"],\"ids\":[\"Africa\"],\"legendgroup\":\"Africa\",\"marker\":{\"color\":\"#636efa\",\"size\":[1785223387],\"sizemode\":\"area\",\"sizeref\":9811051.535,\"symbol\":\"circle\"},\"mode\":\"markers\",\"name\":\"Africa\",\"orientation\":\"v\",\"showlegend\":true,\"type\":\"scatter\",\"x\":[1785223387],\"xaxis\":\"x\",\"y\":[1785223387],\"yaxis\":\"y\"},{\"hovertemplate\":\"<b>%{hovertext}</b><br><br>continent=North America<br>year=2032<br> Population=%{marker.size}<extra></extra>\",\"hovertext\":[\"North America\"],\"ids\":[\"North America\"],\"legendgroup\":\"North America\",\"marker\":{\"color\":\"#EF553B\",\"size\":[397163535],\"sizemode\":\"area\",\"sizeref\":9811051.535,\"symbol\":\"circle\"},\"mode\":\"markers\",\"name\":\"North America\",\"orientation\":\"v\",\"showlegend\":true,\"type\":\"scatter\",\"x\":[397163535],\"xaxis\":\"x\",\"y\":[397163535],\"yaxis\":\"y\"}],\"name\":\"2032\"},{\"data\":[{\"hovertemplate\":\"<b>%{hovertext}</b><br><br>continent=Africa<br>year=2033<br> Population=%{marker.size}<extra></extra>\",\"hovertext\":[\"Africa\"],\"ids\":[\"Africa\"],\"legendgroup\":\"Africa\",\"marker\":{\"color\":\"#636efa\",\"size\":[1822964745],\"sizemode\":\"area\",\"sizeref\":9811051.535,\"symbol\":\"circle\"},\"mode\":\"markers\",\"name\":\"Africa\",\"orientation\":\"v\",\"showlegend\":true,\"type\":\"scatter\",\"x\":[1822964745],\"xaxis\":\"x\",\"y\":[1822964745],\"yaxis\":\"y\"},{\"hovertemplate\":\"<b>%{hovertext}</b><br><br>continent=North America<br>year=2033<br> Population=%{marker.size}<extra></extra>\",\"hovertext\":[\"North America\"],\"ids\":[\"North America\"],\"legendgroup\":\"North America\",\"marker\":{\"color\":\"#EF553B\",\"size\":[399042027],\"sizemode\":\"area\",\"sizeref\":9811051.535,\"symbol\":\"circle\"},\"mode\":\"markers\",\"name\":\"North America\",\"orientation\":\"v\",\"showlegend\":true,\"type\":\"scatter\",\"x\":[399042027],\"xaxis\":\"x\",\"y\":[399042027],\"yaxis\":\"y\"}],\"name\":\"2033\"},{\"data\":[{\"hovertemplate\":\"<b>%{hovertext}</b><br><br>continent=Africa<br>year=2034<br> Population=%{marker.size}<extra></extra>\",\"hovertext\":[\"Africa\"],\"ids\":[\"Africa\"],\"legendgroup\":\"Africa\",\"marker\":{\"color\":\"#636efa\",\"size\":[1861003225],\"sizemode\":\"area\",\"sizeref\":9811051.535,\"symbol\":\"circle\"},\"mode\":\"markers\",\"name\":\"Africa\",\"orientation\":\"v\",\"showlegend\":true,\"type\":\"scatter\",\"x\":[1861003225],\"xaxis\":\"x\",\"y\":[1861003225],\"yaxis\":\"y\"},{\"hovertemplate\":\"<b>%{hovertext}</b><br><br>continent=North America<br>year=2034<br> Population=%{marker.size}<extra></extra>\",\"hovertext\":[\"North America\"],\"ids\":[\"North America\"],\"legendgroup\":\"North America\",\"marker\":{\"color\":\"#EF553B\",\"size\":[400871883],\"sizemode\":\"area\",\"sizeref\":9811051.535,\"symbol\":\"circle\"},\"mode\":\"markers\",\"name\":\"North America\",\"orientation\":\"v\",\"showlegend\":true,\"type\":\"scatter\",\"x\":[400871883],\"xaxis\":\"x\",\"y\":[400871883],\"yaxis\":\"y\"}],\"name\":\"2034\"},{\"data\":[{\"hovertemplate\":\"<b>%{hovertext}</b><br><br>continent=Africa<br>year=2035<br> Population=%{marker.size}<extra></extra>\",\"hovertext\":[\"Africa\"],\"ids\":[\"Africa\"],\"legendgroup\":\"Africa\",\"marker\":{\"color\":\"#636efa\",\"size\":[1899296806],\"sizemode\":\"area\",\"sizeref\":9811051.535,\"symbol\":\"circle\"},\"mode\":\"markers\",\"name\":\"Africa\",\"orientation\":\"v\",\"showlegend\":true,\"type\":\"scatter\",\"x\":[1899296806],\"xaxis\":\"x\",\"y\":[1899296806],\"yaxis\":\"y\"},{\"hovertemplate\":\"<b>%{hovertext}</b><br><br>continent=North America<br>year=2035<br> Population=%{marker.size}<extra></extra>\",\"hovertext\":[\"North America\"],\"ids\":[\"North America\"],\"legendgroup\":\"North America\",\"marker\":{\"color\":\"#EF553B\",\"size\":[402643537],\"sizemode\":\"area\",\"sizeref\":9811051.535,\"symbol\":\"circle\"},\"mode\":\"markers\",\"name\":\"North America\",\"orientation\":\"v\",\"showlegend\":true,\"type\":\"scatter\",\"x\":[402643537],\"xaxis\":\"x\",\"y\":[402643537],\"yaxis\":\"y\"}],\"name\":\"2035\"},{\"data\":[{\"hovertemplate\":\"<b>%{hovertext}</b><br><br>continent=Africa<br>year=2036<br> Population=%{marker.size}<extra></extra>\",\"hovertext\":[\"Africa\"],\"ids\":[\"Africa\"],\"legendgroup\":\"Africa\",\"marker\":{\"color\":\"#636efa\",\"size\":[1937777711],\"sizemode\":\"area\",\"sizeref\":9811051.535,\"symbol\":\"circle\"},\"mode\":\"markers\",\"name\":\"Africa\",\"orientation\":\"v\",\"showlegend\":true,\"type\":\"scatter\",\"x\":[1937777711],\"xaxis\":\"x\",\"y\":[1937777711],\"yaxis\":\"y\"},{\"hovertemplate\":\"<b>%{hovertext}</b><br><br>continent=North America<br>year=2036<br> Population=%{marker.size}<extra></extra>\",\"hovertext\":[\"North America\"],\"ids\":[\"North America\"],\"legendgroup\":\"North America\",\"marker\":{\"color\":\"#EF553B\",\"size\":[404360244],\"sizemode\":\"area\",\"sizeref\":9811051.535,\"symbol\":\"circle\"},\"mode\":\"markers\",\"name\":\"North America\",\"orientation\":\"v\",\"showlegend\":true,\"type\":\"scatter\",\"x\":[404360244],\"xaxis\":\"x\",\"y\":[404360244],\"yaxis\":\"y\"}],\"name\":\"2036\"},{\"data\":[{\"hovertemplate\":\"<b>%{hovertext}</b><br><br>continent=Africa<br>year=2037<br> Population=%{marker.size}<extra></extra>\",\"hovertext\":[\"Africa\"],\"ids\":[\"Africa\"],\"legendgroup\":\"Africa\",\"marker\":{\"color\":\"#636efa\",\"size\":[1976448546],\"sizemode\":\"area\",\"sizeref\":9811051.535,\"symbol\":\"circle\"},\"mode\":\"markers\",\"name\":\"Africa\",\"orientation\":\"v\",\"showlegend\":true,\"type\":\"scatter\",\"x\":[1976448546],\"xaxis\":\"x\",\"y\":[1976448546],\"yaxis\":\"y\"},{\"hovertemplate\":\"<b>%{hovertext}</b><br><br>continent=North America<br>year=2037<br> Population=%{marker.size}<extra></extra>\",\"hovertext\":[\"North America\"],\"ids\":[\"North America\"],\"legendgroup\":\"North America\",\"marker\":{\"color\":\"#EF553B\",\"size\":[406016075],\"sizemode\":\"area\",\"sizeref\":9811051.535,\"symbol\":\"circle\"},\"mode\":\"markers\",\"name\":\"North America\",\"orientation\":\"v\",\"showlegend\":true,\"type\":\"scatter\",\"x\":[406016075],\"xaxis\":\"x\",\"y\":[406016075],\"yaxis\":\"y\"}],\"name\":\"2037\"},{\"data\":[{\"hovertemplate\":\"<b>%{hovertext}</b><br><br>continent=Africa<br>year=2038<br> Population=%{marker.size}<extra></extra>\",\"hovertext\":[\"Africa\"],\"ids\":[\"Africa\"],\"legendgroup\":\"Africa\",\"marker\":{\"color\":\"#636efa\",\"size\":[2015305954],\"sizemode\":\"area\",\"sizeref\":9811051.535,\"symbol\":\"circle\"},\"mode\":\"markers\",\"name\":\"Africa\",\"orientation\":\"v\",\"showlegend\":true,\"type\":\"scatter\",\"x\":[2015305954],\"xaxis\":\"x\",\"y\":[2015305954],\"yaxis\":\"y\"},{\"hovertemplate\":\"<b>%{hovertext}</b><br><br>continent=North America<br>year=2038<br> Population=%{marker.size}<extra></extra>\",\"hovertext\":[\"North America\"],\"ids\":[\"North America\"],\"legendgroup\":\"North America\",\"marker\":{\"color\":\"#EF553B\",\"size\":[407599361],\"sizemode\":\"area\",\"sizeref\":9811051.535,\"symbol\":\"circle\"},\"mode\":\"markers\",\"name\":\"North America\",\"orientation\":\"v\",\"showlegend\":true,\"type\":\"scatter\",\"x\":[407599361],\"xaxis\":\"x\",\"y\":[407599361],\"yaxis\":\"y\"}],\"name\":\"2038\"},{\"data\":[{\"hovertemplate\":\"<b>%{hovertext}</b><br><br>continent=Africa<br>year=2039<br> Population=%{marker.size}<extra></extra>\",\"hovertext\":[\"Africa\"],\"ids\":[\"Africa\"],\"legendgroup\":\"Africa\",\"marker\":{\"color\":\"#636efa\",\"size\":[2054303343],\"sizemode\":\"area\",\"sizeref\":9811051.535,\"symbol\":\"circle\"},\"mode\":\"markers\",\"name\":\"Africa\",\"orientation\":\"v\",\"showlegend\":true,\"type\":\"scatter\",\"x\":[2054303343],\"xaxis\":\"x\",\"y\":[2054303343],\"yaxis\":\"y\"},{\"hovertemplate\":\"<b>%{hovertext}</b><br><br>continent=North America<br>year=2039<br> Population=%{marker.size}<extra></extra>\",\"hovertext\":[\"North America\"],\"ids\":[\"North America\"],\"legendgroup\":\"North America\",\"marker\":{\"color\":\"#EF553B\",\"size\":[409115727],\"sizemode\":\"area\",\"sizeref\":9811051.535,\"symbol\":\"circle\"},\"mode\":\"markers\",\"name\":\"North America\",\"orientation\":\"v\",\"showlegend\":true,\"type\":\"scatter\",\"x\":[409115727],\"xaxis\":\"x\",\"y\":[409115727],\"yaxis\":\"y\"}],\"name\":\"2039\"},{\"data\":[{\"hovertemplate\":\"<b>%{hovertext}</b><br><br>continent=Africa<br>year=2040<br> Population=%{marker.size}<extra></extra>\",\"hovertext\":[\"Africa\"],\"ids\":[\"Africa\"],\"legendgroup\":\"Africa\",\"marker\":{\"color\":\"#636efa\",\"size\":[2093408427],\"sizemode\":\"area\",\"sizeref\":9811051.535,\"symbol\":\"circle\"},\"mode\":\"markers\",\"name\":\"Africa\",\"orientation\":\"v\",\"showlegend\":true,\"type\":\"scatter\",\"x\":[2093408427],\"xaxis\":\"x\",\"y\":[2093408427],\"yaxis\":\"y\"},{\"hovertemplate\":\"<b>%{hovertext}</b><br><br>continent=North America<br>year=2040<br> Population=%{marker.size}<extra></extra>\",\"hovertext\":[\"North America\"],\"ids\":[\"North America\"],\"legendgroup\":\"North America\",\"marker\":{\"color\":\"#EF553B\",\"size\":[410560796],\"sizemode\":\"area\",\"sizeref\":9811051.535,\"symbol\":\"circle\"},\"mode\":\"markers\",\"name\":\"North America\",\"orientation\":\"v\",\"showlegend\":true,\"type\":\"scatter\",\"x\":[410560796],\"xaxis\":\"x\",\"y\":[410560796],\"yaxis\":\"y\"}],\"name\":\"2040\"},{\"data\":[{\"hovertemplate\":\"<b>%{hovertext}</b><br><br>continent=Africa<br>year=2041<br> Population=%{marker.size}<extra></extra>\",\"hovertext\":[\"Africa\"],\"ids\":[\"Africa\"],\"legendgroup\":\"Africa\",\"marker\":{\"color\":\"#636efa\",\"size\":[2132617527],\"sizemode\":\"area\",\"sizeref\":9811051.535,\"symbol\":\"circle\"},\"mode\":\"markers\",\"name\":\"Africa\",\"orientation\":\"v\",\"showlegend\":true,\"type\":\"scatter\",\"x\":[2132617527],\"xaxis\":\"x\",\"y\":[2132617527],\"yaxis\":\"y\"},{\"hovertemplate\":\"<b>%{hovertext}</b><br><br>continent=North America<br>year=2041<br> Population=%{marker.size}<extra></extra>\",\"hovertext\":[\"North America\"],\"ids\":[\"North America\"],\"legendgroup\":\"North America\",\"marker\":{\"color\":\"#EF553B\",\"size\":[411932726],\"sizemode\":\"area\",\"sizeref\":9811051.535,\"symbol\":\"circle\"},\"mode\":\"markers\",\"name\":\"North America\",\"orientation\":\"v\",\"showlegend\":true,\"type\":\"scatter\",\"x\":[411932726],\"xaxis\":\"x\",\"y\":[411932726],\"yaxis\":\"y\"}],\"name\":\"2041\"},{\"data\":[{\"hovertemplate\":\"<b>%{hovertext}</b><br><br>continent=Africa<br>year=2042<br> Population=%{marker.size}<extra></extra>\",\"hovertext\":[\"Africa\"],\"ids\":[\"Africa\"],\"legendgroup\":\"Africa\",\"marker\":{\"color\":\"#636efa\",\"size\":[2171875609],\"sizemode\":\"area\",\"sizeref\":9811051.535,\"symbol\":\"circle\"},\"mode\":\"markers\",\"name\":\"Africa\",\"orientation\":\"v\",\"showlegend\":true,\"type\":\"scatter\",\"x\":[2171875609],\"xaxis\":\"x\",\"y\":[2171875609],\"yaxis\":\"y\"},{\"hovertemplate\":\"<b>%{hovertext}</b><br><br>continent=North America<br>year=2042<br> Population=%{marker.size}<extra></extra>\",\"hovertext\":[\"North America\"],\"ids\":[\"North America\"],\"legendgroup\":\"North America\",\"marker\":{\"color\":\"#EF553B\",\"size\":[413243236],\"sizemode\":\"area\",\"sizeref\":9811051.535,\"symbol\":\"circle\"},\"mode\":\"markers\",\"name\":\"North America\",\"orientation\":\"v\",\"showlegend\":true,\"type\":\"scatter\",\"x\":[413243236],\"xaxis\":\"x\",\"y\":[413243236],\"yaxis\":\"y\"}],\"name\":\"2042\"},{\"data\":[{\"hovertemplate\":\"<b>%{hovertext}</b><br><br>continent=Africa<br>year=2043<br> Population=%{marker.size}<extra></extra>\",\"hovertext\":[\"Africa\"],\"ids\":[\"Africa\"],\"legendgroup\":\"Africa\",\"marker\":{\"color\":\"#636efa\",\"size\":[2211166983],\"sizemode\":\"area\",\"sizeref\":9811051.535,\"symbol\":\"circle\"},\"mode\":\"markers\",\"name\":\"Africa\",\"orientation\":\"v\",\"showlegend\":true,\"type\":\"scatter\",\"x\":[2211166983],\"xaxis\":\"x\",\"y\":[2211166983],\"yaxis\":\"y\"},{\"hovertemplate\":\"<b>%{hovertext}</b><br><br>continent=North America<br>year=2043<br> Population=%{marker.size}<extra></extra>\",\"hovertext\":[\"North America\"],\"ids\":[\"North America\"],\"legendgroup\":\"North America\",\"marker\":{\"color\":\"#EF553B\",\"size\":[414483943],\"sizemode\":\"area\",\"sizeref\":9811051.535,\"symbol\":\"circle\"},\"mode\":\"markers\",\"name\":\"North America\",\"orientation\":\"v\",\"showlegend\":true,\"type\":\"scatter\",\"x\":[414483943],\"xaxis\":\"x\",\"y\":[414483943],\"yaxis\":\"y\"}],\"name\":\"2043\"},{\"data\":[{\"hovertemplate\":\"<b>%{hovertext}</b><br><br>continent=Africa<br>year=2044<br> Population=%{marker.size}<extra></extra>\",\"hovertext\":[\"Africa\"],\"ids\":[\"Africa\"],\"legendgroup\":\"Africa\",\"marker\":{\"color\":\"#636efa\",\"size\":[2250478962],\"sizemode\":\"area\",\"sizeref\":9811051.535,\"symbol\":\"circle\"},\"mode\":\"markers\",\"name\":\"Africa\",\"orientation\":\"v\",\"showlegend\":true,\"type\":\"scatter\",\"x\":[2250478962],\"xaxis\":\"x\",\"y\":[2250478962],\"yaxis\":\"y\"},{\"hovertemplate\":\"<b>%{hovertext}</b><br><br>continent=North America<br>year=2044<br> Population=%{marker.size}<extra></extra>\",\"hovertext\":[\"North America\"],\"ids\":[\"North America\"],\"legendgroup\":\"North America\",\"marker\":{\"color\":\"#EF553B\",\"size\":[415659177],\"sizemode\":\"area\",\"sizeref\":9811051.535,\"symbol\":\"circle\"},\"mode\":\"markers\",\"name\":\"North America\",\"orientation\":\"v\",\"showlegend\":true,\"type\":\"scatter\",\"x\":[415659177],\"xaxis\":\"x\",\"y\":[415659177],\"yaxis\":\"y\"}],\"name\":\"2044\"},{\"data\":[{\"hovertemplate\":\"<b>%{hovertext}</b><br><br>continent=Africa<br>year=2045<br> Population=%{marker.size}<extra></extra>\",\"hovertext\":[\"Africa\"],\"ids\":[\"Africa\"],\"legendgroup\":\"Africa\",\"marker\":{\"color\":\"#636efa\",\"size\":[2289760657],\"sizemode\":\"area\",\"sizeref\":9811051.535,\"symbol\":\"circle\"},\"mode\":\"markers\",\"name\":\"Africa\",\"orientation\":\"v\",\"showlegend\":true,\"type\":\"scatter\",\"x\":[2289760657],\"xaxis\":\"x\",\"y\":[2289760657],\"yaxis\":\"y\"},{\"hovertemplate\":\"<b>%{hovertext}</b><br><br>continent=North America<br>year=2045<br> Population=%{marker.size}<extra></extra>\",\"hovertext\":[\"North America\"],\"ids\":[\"North America\"],\"legendgroup\":\"North America\",\"marker\":{\"color\":\"#EF553B\",\"size\":[416765992],\"sizemode\":\"area\",\"sizeref\":9811051.535,\"symbol\":\"circle\"},\"mode\":\"markers\",\"name\":\"North America\",\"orientation\":\"v\",\"showlegend\":true,\"type\":\"scatter\",\"x\":[416765992],\"xaxis\":\"x\",\"y\":[416765992],\"yaxis\":\"y\"}],\"name\":\"2045\"},{\"data\":[{\"hovertemplate\":\"<b>%{hovertext}</b><br><br>continent=Africa<br>year=2046<br> Population=%{marker.size}<extra></extra>\",\"hovertext\":[\"Africa\"],\"ids\":[\"Africa\"],\"legendgroup\":\"Africa\",\"marker\":{\"color\":\"#636efa\",\"size\":[2328998686],\"sizemode\":\"area\",\"sizeref\":9811051.535,\"symbol\":\"circle\"},\"mode\":\"markers\",\"name\":\"Africa\",\"orientation\":\"v\",\"showlegend\":true,\"type\":\"scatter\",\"x\":[2328998686],\"xaxis\":\"x\",\"y\":[2328998686],\"yaxis\":\"y\"},{\"hovertemplate\":\"<b>%{hovertext}</b><br><br>continent=North America<br>year=2046<br> Population=%{marker.size}<extra></extra>\",\"hovertext\":[\"North America\"],\"ids\":[\"North America\"],\"legendgroup\":\"North America\",\"marker\":{\"color\":\"#EF553B\",\"size\":[417804094],\"sizemode\":\"area\",\"sizeref\":9811051.535,\"symbol\":\"circle\"},\"mode\":\"markers\",\"name\":\"North America\",\"orientation\":\"v\",\"showlegend\":true,\"type\":\"scatter\",\"x\":[417804094],\"xaxis\":\"x\",\"y\":[417804094],\"yaxis\":\"y\"}],\"name\":\"2046\"},{\"data\":[{\"hovertemplate\":\"<b>%{hovertext}</b><br><br>continent=Africa<br>year=2047<br> Population=%{marker.size}<extra></extra>\",\"hovertext\":[\"Africa\"],\"ids\":[\"Africa\"],\"legendgroup\":\"Africa\",\"marker\":{\"color\":\"#636efa\",\"size\":[2368191007],\"sizemode\":\"area\",\"sizeref\":9811051.535,\"symbol\":\"circle\"},\"mode\":\"markers\",\"name\":\"Africa\",\"orientation\":\"v\",\"showlegend\":true,\"type\":\"scatter\",\"x\":[2368191007],\"xaxis\":\"x\",\"y\":[2368191007],\"yaxis\":\"y\"},{\"hovertemplate\":\"<b>%{hovertext}</b><br><br>continent=North America<br>year=2047<br> Population=%{marker.size}<extra></extra>\",\"hovertext\":[\"North America\"],\"ids\":[\"North America\"],\"legendgroup\":\"North America\",\"marker\":{\"color\":\"#EF553B\",\"size\":[418783546],\"sizemode\":\"area\",\"sizeref\":9811051.535,\"symbol\":\"circle\"},\"mode\":\"markers\",\"name\":\"North America\",\"orientation\":\"v\",\"showlegend\":true,\"type\":\"scatter\",\"x\":[418783546],\"xaxis\":\"x\",\"y\":[418783546],\"yaxis\":\"y\"}],\"name\":\"2047\"},{\"data\":[{\"hovertemplate\":\"<b>%{hovertext}</b><br><br>continent=Africa<br>year=2048<br> Population=%{marker.size}<extra></extra>\",\"hovertext\":[\"Africa\"],\"ids\":[\"Africa\"],\"legendgroup\":\"Africa\",\"marker\":{\"color\":\"#636efa\",\"size\":[2407306427],\"sizemode\":\"area\",\"sizeref\":9811051.535,\"symbol\":\"circle\"},\"mode\":\"markers\",\"name\":\"Africa\",\"orientation\":\"v\",\"showlegend\":true,\"type\":\"scatter\",\"x\":[2407306427],\"xaxis\":\"x\",\"y\":[2407306427],\"yaxis\":\"y\"},{\"hovertemplate\":\"<b>%{hovertext}</b><br><br>continent=North America<br>year=2048<br> Population=%{marker.size}<extra></extra>\",\"hovertext\":[\"North America\"],\"ids\":[\"North America\"],\"legendgroup\":\"North America\",\"marker\":{\"color\":\"#EF553B\",\"size\":[419702405],\"sizemode\":\"area\",\"sizeref\":9811051.535,\"symbol\":\"circle\"},\"mode\":\"markers\",\"name\":\"North America\",\"orientation\":\"v\",\"showlegend\":true,\"type\":\"scatter\",\"x\":[419702405],\"xaxis\":\"x\",\"y\":[419702405],\"yaxis\":\"y\"}],\"name\":\"2048\"},{\"data\":[{\"hovertemplate\":\"<b>%{hovertext}</b><br><br>continent=Africa<br>year=2049<br> Population=%{marker.size}<extra></extra>\",\"hovertext\":[\"Africa\"],\"ids\":[\"Africa\"],\"legendgroup\":\"Africa\",\"marker\":{\"color\":\"#636efa\",\"size\":[2446293956],\"sizemode\":\"area\",\"sizeref\":9811051.535,\"symbol\":\"circle\"},\"mode\":\"markers\",\"name\":\"Africa\",\"orientation\":\"v\",\"showlegend\":true,\"type\":\"scatter\",\"x\":[2446293956],\"xaxis\":\"x\",\"y\":[2446293956],\"yaxis\":\"y\"},{\"hovertemplate\":\"<b>%{hovertext}</b><br><br>continent=North America<br>year=2049<br> Population=%{marker.size}<extra></extra>\",\"hovertext\":[\"North America\"],\"ids\":[\"North America\"],\"legendgroup\":\"North America\",\"marker\":{\"color\":\"#EF553B\",\"size\":[420573789],\"sizemode\":\"area\",\"sizeref\":9811051.535,\"symbol\":\"circle\"},\"mode\":\"markers\",\"name\":\"North America\",\"orientation\":\"v\",\"showlegend\":true,\"type\":\"scatter\",\"x\":[420573789],\"xaxis\":\"x\",\"y\":[420573789],\"yaxis\":\"y\"}],\"name\":\"2049\"},{\"data\":[{\"hovertemplate\":\"<b>%{hovertext}</b><br><br>continent=Africa<br>year=2050<br> Population=%{marker.size}<extra></extra>\",\"hovertext\":[\"Africa\"],\"ids\":[\"Africa\"],\"legendgroup\":\"Africa\",\"marker\":{\"color\":\"#636efa\",\"size\":[2485135539],\"sizemode\":\"area\",\"sizeref\":9811051.535,\"symbol\":\"circle\"},\"mode\":\"markers\",\"name\":\"Africa\",\"orientation\":\"v\",\"showlegend\":true,\"type\":\"scatter\",\"x\":[2485135539],\"xaxis\":\"x\",\"y\":[2485135539],\"yaxis\":\"y\"},{\"hovertemplate\":\"<b>%{hovertext}</b><br><br>continent=North America<br>year=2050<br> Population=%{marker.size}<extra></extra>\",\"hovertext\":[\"North America\"],\"ids\":[\"North America\"],\"legendgroup\":\"North America\",\"marker\":{\"color\":\"#EF553B\",\"size\":[421397985],\"sizemode\":\"area\",\"sizeref\":9811051.535,\"symbol\":\"circle\"},\"mode\":\"markers\",\"name\":\"North America\",\"orientation\":\"v\",\"showlegend\":true,\"type\":\"scatter\",\"x\":[421397985],\"xaxis\":\"x\",\"y\":[421397985],\"yaxis\":\"y\"}],\"name\":\"2050\"},{\"data\":[{\"hovertemplate\":\"<b>%{hovertext}</b><br><br>continent=Africa<br>year=2051<br> Population=%{marker.size}<extra></extra>\",\"hovertext\":[\"Africa\"],\"ids\":[\"Africa\"],\"legendgroup\":\"Africa\",\"marker\":{\"color\":\"#636efa\",\"size\":[2523769525],\"sizemode\":\"area\",\"sizeref\":9811051.535,\"symbol\":\"circle\"},\"mode\":\"markers\",\"name\":\"Africa\",\"orientation\":\"v\",\"showlegend\":true,\"type\":\"scatter\",\"x\":[2523769525],\"xaxis\":\"x\",\"y\":[2523769525],\"yaxis\":\"y\"},{\"hovertemplate\":\"<b>%{hovertext}</b><br><br>continent=North America<br>year=2051<br> Population=%{marker.size}<extra></extra>\",\"hovertext\":[\"North America\"],\"ids\":[\"North America\"],\"legendgroup\":\"North America\",\"marker\":{\"color\":\"#EF553B\",\"size\":[422170990],\"sizemode\":\"area\",\"sizeref\":9811051.535,\"symbol\":\"circle\"},\"mode\":\"markers\",\"name\":\"North America\",\"orientation\":\"v\",\"showlegend\":true,\"type\":\"scatter\",\"x\":[422170990],\"xaxis\":\"x\",\"y\":[422170990],\"yaxis\":\"y\"}],\"name\":\"2051\"},{\"data\":[{\"hovertemplate\":\"<b>%{hovertext}</b><br><br>continent=Africa<br>year=2052<br> Population=%{marker.size}<extra></extra>\",\"hovertext\":[\"Africa\"],\"ids\":[\"Africa\"],\"legendgroup\":\"Africa\",\"marker\":{\"color\":\"#636efa\",\"size\":[2562212475],\"sizemode\":\"area\",\"sizeref\":9811051.535,\"symbol\":\"circle\"},\"mode\":\"markers\",\"name\":\"Africa\",\"orientation\":\"v\",\"showlegend\":true,\"type\":\"scatter\",\"x\":[2562212475],\"xaxis\":\"x\",\"y\":[2562212475],\"yaxis\":\"y\"},{\"hovertemplate\":\"<b>%{hovertext}</b><br><br>continent=North America<br>year=2052<br> Population=%{marker.size}<extra></extra>\",\"hovertext\":[\"North America\"],\"ids\":[\"North America\"],\"legendgroup\":\"North America\",\"marker\":{\"color\":\"#EF553B\",\"size\":[422912699],\"sizemode\":\"area\",\"sizeref\":9811051.535,\"symbol\":\"circle\"},\"mode\":\"markers\",\"name\":\"North America\",\"orientation\":\"v\",\"showlegend\":true,\"type\":\"scatter\",\"x\":[422912699],\"xaxis\":\"x\",\"y\":[422912699],\"yaxis\":\"y\"}],\"name\":\"2052\"},{\"data\":[{\"hovertemplate\":\"<b>%{hovertext}</b><br><br>continent=Africa<br>year=2053<br> Population=%{marker.size}<extra></extra>\",\"hovertext\":[\"Africa\"],\"ids\":[\"Africa\"],\"legendgroup\":\"Africa\",\"marker\":{\"color\":\"#636efa\",\"size\":[2600475601],\"sizemode\":\"area\",\"sizeref\":9811051.535,\"symbol\":\"circle\"},\"mode\":\"markers\",\"name\":\"Africa\",\"orientation\":\"v\",\"showlegend\":true,\"type\":\"scatter\",\"x\":[2600475601],\"xaxis\":\"x\",\"y\":[2600475601],\"yaxis\":\"y\"},{\"hovertemplate\":\"<b>%{hovertext}</b><br><br>continent=North America<br>year=2053<br> Population=%{marker.size}<extra></extra>\",\"hovertext\":[\"North America\"],\"ids\":[\"North America\"],\"legendgroup\":\"North America\",\"marker\":{\"color\":\"#EF553B\",\"size\":[423633459],\"sizemode\":\"area\",\"sizeref\":9811051.535,\"symbol\":\"circle\"},\"mode\":\"markers\",\"name\":\"North America\",\"orientation\":\"v\",\"showlegend\":true,\"type\":\"scatter\",\"x\":[423633459],\"xaxis\":\"x\",\"y\":[423633459],\"yaxis\":\"y\"}],\"name\":\"2053\"},{\"data\":[{\"hovertemplate\":\"<b>%{hovertext}</b><br><br>continent=Africa<br>year=2054<br> Population=%{marker.size}<extra></extra>\",\"hovertext\":[\"Africa\"],\"ids\":[\"Africa\"],\"legendgroup\":\"Africa\",\"marker\":{\"color\":\"#636efa\",\"size\":[2638493882],\"sizemode\":\"area\",\"sizeref\":9811051.535,\"symbol\":\"circle\"},\"mode\":\"markers\",\"name\":\"Africa\",\"orientation\":\"v\",\"showlegend\":true,\"type\":\"scatter\",\"x\":[2638493882],\"xaxis\":\"x\",\"y\":[2638493882],\"yaxis\":\"y\"},{\"hovertemplate\":\"<b>%{hovertext}</b><br><br>continent=North America<br>year=2054<br> Population=%{marker.size}<extra></extra>\",\"hovertext\":[\"North America\"],\"ids\":[\"North America\"],\"legendgroup\":\"North America\",\"marker\":{\"color\":\"#EF553B\",\"size\":[424342088],\"sizemode\":\"area\",\"sizeref\":9811051.535,\"symbol\":\"circle\"},\"mode\":\"markers\",\"name\":\"North America\",\"orientation\":\"v\",\"showlegend\":true,\"type\":\"scatter\",\"x\":[424342088],\"xaxis\":\"x\",\"y\":[424342088],\"yaxis\":\"y\"}],\"name\":\"2054\"},{\"data\":[{\"hovertemplate\":\"<b>%{hovertext}</b><br><br>continent=Africa<br>year=2055<br> Population=%{marker.size}<extra></extra>\",\"hovertext\":[\"Africa\"],\"ids\":[\"Africa\"],\"legendgroup\":\"Africa\",\"marker\":{\"color\":\"#636efa\",\"size\":[2676268187],\"sizemode\":\"area\",\"sizeref\":9811051.535,\"symbol\":\"circle\"},\"mode\":\"markers\",\"name\":\"Africa\",\"orientation\":\"v\",\"showlegend\":true,\"type\":\"scatter\",\"x\":[2676268187],\"xaxis\":\"x\",\"y\":[2676268187],\"yaxis\":\"y\"},{\"hovertemplate\":\"<b>%{hovertext}</b><br><br>continent=North America<br>year=2055<br> Population=%{marker.size}<extra></extra>\",\"hovertext\":[\"North America\"],\"ids\":[\"North America\"],\"legendgroup\":\"North America\",\"marker\":{\"color\":\"#EF553B\",\"size\":[425043515],\"sizemode\":\"area\",\"sizeref\":9811051.535,\"symbol\":\"circle\"},\"mode\":\"markers\",\"name\":\"North America\",\"orientation\":\"v\",\"showlegend\":true,\"type\":\"scatter\",\"x\":[425043515],\"xaxis\":\"x\",\"y\":[425043515],\"yaxis\":\"y\"}],\"name\":\"2055\"},{\"data\":[{\"hovertemplate\":\"<b>%{hovertext}</b><br><br>continent=Africa<br>year=2056<br> Population=%{marker.size}<extra></extra>\",\"hovertext\":[\"Africa\"],\"ids\":[\"Africa\"],\"legendgroup\":\"Africa\",\"marker\":{\"color\":\"#636efa\",\"size\":[2713808602],\"sizemode\":\"area\",\"sizeref\":9811051.535,\"symbol\":\"circle\"},\"mode\":\"markers\",\"name\":\"Africa\",\"orientation\":\"v\",\"showlegend\":true,\"type\":\"scatter\",\"x\":[2713808602],\"xaxis\":\"x\",\"y\":[2713808602],\"yaxis\":\"y\"},{\"hovertemplate\":\"<b>%{hovertext}</b><br><br>continent=North America<br>year=2056<br> Population=%{marker.size}<extra></extra>\",\"hovertext\":[\"North America\"],\"ids\":[\"North America\"],\"legendgroup\":\"North America\",\"marker\":{\"color\":\"#EF553B\",\"size\":[425743535],\"sizemode\":\"area\",\"sizeref\":9811051.535,\"symbol\":\"circle\"},\"mode\":\"markers\",\"name\":\"North America\",\"orientation\":\"v\",\"showlegend\":true,\"type\":\"scatter\",\"x\":[425743535],\"xaxis\":\"x\",\"y\":[425743535],\"yaxis\":\"y\"}],\"name\":\"2056\"},{\"data\":[{\"hovertemplate\":\"<b>%{hovertext}</b><br><br>continent=Africa<br>year=2057<br> Population=%{marker.size}<extra></extra>\",\"hovertext\":[\"Africa\"],\"ids\":[\"Africa\"],\"legendgroup\":\"Africa\",\"marker\":{\"color\":\"#636efa\",\"size\":[2751105347],\"sizemode\":\"area\",\"sizeref\":9811051.535,\"symbol\":\"circle\"},\"mode\":\"markers\",\"name\":\"Africa\",\"orientation\":\"v\",\"showlegend\":true,\"type\":\"scatter\",\"x\":[2751105347],\"xaxis\":\"x\",\"y\":[2751105347],\"yaxis\":\"y\"},{\"hovertemplate\":\"<b>%{hovertext}</b><br><br>continent=North America<br>year=2057<br> Population=%{marker.size}<extra></extra>\",\"hovertext\":[\"North America\"],\"ids\":[\"North America\"],\"legendgroup\":\"North America\",\"marker\":{\"color\":\"#EF553B\",\"size\":[426449542],\"sizemode\":\"area\",\"sizeref\":9811051.535,\"symbol\":\"circle\"},\"mode\":\"markers\",\"name\":\"North America\",\"orientation\":\"v\",\"showlegend\":true,\"type\":\"scatter\",\"x\":[426449542],\"xaxis\":\"x\",\"y\":[426449542],\"yaxis\":\"y\"}],\"name\":\"2057\"},{\"data\":[{\"hovertemplate\":\"<b>%{hovertext}</b><br><br>continent=Africa<br>year=2058<br> Population=%{marker.size}<extra></extra>\",\"hovertext\":[\"Africa\"],\"ids\":[\"Africa\"],\"legendgroup\":\"Africa\",\"marker\":{\"color\":\"#636efa\",\"size\":[2788100678],\"sizemode\":\"area\",\"sizeref\":9811051.535,\"symbol\":\"circle\"},\"mode\":\"markers\",\"name\":\"Africa\",\"orientation\":\"v\",\"showlegend\":true,\"type\":\"scatter\",\"x\":[2788100678],\"xaxis\":\"x\",\"y\":[2788100678],\"yaxis\":\"y\"},{\"hovertemplate\":\"<b>%{hovertext}</b><br><br>continent=North America<br>year=2058<br> Population=%{marker.size}<extra></extra>\",\"hovertext\":[\"North America\"],\"ids\":[\"North America\"],\"legendgroup\":\"North America\",\"marker\":{\"color\":\"#EF553B\",\"size\":[427160485],\"sizemode\":\"area\",\"sizeref\":9811051.535,\"symbol\":\"circle\"},\"mode\":\"markers\",\"name\":\"North America\",\"orientation\":\"v\",\"showlegend\":true,\"type\":\"scatter\",\"x\":[427160485],\"xaxis\":\"x\",\"y\":[427160485],\"yaxis\":\"y\"}],\"name\":\"2058\"},{\"data\":[{\"hovertemplate\":\"<b>%{hovertext}</b><br><br>continent=Africa<br>year=2059<br> Population=%{marker.size}<extra></extra>\",\"hovertext\":[\"Africa\"],\"ids\":[\"Africa\"],\"legendgroup\":\"Africa\",\"marker\":{\"color\":\"#636efa\",\"size\":[2824746220],\"sizemode\":\"area\",\"sizeref\":9811051.535,\"symbol\":\"circle\"},\"mode\":\"markers\",\"name\":\"Africa\",\"orientation\":\"v\",\"showlegend\":true,\"type\":\"scatter\",\"x\":[2824746220],\"xaxis\":\"x\",\"y\":[2824746220],\"yaxis\":\"y\"},{\"hovertemplate\":\"<b>%{hovertext}</b><br><br>continent=North America<br>year=2059<br> Population=%{marker.size}<extra></extra>\",\"hovertext\":[\"North America\"],\"ids\":[\"North America\"],\"legendgroup\":\"North America\",\"marker\":{\"color\":\"#EF553B\",\"size\":[427878981],\"sizemode\":\"area\",\"sizeref\":9811051.535,\"symbol\":\"circle\"},\"mode\":\"markers\",\"name\":\"North America\",\"orientation\":\"v\",\"showlegend\":true,\"type\":\"scatter\",\"x\":[427878981],\"xaxis\":\"x\",\"y\":[427878981],\"yaxis\":\"y\"}],\"name\":\"2059\"},{\"data\":[{\"hovertemplate\":\"<b>%{hovertext}</b><br><br>continent=Africa<br>year=2060<br> Population=%{marker.size}<extra></extra>\",\"hovertext\":[\"Africa\"],\"ids\":[\"Africa\"],\"legendgroup\":\"Africa\",\"marker\":{\"color\":\"#636efa\",\"size\":[2861079511],\"sizemode\":\"area\",\"sizeref\":9811051.535,\"symbol\":\"circle\"},\"mode\":\"markers\",\"name\":\"Africa\",\"orientation\":\"v\",\"showlegend\":true,\"type\":\"scatter\",\"x\":[2861079511],\"xaxis\":\"x\",\"y\":[2861079511],\"yaxis\":\"y\"},{\"hovertemplate\":\"<b>%{hovertext}</b><br><br>continent=North America<br>year=2060<br> Population=%{marker.size}<extra></extra>\",\"hovertext\":[\"North America\"],\"ids\":[\"North America\"],\"legendgroup\":\"North America\",\"marker\":{\"color\":\"#EF553B\",\"size\":[428607143],\"sizemode\":\"area\",\"sizeref\":9811051.535,\"symbol\":\"circle\"},\"mode\":\"markers\",\"name\":\"North America\",\"orientation\":\"v\",\"showlegend\":true,\"type\":\"scatter\",\"x\":[428607143],\"xaxis\":\"x\",\"y\":[428607143],\"yaxis\":\"y\"}],\"name\":\"2060\"},{\"data\":[{\"hovertemplate\":\"<b>%{hovertext}</b><br><br>continent=Africa<br>year=2061<br> Population=%{marker.size}<extra></extra>\",\"hovertext\":[\"Africa\"],\"ids\":[\"Africa\"],\"legendgroup\":\"Africa\",\"marker\":{\"color\":\"#636efa\",\"size\":[2897140195],\"sizemode\":\"area\",\"sizeref\":9811051.535,\"symbol\":\"circle\"},\"mode\":\"markers\",\"name\":\"Africa\",\"orientation\":\"v\",\"showlegend\":true,\"type\":\"scatter\",\"x\":[2897140195],\"xaxis\":\"x\",\"y\":[2897140195],\"yaxis\":\"y\"},{\"hovertemplate\":\"<b>%{hovertext}</b><br><br>continent=North America<br>year=2061<br> Population=%{marker.size}<extra></extra>\",\"hovertext\":[\"North America\"],\"ids\":[\"North America\"],\"legendgroup\":\"North America\",\"marker\":{\"color\":\"#EF553B\",\"size\":[429347465],\"sizemode\":\"area\",\"sizeref\":9811051.535,\"symbol\":\"circle\"},\"mode\":\"markers\",\"name\":\"North America\",\"orientation\":\"v\",\"showlegend\":true,\"type\":\"scatter\",\"x\":[429347465],\"xaxis\":\"x\",\"y\":[429347465],\"yaxis\":\"y\"}],\"name\":\"2061\"},{\"data\":[{\"hovertemplate\":\"<b>%{hovertext}</b><br><br>continent=Africa<br>year=2062<br> Population=%{marker.size}<extra></extra>\",\"hovertext\":[\"Africa\"],\"ids\":[\"Africa\"],\"legendgroup\":\"Africa\",\"marker\":{\"color\":\"#636efa\",\"size\":[2932931499],\"sizemode\":\"area\",\"sizeref\":9811051.535,\"symbol\":\"circle\"},\"mode\":\"markers\",\"name\":\"Africa\",\"orientation\":\"v\",\"showlegend\":true,\"type\":\"scatter\",\"x\":[2932931499],\"xaxis\":\"x\",\"y\":[2932931499],\"yaxis\":\"y\"},{\"hovertemplate\":\"<b>%{hovertext}</b><br><br>continent=North America<br>year=2062<br> Population=%{marker.size}<extra></extra>\",\"hovertext\":[\"North America\"],\"ids\":[\"North America\"],\"legendgroup\":\"North America\",\"marker\":{\"color\":\"#EF553B\",\"size\":[430103383],\"sizemode\":\"area\",\"sizeref\":9811051.535,\"symbol\":\"circle\"},\"mode\":\"markers\",\"name\":\"North America\",\"orientation\":\"v\",\"showlegend\":true,\"type\":\"scatter\",\"x\":[430103383],\"xaxis\":\"x\",\"y\":[430103383],\"yaxis\":\"y\"}],\"name\":\"2062\"},{\"data\":[{\"hovertemplate\":\"<b>%{hovertext}</b><br><br>continent=Africa<br>year=2063<br> Population=%{marker.size}<extra></extra>\",\"hovertext\":[\"Africa\"],\"ids\":[\"Africa\"],\"legendgroup\":\"Africa\",\"marker\":{\"color\":\"#636efa\",\"size\":[2968373604],\"sizemode\":\"area\",\"sizeref\":9811051.535,\"symbol\":\"circle\"},\"mode\":\"markers\",\"name\":\"Africa\",\"orientation\":\"v\",\"showlegend\":true,\"type\":\"scatter\",\"x\":[2968373604],\"xaxis\":\"x\",\"y\":[2968373604],\"yaxis\":\"y\"},{\"hovertemplate\":\"<b>%{hovertext}</b><br><br>continent=North America<br>year=2063<br> Population=%{marker.size}<extra></extra>\",\"hovertext\":[\"North America\"],\"ids\":[\"North America\"],\"legendgroup\":\"North America\",\"marker\":{\"color\":\"#EF553B\",\"size\":[430878529],\"sizemode\":\"area\",\"sizeref\":9811051.535,\"symbol\":\"circle\"},\"mode\":\"markers\",\"name\":\"North America\",\"orientation\":\"v\",\"showlegend\":true,\"type\":\"scatter\",\"x\":[430878529],\"xaxis\":\"x\",\"y\":[430878529],\"yaxis\":\"y\"}],\"name\":\"2063\"},{\"data\":[{\"hovertemplate\":\"<b>%{hovertext}</b><br><br>continent=Africa<br>year=2064<br> Population=%{marker.size}<extra></extra>\",\"hovertext\":[\"Africa\"],\"ids\":[\"Africa\"],\"legendgroup\":\"Africa\",\"marker\":{\"color\":\"#636efa\",\"size\":[3003468334],\"sizemode\":\"area\",\"sizeref\":9811051.535,\"symbol\":\"circle\"},\"mode\":\"markers\",\"name\":\"Africa\",\"orientation\":\"v\",\"showlegend\":true,\"type\":\"scatter\",\"x\":[3003468334],\"xaxis\":\"x\",\"y\":[3003468334],\"yaxis\":\"y\"},{\"hovertemplate\":\"<b>%{hovertext}</b><br><br>continent=North America<br>year=2064<br> Population=%{marker.size}<extra></extra>\",\"hovertext\":[\"North America\"],\"ids\":[\"North America\"],\"legendgroup\":\"North America\",\"marker\":{\"color\":\"#EF553B\",\"size\":[431668725],\"sizemode\":\"area\",\"sizeref\":9811051.535,\"symbol\":\"circle\"},\"mode\":\"markers\",\"name\":\"North America\",\"orientation\":\"v\",\"showlegend\":true,\"type\":\"scatter\",\"x\":[431668725],\"xaxis\":\"x\",\"y\":[431668725],\"yaxis\":\"y\"}],\"name\":\"2064\"},{\"data\":[{\"hovertemplate\":\"<b>%{hovertext}</b><br><br>continent=Africa<br>year=2065<br> Population=%{marker.size}<extra></extra>\",\"hovertext\":[\"Africa\"],\"ids\":[\"Africa\"],\"legendgroup\":\"Africa\",\"marker\":{\"color\":\"#636efa\",\"size\":[3038189396],\"sizemode\":\"area\",\"sizeref\":9811051.535,\"symbol\":\"circle\"},\"mode\":\"markers\",\"name\":\"Africa\",\"orientation\":\"v\",\"showlegend\":true,\"type\":\"scatter\",\"x\":[3038189396],\"xaxis\":\"x\",\"y\":[3038189396],\"yaxis\":\"y\"},{\"hovertemplate\":\"<b>%{hovertext}</b><br><br>continent=North America<br>year=2065<br> Population=%{marker.size}<extra></extra>\",\"hovertext\":[\"North America\"],\"ids\":[\"North America\"],\"legendgroup\":\"North America\",\"marker\":{\"color\":\"#EF553B\",\"size\":[432466239],\"sizemode\":\"area\",\"sizeref\":9811051.535,\"symbol\":\"circle\"},\"mode\":\"markers\",\"name\":\"North America\",\"orientation\":\"v\",\"showlegend\":true,\"type\":\"scatter\",\"x\":[432466239],\"xaxis\":\"x\",\"y\":[432466239],\"yaxis\":\"y\"}],\"name\":\"2065\"},{\"data\":[{\"hovertemplate\":\"<b>%{hovertext}</b><br><br>continent=Africa<br>year=2066<br> Population=%{marker.size}<extra></extra>\",\"hovertext\":[\"Africa\"],\"ids\":[\"Africa\"],\"legendgroup\":\"Africa\",\"marker\":{\"color\":\"#636efa\",\"size\":[3072489966],\"sizemode\":\"area\",\"sizeref\":9811051.535,\"symbol\":\"circle\"},\"mode\":\"markers\",\"name\":\"Africa\",\"orientation\":\"v\",\"showlegend\":true,\"type\":\"scatter\",\"x\":[3072489966],\"xaxis\":\"x\",\"y\":[3072489966],\"yaxis\":\"y\"},{\"hovertemplate\":\"<b>%{hovertext}</b><br><br>continent=North America<br>year=2066<br> Population=%{marker.size}<extra></extra>\",\"hovertext\":[\"North America\"],\"ids\":[\"North America\"],\"legendgroup\":\"North America\",\"marker\":{\"color\":\"#EF553B\",\"size\":[433267543],\"sizemode\":\"area\",\"sizeref\":9811051.535,\"symbol\":\"circle\"},\"mode\":\"markers\",\"name\":\"North America\",\"orientation\":\"v\",\"showlegend\":true,\"type\":\"scatter\",\"x\":[433267543],\"xaxis\":\"x\",\"y\":[433267543],\"yaxis\":\"y\"}],\"name\":\"2066\"},{\"data\":[{\"hovertemplate\":\"<b>%{hovertext}</b><br><br>continent=Africa<br>year=2067<br> Population=%{marker.size}<extra></extra>\",\"hovertext\":[\"Africa\"],\"ids\":[\"Africa\"],\"legendgroup\":\"Africa\",\"marker\":{\"color\":\"#636efa\",\"size\":[3106448544],\"sizemode\":\"area\",\"sizeref\":9811051.535,\"symbol\":\"circle\"},\"mode\":\"markers\",\"name\":\"Africa\",\"orientation\":\"v\",\"showlegend\":true,\"type\":\"scatter\",\"x\":[3106448544],\"xaxis\":\"x\",\"y\":[3106448544],\"yaxis\":\"y\"},{\"hovertemplate\":\"<b>%{hovertext}</b><br><br>continent=North America<br>year=2067<br> Population=%{marker.size}<extra></extra>\",\"hovertext\":[\"North America\"],\"ids\":[\"North America\"],\"legendgroup\":\"North America\",\"marker\":{\"color\":\"#EF553B\",\"size\":[434069046],\"sizemode\":\"area\",\"sizeref\":9811051.535,\"symbol\":\"circle\"},\"mode\":\"markers\",\"name\":\"North America\",\"orientation\":\"v\",\"showlegend\":true,\"type\":\"scatter\",\"x\":[434069046],\"xaxis\":\"x\",\"y\":[434069046],\"yaxis\":\"y\"}],\"name\":\"2067\"},{\"data\":[{\"hovertemplate\":\"<b>%{hovertext}</b><br><br>continent=Africa<br>year=2068<br> Population=%{marker.size}<extra></extra>\",\"hovertext\":[\"Africa\"],\"ids\":[\"Africa\"],\"legendgroup\":\"Africa\",\"marker\":{\"color\":\"#636efa\",\"size\":[3140019266],\"sizemode\":\"area\",\"sizeref\":9811051.535,\"symbol\":\"circle\"},\"mode\":\"markers\",\"name\":\"Africa\",\"orientation\":\"v\",\"showlegend\":true,\"type\":\"scatter\",\"x\":[3140019266],\"xaxis\":\"x\",\"y\":[3140019266],\"yaxis\":\"y\"},{\"hovertemplate\":\"<b>%{hovertext}</b><br><br>continent=North America<br>year=2068<br> Population=%{marker.size}<extra></extra>\",\"hovertext\":[\"North America\"],\"ids\":[\"North America\"],\"legendgroup\":\"North America\",\"marker\":{\"color\":\"#EF553B\",\"size\":[434869639],\"sizemode\":\"area\",\"sizeref\":9811051.535,\"symbol\":\"circle\"},\"mode\":\"markers\",\"name\":\"North America\",\"orientation\":\"v\",\"showlegend\":true,\"type\":\"scatter\",\"x\":[434869639],\"xaxis\":\"x\",\"y\":[434869639],\"yaxis\":\"y\"}],\"name\":\"2068\"},{\"data\":[{\"hovertemplate\":\"<b>%{hovertext}</b><br><br>continent=Africa<br>year=2069<br> Population=%{marker.size}<extra></extra>\",\"hovertext\":[\"Africa\"],\"ids\":[\"Africa\"],\"legendgroup\":\"Africa\",\"marker\":{\"color\":\"#636efa\",\"size\":[3173134557],\"sizemode\":\"area\",\"sizeref\":9811051.535,\"symbol\":\"circle\"},\"mode\":\"markers\",\"name\":\"Africa\",\"orientation\":\"v\",\"showlegend\":true,\"type\":\"scatter\",\"x\":[3173134557],\"xaxis\":\"x\",\"y\":[3173134557],\"yaxis\":\"y\"},{\"hovertemplate\":\"<b>%{hovertext}</b><br><br>continent=North America<br>year=2069<br> Population=%{marker.size}<extra></extra>\",\"hovertext\":[\"North America\"],\"ids\":[\"North America\"],\"legendgroup\":\"North America\",\"marker\":{\"color\":\"#EF553B\",\"size\":[435655518],\"sizemode\":\"area\",\"sizeref\":9811051.535,\"symbol\":\"circle\"},\"mode\":\"markers\",\"name\":\"North America\",\"orientation\":\"v\",\"showlegend\":true,\"type\":\"scatter\",\"x\":[435655518],\"xaxis\":\"x\",\"y\":[435655518],\"yaxis\":\"y\"}],\"name\":\"2069\"},{\"data\":[{\"hovertemplate\":\"<b>%{hovertext}</b><br><br>continent=Africa<br>year=2070<br> Population=%{marker.size}<extra></extra>\",\"hovertext\":[\"Africa\"],\"ids\":[\"Africa\"],\"legendgroup\":\"Africa\",\"marker\":{\"color\":\"#636efa\",\"size\":[3205773359],\"sizemode\":\"area\",\"sizeref\":9811051.535,\"symbol\":\"circle\"},\"mode\":\"markers\",\"name\":\"Africa\",\"orientation\":\"v\",\"showlegend\":true,\"type\":\"scatter\",\"x\":[3205773359],\"xaxis\":\"x\",\"y\":[3205773359],\"yaxis\":\"y\"},{\"hovertemplate\":\"<b>%{hovertext}</b><br><br>continent=North America<br>year=2070<br> Population=%{marker.size}<extra></extra>\",\"hovertext\":[\"North America\"],\"ids\":[\"North America\"],\"legendgroup\":\"North America\",\"marker\":{\"color\":\"#EF553B\",\"size\":[436416085],\"sizemode\":\"area\",\"sizeref\":9811051.535,\"symbol\":\"circle\"},\"mode\":\"markers\",\"name\":\"North America\",\"orientation\":\"v\",\"showlegend\":true,\"type\":\"scatter\",\"x\":[436416085],\"xaxis\":\"x\",\"y\":[436416085],\"yaxis\":\"y\"}],\"name\":\"2070\"},{\"data\":[{\"hovertemplate\":\"<b>%{hovertext}</b><br><br>continent=Africa<br>year=2071<br> Population=%{marker.size}<extra></extra>\",\"hovertext\":[\"Africa\"],\"ids\":[\"Africa\"],\"legendgroup\":\"Africa\",\"marker\":{\"color\":\"#636efa\",\"size\":[3237935473],\"sizemode\":\"area\",\"sizeref\":9811051.535,\"symbol\":\"circle\"},\"mode\":\"markers\",\"name\":\"Africa\",\"orientation\":\"v\",\"showlegend\":true,\"type\":\"scatter\",\"x\":[3237935473],\"xaxis\":\"x\",\"y\":[3237935473],\"yaxis\":\"y\"},{\"hovertemplate\":\"<b>%{hovertext}</b><br><br>continent=North America<br>year=2071<br> Population=%{marker.size}<extra></extra>\",\"hovertext\":[\"North America\"],\"ids\":[\"North America\"],\"legendgroup\":\"North America\",\"marker\":{\"color\":\"#EF553B\",\"size\":[437167122],\"sizemode\":\"area\",\"sizeref\":9811051.535,\"symbol\":\"circle\"},\"mode\":\"markers\",\"name\":\"North America\",\"orientation\":\"v\",\"showlegend\":true,\"type\":\"scatter\",\"x\":[437167122],\"xaxis\":\"x\",\"y\":[437167122],\"yaxis\":\"y\"}],\"name\":\"2071\"},{\"data\":[{\"hovertemplate\":\"<b>%{hovertext}</b><br><br>continent=Africa<br>year=2072<br> Population=%{marker.size}<extra></extra>\",\"hovertext\":[\"Africa\"],\"ids\":[\"Africa\"],\"legendgroup\":\"Africa\",\"marker\":{\"color\":\"#636efa\",\"size\":[3269661930],\"sizemode\":\"area\",\"sizeref\":9811051.535,\"symbol\":\"circle\"},\"mode\":\"markers\",\"name\":\"Africa\",\"orientation\":\"v\",\"showlegend\":true,\"type\":\"scatter\",\"x\":[3269661930],\"xaxis\":\"x\",\"y\":[3269661930],\"yaxis\":\"y\"},{\"hovertemplate\":\"<b>%{hovertext}</b><br><br>continent=North America<br>year=2072<br> Population=%{marker.size}<extra></extra>\",\"hovertext\":[\"North America\"],\"ids\":[\"North America\"],\"legendgroup\":\"North America\",\"marker\":{\"color\":\"#EF553B\",\"size\":[437902238],\"sizemode\":\"area\",\"sizeref\":9811051.535,\"symbol\":\"circle\"},\"mode\":\"markers\",\"name\":\"North America\",\"orientation\":\"v\",\"showlegend\":true,\"type\":\"scatter\",\"x\":[437902238],\"xaxis\":\"x\",\"y\":[437902238],\"yaxis\":\"y\"}],\"name\":\"2072\"},{\"data\":[{\"hovertemplate\":\"<b>%{hovertext}</b><br><br>continent=Africa<br>year=2073<br> Population=%{marker.size}<extra></extra>\",\"hovertext\":[\"Africa\"],\"ids\":[\"Africa\"],\"legendgroup\":\"Africa\",\"marker\":{\"color\":\"#636efa\",\"size\":[3300925347],\"sizemode\":\"area\",\"sizeref\":9811051.535,\"symbol\":\"circle\"},\"mode\":\"markers\",\"name\":\"Africa\",\"orientation\":\"v\",\"showlegend\":true,\"type\":\"scatter\",\"x\":[3300925347],\"xaxis\":\"x\",\"y\":[3300925347],\"yaxis\":\"y\"},{\"hovertemplate\":\"<b>%{hovertext}</b><br><br>continent=North America<br>year=2073<br> Population=%{marker.size}<extra></extra>\",\"hovertext\":[\"North America\"],\"ids\":[\"North America\"],\"legendgroup\":\"North America\",\"marker\":{\"color\":\"#EF553B\",\"size\":[438604558],\"sizemode\":\"area\",\"sizeref\":9811051.535,\"symbol\":\"circle\"},\"mode\":\"markers\",\"name\":\"North America\",\"orientation\":\"v\",\"showlegend\":true,\"type\":\"scatter\",\"x\":[438604558],\"xaxis\":\"x\",\"y\":[438604558],\"yaxis\":\"y\"}],\"name\":\"2073\"},{\"data\":[{\"hovertemplate\":\"<b>%{hovertext}</b><br><br>continent=Africa<br>year=2074<br> Population=%{marker.size}<extra></extra>\",\"hovertext\":[\"Africa\"],\"ids\":[\"Africa\"],\"legendgroup\":\"Africa\",\"marker\":{\"color\":\"#636efa\",\"size\":[3331662177],\"sizemode\":\"area\",\"sizeref\":9811051.535,\"symbol\":\"circle\"},\"mode\":\"markers\",\"name\":\"Africa\",\"orientation\":\"v\",\"showlegend\":true,\"type\":\"scatter\",\"x\":[3331662177],\"xaxis\":\"x\",\"y\":[3331662177],\"yaxis\":\"y\"},{\"hovertemplate\":\"<b>%{hovertext}</b><br><br>continent=North America<br>year=2074<br> Population=%{marker.size}<extra></extra>\",\"hovertext\":[\"North America\"],\"ids\":[\"North America\"],\"legendgroup\":\"North America\",\"marker\":{\"color\":\"#EF553B\",\"size\":[439269445],\"sizemode\":\"area\",\"sizeref\":9811051.535,\"symbol\":\"circle\"},\"mode\":\"markers\",\"name\":\"North America\",\"orientation\":\"v\",\"showlegend\":true,\"type\":\"scatter\",\"x\":[439269445],\"xaxis\":\"x\",\"y\":[439269445],\"yaxis\":\"y\"}],\"name\":\"2074\"},{\"data\":[{\"hovertemplate\":\"<b>%{hovertext}</b><br><br>continent=Africa<br>year=2075<br> Population=%{marker.size}<extra></extra>\",\"hovertext\":[\"Africa\"],\"ids\":[\"Africa\"],\"legendgroup\":\"Africa\",\"marker\":{\"color\":\"#636efa\",\"size\":[3361854381],\"sizemode\":\"area\",\"sizeref\":9811051.535,\"symbol\":\"circle\"},\"mode\":\"markers\",\"name\":\"Africa\",\"orientation\":\"v\",\"showlegend\":true,\"type\":\"scatter\",\"x\":[3361854381],\"xaxis\":\"x\",\"y\":[3361854381],\"yaxis\":\"y\"},{\"hovertemplate\":\"<b>%{hovertext}</b><br><br>continent=North America<br>year=2075<br> Population=%{marker.size}<extra></extra>\",\"hovertext\":[\"North America\"],\"ids\":[\"North America\"],\"legendgroup\":\"North America\",\"marker\":{\"color\":\"#EF553B\",\"size\":[439895173],\"sizemode\":\"area\",\"sizeref\":9811051.535,\"symbol\":\"circle\"},\"mode\":\"markers\",\"name\":\"North America\",\"orientation\":\"v\",\"showlegend\":true,\"type\":\"scatter\",\"x\":[439895173],\"xaxis\":\"x\",\"y\":[439895173],\"yaxis\":\"y\"}],\"name\":\"2075\"},{\"data\":[{\"hovertemplate\":\"<b>%{hovertext}</b><br><br>continent=Africa<br>year=2076<br> Population=%{marker.size}<extra></extra>\",\"hovertext\":[\"Africa\"],\"ids\":[\"Africa\"],\"legendgroup\":\"Africa\",\"marker\":{\"color\":\"#636efa\",\"size\":[3391480493],\"sizemode\":\"area\",\"sizeref\":9811051.535,\"symbol\":\"circle\"},\"mode\":\"markers\",\"name\":\"Africa\",\"orientation\":\"v\",\"showlegend\":true,\"type\":\"scatter\",\"x\":[3391480493],\"xaxis\":\"x\",\"y\":[3391480493],\"yaxis\":\"y\"},{\"hovertemplate\":\"<b>%{hovertext}</b><br><br>continent=North America<br>year=2076<br> Population=%{marker.size}<extra></extra>\",\"hovertext\":[\"North America\"],\"ids\":[\"North America\"],\"legendgroup\":\"North America\",\"marker\":{\"color\":\"#EF553B\",\"size\":[440482370],\"sizemode\":\"area\",\"sizeref\":9811051.535,\"symbol\":\"circle\"},\"mode\":\"markers\",\"name\":\"North America\",\"orientation\":\"v\",\"showlegend\":true,\"type\":\"scatter\",\"x\":[440482370],\"xaxis\":\"x\",\"y\":[440482370],\"yaxis\":\"y\"}],\"name\":\"2076\"},{\"data\":[{\"hovertemplate\":\"<b>%{hovertext}</b><br><br>continent=Africa<br>year=2077<br> Population=%{marker.size}<extra></extra>\",\"hovertext\":[\"Africa\"],\"ids\":[\"Africa\"],\"legendgroup\":\"Africa\",\"marker\":{\"color\":\"#636efa\",\"size\":[3420510775],\"sizemode\":\"area\",\"sizeref\":9811051.535,\"symbol\":\"circle\"},\"mode\":\"markers\",\"name\":\"Africa\",\"orientation\":\"v\",\"showlegend\":true,\"type\":\"scatter\",\"x\":[3420510775],\"xaxis\":\"x\",\"y\":[3420510775],\"yaxis\":\"y\"},{\"hovertemplate\":\"<b>%{hovertext}</b><br><br>continent=North America<br>year=2077<br> Population=%{marker.size}<extra></extra>\",\"hovertext\":[\"North America\"],\"ids\":[\"North America\"],\"legendgroup\":\"North America\",\"marker\":{\"color\":\"#EF553B\",\"size\":[441033329],\"sizemode\":\"area\",\"sizeref\":9811051.535,\"symbol\":\"circle\"},\"mode\":\"markers\",\"name\":\"North America\",\"orientation\":\"v\",\"showlegend\":true,\"type\":\"scatter\",\"x\":[441033329],\"xaxis\":\"x\",\"y\":[441033329],\"yaxis\":\"y\"}],\"name\":\"2077\"},{\"data\":[{\"hovertemplate\":\"<b>%{hovertext}</b><br><br>continent=Africa<br>year=2078<br> Population=%{marker.size}<extra></extra>\",\"hovertext\":[\"Africa\"],\"ids\":[\"Africa\"],\"legendgroup\":\"Africa\",\"marker\":{\"color\":\"#636efa\",\"size\":[3449000022],\"sizemode\":\"area\",\"sizeref\":9811051.535,\"symbol\":\"circle\"},\"mode\":\"markers\",\"name\":\"Africa\",\"orientation\":\"v\",\"showlegend\":true,\"type\":\"scatter\",\"x\":[3449000022],\"xaxis\":\"x\",\"y\":[3449000022],\"yaxis\":\"y\"},{\"hovertemplate\":\"<b>%{hovertext}</b><br><br>continent=North America<br>year=2078<br> Population=%{marker.size}<extra></extra>\",\"hovertext\":[\"North America\"],\"ids\":[\"North America\"],\"legendgroup\":\"North America\",\"marker\":{\"color\":\"#EF553B\",\"size\":[441551108],\"sizemode\":\"area\",\"sizeref\":9811051.535,\"symbol\":\"circle\"},\"mode\":\"markers\",\"name\":\"North America\",\"orientation\":\"v\",\"showlegend\":true,\"type\":\"scatter\",\"x\":[441551108],\"xaxis\":\"x\",\"y\":[441551108],\"yaxis\":\"y\"}],\"name\":\"2078\"},{\"data\":[{\"hovertemplate\":\"<b>%{hovertext}</b><br><br>continent=Africa<br>year=2079<br> Population=%{marker.size}<extra></extra>\",\"hovertext\":[\"Africa\"],\"ids\":[\"Africa\"],\"legendgroup\":\"Africa\",\"marker\":{\"color\":\"#636efa\",\"size\":[3476975700],\"sizemode\":\"area\",\"sizeref\":9811051.535,\"symbol\":\"circle\"},\"mode\":\"markers\",\"name\":\"Africa\",\"orientation\":\"v\",\"showlegend\":true,\"type\":\"scatter\",\"x\":[3476975700],\"xaxis\":\"x\",\"y\":[3476975700],\"yaxis\":\"y\"},{\"hovertemplate\":\"<b>%{hovertext}</b><br><br>continent=North America<br>year=2079<br> Population=%{marker.size}<extra></extra>\",\"hovertext\":[\"North America\"],\"ids\":[\"North America\"],\"legendgroup\":\"North America\",\"marker\":{\"color\":\"#EF553B\",\"size\":[442028720],\"sizemode\":\"area\",\"sizeref\":9811051.535,\"symbol\":\"circle\"},\"mode\":\"markers\",\"name\":\"North America\",\"orientation\":\"v\",\"showlegend\":true,\"type\":\"scatter\",\"x\":[442028720],\"xaxis\":\"x\",\"y\":[442028720],\"yaxis\":\"y\"}],\"name\":\"2079\"},{\"data\":[{\"hovertemplate\":\"<b>%{hovertext}</b><br><br>continent=Africa<br>year=2080<br> Population=%{marker.size}<extra></extra>\",\"hovertext\":[\"Africa\"],\"ids\":[\"Africa\"],\"legendgroup\":\"Africa\",\"marker\":{\"color\":\"#636efa\",\"size\":[3504401640],\"sizemode\":\"area\",\"sizeref\":9811051.535,\"symbol\":\"circle\"},\"mode\":\"markers\",\"name\":\"Africa\",\"orientation\":\"v\",\"showlegend\":true,\"type\":\"scatter\",\"x\":[3504401640],\"xaxis\":\"x\",\"y\":[3504401640],\"yaxis\":\"y\"},{\"hovertemplate\":\"<b>%{hovertext}</b><br><br>continent=North America<br>year=2080<br> Population=%{marker.size}<extra></extra>\",\"hovertext\":[\"North America\"],\"ids\":[\"North America\"],\"legendgroup\":\"North America\",\"marker\":{\"color\":\"#EF553B\",\"size\":[442464213],\"sizemode\":\"area\",\"sizeref\":9811051.535,\"symbol\":\"circle\"},\"mode\":\"markers\",\"name\":\"North America\",\"orientation\":\"v\",\"showlegend\":true,\"type\":\"scatter\",\"x\":[442464213],\"xaxis\":\"x\",\"y\":[442464213],\"yaxis\":\"y\"}],\"name\":\"2080\"},{\"data\":[{\"hovertemplate\":\"<b>%{hovertext}</b><br><br>continent=Africa<br>year=2081<br> Population=%{marker.size}<extra></extra>\",\"hovertext\":[\"Africa\"],\"ids\":[\"Africa\"],\"legendgroup\":\"Africa\",\"marker\":{\"color\":\"#636efa\",\"size\":[3531278214],\"sizemode\":\"area\",\"sizeref\":9811051.535,\"symbol\":\"circle\"},\"mode\":\"markers\",\"name\":\"Africa\",\"orientation\":\"v\",\"showlegend\":true,\"type\":\"scatter\",\"x\":[3531278214],\"xaxis\":\"x\",\"y\":[3531278214],\"yaxis\":\"y\"},{\"hovertemplate\":\"<b>%{hovertext}</b><br><br>continent=North America<br>year=2081<br> Population=%{marker.size}<extra></extra>\",\"hovertext\":[\"North America\"],\"ids\":[\"North America\"],\"legendgroup\":\"North America\",\"marker\":{\"color\":\"#EF553B\",\"size\":[442865862],\"sizemode\":\"area\",\"sizeref\":9811051.535,\"symbol\":\"circle\"},\"mode\":\"markers\",\"name\":\"North America\",\"orientation\":\"v\",\"showlegend\":true,\"type\":\"scatter\",\"x\":[442865862],\"xaxis\":\"x\",\"y\":[442865862],\"yaxis\":\"y\"}],\"name\":\"2081\"},{\"data\":[{\"hovertemplate\":\"<b>%{hovertext}</b><br><br>continent=Africa<br>year=2082<br> Population=%{marker.size}<extra></extra>\",\"hovertext\":[\"Africa\"],\"ids\":[\"Africa\"],\"legendgroup\":\"Africa\",\"marker\":{\"color\":\"#636efa\",\"size\":[3557592404],\"sizemode\":\"area\",\"sizeref\":9811051.535,\"symbol\":\"circle\"},\"mode\":\"markers\",\"name\":\"Africa\",\"orientation\":\"v\",\"showlegend\":true,\"type\":\"scatter\",\"x\":[3557592404],\"xaxis\":\"x\",\"y\":[3557592404],\"yaxis\":\"y\"},{\"hovertemplate\":\"<b>%{hovertext}</b><br><br>continent=North America<br>year=2082<br> Population=%{marker.size}<extra></extra>\",\"hovertext\":[\"North America\"],\"ids\":[\"North America\"],\"legendgroup\":\"North America\",\"marker\":{\"color\":\"#EF553B\",\"size\":[443236806],\"sizemode\":\"area\",\"sizeref\":9811051.535,\"symbol\":\"circle\"},\"mode\":\"markers\",\"name\":\"North America\",\"orientation\":\"v\",\"showlegend\":true,\"type\":\"scatter\",\"x\":[443236806],\"xaxis\":\"x\",\"y\":[443236806],\"yaxis\":\"y\"}],\"name\":\"2082\"},{\"data\":[{\"hovertemplate\":\"<b>%{hovertext}</b><br><br>continent=Africa<br>year=2083<br> Population=%{marker.size}<extra></extra>\",\"hovertext\":[\"Africa\"],\"ids\":[\"Africa\"],\"legendgroup\":\"Africa\",\"marker\":{\"color\":\"#636efa\",\"size\":[3583317421],\"sizemode\":\"area\",\"sizeref\":9811051.535,\"symbol\":\"circle\"},\"mode\":\"markers\",\"name\":\"Africa\",\"orientation\":\"v\",\"showlegend\":true,\"type\":\"scatter\",\"x\":[3583317421],\"xaxis\":\"x\",\"y\":[3583317421],\"yaxis\":\"y\"},{\"hovertemplate\":\"<b>%{hovertext}</b><br><br>continent=North America<br>year=2083<br> Population=%{marker.size}<extra></extra>\",\"hovertext\":[\"North America\"],\"ids\":[\"North America\"],\"legendgroup\":\"North America\",\"marker\":{\"color\":\"#EF553B\",\"size\":[443580807],\"sizemode\":\"area\",\"sizeref\":9811051.535,\"symbol\":\"circle\"},\"mode\":\"markers\",\"name\":\"North America\",\"orientation\":\"v\",\"showlegend\":true,\"type\":\"scatter\",\"x\":[443580807],\"xaxis\":\"x\",\"y\":[443580807],\"yaxis\":\"y\"}],\"name\":\"2083\"},{\"data\":[{\"hovertemplate\":\"<b>%{hovertext}</b><br><br>continent=Africa<br>year=2084<br> Population=%{marker.size}<extra></extra>\",\"hovertext\":[\"Africa\"],\"ids\":[\"Africa\"],\"legendgroup\":\"Africa\",\"marker\":{\"color\":\"#636efa\",\"size\":[3608448708],\"sizemode\":\"area\",\"sizeref\":9811051.535,\"symbol\":\"circle\"},\"mode\":\"markers\",\"name\":\"Africa\",\"orientation\":\"v\",\"showlegend\":true,\"type\":\"scatter\",\"x\":[3608448708],\"xaxis\":\"x\",\"y\":[3608448708],\"yaxis\":\"y\"},{\"hovertemplate\":\"<b>%{hovertext}</b><br><br>continent=North America<br>year=2084<br> Population=%{marker.size}<extra></extra>\",\"hovertext\":[\"North America\"],\"ids\":[\"North America\"],\"legendgroup\":\"North America\",\"marker\":{\"color\":\"#EF553B\",\"size\":[443903737],\"sizemode\":\"area\",\"sizeref\":9811051.535,\"symbol\":\"circle\"},\"mode\":\"markers\",\"name\":\"North America\",\"orientation\":\"v\",\"showlegend\":true,\"type\":\"scatter\",\"x\":[443903737],\"xaxis\":\"x\",\"y\":[443903737],\"yaxis\":\"y\"}],\"name\":\"2084\"},{\"data\":[{\"hovertemplate\":\"<b>%{hovertext}</b><br><br>continent=Africa<br>year=2085<br> Population=%{marker.size}<extra></extra>\",\"hovertext\":[\"Africa\"],\"ids\":[\"Africa\"],\"legendgroup\":\"Africa\",\"marker\":{\"color\":\"#636efa\",\"size\":[3632983263],\"sizemode\":\"area\",\"sizeref\":9811051.535,\"symbol\":\"circle\"},\"mode\":\"markers\",\"name\":\"Africa\",\"orientation\":\"v\",\"showlegend\":true,\"type\":\"scatter\",\"x\":[3632983263],\"xaxis\":\"x\",\"y\":[3632983263],\"yaxis\":\"y\"},{\"hovertemplate\":\"<b>%{hovertext}</b><br><br>continent=North America<br>year=2085<br> Population=%{marker.size}<extra></extra>\",\"hovertext\":[\"North America\"],\"ids\":[\"North America\"],\"legendgroup\":\"North America\",\"marker\":{\"color\":\"#EF553B\",\"size\":[444204557],\"sizemode\":\"area\",\"sizeref\":9811051.535,\"symbol\":\"circle\"},\"mode\":\"markers\",\"name\":\"North America\",\"orientation\":\"v\",\"showlegend\":true,\"type\":\"scatter\",\"x\":[444204557],\"xaxis\":\"x\",\"y\":[444204557],\"yaxis\":\"y\"}],\"name\":\"2085\"},{\"data\":[{\"hovertemplate\":\"<b>%{hovertext}</b><br><br>continent=Africa<br>year=2086<br> Population=%{marker.size}<extra></extra>\",\"hovertext\":[\"Africa\"],\"ids\":[\"Africa\"],\"legendgroup\":\"Africa\",\"marker\":{\"color\":\"#636efa\",\"size\":[3656872629],\"sizemode\":\"area\",\"sizeref\":9811051.535,\"symbol\":\"circle\"},\"mode\":\"markers\",\"name\":\"Africa\",\"orientation\":\"v\",\"showlegend\":true,\"type\":\"scatter\",\"x\":[3656872629],\"xaxis\":\"x\",\"y\":[3656872629],\"yaxis\":\"y\"},{\"hovertemplate\":\"<b>%{hovertext}</b><br><br>continent=North America<br>year=2086<br> Population=%{marker.size}<extra></extra>\",\"hovertext\":[\"North America\"],\"ids\":[\"North America\"],\"legendgroup\":\"North America\",\"marker\":{\"color\":\"#EF553B\",\"size\":[444490542],\"sizemode\":\"area\",\"sizeref\":9811051.535,\"symbol\":\"circle\"},\"mode\":\"markers\",\"name\":\"North America\",\"orientation\":\"v\",\"showlegend\":true,\"type\":\"scatter\",\"x\":[444490542],\"xaxis\":\"x\",\"y\":[444490542],\"yaxis\":\"y\"}],\"name\":\"2086\"},{\"data\":[{\"hovertemplate\":\"<b>%{hovertext}</b><br><br>continent=Africa<br>year=2087<br> Population=%{marker.size}<extra></extra>\",\"hovertext\":[\"Africa\"],\"ids\":[\"Africa\"],\"legendgroup\":\"Africa\",\"marker\":{\"color\":\"#636efa\",\"size\":[3680115945],\"sizemode\":\"area\",\"sizeref\":9811051.535,\"symbol\":\"circle\"},\"mode\":\"markers\",\"name\":\"Africa\",\"orientation\":\"v\",\"showlegend\":true,\"type\":\"scatter\",\"x\":[3680115945],\"xaxis\":\"x\",\"y\":[3680115945],\"yaxis\":\"y\"},{\"hovertemplate\":\"<b>%{hovertext}</b><br><br>continent=North America<br>year=2087<br> Population=%{marker.size}<extra></extra>\",\"hovertext\":[\"North America\"],\"ids\":[\"North America\"],\"legendgroup\":\"North America\",\"marker\":{\"color\":\"#EF553B\",\"size\":[444762383],\"sizemode\":\"area\",\"sizeref\":9811051.535,\"symbol\":\"circle\"},\"mode\":\"markers\",\"name\":\"North America\",\"orientation\":\"v\",\"showlegend\":true,\"type\":\"scatter\",\"x\":[444762383],\"xaxis\":\"x\",\"y\":[444762383],\"yaxis\":\"y\"}],\"name\":\"2087\"},{\"data\":[{\"hovertemplate\":\"<b>%{hovertext}</b><br><br>continent=Africa<br>year=2088<br> Population=%{marker.size}<extra></extra>\",\"hovertext\":[\"Africa\"],\"ids\":[\"Africa\"],\"legendgroup\":\"Africa\",\"marker\":{\"color\":\"#636efa\",\"size\":[3702756286],\"sizemode\":\"area\",\"sizeref\":9811051.535,\"symbol\":\"circle\"},\"mode\":\"markers\",\"name\":\"Africa\",\"orientation\":\"v\",\"showlegend\":true,\"type\":\"scatter\",\"x\":[3702756286],\"xaxis\":\"x\",\"y\":[3702756286],\"yaxis\":\"y\"},{\"hovertemplate\":\"<b>%{hovertext}</b><br><br>continent=North America<br>year=2088<br> Population=%{marker.size}<extra></extra>\",\"hovertext\":[\"North America\"],\"ids\":[\"North America\"],\"legendgroup\":\"North America\",\"marker\":{\"color\":\"#EF553B\",\"size\":[445021539],\"sizemode\":\"area\",\"sizeref\":9811051.535,\"symbol\":\"circle\"},\"mode\":\"markers\",\"name\":\"North America\",\"orientation\":\"v\",\"showlegend\":true,\"type\":\"scatter\",\"x\":[445021539],\"xaxis\":\"x\",\"y\":[445021539],\"yaxis\":\"y\"}],\"name\":\"2088\"},{\"data\":[{\"hovertemplate\":\"<b>%{hovertext}</b><br><br>continent=Africa<br>year=2089<br> Population=%{marker.size}<extra></extra>\",\"hovertext\":[\"Africa\"],\"ids\":[\"Africa\"],\"legendgroup\":\"Africa\",\"marker\":{\"color\":\"#636efa\",\"size\":[3724740394],\"sizemode\":\"area\",\"sizeref\":9811051.535,\"symbol\":\"circle\"},\"mode\":\"markers\",\"name\":\"Africa\",\"orientation\":\"v\",\"showlegend\":true,\"type\":\"scatter\",\"x\":[3724740394],\"xaxis\":\"x\",\"y\":[3724740394],\"yaxis\":\"y\"},{\"hovertemplate\":\"<b>%{hovertext}</b><br><br>continent=North America<br>year=2089<br> Population=%{marker.size}<extra></extra>\",\"hovertext\":[\"North America\"],\"ids\":[\"North America\"],\"legendgroup\":\"North America\",\"marker\":{\"color\":\"#EF553B\",\"size\":[445276791],\"sizemode\":\"area\",\"sizeref\":9811051.535,\"symbol\":\"circle\"},\"mode\":\"markers\",\"name\":\"North America\",\"orientation\":\"v\",\"showlegend\":true,\"type\":\"scatter\",\"x\":[445276791],\"xaxis\":\"x\",\"y\":[445276791],\"yaxis\":\"y\"}],\"name\":\"2089\"},{\"data\":[{\"hovertemplate\":\"<b>%{hovertext}</b><br><br>continent=Africa<br>year=2090<br> Population=%{marker.size}<extra></extra>\",\"hovertext\":[\"Africa\"],\"ids\":[\"Africa\"],\"legendgroup\":\"Africa\",\"marker\":{\"color\":\"#636efa\",\"size\":[3746056451],\"sizemode\":\"area\",\"sizeref\":9811051.535,\"symbol\":\"circle\"},\"mode\":\"markers\",\"name\":\"Africa\",\"orientation\":\"v\",\"showlegend\":true,\"type\":\"scatter\",\"x\":[3746056451],\"xaxis\":\"x\",\"y\":[3746056451],\"yaxis\":\"y\"},{\"hovertemplate\":\"<b>%{hovertext}</b><br><br>continent=North America<br>year=2090<br> Population=%{marker.size}<extra></extra>\",\"hovertext\":[\"North America\"],\"ids\":[\"North America\"],\"legendgroup\":\"North America\",\"marker\":{\"color\":\"#EF553B\",\"size\":[445522605],\"sizemode\":\"area\",\"sizeref\":9811051.535,\"symbol\":\"circle\"},\"mode\":\"markers\",\"name\":\"North America\",\"orientation\":\"v\",\"showlegend\":true,\"type\":\"scatter\",\"x\":[445522605],\"xaxis\":\"x\",\"y\":[445522605],\"yaxis\":\"y\"}],\"name\":\"2090\"},{\"data\":[{\"hovertemplate\":\"<b>%{hovertext}</b><br><br>continent=Africa<br>year=2091<br> Population=%{marker.size}<extra></extra>\",\"hovertext\":[\"Africa\"],\"ids\":[\"Africa\"],\"legendgroup\":\"Africa\",\"marker\":{\"color\":\"#636efa\",\"size\":[3766731760],\"sizemode\":\"area\",\"sizeref\":9811051.535,\"symbol\":\"circle\"},\"mode\":\"markers\",\"name\":\"Africa\",\"orientation\":\"v\",\"showlegend\":true,\"type\":\"scatter\",\"x\":[3766731760],\"xaxis\":\"x\",\"y\":[3766731760],\"yaxis\":\"y\"},{\"hovertemplate\":\"<b>%{hovertext}</b><br><br>continent=North America<br>year=2091<br> Population=%{marker.size}<extra></extra>\",\"hovertext\":[\"North America\"],\"ids\":[\"North America\"],\"legendgroup\":\"North America\",\"marker\":{\"color\":\"#EF553B\",\"size\":[445766415],\"sizemode\":\"area\",\"sizeref\":9811051.535,\"symbol\":\"circle\"},\"mode\":\"markers\",\"name\":\"North America\",\"orientation\":\"v\",\"showlegend\":true,\"type\":\"scatter\",\"x\":[445766415],\"xaxis\":\"x\",\"y\":[445766415],\"yaxis\":\"y\"}],\"name\":\"2091\"},{\"data\":[{\"hovertemplate\":\"<b>%{hovertext}</b><br><br>continent=Africa<br>year=2092<br> Population=%{marker.size}<extra></extra>\",\"hovertext\":[\"Africa\"],\"ids\":[\"Africa\"],\"legendgroup\":\"Africa\",\"marker\":{\"color\":\"#636efa\",\"size\":[3786782004],\"sizemode\":\"area\",\"sizeref\":9811051.535,\"symbol\":\"circle\"},\"mode\":\"markers\",\"name\":\"Africa\",\"orientation\":\"v\",\"showlegend\":true,\"type\":\"scatter\",\"x\":[3786782004],\"xaxis\":\"x\",\"y\":[3786782004],\"yaxis\":\"y\"},{\"hovertemplate\":\"<b>%{hovertext}</b><br><br>continent=North America<br>year=2092<br> Population=%{marker.size}<extra></extra>\",\"hovertext\":[\"North America\"],\"ids\":[\"North America\"],\"legendgroup\":\"North America\",\"marker\":{\"color\":\"#EF553B\",\"size\":[446015282],\"sizemode\":\"area\",\"sizeref\":9811051.535,\"symbol\":\"circle\"},\"mode\":\"markers\",\"name\":\"North America\",\"orientation\":\"v\",\"showlegend\":true,\"type\":\"scatter\",\"x\":[446015282],\"xaxis\":\"x\",\"y\":[446015282],\"yaxis\":\"y\"}],\"name\":\"2092\"},{\"data\":[{\"hovertemplate\":\"<b>%{hovertext}</b><br><br>continent=Africa<br>year=2093<br> Population=%{marker.size}<extra></extra>\",\"hovertext\":[\"Africa\"],\"ids\":[\"Africa\"],\"legendgroup\":\"Africa\",\"marker\":{\"color\":\"#636efa\",\"size\":[3806216486],\"sizemode\":\"area\",\"sizeref\":9811051.535,\"symbol\":\"circle\"},\"mode\":\"markers\",\"name\":\"Africa\",\"orientation\":\"v\",\"showlegend\":true,\"type\":\"scatter\",\"x\":[3806216486],\"xaxis\":\"x\",\"y\":[3806216486],\"yaxis\":\"y\"},{\"hovertemplate\":\"<b>%{hovertext}</b><br><br>continent=North America<br>year=2093<br> Population=%{marker.size}<extra></extra>\",\"hovertext\":[\"North America\"],\"ids\":[\"North America\"],\"legendgroup\":\"North America\",\"marker\":{\"color\":\"#EF553B\",\"size\":[446263269],\"sizemode\":\"area\",\"sizeref\":9811051.535,\"symbol\":\"circle\"},\"mode\":\"markers\",\"name\":\"North America\",\"orientation\":\"v\",\"showlegend\":true,\"type\":\"scatter\",\"x\":[446263269],\"xaxis\":\"x\",\"y\":[446263269],\"yaxis\":\"y\"}],\"name\":\"2093\"},{\"data\":[{\"hovertemplate\":\"<b>%{hovertext}</b><br><br>continent=Africa<br>year=2094<br> Population=%{marker.size}<extra></extra>\",\"hovertext\":[\"Africa\"],\"ids\":[\"Africa\"],\"legendgroup\":\"Africa\",\"marker\":{\"color\":\"#636efa\",\"size\":[3825036829],\"sizemode\":\"area\",\"sizeref\":9811051.535,\"symbol\":\"circle\"},\"mode\":\"markers\",\"name\":\"Africa\",\"orientation\":\"v\",\"showlegend\":true,\"type\":\"scatter\",\"x\":[3825036829],\"xaxis\":\"x\",\"y\":[3825036829],\"yaxis\":\"y\"},{\"hovertemplate\":\"<b>%{hovertext}</b><br><br>continent=North America<br>year=2094<br> Population=%{marker.size}<extra></extra>\",\"hovertext\":[\"North America\"],\"ids\":[\"North America\"],\"legendgroup\":\"North America\",\"marker\":{\"color\":\"#EF553B\",\"size\":[446512807],\"sizemode\":\"area\",\"sizeref\":9811051.535,\"symbol\":\"circle\"},\"mode\":\"markers\",\"name\":\"North America\",\"orientation\":\"v\",\"showlegend\":true,\"type\":\"scatter\",\"x\":[446512807],\"xaxis\":\"x\",\"y\":[446512807],\"yaxis\":\"y\"}],\"name\":\"2094\"},{\"data\":[{\"hovertemplate\":\"<b>%{hovertext}</b><br><br>continent=Africa<br>year=2095<br> Population=%{marker.size}<extra></extra>\",\"hovertext\":[\"Africa\"],\"ids\":[\"Africa\"],\"legendgroup\":\"Africa\",\"marker\":{\"color\":\"#636efa\",\"size\":[3843212997],\"sizemode\":\"area\",\"sizeref\":9811051.535,\"symbol\":\"circle\"},\"mode\":\"markers\",\"name\":\"Africa\",\"orientation\":\"v\",\"showlegend\":true,\"type\":\"scatter\",\"x\":[3843212997],\"xaxis\":\"x\",\"y\":[3843212997],\"yaxis\":\"y\"},{\"hovertemplate\":\"<b>%{hovertext}</b><br><br>continent=North America<br>year=2095<br> Population=%{marker.size}<extra></extra>\",\"hovertext\":[\"North America\"],\"ids\":[\"North America\"],\"legendgroup\":\"North America\",\"marker\":{\"color\":\"#EF553B\",\"size\":[446766722],\"sizemode\":\"area\",\"sizeref\":9811051.535,\"symbol\":\"circle\"},\"mode\":\"markers\",\"name\":\"North America\",\"orientation\":\"v\",\"showlegend\":true,\"type\":\"scatter\",\"x\":[446766722],\"xaxis\":\"x\",\"y\":[446766722],\"yaxis\":\"y\"}],\"name\":\"2095\"},{\"data\":[{\"hovertemplate\":\"<b>%{hovertext}</b><br><br>continent=Africa<br>year=2096<br> Population=%{marker.size}<extra></extra>\",\"hovertext\":[\"Africa\"],\"ids\":[\"Africa\"],\"legendgroup\":\"Africa\",\"marker\":{\"color\":\"#636efa\",\"size\":[3860723993],\"sizemode\":\"area\",\"sizeref\":9811051.535,\"symbol\":\"circle\"},\"mode\":\"markers\",\"name\":\"Africa\",\"orientation\":\"v\",\"showlegend\":true,\"type\":\"scatter\",\"x\":[3860723993],\"xaxis\":\"x\",\"y\":[3860723993],\"yaxis\":\"y\"},{\"hovertemplate\":\"<b>%{hovertext}</b><br><br>continent=North America<br>year=2096<br> Population=%{marker.size}<extra></extra>\",\"hovertext\":[\"North America\"],\"ids\":[\"North America\"],\"legendgroup\":\"North America\",\"marker\":{\"color\":\"#EF553B\",\"size\":[447031086],\"sizemode\":\"area\",\"sizeref\":9811051.535,\"symbol\":\"circle\"},\"mode\":\"markers\",\"name\":\"North America\",\"orientation\":\"v\",\"showlegend\":true,\"type\":\"scatter\",\"x\":[447031086],\"xaxis\":\"x\",\"y\":[447031086],\"yaxis\":\"y\"}],\"name\":\"2096\"},{\"data\":[{\"hovertemplate\":\"<b>%{hovertext}</b><br><br>continent=Africa<br>year=2097<br> Population=%{marker.size}<extra></extra>\",\"hovertext\":[\"Africa\"],\"ids\":[\"Africa\"],\"legendgroup\":\"Africa\",\"marker\":{\"color\":\"#636efa\",\"size\":[3877576535],\"sizemode\":\"area\",\"sizeref\":9811051.535,\"symbol\":\"circle\"},\"mode\":\"markers\",\"name\":\"Africa\",\"orientation\":\"v\",\"showlegend\":true,\"type\":\"scatter\",\"x\":[3877576535],\"xaxis\":\"x\",\"y\":[3877576535],\"yaxis\":\"y\"},{\"hovertemplate\":\"<b>%{hovertext}</b><br><br>continent=North America<br>year=2097<br> Population=%{marker.size}<extra></extra>\",\"hovertext\":[\"North America\"],\"ids\":[\"North America\"],\"legendgroup\":\"North America\",\"marker\":{\"color\":\"#EF553B\",\"size\":[447294621],\"sizemode\":\"area\",\"sizeref\":9811051.535,\"symbol\":\"circle\"},\"mode\":\"markers\",\"name\":\"North America\",\"orientation\":\"v\",\"showlegend\":true,\"type\":\"scatter\",\"x\":[447294621],\"xaxis\":\"x\",\"y\":[447294621],\"yaxis\":\"y\"}],\"name\":\"2097\"},{\"data\":[{\"hovertemplate\":\"<b>%{hovertext}</b><br><br>continent=Africa<br>year=2098<br> Population=%{marker.size}<extra></extra>\",\"hovertext\":[\"Africa\"],\"ids\":[\"Africa\"],\"legendgroup\":\"Africa\",\"marker\":{\"color\":\"#636efa\",\"size\":[3893797579],\"sizemode\":\"area\",\"sizeref\":9811051.535,\"symbol\":\"circle\"},\"mode\":\"markers\",\"name\":\"Africa\",\"orientation\":\"v\",\"showlegend\":true,\"type\":\"scatter\",\"x\":[3893797579],\"xaxis\":\"x\",\"y\":[3893797579],\"yaxis\":\"y\"},{\"hovertemplate\":\"<b>%{hovertext}</b><br><br>continent=North America<br>year=2098<br> Population=%{marker.size}<extra></extra>\",\"hovertext\":[\"North America\"],\"ids\":[\"North America\"],\"legendgroup\":\"North America\",\"marker\":{\"color\":\"#EF553B\",\"size\":[447547761],\"sizemode\":\"area\",\"sizeref\":9811051.535,\"symbol\":\"circle\"},\"mode\":\"markers\",\"name\":\"North America\",\"orientation\":\"v\",\"showlegend\":true,\"type\":\"scatter\",\"x\":[447547761],\"xaxis\":\"x\",\"y\":[447547761],\"yaxis\":\"y\"}],\"name\":\"2098\"},{\"data\":[{\"hovertemplate\":\"<b>%{hovertext}</b><br><br>continent=Africa<br>year=2099<br> Population=%{marker.size}<extra></extra>\",\"hovertext\":[\"Africa\"],\"ids\":[\"Africa\"],\"legendgroup\":\"Africa\",\"marker\":{\"color\":\"#636efa\",\"size\":[3909421429],\"sizemode\":\"area\",\"sizeref\":9811051.535,\"symbol\":\"circle\"},\"mode\":\"markers\",\"name\":\"Africa\",\"orientation\":\"v\",\"showlegend\":true,\"type\":\"scatter\",\"x\":[3909421429],\"xaxis\":\"x\",\"y\":[3909421429],\"yaxis\":\"y\"},{\"hovertemplate\":\"<b>%{hovertext}</b><br><br>continent=North America<br>year=2099<br> Population=%{marker.size}<extra></extra>\",\"hovertext\":[\"North America\"],\"ids\":[\"North America\"],\"legendgroup\":\"North America\",\"marker\":{\"color\":\"#EF553B\",\"size\":[447790290],\"sizemode\":\"area\",\"sizeref\":9811051.535,\"symbol\":\"circle\"},\"mode\":\"markers\",\"name\":\"North America\",\"orientation\":\"v\",\"showlegend\":true,\"type\":\"scatter\",\"x\":[447790290],\"xaxis\":\"x\",\"y\":[447790290],\"yaxis\":\"y\"}],\"name\":\"2099\"},{\"data\":[{\"hovertemplate\":\"<b>%{hovertext}</b><br><br>continent=Africa<br>year=2100<br> Population=%{marker.size}<extra></extra>\",\"hovertext\":[\"Africa\"],\"ids\":[\"Africa\"],\"legendgroup\":\"Africa\",\"marker\":{\"color\":\"#636efa\",\"size\":[3924420614],\"sizemode\":\"area\",\"sizeref\":9811051.535,\"symbol\":\"circle\"},\"mode\":\"markers\",\"name\":\"Africa\",\"orientation\":\"v\",\"showlegend\":true,\"type\":\"scatter\",\"x\":[3924420614],\"xaxis\":\"x\",\"y\":[3924420614],\"yaxis\":\"y\"},{\"hovertemplate\":\"<b>%{hovertext}</b><br><br>continent=North America<br>year=2100<br> Population=%{marker.size}<extra></extra>\",\"hovertext\":[\"North America\"],\"ids\":[\"North America\"],\"legendgroup\":\"North America\",\"marker\":{\"color\":\"#EF553B\",\"size\":[448026120],\"sizemode\":\"area\",\"sizeref\":9811051.535,\"symbol\":\"circle\"},\"mode\":\"markers\",\"name\":\"North America\",\"orientation\":\"v\",\"showlegend\":true,\"type\":\"scatter\",\"x\":[448026120],\"xaxis\":\"x\",\"y\":[448026120],\"yaxis\":\"y\"}],\"name\":\"2100\"}]);\n",
       "                        }).then(function(){\n",
       "                            \n",
       "var gd = document.getElementById('58c93d6e-3e66-4efe-809f-c6375977ddc5');\n",
       "var x = new MutationObserver(function (mutations, observer) {{\n",
       "        var display = window.getComputedStyle(gd).display;\n",
       "        if (!display || display === 'none') {{\n",
       "            console.log([gd, 'removed!']);\n",
       "            Plotly.purge(gd);\n",
       "            observer.disconnect();\n",
       "        }}\n",
       "}});\n",
       "\n",
       "// Listen for the removal of the full notebook cells\n",
       "var notebookContainer = gd.closest('#notebook-container');\n",
       "if (notebookContainer) {{\n",
       "    x.observe(notebookContainer, {childList: true});\n",
       "}}\n",
       "\n",
       "// Listen for the clearing of the current output cell\n",
       "var outputEl = gd.closest('.output');\n",
       "if (outputEl) {{\n",
       "    x.observe(outputEl, {childList: true});\n",
       "}}\n",
       "\n",
       "                        })                };                });            </script>        </div>"
      ]
     },
     "metadata": {},
     "output_type": "display_data"
    }
   ],
   "source": [
    " px.scatter(population, x=\" Population\", y=\" Population\",\n",
    "        animation_frame=\"year\",\n",
    "        animation_group=\"continent\",\n",
    "        color=\"continent\",\n",
    "        size=\" Population\",\n",
    "        hover_name=\"continent\",\n",
    "        range_x=[8000000,5000000000],\n",
    "        range_y=[8000000,5000000000],\n",
    "        log_x=True,\n",
    "        title='Africa Vs North America'\n",
    "          )"
   ]
  },
  {
   "cell_type": "code",
   "execution_count": null,
   "id": "057184d8",
   "metadata": {},
   "outputs": [],
   "source": []
  }
 ],
 "metadata": {
  "kernelspec": {
   "display_name": "Python 3 (ipykernel)",
   "language": "python",
   "name": "python3"
  },
  "language_info": {
   "codemirror_mode": {
    "name": "ipython",
    "version": 3
   },
   "file_extension": ".py",
   "mimetype": "text/x-python",
   "name": "python",
   "nbconvert_exporter": "python",
   "pygments_lexer": "ipython3",
   "version": "3.9.15"
  }
 },
 "nbformat": 4,
 "nbformat_minor": 5
}
